{
 "cells": [
  {
   "cell_type": "code",
   "execution_count": 2,
   "metadata": {},
   "outputs": [],
   "source": [
    "\"\"\"\n",
    "You have an undirected, connected graph of n nodes labeled from 0 to n - 1. \n",
    "You are given an array graph where graph[i] is a list of all the nodes \n",
    "connected with node i by an edge.\n",
    "\n",
    "Return the length of the shortest path that visits every node. You may \n",
    "start and stop at any node, you may revisit nodes multiple times, and you \n",
    "may reuse edges.\n",
    "\n",
    " \n",
    "\n",
    "Example 1:\n",
    "    Input: graph = [[1,2,3],[0],[0],[0]]\n",
    "    Output: 4\n",
    "    Explanation: One possible path is [1,0,2,0,3]\n",
    "\n",
    "Example 2:\n",
    "    Input: graph = [[1],[0,2,4],[1,3,4],[2],[1,2]]\n",
    "    Output: 4\n",
    "    Explanation: One possible path is [0,1,4,2,3]\n",
    " \n",
    "\n",
    "Constraints:\n",
    "    n == graph.length\n",
    "    1 <= n <= 12\n",
    "    0 <= graph[i].length < n\n",
    "    graph[i] does not contain i.\n",
    "    If graph[a] contains b, then graph[b] contains a.\n",
    "    The input graph is always connected.\n",
    "\n",
    "- Looking at the constraint we can see bit mask dp; \n",
    "- Go through all paths, we can use BFS as this will gurantee \n",
    "shortest path in undirected graph.\n",
    "- Use bit_mask for seen path.\n",
    "\"\"\"\n",
    "from typing import List\n",
    "from collections import deque\n",
    "class Solution:\n",
    "    def shortestPathLength(self, graph: List[List[int]]) -> int:\n",
    "        n = len(graph)\n",
    "        if n == 1:\n",
    "            return 0\n",
    "        end_mask = (1 << n) - 1\n",
    "        nodeq = deque([(node, 1 << node, 0) for node in range(n)])\n",
    "        seen = set(nodeq)\n",
    "        while nodeq:\n",
    "            node, mask, pathl = nodeq.pop()\n",
    "            for nbr in graph[node]:\n",
    "                nbr_mask = mask | 1 << nbr\n",
    "                if nbr_mask == end_mask:\n",
    "                    return 1 + pathl\n",
    "                if (nbr, nbr_mask) not in seen:\n",
    "                    seen.add((nbr, nbr_mask))\n",
    "                    nodeq.appendleft((nbr, nbr_mask, 1+pathl))\n",
    "\n"
   ]
  },
  {
   "cell_type": "code",
   "execution_count": 12,
   "metadata": {},
   "outputs": [
    {
     "data": {
      "text/plain": [
       "'000000'"
      ]
     },
     "execution_count": 12,
     "metadata": {},
     "output_type": "execute_result"
    }
   ],
   "source": [
    "bin(0)[2:].zfill(6)"
   ]
  },
  {
   "cell_type": "code",
   "execution_count": null,
   "metadata": {},
   "outputs": [],
   "source": [
    "|"
   ]
  }
 ],
 "metadata": {
  "kernelspec": {
   "display_name": "Python 3",
   "language": "python",
   "name": "python3"
  },
  "language_info": {
   "codemirror_mode": {
    "name": "ipython",
    "version": 3
   },
   "file_extension": ".py",
   "mimetype": "text/x-python",
   "name": "python",
   "nbconvert_exporter": "python",
   "pygments_lexer": "ipython3",
   "version": "3.10.11"
  },
  "orig_nbformat": 4
 },
 "nbformat": 4,
 "nbformat_minor": 2
}
