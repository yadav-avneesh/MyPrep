{
 "cells": [
  {
   "cell_type": "code",
   "execution_count": 1,
   "metadata": {},
   "outputs": [],
   "source": [
    "\"\"\"\n",
    "Given n orders, each order consist in pickup and delivery \n",
    "services. Count all valid pickup/delivery possible sequences \n",
    "such that delivery(i) is always after of pickup(i). \n",
    "Since the answer may be too large, return it modulo 10^9 + 7.\n",
    "\n",
    "\n",
    "Example 1:\n",
    "    Input: n = 1\n",
    "    Output: 1\n",
    "    Explanation: Unique order (P1, D1), Delivery 1 always is after of Pickup 1.\n",
    "\n",
    "Example 2:\n",
    "    Input: n = 2\n",
    "    Output: 6\n",
    "    Explanation: All possible orders: \n",
    "    (P1,P2,D1,D2), (P1,P2,D2,D1), (P1,D1,P2,D2), (P2,P1,D1,D2), (P2,P1,D2,D1) and (P2,D2,P1,D1).\n",
    "    This is an invalid order (P1,D2,P2,D1) because Pickup 2 is after of Delivery 2.\n",
    "\n",
    "Example 3:\n",
    "    Input: n = 3\n",
    "    Output: 90\n",
    " \n",
    "\n",
    "Constraints:\n",
    "    1 <= n <= 500\n",
    "\"\"\"\n",
    "class Solution:\n",
    "    def countOrders(self, n: int) -> int:\n",
    "        mod = 10**9+7\n",
    "        prev = 1\n",
    "        end = n*2\n",
    "        for i in range(1, end+1):\n",
    "            prev = prev * i\n",
    "            if i & 1 == 0:\n",
    "                prev //= 2\n",
    "            prev %= mod\n",
    "        return prev"
   ]
  },
  {
   "cell_type": "code",
   "execution_count": null,
   "metadata": {},
   "outputs": [],
   "source": []
  }
 ],
 "metadata": {
  "kernelspec": {
   "display_name": "Python 3",
   "language": "python",
   "name": "python3"
  },
  "language_info": {
   "codemirror_mode": {
    "name": "ipython",
    "version": 3
   },
   "file_extension": ".py",
   "mimetype": "text/x-python",
   "name": "python",
   "nbconvert_exporter": "python",
   "pygments_lexer": "ipython3",
   "version": "3.10.11"
  },
  "orig_nbformat": 4
 },
 "nbformat": 4,
 "nbformat_minor": 2
}
