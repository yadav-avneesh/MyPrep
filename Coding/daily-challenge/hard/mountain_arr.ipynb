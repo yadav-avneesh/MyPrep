{
 "cells": [
  {
   "cell_type": "code",
   "execution_count": 25,
   "metadata": {},
   "outputs": [],
   "source": [
    "\"\"\"\n",
    "(This problem is an interactive problem.)\n",
    "\n",
    "You may recall that an array arr is a mountain array if and only if:\n",
    "\n",
    "arr.length >= 3\n",
    "There exists some i with 0 < i < arr.length - 1 such that:\n",
    "arr[0] < arr[1] < ... < arr[i - 1] < arr[i]\n",
    "arr[i] > arr[i + 1] > ... > arr[arr.length - 1]\n",
    "Given a mountain array mountainArr, return the minimum index such that mountainArr.get(index) == target. \n",
    "If such an index does not exist, return -1.\n",
    "\n",
    "You cannot access the mountain array directly. \n",
    "You may only access the array using a MountainArray interface:\n",
    "\n",
    "MountainArray.get(k) returns the element of the array at index k (0-indexed).\n",
    "MountainArray.length() returns the length of the array.\n",
    "\n",
    "Submissions making more than 100 calls to MountainArray.get will be judged Wrong Answer. Also, any solutions that attempt to circumvent the judge will result in disqualification.\n",
    "\n",
    " \n",
    "\n",
    "Example 1:\n",
    "    Input: array = [1,2,3,4,5,3,1], target = 3\n",
    "    Output: 2\n",
    "    Explanation: 3 exists in the array, at index=2 and index=5. Return the minimum index, which is 2.\n",
    "\n",
    "Example 2:\n",
    "    Input: array = [0,1,2,4,2,1], target = 3\n",
    "    Output: -1\n",
    "    Explanation: 3 does not exist in the array, so we return -1.\n",
    " \n",
    "\n",
    "Constraints:\n",
    "    3 <= mountain_arr.length() <= 104\n",
    "    0 <= target <= 109\n",
    "    0 <= mountain_arr.get(index) <= 109\n",
    "\"\"\"\n",
    "\n",
    "# \"\"\"\n",
    "# This is MountainArray's API interface.\n",
    "# You should not implement it, or speculate about its implementation\n",
    "# \"\"\"\n",
    "\n",
    "\n",
    "class MountainArray:\n",
    "   def __init__(self, arr):\n",
    "      self.arr = arr\n",
    "      self.call_count = 0\n",
    "   def get(self, index: int) -> int:\n",
    "      if self.call_count == 100:\n",
    "         raise ValueError\n",
    "      self.call_count += 1\n",
    "      return self.arr[index]\n",
    "   def length(self) -> int:\n",
    "      return len(self.arr)\n",
    "\n"
   ]
  },
  {
   "cell_type": "code",
   "execution_count": 26,
   "metadata": {},
   "outputs": [],
   "source": [
    "class Solution:\n",
    "    def findInMountainArray(self, target: int, mountain_arr: 'MountainArray') -> int:\n",
    "        ri = mountain_arr.length()\n",
    "        def find_peak():\n",
    "            l, r = 0, ri\n",
    "            while l < r:\n",
    "                m = l + (r-l)//2\n",
    "                p, mv, n = mountain_arr.get(m-1), mountain_arr.get(m), mountain_arr.get(m+1)\n",
    "                if p <= mv >= n:\n",
    "                    return m\n",
    "                elif p <= mv <= n:\n",
    "                    l = m + 1\n",
    "                else:\n",
    "                    r = m\n",
    "                return l\n",
    "        peak = find_peak()\n",
    "        l, r = 0, peak\n",
    "        while l < r:\n",
    "            m = l + (r-l)//2\n",
    "            if mountain_arr.get(m) < target:\n",
    "                l = m + 1\n",
    "            else:\n",
    "                r = m\n",
    "        if mountain_arr.get(l) == target:\n",
    "            return l\n",
    "        l, r = peak+1, ri\n",
    "        while l < r:\n",
    "            m = l + (r-l)//2\n",
    "            if mountain_arr.get(m) > target:\n",
    "                l = m + 1\n",
    "            else:\n",
    "                r = m\n",
    "        if mountain_arr.get(l) == target:\n",
    "            return l\n",
    "        return -1"
   ]
  },
  {
   "cell_type": "code",
   "execution_count": 42,
   "metadata": {},
   "outputs": [],
   "source": [
    "def find_peak(arr):\n",
    "    l, r = 0, len(arr)\n",
    "    while l < r:\n",
    "        m = l + (r-l)//2\n",
    "        p = arr[m-1] if m-1 >= 0 else float('-inf')\n",
    "        mv = arr[m]\n",
    "        n = arr[m+1] if m+1 < len(arr) else float('inf')\n",
    "        print(p, mv, n, p <= mv and n <= mv)\n",
    "        if p <= mv and n <= mv:\n",
    "            return m\n",
    "        elif p <= mv <= n:\n",
    "            l = m + 1\n",
    "        else:\n",
    "            r = m\n",
    "    return l"
   ]
  },
  {
   "cell_type": "code",
   "execution_count": 43,
   "metadata": {},
   "outputs": [],
   "source": [
    "arr = [\n",
    "    1,2,3,4,5,6,7,8,9,10,11,12,13,14,15,16,17,18,19,20,21,22,23,24,25,\n",
    "    26,27,28,29,30,31,32,33,34,35,36,37,38,39,40,41,42,43,44,45,46,47,\n",
    "    48,49,50,51,52,53,54,55,56,57,58,59,60,61,62,63,64,65,66,67,68,69,\n",
    "    70,71,72,73,74,75,76,77,78,79,80,81,82,83,84,85,86,87,88,89,90,91,\n",
    "    92,93,94,95,96,97,98,99,100,101,100,99,98,97,96,95,94,93,92,91,90,\n",
    "    89,88,87,86,85,84,83,82\n",
    "]\n",
    "arr1 = [1,2,3,5,3]"
   ]
  },
  {
   "cell_type": "code",
   "execution_count": 44,
   "metadata": {},
   "outputs": [
    {
     "name": "stdout",
     "output_type": "stream",
     "text": [
      "2 3 5 False\n",
      "5 3 inf False\n",
      "3 5 3 True\n"
     ]
    },
    {
     "data": {
      "text/plain": [
       "3"
      ]
     },
     "execution_count": 44,
     "metadata": {},
     "output_type": "execute_result"
    }
   ],
   "source": [
    "find_peak(arr1)"
   ]
  },
  {
   "cell_type": "code",
   "execution_count": 30,
   "metadata": {},
   "outputs": [
    {
     "data": {
      "text/plain": [
       "62"
      ]
     },
     "execution_count": 30,
     "metadata": {},
     "output_type": "execute_result"
    }
   ],
   "source": [
    "arr[61]"
   ]
  },
  {
   "cell_type": "code",
   "execution_count": null,
   "metadata": {},
   "outputs": [],
   "source": []
  }
 ],
 "metadata": {
  "kernelspec": {
   "display_name": "Python 3",
   "language": "python",
   "name": "python3"
  },
  "language_info": {
   "codemirror_mode": {
    "name": "ipython",
    "version": 3
   },
   "file_extension": ".py",
   "mimetype": "text/x-python",
   "name": "python",
   "nbconvert_exporter": "python",
   "pygments_lexer": "ipython3",
   "version": "3.10.11"
  },
  "orig_nbformat": 4
 },
 "nbformat": 4,
 "nbformat_minor": 2
}
