{
 "cells": [
  {
   "cell_type": "code",
   "execution_count": null,
   "metadata": {},
   "outputs": [],
   "source": [
    "\"\"\"\n",
    "Given a positive integer n, generate an n x n matrix filled with elements from 1 to n2 in spiral order.\n",
    "\n",
    "Example 1:\n",
    "    Input: n = 3\n",
    "    Output: [[1,2,3],[8,9,4],[7,6,5]]\n",
    "\n",
    "Example 2:\n",
    "    Input: n = 1\n",
    "    Output: [[1]]\n",
    "\n",
    "Constraints:\n",
    "    1 <= n <= 20\n",
    "\"\"\"\n",
    "from typing import List\n",
    "class Solution:\n",
    "    def generateMatrix(self, n: int) -> List[List[int]]:\n",
    "        top, left, right, bottom = 0, 0, n-1, n-1\n",
    "        count, total = 1, n*n\n",
    "        ans = [[0 for i in range(n)] for j in range(n)]\n",
    "        while count <= total:\n",
    "            for c in range(left, right+1):\n",
    "                ans[top][c] = count\n",
    "                count += 1\n",
    "            top += 1\n",
    "            for r in range(top, bottom+1):\n",
    "                ans[r][right] = count\n",
    "                count += 1\n",
    "            right -= 1\n",
    "            for c in range(right, left-1, -1):\n",
    "                ans[bottom][c] = count\n",
    "                count += 1\n",
    "            bottom -= 1\n",
    "            for r in range(bottom, top-1, -1):\n",
    "                ans[r][left] = count\n",
    "                count += 1\n",
    "            left += 1\n",
    "        return ans"
   ]
  }
 ],
 "metadata": {
  "language_info": {
   "name": "python"
  },
  "orig_nbformat": 4
 },
 "nbformat": 4,
 "nbformat_minor": 2
}
