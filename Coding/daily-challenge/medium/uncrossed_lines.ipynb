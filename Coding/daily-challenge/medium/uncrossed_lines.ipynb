{
 "cells": [
  {
   "cell_type": "code",
   "execution_count": null,
   "metadata": {},
   "outputs": [],
   "source": [
    "\"\"\"\n",
    "You are given two integer arrays nums1 and nums2. We write the integers of nums1 and nums2 (in the order they are given) on two separate horizontal lines.\n",
    "\n",
    "We may draw connecting lines: a straight line connecting two numbers nums1[i] and nums2[j] such that:\n",
    "    nums1[i] == nums2[j], and\n",
    "the line we draw does not intersect any other connecting (non-horizontal) line.\n",
    "Note that a connecting line cannot intersect even at the endpoints (i.e., each number can only belong to one connecting line). Return the maximum number of connecting lines we can draw in this way.\n",
    "\n",
    " \n",
    "\n",
    "Example 1:\n",
    "    Input: nums1 = [1,4,2], nums2 = [1,2,4]\n",
    "    Output: 2\n",
    "    Explanation: We can draw 2 uncrossed lines as in the diagram.\n",
    "    We cannot draw 3 uncrossed lines, because the line from nums1[1] = 4 to nums2[2] = 4 will intersect the line from nums1[2]=2 to nums2[1]=2.\n",
    "\n",
    "Example 2:\n",
    "    Input: nums1 = [2,5,1,2,5], nums2 = [10,5,2,1,5,2]\n",
    "    Output: 3\n",
    "\n",
    "Example 3:\n",
    "    Input: nums1 = [1,3,7,1,7,5], nums2 = [1,9,2,5,1]\n",
    "    Output: 2\n",
    "\n",
    "\n",
    "Constraints:\n",
    "    1 <= nums1.length, nums2.length <= 500\n",
    "    1 <= nums1[i], nums2[j] <= 2000\n",
    "    \n",
    "TIP:\n",
    "    1. To have maximum crossing, we need to find max matching subsequence.\n",
    "    2. LCS.\n",
    "\"\"\"\n",
    "\n",
    "from typing import List\n",
    "class Solution:\n",
    "    def maxUncrossedLines(self, nums1: List[int], nums2: List[int]) -> int:\n",
    "        nl1, nl2 = len(nums1), len(nums2)\n",
    "        lcs = [[0 for i in range(nl2+1)] for j in range(nl1+1)]\n",
    "        for i in range(nl1):\n",
    "            for j in range(nl2):\n",
    "                if nums1[i] == nums2[j]:\n",
    "                    lcs[i+1][j+1] = 1 + lcs[i][j]\n",
    "                else:\n",
    "                    lcs[i+1][j+1] = max(lcs[i][j+1], lcs[i+1][j])\n",
    "        return lcs[-1][-1]"
   ]
  }
 ],
 "metadata": {
  "language_info": {
   "name": "python"
  },
  "orig_nbformat": 4
 },
 "nbformat": 4,
 "nbformat_minor": 2
}
