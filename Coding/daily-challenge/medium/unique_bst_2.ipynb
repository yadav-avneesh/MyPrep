{
 "cells": [
  {
   "cell_type": "code",
   "execution_count": null,
   "metadata": {},
   "outputs": [],
   "source": [
    "\"\"\"\n",
    "Given an integer n, return all the structurally unique BST's \n",
    "(binary search trees), which has exactly n nodes of unique \n",
    "values from 1 to n. Return the answer in any order.\n",
    "\n",
    " \n",
    "\n",
    "Example 1:\n",
    "    Input: n = 3\n",
    "    Output: [[1,null,2,null,3],[1,null,3,2],[2,1,3],[3,1,null,null,2],[3,2,null,1]]\n",
    "\n",
    "Example 2:\n",
    "    Input: n = 1\n",
    "    Output: [[1]]\n",
    "\n",
    "Constraints:\n",
    "    1 <= n <= 8\n",
    "\"\"\"\n",
    "\n",
    "from typing import List, Optional\n",
    "from itertools import product\n",
    "from functools import cache\n",
    "\n",
    "# Definition for a binary tree node.\n",
    "\n",
    "class TreeNode:\n",
    "    def __init__(self, val=0, left=None, right=None):\n",
    "        self.val = val\n",
    "        self.left = left\n",
    "        self.right = right\n",
    "\n",
    "class Solution:\n",
    "    def generateTrees(self, n: int) -> List[Optional[TreeNode]]:\n",
    "        @cache\n",
    "        def generate(start, end):\n",
    "            if start == end:\n",
    "                return [TreeNode(val=start)]\n",
    "            if start > end:\n",
    "                return [None]\n",
    "            res = []\n",
    "            for i in range(start, end+1):\n",
    "                left  = generate(start, i-1)\n",
    "                right = generate(i+1, end)\n",
    "                nodes = [TreeNode(i, l, r) for l, r in product(left, right)]\n",
    "                res.extend(nodes)\n",
    "            return res\n",
    "        return generate(1, n)"
   ]
  }
 ],
 "metadata": {
  "language_info": {
   "name": "python"
  },
  "orig_nbformat": 4
 },
 "nbformat": 4,
 "nbformat_minor": 2
}
