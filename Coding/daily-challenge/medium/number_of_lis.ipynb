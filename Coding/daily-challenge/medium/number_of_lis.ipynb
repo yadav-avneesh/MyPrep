{
 "cells": [
  {
   "cell_type": "code",
   "execution_count": null,
   "metadata": {},
   "outputs": [],
   "source": [
    "\"\"\"\n",
    "Given an integer array nums, return the number of longest increasing \n",
    "subsequences. Notice that the sequence has to be strictly increasing.\n",
    "\n",
    " \n",
    "Example 1:\n",
    "    Input: nums = [1,3,5,4,7]\n",
    "    Output: 2\n",
    "    Explanation: The two longest increasing subsequences are [1, 3, 4, 7] \n",
    "    and [1, 3, 5, 7].\n",
    "\n",
    "Example 2:\n",
    "    Input: nums = [2,2,2,2,2]\n",
    "    Output: 5\n",
    "    Explanation: The length of the longest increasing subsequence is 1, and there \n",
    "    are 5 increasing subsequences of length 1, so output 5.\n",
    " \n",
    "\n",
    "Constraints:\n",
    "    1 <= nums.length <= 2000\n",
    "    -106 <= nums[i] <= 106\n",
    "\"\"\"\n",
    "\n",
    "from typing import List\n",
    "\n",
    "class Solution:\n",
    "    def findNumberOfLIS(self, nums: List[int]) -> int:\n",
    "        count = 0\n",
    "        nl    = len(nums)\n",
    "        lis   = [1] * nl\n",
    "        count = [1] * nl\n",
    "\n",
    "        for i in range(nl):\n",
    "            for j in range(i):\n",
    "                if nums[i] > nums[j]:\n",
    "                    if lis[i] < lis[j] + 1:\n",
    "                        lis[i] = lis[j] + 1\n",
    "                        count[i] = count[j]\n",
    "                    elif lis[i] == lis[j] + 1:\n",
    "                        count[i] += count[j]\n",
    "        \n",
    "        mlis = max(lis)\n",
    "        ans  = 0\n",
    "        for i in range(nl):\n",
    "            if lis[i] == mlis:\n",
    "                ans += count[i]\n",
    "        return ans\n"
   ]
  }
 ],
 "metadata": {
  "language_info": {
   "name": "python"
  },
  "orig_nbformat": 4
 },
 "nbformat": 4,
 "nbformat_minor": 2
}
