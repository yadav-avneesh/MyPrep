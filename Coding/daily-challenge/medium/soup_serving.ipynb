{
 "cells": [
  {
   "cell_type": "code",
   "execution_count": null,
   "metadata": {},
   "outputs": [],
   "source": [
    "\"\"\"\n",
    "There are two types of soup: type A and type B. Initially, we \n",
    "have n ml of each type of soup. There are four kinds of \n",
    "operations:\n",
    "\n",
    "Serve 100 ml of soup A and 0 ml of soup B,\n",
    "Serve 75 ml of soup A and 25 ml of soup B,\n",
    "Serve 50 ml of soup A and 50 ml of soup B, and\n",
    "Serve 25 ml of soup A and 75 ml of soup B.\n",
    "When we serve some soup, we give it to someone, and we no longer \n",
    "have it. Each turn, we will choose from the four operations with \n",
    "an equal probability 0.25. If the remaining volume of soup is \n",
    "not enough to complete the operation, we will serve as much as \n",
    "possible. We stop once we no longer have some quantity of both \n",
    "types of soup.\n",
    "\n",
    "Note that we do not have an operation where all 100 ml's of soup \n",
    "B are used first.\n",
    "\n",
    "Return the probability that soup A will be empty first, plus half \n",
    "the probability that A and B become empty at the same time. \n",
    "Answers within 10-5 of the actual answer will be accepted.\n",
    "\n",
    " \n",
    "\n",
    "Example 1:\n",
    "\n",
    "Input: n = 50\n",
    "Output: 0.62500\n",
    "Explanation: If we choose the first two operations, A will become \n",
    "empty first. For the third operation, A and B will become empty \n",
    "at the same time. For the fourth operation, B will become empty \n",
    "first. So the total probability of A becoming empty first plus \n",
    "half the probability that A and B become empty at the same time, \n",
    "is 0.25 * (1 + 1 + 0.5 + 0) = 0.625.\n",
    "\n",
    "\n",
    "Example 2:\n",
    "\n",
    "Input: n = 100\n",
    "Output: 0.71875\n",
    " \n",
    "Constraints:\n",
    "    0 <= n <= 10^9\n",
    "\"\"\"\n",
    "class Solution:\n",
    "    def soupServings(self, n: int) -> float:\n"
   ]
  }
 ],
 "metadata": {
  "language_info": {
   "name": "python"
  },
  "orig_nbformat": 4
 },
 "nbformat": 4,
 "nbformat_minor": 2
}
