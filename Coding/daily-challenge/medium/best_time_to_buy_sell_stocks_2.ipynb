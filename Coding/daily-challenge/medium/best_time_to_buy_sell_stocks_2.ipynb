{
 "cells": [
  {
   "cell_type": "code",
   "execution_count": null,
   "metadata": {},
   "outputs": [],
   "source": [
    "\"\"\"\n",
    "You are given an array prices where prices[i] is the price of a given \n",
    "stock on the ith day, and an integer fee representing a transaction fee.\n",
    "\n",
    "Find the maximum profit you can achieve. You may complete as many \n",
    "transactions as you like, but you need to pay the transaction fee \n",
    "for each transaction.\n",
    "\n",
    "Note: You may not engage in multiple transactions simultaneously \n",
    "(i.e., you must sell the stock before you buy again).\n",
    "\n",
    "\n",
    "Example 1:\n",
    "    Input: \n",
    "        prices = [1,3,2,8,4,9], fee = 2\n",
    "    Output: \n",
    "        8\n",
    "    Explanation: \n",
    "        The maximum profit can be achieved by:\n",
    "            - Buying at prices[0] = 1\n",
    "            - Selling at prices[3] = 8\n",
    "            - Buying at prices[4] = 4\n",
    "            - Selling at prices[5] = 9\n",
    "        The total profit is ((8 - 1) - 2) + ((9 - 4) - 2) = 8.\n",
    "\n",
    "Example 2:\n",
    "    Input: \n",
    "        prices = [1,3,7,5,10,3], fee = 3\n",
    "    Output: \n",
    "        6\n",
    "\n",
    "Constraints:\n",
    "    1 <= prices.length <= 5 * 104\n",
    "    1 <= prices[i] < 5 * 104\n",
    "    0 <= fee < 5 * 104\n",
    "\"\"\"\n",
    "\n",
    "# Best !!\n",
    "class Solution:\n",
    "    def maxProfit(self, prices: List[int], fee: int) -> int:\n",
    "        n = len(prices)\n",
    "        bought, settled = -prices[0], 0\n",
    "        for i in range(1, n):\n",
    "            tmp     = bought\n",
    "            bought  = max(bought, settled - prices[i])\n",
    "            settled = max(settled, tmp + prices[i] - fee)\n",
    "        return settled\n",
    "\n",
    "\n",
    "# DP => 2 state transitions !\n",
    "class Solution:\n",
    "    def maxProfit(self, prices: List[int], fee: int) -> int:\n",
    "        n = len(prices)\n",
    "        hold, free = [0] * n, [0] * n\n",
    "        hold[0] = -prices[0]\n",
    "        for i in range(1, n):\n",
    "            hold[i] = max(hold[i - 1], free[i - 1] - prices[i])\n",
    "            free[i] = max(free[i - 1], hold[i - 1] + prices[i] - fee)\n",
    "        return free[-1]\n",
    "\n",
    "\n",
    "# DFS + Memoization => TLE\n",
    "from typing import List\n",
    "\n",
    "class Solution:\n",
    "    def maxProfit(self, prices: List[int], fee: int) -> int:\n",
    "        memo = {}\n",
    "        nl = len(prices)\n",
    "\n",
    "        def max_profit(idx, bought=True, price=0):\n",
    "            if idx >= nl:\n",
    "                return 0\n",
    "\n",
    "            if (idx, bought) in memo:\n",
    "                return memo[(idx, bought)]\n",
    "\n",
    "            profit = 0\n",
    "            if bought:\n",
    "                for i in range(idx, nl):\n",
    "                    if prices[i] <= price:\n",
    "                        continue\n",
    "                    curr = prices[i] - price\n",
    "                    rest = max_profit(i+1, False)\n",
    "                    profit = max(profit, curr+rest)\n",
    "            else:\n",
    "                for i in range(idx, nl):\n",
    "                    price = prices[i] + fee\n",
    "                    restp = max_profit(i+1, True, price)\n",
    "                    profit = max(profit, restp)\n",
    "            \n",
    "            memo[(idx, bought)] = profit\n",
    "            return memo[(idx, bought)]\n",
    "\n",
    "        return max_profit(0, False)\n"
   ]
  },
  {
   "cell_type": "code",
   "execution_count": 3,
   "metadata": {},
   "outputs": [
    {
     "data": {
      "text/plain": [
       "False"
      ]
     },
     "execution_count": 3,
     "metadata": {},
     "output_type": "execute_result"
    }
   ],
   "source": [
    "not True"
   ]
  },
  {
   "cell_type": "code",
   "execution_count": null,
   "metadata": {},
   "outputs": [],
   "source": []
  }
 ],
 "metadata": {
  "kernelspec": {
   "display_name": "Python 3",
   "language": "python",
   "name": "python3"
  },
  "language_info": {
   "codemirror_mode": {
    "name": "ipython",
    "version": 3
   },
   "file_extension": ".py",
   "mimetype": "text/x-python",
   "name": "python",
   "nbconvert_exporter": "python",
   "pygments_lexer": "ipython3",
   "version": "3.10.11"
  },
  "orig_nbformat": 4
 },
 "nbformat": 4,
 "nbformat_minor": 2
}
