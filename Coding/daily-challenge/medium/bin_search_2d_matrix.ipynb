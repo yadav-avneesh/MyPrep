{
 "cells": [
  {
   "cell_type": "code",
   "execution_count": null,
   "metadata": {},
   "outputs": [],
   "source": [
    "\"\"\"\n",
    "You are given an m x n integer matrix matrix with the following \n",
    "two properties:\n",
    "\n",
    "- Each row is sorted in non-decreasing order.\n",
    "- The first integer of each row is greater than the last integer \n",
    "  of the previous row. Given an integer target, return true if \n",
    "  target is in matrix or false otherwise.\n",
    "\n",
    "You must write a solution in O(log(m * n)) time complexity.\n",
    "\n",
    "Example 1:\n",
    "Input: matrix = [[1,3,5,7],[10,11,16,20],[23,30,34,60]], target = 3\n",
    "Output: true\n",
    "\n",
    "Example 2:\n",
    "Input: matrix = [[1,3,5,7],[10,11,16,20],[23,30,34,60]], target = 13\n",
    "Output: false\n",
    " \n",
    "\n",
    "Constraints:\n",
    "    m == matrix.length\n",
    "    n == matrix[i].length\n",
    "    1 <= m, n <= 100\n",
    "    -10^4 <= matrix[i][j], target <= 10^4\n",
    "\"\"\"\n",
    "from typing import List\n",
    "\n",
    "# Another could also be to scan through 0th col to find \n",
    "# row containing the target. Then scan through the found row.\n",
    "# log n + log m\n",
    "\n",
    "# This works -- scan through all the elements; \n",
    "class Solution:\n",
    "    def searchMatrix(self, matrix: List[List[int]], target: int) -> bool:\n",
    "        R, C = len(matrix), len(matrix[0])\n",
    "        l, r = 0, R*C - 1\n",
    "        while l < r:\n",
    "            m = l + (r - l)//2\n",
    "            if matrix[m//C][m%C] < target:\n",
    "                l = m + 1\n",
    "            else:\n",
    "                r = m\n",
    "        return matrix[l//C][l%C]==target"
   ]
  }
 ],
 "metadata": {
  "language_info": {
   "name": "python"
  },
  "orig_nbformat": 4
 },
 "nbformat": 4,
 "nbformat_minor": 2
}
