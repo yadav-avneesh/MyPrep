{
 "cells": [
  {
   "cell_type": "code",
   "execution_count": null,
   "metadata": {},
   "outputs": [],
   "source": [
    "\"\"\"\n",
    "You are given the head of a linked list, and an integer k.\n",
    "\n",
    "Return the head of the linked list after swapping the values of the kth node from the beginning and the kth node from the end (the list is 1-indexed).\n",
    "\n",
    "\n",
    "Example 1:\n",
    "    Input: head = [1,2,3,4,5], k = 2\n",
    "    Output: [1,4,3,2,5]\n",
    "\n",
    "Example 2:\n",
    "    Input: head = [7,9,6,6,7,8,3,0,9,5], k = 5\n",
    "    Output: [7,9,6,6,8,7,3,0,9,5]\n",
    "\n",
    "\n",
    "Constraints:\n",
    "    The number of nodes in the list is n.\n",
    "    1 <= k <= n <= 105\n",
    "    0 <= Node.val <= 100\n",
    "\"\"\"\n",
    "\n",
    "from typing import Optional, List\n",
    "\n",
    "class ListNode:\n",
    "    def __init__(self, val=0, next=None):\n",
    "        self.val = val\n",
    "        self.next = next\n",
    "\n",
    "class Solution:\n",
    "    def swapNodes(self, head: Optional[ListNode], k: int) -> Optional[ListNode]:\n",
    "        kstart = dummy = ListNode(0, head)\n",
    "        count = 0\n",
    "        while count < k and kstart:\n",
    "            kstart = kstart.next\n",
    "            count += 1\n",
    "        tracker, kend = kstart, dummy\n",
    "        while tracker:\n",
    "            tracker = tracker.next\n",
    "            kend = kend.next\n",
    "        kstart.val, kend.val = kend.val, kstart.val\n",
    "        return head"
   ]
  }
 ],
 "metadata": {
  "language_info": {
   "name": "python"
  },
  "orig_nbformat": 4
 },
 "nbformat": 4,
 "nbformat_minor": 2
}
