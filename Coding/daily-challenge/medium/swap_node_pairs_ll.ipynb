{
 "cells": [
  {
   "cell_type": "code",
   "execution_count": null,
   "metadata": {},
   "outputs": [],
   "source": [
    "\"\"\"\n",
    "Given a linked list, swap every two adjacent nodes and return its head. You must solve the problem without modifying the values in the list's nodes (i.e., only nodes themselves may be changed.)\n",
    "\n",
    "Example 1:\n",
    "    Input: head = [1,2,3,4]\n",
    "    Output: [2,1,4,3]\n",
    "\n",
    "Example 2:\n",
    "    Input: head = []\n",
    "    Output: []\n",
    "\n",
    "Example 3:\n",
    "    Input: head = [1]\n",
    "    Output: [1]\n",
    "\n",
    "\n",
    "Constraints:\n",
    "    The number of nodes in the list is in the range [0, 100].\n",
    "    0 <= Node.val <= 100\n",
    "\"\"\"\n",
    "\n",
    "# Definition for singly-linked list.\n",
    "\n",
    "from typing import Optional\n",
    "\n",
    "class ListNode:\n",
    "    def __init__(self, val=0, next=None):\n",
    "        self.val = val\n",
    "        self.next = next\n",
    "\n",
    "class Solution:\n",
    "    def swapPairs(self, head: Optional[ListNode]) -> Optional[ListNode]:\n",
    "        start = ListNode(0, head)\n",
    "        prev = start\n",
    "        curr = head\n",
    "        while curr and curr.next:\n",
    "            next_curr = curr.next.next\n",
    "            node1, node2 = curr, curr.next\n",
    "            node2.next, prev.next, node1.next = node1, node2, None\n",
    "            prev, curr = node1, next_curr\n",
    "        if curr and not curr.next:\n",
    "            prev.next = curr\n",
    "        return start.next\n",
    "        \n"
   ]
  }
 ],
 "metadata": {
  "kernelspec": {
   "display_name": "Python 3",
   "language": "python",
   "name": "python3"
  },
  "language_info": {
   "name": "python",
   "version": "3.8.10"
  },
  "orig_nbformat": 4
 },
 "nbformat": 4,
 "nbformat_minor": 2
}
