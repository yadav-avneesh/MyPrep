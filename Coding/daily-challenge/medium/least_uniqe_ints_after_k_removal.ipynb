{
 "cells": [
  {
   "cell_type": "code",
   "execution_count": 2,
   "metadata": {},
   "outputs": [],
   "source": [
    "\"\"\"\n",
    "Given an array of integers arr and an integer k. Find the least number of unique integers after removing exactly k elements.\n",
    "\n",
    "\n",
    "\n",
    "Example 1:\n",
    "    Input: arr = [5,5,4], k = 1\n",
    "    Output: 1\n",
    "    Explanation: Remove the single 4, only 5 is left.\n",
    "\n",
    "Example 2:\n",
    "    Input: arr = [4,3,1,1,3,3,2], k = 3\n",
    "    Output: 2\n",
    "    Explanation: Remove 4, 2 and either one of the two 1s or three 3s. 1 and 3 will be left.\n",
    "\n",
    "\n",
    "Constraints:\n",
    "    1 <= arr.length <= 10^5\n",
    "    1 <= arr[i] <= 10^9\n",
    "    0 <= k <= arr.length\n",
    "\"\"\"\n",
    "\n",
    "from collections import Counter\n",
    "from typing import List\n",
    "\n",
    "# O(N)\n",
    "class Solution:\n",
    "    def findLeastNumOfUniqueInts(self, arr: List[int], k: int) -> int:\n",
    "        count = Counter(arr)\n",
    "        freq_counter = [0] * (len(arr) + 1)\n",
    "        for freq in count.values():\n",
    "            freq_counter[freq] += 1\n",
    "        unique = len(count)\n",
    "        for fci in range(1, len(arr)+1):\n",
    "            removed = min(k//fci, freq_counter[fci])\n",
    "            k = k - fci * removed\n",
    "            unique = unique - removed\n",
    "            if k < fci:\n",
    "                return unique\n",
    "        return 0\n",
    "\n",
    "# O(NlogN)\n",
    "class Solution:\n",
    "    def findLeastNumOfUniqueInts(self, arr: List[int], k: int) -> int:\n",
    "        counts = Counter(arr).most_common()\n",
    "        for idx in range(len(counts)-1, -1, -1):\n",
    "            x, y = counts[idx]\n",
    "            if y > k:\n",
    "                return idx+1\n",
    "            elif y == k:\n",
    "                return idx\n",
    "            else:\n",
    "                k = k-y\n",
    "        return 0\n"
   ]
  },
  {
   "cell_type": "code",
   "execution_count": 1,
   "metadata": {},
   "outputs": [
    {
     "data": {
      "text/plain": [
       "'furthest_building_you_can_reach'"
      ]
     },
     "execution_count": 1,
     "metadata": {},
     "output_type": "execute_result"
    }
   ],
   "source": [
    "x = \"furthest-building-you-can-reach\"\n",
    "\"_\".join(x.split(\"-\"))"
   ]
  },
  {
   "cell_type": "code",
   "execution_count": null,
   "metadata": {},
   "outputs": [],
   "source": []
  }
 ],
 "metadata": {
  "kernelspec": {
   "display_name": "Python 3",
   "language": "python",
   "name": "python3"
  },
  "language_info": {
   "codemirror_mode": {
    "name": "ipython",
    "version": 3
   },
   "file_extension": ".py",
   "mimetype": "text/x-python",
   "name": "python",
   "nbconvert_exporter": "python",
   "pygments_lexer": "ipython3",
   "version": "3.10.8"
  }
 },
 "nbformat": 4,
 "nbformat_minor": 2
}
