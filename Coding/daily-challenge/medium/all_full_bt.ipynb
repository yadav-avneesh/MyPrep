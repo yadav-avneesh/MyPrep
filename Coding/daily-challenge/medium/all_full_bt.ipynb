{
 "cells": [
  {
   "cell_type": "code",
   "execution_count": 62,
   "metadata": {},
   "outputs": [],
   "source": [
    "\"\"\"\n",
    "Given an integer n, return a list of all possible full binary \n",
    "trees with n nodes. Each node of each tree in the answer must \n",
    "have Node.val == 0.\n",
    "\n",
    "Each element of the answer is the root node of one possible \n",
    "tree. You may return the final list of trees in any order.\n",
    "\n",
    "A full binary tree is a binary tree where each node has \n",
    "exactly 0 or 2 children.\n",
    "\n",
    "Example 1:\n",
    "    Input: n = 7\n",
    "    Output: [\n",
    "        [0,0,0,null,null,0,0,null,null,0,0],\n",
    "        [0,0,0,null,null,0,0,0,0],\n",
    "        [0,0,0,0,0,0,0],\n",
    "        [0,0,0,0,0,null,null,null,null,0,0],\n",
    "        [0,0,0,0,0,null,null,0,0]\n",
    "    ]\n",
    "\n",
    "Example 2:\n",
    "    Input: n = 3\n",
    "    Output: [[0,0,0]]\n",
    "\n",
    "Constraints:\n",
    "    1 <= n <= 20\n",
    "\"\"\"\n",
    "\n",
    "from typing import List, Optional\n",
    "from itertools import product\n",
    "from functools import cache\n",
    "\n",
    "# Definition for a binary tree node.\n",
    "\n",
    "\n",
    "class TreeNode:\n",
    "    def __init__(self, val=0, left=None, right=None):\n",
    "        self.val = val\n",
    "        self.left = left\n",
    "        self.right = right\n",
    "\n",
    "\n",
    "class Solution:\n",
    "    def allPossibleFBT(self, n: int) -> List[Optional[TreeNode]]:\n",
    "        @cache\n",
    "        def create_bt(n):\n",
    "            if n%2 == 0:\n",
    "                return []\n",
    "            if n == 1:\n",
    "                return [TreeNode(0)]\n",
    "            bts = []\n",
    "            for i in range(1, n, 2):\n",
    "                left  = create_bt(i)\n",
    "                right = create_bt(n-i-1)\n",
    "                for (l, r) in product(left, right):\n",
    "                    bts.append(TreeNode(0, l, r))\n",
    "            return bts\n",
    "        return create_bt(n)\n"
   ]
  },
  {
   "cell_type": "code",
   "execution_count": 63,
   "metadata": {},
   "outputs": [
    {
     "data": {
      "text/plain": [
       "[<__main__.TreeNode at 0x1e62f21fe80>,\n",
       " <__main__.TreeNode at 0x1e62f21ecb0>,\n",
       " <__main__.TreeNode at 0x1e62f21ff40>,\n",
       " <__main__.TreeNode at 0x1e62f21eb60>,\n",
       " <__main__.TreeNode at 0x1e62f21f7c0>]"
      ]
     },
     "execution_count": 63,
     "metadata": {},
     "output_type": "execute_result"
    }
   ],
   "source": [
    "Solution().allPossibleFBT(7)"
   ]
  },
  {
   "cell_type": "code",
   "execution_count": null,
   "metadata": {},
   "outputs": [],
   "source": []
  }
 ],
 "metadata": {
  "kernelspec": {
   "display_name": "Python 3",
   "language": "python",
   "name": "python3"
  },
  "language_info": {
   "codemirror_mode": {
    "name": "ipython",
    "version": 3
   },
   "file_extension": ".py",
   "mimetype": "text/x-python",
   "name": "python",
   "nbconvert_exporter": "python",
   "pygments_lexer": "ipython3",
   "version": "3.10.11"
  },
  "orig_nbformat": 4
 },
 "nbformat": 4,
 "nbformat_minor": 2
}
