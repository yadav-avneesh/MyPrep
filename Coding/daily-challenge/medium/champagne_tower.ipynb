{
 "cells": [
  {
   "cell_type": "code",
   "execution_count": 3,
   "metadata": {},
   "outputs": [],
   "source": [
    "\"\"\"\n",
    "We stack glasses in a pyramid, where the first row has 1 glass, the \n",
    "second row has 2 glasses, and so on until the 100th row.  Each glass \n",
    "holds one cup of champagne.\n",
    "\n",
    "Then, some champagne is poured into the first glass at the top.  When \n",
    "the topmost glass is full, any excess liquid poured will fall equally \n",
    "to the glass immediately to the left and right of it.  When those glasses \n",
    "become full, any excess champagne will fall equally to the left and right \n",
    "of those glasses, and so on.  (A glass at the bottom row has its excess \n",
    "champagne fall on the floor.)\n",
    "\n",
    "For example, after one cup of champagne is poured, the top most glass is \n",
    "full.  After two cups of champagne are poured, the two glasses on the \n",
    "second row are half full.  After three cups of champagne are poured, \n",
    "those two cups become full - there are 3 full glasses total now.  After \n",
    "four cups of champagne are poured, the third row has the middle glass half \n",
    "full, and the two outside glasses are a quarter full, as pictured below.\n",
    "\n",
    "\n",
    "\n",
    "Now after pouring some non-negative integer cups of champagne, return how full \n",
    "the jth glass in the ith row is (both i and j are 0-indexed.)\n",
    "\n",
    " \n",
    "\n",
    "Example 1:\n",
    "\n",
    "Input: poured = 1, query_row = 1, query_glass = 1\n",
    "Output: 0.00000\n",
    "Explanation: We poured 1 cup of champange to the top glass of the tower \n",
    "(which is indexed as (0, 0)). There will be no excess liquid so all the \n",
    "glasses under the top glass will remain empty.\n",
    "Example 2:\n",
    "\n",
    "Input: poured = 2, query_row = 1, query_glass = 1\n",
    "Output: 0.50000\n",
    "Explanation: We poured 2 cups of champange to the top glass of the tower \n",
    "(which is indexed as (0, 0)). There is one cup of excess liquid. The glass \n",
    "indexed as (1, 0) and the glass indexed as (1, 1) will share the excess liquid \n",
    "equally, and each will get half cup of champange.\n",
    "Example 3:\n",
    "\n",
    "Input: poured = 100000009, query_row = 33, query_glass = 17\n",
    "Output: 1.00000\n",
    " \n",
    "\n",
    "Constraints:\n",
    "\n",
    "0 <= poured <= 109\n",
    "0 <= query_glass <= query_row < 100\n",
    "\n",
    "The problem looks really difficult at first but this problem is actually \n",
    "very similar to Pascal's Triangle https://leetcode.com/problems/pascals-triangle/ \n",
    "which is an easy problem!\n",
    "\n",
    "Each entry in each row keeps the excess from pouring from the wine from the \n",
    "previous row. The equation to note for the amount of excess in is \n",
    "max((excess[i-1]/2 + excess[i]/2)-1, 0). The trick is to add zeros to the \n",
    "front and end of each row to account for the sides as the amount \n",
    "remaining at the sides is only contributed by 1 cup instead of 2 cups.\n",
    "\n",
    "Approach\n",
    "--------\n",
    "We start from excess = [poured, poured] as this allows us to handle \n",
    "the start case elegantly using our equation \n",
    "max((excess[i-1]/2 + excess[i]/2)-1, 0).\n",
    "\n",
    "\"\"\"\n",
    "\n",
    "class Solution:\n",
    "    def champagneTower(self, poured: int, query_row: int, query_glass: int) -> float:\n",
    "        excess = [poured, poured]\n",
    "        for r in range(query_row):\n",
    "            nxt_row = [0]\n",
    "            for i in range(1, len(excess)):\n",
    "                nxt_row.append(max((excess[i-1]/2 + excess[i]/2)-1, 0))\n",
    "            nxt_row.append(0)\n",
    "            excess = nxt_row\n",
    "        return min(1, excess[query_glass] / 2 + excess[query_glass+1] / 2)\n",
    "\n",
    "\n",
    "class Solution:\n",
    "    def champagneTower(self, poured: int, query_row: int, query_glass: int) -> float:\n",
    "        pours = [[0]*c for c in range(1, 102)]\n",
    "        pours[0][0] = poured\n",
    "        for r in range(query_row+1):\n",
    "            for c in range(r+1):\n",
    "                flow = (pours[r][c] - 1) / 2\n",
    "                if flow > 0:\n",
    "                    pours[r+1][c] += flow\n",
    "                    pours[r+1][c+1] += flow\n",
    "        return min(1, pours[query_row][query_glass])"
   ]
  },
  {
   "cell_type": "code",
   "execution_count": 4,
   "metadata": {},
   "outputs": [
    {
     "name": "stdout",
     "output_type": "stream",
     "text": [
      "15\n",
      "4\n",
      "[1, 5, 10, 10, 5, 1]\n",
      "3\n"
     ]
    },
    {
     "data": {
      "text/plain": [
       "1.25"
      ]
     },
     "execution_count": 4,
     "metadata": {},
     "output_type": "execute_result"
    }
   ],
   "source": [
    "Solution().champagneTower(15, 5, 3)"
   ]
  },
  {
   "cell_type": "code",
   "execution_count": null,
   "metadata": {},
   "outputs": [],
   "source": []
  }
 ],
 "metadata": {
  "kernelspec": {
   "display_name": "Python 3",
   "language": "python",
   "name": "python3"
  },
  "language_info": {
   "codemirror_mode": {
    "name": "ipython",
    "version": 3
   },
   "file_extension": ".py",
   "mimetype": "text/x-python",
   "name": "python",
   "nbconvert_exporter": "python",
   "pygments_lexer": "ipython3",
   "version": "3.10.11"
  },
  "orig_nbformat": 4
 },
 "nbformat": 4,
 "nbformat_minor": 2
}
