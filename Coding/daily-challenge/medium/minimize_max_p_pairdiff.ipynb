{
 "cells": [
  {
   "cell_type": "code",
   "execution_count": null,
   "metadata": {},
   "outputs": [],
   "source": [
    "\"\"\"\n",
    "You are given a 0-indexed integer array nums and an integer p. \n",
    "Find p pairs of indices of nums such that the maximum difference \n",
    "amongst all the pairs is minimized. Also, ensure no index appears \n",
    "more than once amongst the p pairs.\n",
    "\n",
    "Note that for a pair of elements at the index i and j, the difference \n",
    "of this pair is |nums[i] - nums[j]|, where |x| represents the absolute \n",
    "value of x.\n",
    "\n",
    "Return the minimum maximum difference among all p pairs. We define the \n",
    "maximum of an empty set to be zero.\n",
    "\n",
    " \n",
    "\n",
    "Example 1:\n",
    "\n",
    "Input: nums = [10,1,2,7,1,3], p = 2\n",
    "Output: 1\n",
    "Explanation: The first pair is formed from the indices 1 and 4, \n",
    "and the second pair is formed from the indices 2 and 5. The maximum difference \n",
    "is max(|nums[1] - nums[4]|, |nums[2] - nums[5]|) = max(0, 1) = 1. Therefore, \n",
    "we return 1.\n",
    "\n",
    "\n",
    "Example 2:\n",
    "\n",
    "Input: nums = [4,2,1,2], p = 1\n",
    "Output: 0\n",
    "Explanation: Let the indices 1 and 3 form a pair. The difference of that pair \n",
    "is |2 - 2| = 0, which is the minimum we can attain.\n",
    " \n",
    "\n",
    "Constraints:\n",
    "    1 <= nums.length <= 105\n",
    "    0 <= nums[i] <= 109\n",
    "    0 <= p <= (nums.length)/2\n",
    "\"\"\"\n",
    "\n",
    "from typing import List\n",
    "\n",
    "class Solution:\n",
    "    def minimizeMax(self, nums: List[int], p: int) -> int:\n",
    "        pass"
   ]
  }
 ],
 "metadata": {
  "language_info": {
   "name": "python"
  },
  "orig_nbformat": 4
 },
 "nbformat": 4,
 "nbformat_minor": 2
}
