{
 "cells": [
  {
   "cell_type": "code",
   "execution_count": 36,
   "metadata": {},
   "outputs": [],
   "source": [
    "# l = [(7, 10), (5, 8), (9, 12), (14, 17), (3, 9), (1, 19)]\n",
    "\n",
    "from heapq import heapify, heappush, heappop\n",
    "\n",
    "def merge_exclusive(l1):\n",
    "    l1 = [[s, (idx, e)] for idx, (s, e) in enumerate(l1)]\n",
    "    result = [[-1, [-10, -20]]]\n",
    "    l2 = l1[:]\n",
    "    heapify(l2)\n",
    "    while l2:\n",
    "        (pidx, (ps, pe)) = result[-1]\n",
    "        (s, (idx, e)) = heappop(l2)\n",
    "        if pe > s:\n",
    "            if idx < pidx:\n",
    "                result[-1][1][-1] = s - 1\n",
    "            else:\n",
    "                if e > result[-1][1][-1]:\n",
    "                    s = result[-1][1][-1]+1\n",
    "                else:\n",
    "                    e = None\n",
    "        if e:\n",
    "            if l2 and s > l2[0][0]:\n",
    "                heappush(l2, [s, (idx, e)])\n",
    "            else:\n",
    "                result.append([idx, [s, e]])\n",
    "    return result\n",
    "\n",
    "def merge_inclusive(l1):\n",
    "    l1 = [[s, (idx, e)] for idx, (s, e) in enumerate(l1)]\n",
    "    result = [[-1, [-10, -20]]]\n",
    "    l2 = l1[:]\n",
    "    heapify(l2)\n",
    "    while l2:\n",
    "        (pidx, (ps, pe)) = result[-1]\n",
    "        (s, (idx, e)) = heappop(l2)\n",
    "        if pe > s:\n",
    "            if idx < pidx:\n",
    "                result[-1][1][-1] = s\n",
    "                if pe > e:\n",
    "                    heappush(l2, [e, (pidx, pe)])\n",
    "            else:\n",
    "                if e > result[-1][1][-1]:\n",
    "                    s = result[-1][1][-1]\n",
    "                else:\n",
    "                    e = None\n",
    "        if e:\n",
    "            if l2 and s > l2[0][0]:\n",
    "                heappush(l2, [s, (idx, e)])\n",
    "            else:\n",
    "                result.append([idx, [s, e]])\n",
    "        print(result)\n",
    "    return result\n"
   ]
  },
  {
   "cell_type": "code",
   "execution_count": 37,
   "metadata": {},
   "outputs": [
    {
     "data": {
      "text/plain": [
       "([1, 2], [3, 4], [5, 6], [7, 10], [11, 12], [13, 13], [14, 17])"
      ]
     },
     "execution_count": 37,
     "metadata": {},
     "output_type": "execute_result"
    }
   ],
   "source": [
    "l1 = [(7, 10), (5, 8), (9, 12), (14, 17), (3, 9), (8, 13), (1, 19)]\n",
    "list(zip(*merge_exclusive(l1)))[1][1:]"
   ]
  },
  {
   "cell_type": "code",
   "execution_count": null,
   "metadata": {},
   "outputs": [],
   "source": []
  },
  {
   "cell_type": "code",
   "execution_count": 38,
   "metadata": {},
   "outputs": [
    {
     "name": "stdout",
     "output_type": "stream",
     "text": [
      "[[-1, [-10, -20]], [0, [4, 5]]]\n",
      "[[-1, [-10, -20]], [0, [4, 5]], [6, [6, 19]]]\n",
      "[[-1, [-10, -20]], [0, [4, 5]], [6, [6, 8]], [3, [8, 13]]]\n",
      "[[-1, [-10, -20]], [0, [4, 5]], [6, [6, 8]], [3, [8, 9]], [2, [9, 11]]]\n",
      "[[-1, [-10, -20]], [0, [4, 5]], [6, [6, 8]], [3, [8, 9]], [2, [9, 11]], [3, [11, 13]]]\n",
      "[[-1, [-10, -20]], [0, [4, 5]], [6, [6, 8]], [3, [8, 9]], [2, [9, 11]], [3, [11, 13]], [6, [13, 19]]]\n",
      "[[-1, [-10, -20]], [0, [4, 5]], [6, [6, 8]], [3, [8, 9]], [2, [9, 11]], [3, [11, 13]], [6, [13, 14]], [4, [14, 19]]]\n",
      "[[-1, [-10, -20]], [0, [4, 5]], [6, [6, 8]], [3, [8, 9]], [2, [9, 11]], [3, [11, 13]], [6, [13, 14]], [4, [14, 19]]]\n",
      "[[-1, [-10, -20]], [0, [4, 5]], [6, [6, 8]], [3, [8, 9]], [2, [9, 11]], [3, [11, 13]], [6, [13, 14]], [4, [14, 18]], [1, [18, 19]]]\n",
      "[[-1, [-10, -20]], [0, [4, 5]], [6, [6, 8]], [3, [8, 9]], [2, [9, 11]], [3, [11, 13]], [6, [13, 14]], [4, [14, 18]], [1, [18, 19]], [7, [19, 20]]]\n"
     ]
    },
    {
     "data": {
      "text/plain": [
       "[[0, [4, 5]],\n",
       " [6, [6, 8]],\n",
       " [3, [8, 9]],\n",
       " [2, [9, 11]],\n",
       " [3, [11, 13]],\n",
       " [6, [13, 14]],\n",
       " [4, [14, 18]],\n",
       " [1, [18, 19]],\n",
       " [7, [19, 20]]]"
      ]
     },
     "execution_count": 38,
     "metadata": {},
     "output_type": "execute_result"
    }
   ],
   "source": [
    "#  [1,1,2,1,4,0,2,1]\n",
    "#  [1,1,2,3,4,0,3,1]\n",
    "l2 = [[4,5],[18,19],[9,11],[8,13],[14,19],[17,19],[6,19],[19,20]]\n",
    "merge_inclusive(l2)[1:]"
   ]
  },
  {
   "cell_type": "code",
   "execution_count": null,
   "metadata": {},
   "outputs": [],
   "source": []
  }
 ],
 "metadata": {
  "kernelspec": {
   "display_name": "Python 3",
   "language": "python",
   "name": "python3"
  },
  "language_info": {
   "codemirror_mode": {
    "name": "ipython",
    "version": 3
   },
   "file_extension": ".py",
   "mimetype": "text/x-python",
   "name": "python",
   "nbconvert_exporter": "python",
   "pygments_lexer": "ipython3",
   "version": "3.10.11"
  },
  "orig_nbformat": 4
 },
 "nbformat": 4,
 "nbformat_minor": 2
}
