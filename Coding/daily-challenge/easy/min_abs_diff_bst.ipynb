{
 "cells": [
  {
   "cell_type": "code",
   "execution_count": null,
   "metadata": {},
   "outputs": [],
   "source": [
    "\"\"\"\n",
    "Given the root of a Binary Search Tree (BST), return the minimum absolute \n",
    "difference between the values of any two different nodes in the tree.\n",
    "\n",
    "Example 1:\n",
    "    Input: \n",
    "        root = [4,2,6,1,3]\n",
    "    Output: \n",
    "        1\n",
    "\n",
    "Example 2:\n",
    "    Input: \n",
    "        root = [1,0,48,null,null,12,49]\n",
    "    Output: \n",
    "        1\n",
    " \n",
    "\n",
    "Constraints:\n",
    "    The number of nodes in the tree is in the range [2, 104].\n",
    "    0 <= Node.val <= 105\n",
    "\"\"\"\n",
    "\n",
    "from typing import Optional\n",
    "\n",
    "# Definition for a binary tree node.\n",
    "\n",
    "class TreeNode:\n",
    "    def __init__(self, val=0, left=None, right=None):\n",
    "        self.val = val\n",
    "        self.left = left\n",
    "        self.right = right\n",
    "\n",
    "class Solution:\n",
    "    def getMinimumDifference(self, root: Optional[TreeNode]) -> int:\n",
    "        prev = 10**6\n",
    "        minV = 10**6\n",
    "        def inorder(root):\n",
    "            nonlocal prev\n",
    "            nonlocal minV\n",
    "            if not root:\n",
    "                return\n",
    "            inorder(root.left)\n",
    "            minV = min(minV, abs(prev-root.val))\n",
    "            prev = root.val\n",
    "            inorder(root.right)\n",
    "        inorder(root)\n",
    "        return minV\n"
   ]
  }
 ],
 "metadata": {
  "language_info": {
   "name": "python"
  },
  "orig_nbformat": 4
 },
 "nbformat": 4,
 "nbformat_minor": 2
}
