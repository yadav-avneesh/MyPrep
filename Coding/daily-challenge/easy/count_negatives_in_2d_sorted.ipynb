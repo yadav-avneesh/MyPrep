{
 "cells": [
  {
   "cell_type": "code",
   "execution_count": null,
   "metadata": {},
   "outputs": [],
   "source": [
    "\"\"\"\n",
    "Given a m x n matrix grid which is sorted in non-increasing order both row-wise and column-wise, return the number of negative numbers in grid.\n",
    "\n",
    "Example 1:\n",
    "    Input: grid = [[4,3,2,-1],[3,2,1,-1],[1,1,-1,-2],[-1,-1,-2,-3]]\n",
    "    Output: 8\n",
    "    Explanation: There are 8 negatives number in the matrix.\n",
    "\n",
    "Example 2:\n",
    "    Input: grid = [[3,2],[1,0]]\n",
    "    Output: 0\n",
    "\n",
    "\n",
    "Constraints:\n",
    "    m == grid.length\n",
    "    n == grid[i].length\n",
    "    1 <= m, n <= 100\n",
    "    -100 <= grid[i][j] <= 100\n",
    "\n",
    "Follow up: \n",
    "    Could you find an O(n + m) solution?\n",
    "\n",
    "TIP:\n",
    "    1. Traverse R -> L in each row;\n",
    "    2. Ith row neg at Xth idx then (I+1)th search from Xth -> 0th\n",
    "\"\"\"\n",
    "\n",
    "from typing import List\n",
    "\n",
    "# TC = O(M*LogN)\n",
    "class Solution:\n",
    "    def countNegatives(self, grid: List[List[int]]) -> int:\n",
    "        def find_zero_pos(row, C):\n",
    "            l, r = 0, C\n",
    "            while l < r:\n",
    "                m = l + (r-l)//2\n",
    "                if grid[row][m] >= 0:\n",
    "                    l = m + 1\n",
    "                else:\n",
    "                    r = m\n",
    "            return l\n",
    "        count = 0\n",
    "        R, C = len(grid), len(grid[0])\n",
    "        for row in range(R):\n",
    "            pos0 = find_zero_pos(row, C)\n",
    "            count += C - pos0\n",
    "        return count\n",
    "\n"
   ]
  }
 ],
 "metadata": {
  "language_info": {
   "name": "python"
  },
  "orig_nbformat": 4
 },
 "nbformat": 4,
 "nbformat_minor": 2
}
