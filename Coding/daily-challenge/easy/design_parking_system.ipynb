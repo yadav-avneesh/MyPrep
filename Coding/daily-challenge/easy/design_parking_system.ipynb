{
 "cells": [
  {
   "cell_type": "code",
   "execution_count": null,
   "metadata": {},
   "outputs": [],
   "source": [
    "\"\"\"\n",
    "Design a parking system for a parking lot. The parking lot has three kinds of parking spaces: big, medium, and small, with a fixed number of slots for each size.\n",
    "\n",
    "Implement the ParkingSystem class:\n",
    "\n",
    "ParkingSystem(int big, int medium, int small) Initializes object of the ParkingSystem class. The number of slots for each parking space are given as part of the constructor.\n",
    "bool addCar(int carType) Checks whether there is a parking space of carType for the car that wants to get into the parking lot. carType can be of three kinds: big, medium, or small, which are represented by 1, 2, and 3 respectively. A car can only park in a parking space of its carType. If there is no space available, return false, else park the car in that size space and return true.\n",
    " \n",
    "\n",
    "Example 1:\n",
    "\n",
    "Input\n",
    "[\"ParkingSystem\", \"addCar\", \"addCar\", \"addCar\", \"addCar\"]\n",
    "[[1, 1, 0], [1], [2], [3], [1]]\n",
    "Output\n",
    "[null, true, true, false, false]\n",
    "\n",
    "Explanation\n",
    "ParkingSystem parkingSystem = new ParkingSystem(1, 1, 0);\n",
    "parkingSystem.addCar(1); // return true because there is 1 available slot for a big car\n",
    "parkingSystem.addCar(2); // return true because there is 1 available slot for a medium car\n",
    "parkingSystem.addCar(3); // return false because there is no available slot for a small car\n",
    "parkingSystem.addCar(1); // return false because there is no available slot for a big car. It is already occupied.\n",
    " \n",
    "\n",
    "Constraints:\n",
    "\n",
    "0 <= big, medium, small <= 1000\n",
    "carType is 1, 2, or 3\n",
    "At most 1000 calls will be made to addCar\n",
    "\"\"\"\n",
    "\n",
    "class ParkingSystem:\n",
    "    def __init__(self, big: int, medium: int, small: int):\n",
    "        self.space = {1: big, 2: medium, 3: small}\n",
    "    def addCar(self, carType: int) -> bool:\n",
    "        if self.space[carType] == 0:\n",
    "            return False\n",
    "        self.space[carType] -= 1\n",
    "        return True\n",
    "      \n",
    "        \n",
    "\n",
    "\n",
    "# Your ParkingSystem object will be instantiated and called as such:\n",
    "# obj = ParkingSystem(big, medium, small)\n",
    "# param_1 = obj.addCar(carType)"
   ]
  }
 ],
 "metadata": {
  "language_info": {
   "name": "python"
  },
  "orig_nbformat": 4
 },
 "nbformat": 4,
 "nbformat_minor": 2
}
