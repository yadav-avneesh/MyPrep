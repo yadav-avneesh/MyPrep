{
 "cells": [
  {
   "cell_type": "code",
   "execution_count": null,
   "metadata": {},
   "outputs": [],
   "source": [
    "\"\"\"\n",
    "You are given an array coordinates, coordinates[i] = [x, y], where [x, y]\n",
    "represents the coordinate of a point. Check if these points make a straight\n",
    "line in the XY plane.\n",
    "\n",
    "Example 1:\n",
    "    Input: \n",
    "        coordinates = [[1,2],[2,3],[3,4],[4,5],[5,6],[6,7]]\n",
    "    Output:\n",
    "        true\n",
    "\n",
    "\n",
    "Example 2:\n",
    "    Input:\n",
    "        coordinates = [[1,1],[2,2],[3,4],[4,5],[5,6],[7,7]]\n",
    "    Output:\n",
    "        false\n",
    "\n",
    "\n",
    "Constraints:\n",
    "    2 <= coordinates.length <= 1000\n",
    "    coordinates[i].length == 2\n",
    "    -10^4 <= coordinates[i][0], coordinates[i][1] <= 10^4\n",
    "    coordinates contains no duplicate point.\n",
    "    \n",
    "TIP:\n",
    "    So if we have three points p0, p1, p2, and the slope using p0 and p1 is \n",
    "    ΔY1/ΔX1, and the slope between p0 and p2 is ΔY2/ΔX2, we will check if these two slopes are equal or not, i.e. ΔY1/ΔX1 = ΔY2/ΔX2;\n",
    "\n",
    "    Since ΔX can be zero as well and in that case dividing by it would cause an issue. We can tweak the previous equality equation to convert division into multiplication to avoid the divide by zero issues. The new equation would be: ΔY1 * ΔX2 = ΔY2 * ΔX1;\n",
    "\"\"\"\n",
    "\n",
    "from typing import List\n",
    "\n",
    "class Solution:\n",
    "    def checkStraightLine(self, coordinates: List[List[int]]) -> bool:\n",
    "        (p1x, p1y), (p2x, p2y) = coordinates[0:2]\n",
    "        dy12, dx12 = p2y-p1y, p2x-p1x\n",
    "        for (px, py) in coordinates[1:]:\n",
    "            dix, diy = px-p1x, py-p1y\n",
    "            if dx12 * diy != dy12 * dix:\n",
    "                return False\n",
    "        return True\n"
   ]
  }
 ],
 "metadata": {
  "language_info": {
   "name": "python"
  },
  "orig_nbformat": 4
 },
 "nbformat": 4,
 "nbformat_minor": 2
}
