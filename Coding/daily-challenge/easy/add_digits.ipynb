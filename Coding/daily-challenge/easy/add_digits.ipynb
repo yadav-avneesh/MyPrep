{
 "cells": [
  {
   "cell_type": "code",
   "execution_count": null,
   "metadata": {},
   "outputs": [],
   "source": [
    "\"\"\"\n",
    "iven an integer num, repeatedly add all its digits until the result has only one digit, and return it.\n",
    "\n",
    " \n",
    "\n",
    "Example 1:\n",
    "\n",
    "Input: num = 38\n",
    "Output: 2\n",
    "Explanation: The process is\n",
    "38 --> 3 + 8 --> 11\n",
    "11 --> 1 + 1 --> 2 \n",
    "Since 2 has only one digit, return it.\n",
    "Example 2:\n",
    "\n",
    "Input: num = 0\n",
    "Output: 0\n",
    " \n",
    "\n",
    "Constraints:\n",
    "\n",
    "0 <= num <= 231 - 1\n",
    " \n",
    "\n",
    "Follow up: Could you do it without any loop/recursion in O(1) runtime?\n",
    "\n",
    "TIP:\n",
    "\n",
    "    - n % 9; --- because remainder left after division w/ 9; \n",
    "    - divisibility rule by 9; => (sum of digits) % 9\n",
    "    - n == 0 ? 0 (n%9 == 0) ? 9 : n%9\n",
    "\"\"\"\n",
    "\n",
    "class Solution:\n",
    "    def addDigits(self, num: int) -> int:\n",
    "        return num if num == 0 else 9 if num%9 == 0 else num%9"
   ]
  }
 ],
 "metadata": {
  "language_info": {
   "name": "python"
  },
  "orig_nbformat": 4
 },
 "nbformat": 4,
 "nbformat_minor": 2
}
