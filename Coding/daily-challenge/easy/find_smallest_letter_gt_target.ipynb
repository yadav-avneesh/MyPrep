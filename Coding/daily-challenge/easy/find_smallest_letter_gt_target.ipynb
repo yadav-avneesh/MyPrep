{
 "cells": [
  {
   "cell_type": "code",
   "execution_count": null,
   "metadata": {},
   "outputs": [],
   "source": [
    "\"\"\"\n",
    "You are given an array of characters letters that is sorted in non-decreasing order, and a character target. There are at least two different characters in letters.\n",
    "\n",
    "Return the smallest character in letters that is lexicographically greater than target. If such a character does not exist, return the first character in letters.\n",
    "\n",
    "Example 1:\n",
    "    Input: letters = [\"c\",\"f\",\"j\"], target = \"a\"\n",
    "    Output: \"c\"\n",
    "    Explanation: The smallest character that is lexicographically greater than 'a' in letters is 'c'.\n",
    "\n",
    "Example 2:\n",
    "    Input: letters = [\"c\",\"f\",\"j\"], target = \"c\"\n",
    "    Output: \"f\"\n",
    "    Explanation: The smallest character that is lexicographically greater than 'c' in letters is 'f'.\n",
    "\n",
    "Example 3:\n",
    "    Input: letters = [\"x\",\"x\",\"y\",\"y\"], target = \"z\"\n",
    "    Output: \"x\"\n",
    "    Explanation: There are no characters in letters that is lexicographically greater than 'z' so we return letters[0].\n",
    "\n",
    "\n",
    "Constraints:\n",
    "    2 <= letters.length <= 104\n",
    "    letters[i] is a lowercase English letter.\n",
    "    letters is sorted in non-decreasing order.\n",
    "    letters contains at least two different characters.\n",
    "    target is a lowercase English letter.\n",
    "\"\"\"\n",
    "from typing import List\n",
    "class Solution:\n",
    "    def nextGreatestLetter(self, letters: List[str], target: str) -> str:\n",
    "        l, r = 0, len(letters)\n",
    "        while l < r:\n",
    "            m = l + (r - l)//2\n",
    "            if letters[m] <= target:\n",
    "                l = m + 1\n",
    "            else:\n",
    "                r = m\n",
    "        return letters[l%(len(letters))]"
   ]
  }
 ],
 "metadata": {
  "language_info": {
   "name": "python"
  },
  "orig_nbformat": 4
 },
 "nbformat": 4,
 "nbformat_minor": 2
}
