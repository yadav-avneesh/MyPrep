{
 "cells": [
  {
   "cell_type": "code",
   "execution_count": 1,
   "metadata": {},
   "outputs": [],
   "source": [
    "'''\n",
    "Given an array nums with n integers, your task is to check if it could become non-decreasing by modifying at most one element.\n",
    "\n",
    "We define an array is non-decreasing if nums[i] <= nums[i + 1] holds for every i (0-based) such that (0 <= i <= n - 2).\n",
    "\n",
    " \n",
    "\n",
    "Example 1:\n",
    "    Input: nums = [4,2,3]\n",
    "    Output: true\n",
    "    Explanation: You could modify the first 4 to 1 to get a non-decreasing array.\n",
    "\n",
    "Example 2:\n",
    "    Input: nums = [4,2,1]\n",
    "    Output: false\n",
    "    Explanation: You cannot get a non-decreasing array by modifying at most one element.\n",
    " \n",
    "\n",
    "Constraints:\n",
    "    n == nums.length\n",
    "    1 <= n <= 104\n",
    "    -105 <= nums[i] <= 105\n",
    "\n",
    "Tip:\n",
    "    1. Count change needed\n",
    "    2. Instead of tracking prev_mx\n",
    "        a. change current to prev or prev to current -> 1 change\n",
    "        b. curr to prev is curr < prev_prev\n",
    "        c. else prev to curr\n",
    "\n",
    "'''\n",
    "\n",
    "# Wrong: [3, 4, 2, 3]\n",
    "class Solution:\n",
    "    def checkPossibility(self, nums) -> bool:\n",
    "        return sum([\n",
    "                0 if num >= nums[idx] else 1 \n",
    "                for idx, num in enumerate(nums[1:])\n",
    "                ]) <= 1\n"
   ]
  },
  {
   "cell_type": "code",
   "execution_count": 2,
   "metadata": {},
   "outputs": [],
   "source": [
    "# Again wrong :/ what if prev_mx can be changed !\n",
    "class Solution:\n",
    "    def checkPossibility(self, nums) -> bool:\n",
    "        dips = 0\n",
    "        prev_mx = nums[0]\n",
    "        for idx, num in enumerate(nums[1:]):\n",
    "            if num < nums[idx] or num < prev_mx:\n",
    "                dips += 1\n",
    "            prev_mx = max(num, prev_mx)\n",
    "        return dips <= 1"
   ]
  },
  {
   "cell_type": "code",
   "execution_count": null,
   "metadata": {},
   "outputs": [],
   "source": [
    "# Best by me\n",
    "class Solution:\n",
    "    def checkPossibility(self, nums) -> bool:\n",
    "        change = 0\n",
    "        nums = [float('-inf'), *nums, float('inf')]\n",
    "        idx = 2\n",
    "        end = len(nums)\n",
    "        while idx < end and change < 2:\n",
    "            curr = nums[idx]\n",
    "            prev = nums[idx - 1]\n",
    "            prev_1 = nums[idx - 2]\n",
    "            if curr < prev:\n",
    "                change += 1\n",
    "                if curr < prev_1:\n",
    "                    nums[idx] = prev\n",
    "            idx += 1\n",
    "        return change < 2"
   ]
  }
 ],
 "metadata": {
  "kernelspec": {
   "display_name": "Python 3",
   "language": "python",
   "name": "python3"
  },
  "language_info": {
   "codemirror_mode": {
    "name": "ipython",
    "version": 3
   },
   "file_extension": ".py",
   "mimetype": "text/x-python",
   "name": "python",
   "nbconvert_exporter": "python",
   "pygments_lexer": "ipython3",
   "version": "3.9.1"
  },
  "orig_nbformat": 4,
  "vscode": {
   "interpreter": {
    "hash": "81794d4967e6c3204c66dcd87b604927b115b27c00565d3d43f05ba2f3a2cb0d"
   }
  }
 },
 "nbformat": 4,
 "nbformat_minor": 2
}
