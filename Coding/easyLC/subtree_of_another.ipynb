{
 "cells": [
  {
   "cell_type": "code",
   "execution_count": 2,
   "metadata": {},
   "outputs": [],
   "source": [
    "'''\n",
    "\n",
    "Given the roots of two binary trees root and subRoot, return true if there is a subtree of root with the same structure and node values of subRoot and false otherwise.\n",
    "\n",
    "A subtree of a binary tree tree is a tree that consists of a node in tree and all of this node's descendants. The tree tree could also be considered as a subtree of itself.\n",
    " \n",
    "\n",
    "Example 1:\n",
    "    Input: root = [3,4,5,1,2], subRoot = [4,1,2]\n",
    "    Output: true\n",
    "\n",
    "\n",
    "Example 2:\n",
    "    Input: root = [3,4,5,1,2,null,null,null,null,0], subRoot = [4,1,2]\n",
    "    Output: false\n",
    " \n",
    "\n",
    "Constraints:\n",
    "    The number of nodes in the root tree is in the range [1, 2000].\n",
    "    The number of nodes in the subRoot tree is in the range [1, 1000].\n",
    "    -104 <= root.val <= 104\n",
    "    -104 <= subRoot.val <= 104\n",
    "\n",
    "\n",
    "\n",
    "'''\n",
    "\n",
    "# Definition for a binary tree node.\n",
    "\n",
    "class TreeNode:\n",
    "    def __init__(self, val=0, left=None, right=None):\n",
    "        self.val = val\n",
    "        self.left = left\n",
    "        self.right = right\n"
   ]
  },
  {
   "cell_type": "code",
   "execution_count": 3,
   "metadata": {},
   "outputs": [],
   "source": [
    "# Assumes unique value\n",
    "# root -> 1, 1; subRoot -> 1; will not pass\n",
    "\n",
    "class Solution:\n",
    "    def isSubtree(self, root, subRoot) -> bool:\n",
    "        if root is None and subRoot is None:\n",
    "            return True\n",
    "        if root is None or subRoot is None:\n",
    "            return False\n",
    "        if root.val == subRoot.val:\n",
    "            left = self.isSubtree(root.left, subRoot.left)\n",
    "            right= self.isSubtree(root.right, subRoot.right)\n",
    "            return left and right\n",
    "        return (\n",
    "            self.isSubtree(root.left, subRoot) or \n",
    "            self.isSubtree(root.right, subRoot)\n",
    "        )"
   ]
  },
  {
   "cell_type": "code",
   "execution_count": null,
   "metadata": {},
   "outputs": [],
   "source": [
    "# Again incorrect, root and children are checked at separate levels\n",
    "class Solution:\n",
    "    def isSubtree(self, root, subRoot) -> bool:\n",
    "        result = None\n",
    "        if root is None and subRoot is None:\n",
    "            return True\n",
    "        if root is None or subRoot is None:\n",
    "            return False\n",
    "        if root.val == subRoot.val:\n",
    "            left = self.isSubtree(root.left, subRoot.left)\n",
    "            right= self.isSubtree(root.right, subRoot.right)\n",
    "            result = left and right\n",
    "        return (\n",
    "            result or\n",
    "            self.isSubtree(root.left, subRoot) or \n",
    "            self.isSubtree(root.right, subRoot)\n",
    "        )"
   ]
  },
  {
   "cell_type": "code",
   "execution_count": null,
   "metadata": {},
   "outputs": [],
   "source": [
    "# traverse tree, check isAlike\n",
    "class Solution:\n",
    "    def isSubtree(self, root, subRoot) -> bool:\n",
    "        def isAlike(root1, root2):\n",
    "            if root1 is None and root2 is None:\n",
    "                return True\n",
    "            if root1 is None or root2 is None:\n",
    "                return False\n",
    "            return (\n",
    "                root1.val == root2.val and\n",
    "                isAlike(root1.left, root2.left) and \n",
    "                isAlike(root1.right, root2.right))\n",
    "        roots = [root]\n",
    "        result = False\n",
    "        while roots and not result:\n",
    "            curr = roots.pop()\n",
    "            if curr:\n",
    "                roots.append(curr.left)\n",
    "                roots.append(curr.right)\n",
    "                result = isAlike(curr, subRoot)\n",
    "        return result\n"
   ]
  }
 ],
 "metadata": {
  "kernelspec": {
   "display_name": "Python 3",
   "language": "python",
   "name": "python3"
  },
  "language_info": {
   "codemirror_mode": {
    "name": "ipython",
    "version": 3
   },
   "file_extension": ".py",
   "mimetype": "text/x-python",
   "name": "python",
   "nbconvert_exporter": "python",
   "pygments_lexer": "ipython3",
   "version": "3.9.1"
  },
  "orig_nbformat": 4,
  "vscode": {
   "interpreter": {
    "hash": "81794d4967e6c3204c66dcd87b604927b115b27c00565d3d43f05ba2f3a2cb0d"
   }
  }
 },
 "nbformat": 4,
 "nbformat_minor": 2
}
