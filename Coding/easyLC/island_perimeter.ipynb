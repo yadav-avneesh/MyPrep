{
 "cells": [
  {
   "cell_type": "code",
   "execution_count": 1,
   "metadata": {},
   "outputs": [],
   "source": [
    "'''\n",
    "You are given row x col grid representing a map where grid[i][j] = 1 represents land and grid[i][j] = 0 represents water.\n",
    "\n",
    "Grid cells are connected horizontally/vertically (not diagonally). The grid is completely surrounded by water, and there is exactly one island (i.e., one or more connected land cells).\n",
    "\n",
    "The island doesn't have \"lakes\", meaning the water inside isn't connected to the water around the island. One cell is a square with side length 1. The grid is rectangular, width and height don't exceed 100. Determine the perimeter of the island.\n",
    "\n",
    " \n",
    "\n",
    "Example 1:\n",
    "    Input: grid = [[0,1,0,0],[1,1,1,0],[0,1,0,0],[1,1,0,0]]\n",
    "    Output: 16\n",
    "    Explanation: The perimeter is the 16 yellow stripes in the image above.\n",
    "\n",
    "Example 2:\n",
    "    Input: grid = [[1]]\n",
    "    Output: 4\n",
    "\n",
    "\n",
    "Example 3:\n",
    "\n",
    "    Input: grid = [[1,0]]\n",
    "    Output: 4\n",
    " \n",
    "\n",
    "Constraints:\n",
    "\n",
    "    row == grid.length\n",
    "    col == grid[i].length\n",
    "    1 <= row, col <= 100\n",
    "    grid[i][j] is 0 or 1.\n",
    "    There is exactly one island in grid.\n",
    "\n",
    "TIP:\n",
    "    1. Every cell has 4 perimeter\n",
    "    2. Every nbr reduces perimeter by 1\n",
    "\n",
    "'''\n",
    "\n",
    "# Slow\n",
    "class Solution:\n",
    "    def islandPerimeter(self, grid) -> int:\n",
    "        r = len(grid)\n",
    "        c = len(grid[0])\n",
    "        p = 0\n",
    "        for i in range(r):\n",
    "            for j in range(c):\n",
    "                if grid[i][j] == 1:\n",
    "                    p += 4 - sum([\n",
    "                        1 \n",
    "                        for rx, ry in [(0, -1), (0, 1), (1, 0), (-1, 0)] \n",
    "                        if 0 <= i+rx < r and 0 <= j+ry < c and grid[i+rx][j+ry]==1])\n",
    "        return p"
   ]
  },
  {
   "cell_type": "code",
   "execution_count": 2,
   "metadata": {},
   "outputs": [],
   "source": [
    "# Slight fast\n",
    "class Solution:\n",
    "    def islandPerimeter(self, grid) -> int:\n",
    "        r = len(grid)\n",
    "        c = len(grid[0])\n",
    "        p = 0\n",
    "        nbrs = {}\n",
    "        for i in range(r):\n",
    "            for j in range(c):\n",
    "                if grid[i][j] == 1:\n",
    "                    nbrs[(i, j)] = 1\n",
    "        for i in range(r):\n",
    "            for j in range(c):\n",
    "                if grid[i][j] == 1:\n",
    "                    p += 4 - sum([nbrs.get((i+rx, j+ry), 0) for rx, ry in [(0, -1), (0, 1), (1, 0), (-1, 0)]])\n",
    "        return p"
   ]
  },
  {
   "cell_type": "code",
   "execution_count": 3,
   "metadata": {},
   "outputs": [],
   "source": [
    "# Bit better\n",
    "class Solution:\n",
    "    def islandPerimeter(self, grid) -> int:\n",
    "        r = len(grid)\n",
    "        c = len(grid[0])\n",
    "        p = 0\n",
    "        nbrs = {}\n",
    "        for i in range(r):\n",
    "            for j in range(c):\n",
    "                if grid[i][j] == 1:\n",
    "                    nbrs[(i, j)] = -1\n",
    "        for i in range(r):\n",
    "            for j in range(c):\n",
    "                if grid[i][j] == 1:\n",
    "                    p += 4 + nbrs.get((i, j+1), 0) + nbrs.get((i, j-1), 0) + nbrs.get((i-1, j), 0) + nbrs.get((i+1, j), 0)\n",
    "        return p"
   ]
  },
  {
   "cell_type": "code",
   "execution_count": 4,
   "metadata": {},
   "outputs": [],
   "source": [
    "class Solution:\n",
    "    def islandPerimeter(self, grid) -> int:\n",
    "        r = len(grid)\n",
    "        c = len(grid[0])\n",
    "        p = 0\n",
    "        nbrs = {}\n",
    "        for i in range(r):\n",
    "            for j in range(c):\n",
    "                if grid[i][j] == 1:\n",
    "                    nbrs[(i, j)] = -1\n",
    "        for x, y in nbrs:\n",
    "            p += 4 + nbrs.get((x, y+1), 0) + nbrs.get((x, y-1), 0) + nbrs.get((x-1, y), 0) + nbrs.get((x+1, y), 0)\n",
    "        return p"
   ]
  },
  {
   "cell_type": "code",
   "execution_count": null,
   "metadata": {},
   "outputs": [],
   "source": [
    "class Solution:\n",
    "    def islandPerimeter(self, grid) -> int:\n",
    "        r = len(grid)\n",
    "        c = len(grid[0])\n",
    "        p = 0\n",
    "        for i in range(r):\n",
    "            for j in range(c):\n",
    "                if grid[i][j] == 1:\n",
    "                    p += 4\n",
    "                    if i > 0 and grid[i-1][j]==1:\n",
    "                        p -= 2\n",
    "                    if j > 0 and grid[i][j-1]==1:\n",
    "                        p -= 2\n",
    "        return p"
   ]
  }
 ],
 "metadata": {
  "kernelspec": {
   "display_name": "Python 3",
   "language": "python",
   "name": "python3"
  },
  "language_info": {
   "codemirror_mode": {
    "name": "ipython",
    "version": 3
   },
   "file_extension": ".py",
   "mimetype": "text/x-python",
   "name": "python",
   "nbconvert_exporter": "python",
   "pygments_lexer": "ipython3",
   "version": "3.9.1"
  },
  "orig_nbformat": 4,
  "vscode": {
   "interpreter": {
    "hash": "81794d4967e6c3204c66dcd87b604927b115b27c00565d3d43f05ba2f3a2cb0d"
   }
  }
 },
 "nbformat": 4,
 "nbformat_minor": 2
}
