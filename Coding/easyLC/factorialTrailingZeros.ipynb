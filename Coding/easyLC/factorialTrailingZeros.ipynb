{
 "cells": [
  {
   "cell_type": "code",
   "execution_count": 1,
   "metadata": {},
   "outputs": [],
   "source": [
    "from math import log as ll"
   ]
  },
  {
   "cell_type": "code",
   "execution_count": 8,
   "metadata": {},
   "outputs": [
    {
     "data": {
      "text/plain": [
       "False"
      ]
     },
     "execution_count": 8,
     "metadata": {},
     "output_type": "execute_result"
    }
   ],
   "source": [
    "x = ll(6)/ll(2)\n",
    "x - int(x) == 0"
   ]
  },
  {
   "cell_type": "code",
   "execution_count": 9,
   "metadata": {},
   "outputs": [],
   "source": [
    "\"\"\"\n",
    "Given an integer n, return the number of trailing zeroes in n!.\n",
    "\n",
    "Note that n! = n * (n - 1) * (n - 2) * ... * 3 * 2 * 1.\n",
    "\n",
    " \n",
    "\n",
    "Example 1:\n",
    "\n",
    "Input: n = 3\n",
    "Output: 0\n",
    "Explanation: 3! = 6, no trailing zero.\n",
    "Example 2:\n",
    "\n",
    "Input: n = 5\n",
    "Output: 1\n",
    "Explanation: 5! = 120, one trailing zero.\n",
    "Example 3:\n",
    "\n",
    "Input: n = 0\n",
    "Output: 0\n",
    " \n",
    "\n",
    "Constraints:\n",
    "\n",
    "0 <= n <= 104\n",
    " \n",
    "\n",
    "Follow up: Could you write a solution that works in logarithmic time complexity?\n",
    "\n",
    "\n",
    "combination of 2*5 gives a 0; min(count_of_2, count_of_5) = count_of_5; 25 contributes twice\n",
    "and so on, so keep dividing by higher power of 5;\n",
    "\"\"\"\n",
    "class Solution:\n",
    "    def trailingZeroes(self, n: int) -> int:\n",
    "        x = 5\n",
    "        c = 0\n",
    "        while int(n/x) >= 1:\n",
    "            c += int(n/x)\n",
    "            x *= 5\n",
    "        return c"
   ]
  },
  {
   "cell_type": "code",
   "execution_count": null,
   "metadata": {},
   "outputs": [],
   "source": []
  }
 ],
 "metadata": {
  "kernelspec": {
   "display_name": "Python 3.9.1 64-bit",
   "language": "python",
   "name": "python3"
  },
  "language_info": {
   "codemirror_mode": {
    "name": "ipython",
    "version": 3
   },
   "file_extension": ".py",
   "mimetype": "text/x-python",
   "name": "python",
   "nbconvert_exporter": "python",
   "pygments_lexer": "ipython3",
   "version": "3.9.1"
  },
  "orig_nbformat": 4,
  "vscode": {
   "interpreter": {
    "hash": "81794d4967e6c3204c66dcd87b604927b115b27c00565d3d43f05ba2f3a2cb0d"
   }
  }
 },
 "nbformat": 4,
 "nbformat_minor": 2
}
