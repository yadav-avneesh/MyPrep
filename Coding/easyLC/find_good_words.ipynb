{
 "cells": [
  {
   "cell_type": "code",
   "execution_count": 1,
   "metadata": {},
   "outputs": [],
   "source": [
    "'''\n",
    "You are given an array of strings words and a string chars.\n",
    "\n",
    "A string is good if it can be formed by characters from chars (each character can only be used once).\n",
    "\n",
    "Return the sum of lengths of all good strings in words.\n",
    "\n",
    " \n",
    "\n",
    "Example 1:\n",
    "    Input: words = [\"cat\",\"bt\",\"hat\",\"tree\"], chars = \"atach\"\n",
    "    Output: 6\n",
    "    Explanation: The strings that can be formed are \"cat\" and \"hat\" so the answer is 3 + 3 = 6.\n",
    "\n",
    "Example 2:\n",
    "    Input: words = [\"hello\",\"world\",\"leetcode\"], chars = \"welldonehoneyr\"\n",
    "    Output: 10\n",
    "    Explanation: The strings that can be formed are \"hello\" and \"world\" so the answer is 5 + 5 = 10.\n",
    " \n",
    "\n",
    "Constraints:\n",
    "    1 <= words.length <= 1000\n",
    "    1 <= words[i].length, chars.length <= 100\n",
    "    words[i] and chars consist of lowercase English letters.\n",
    "'''\n",
    "\n",
    "# Slow --- can it be improved?\n",
    "class Solution:\n",
    "    def countCharacters(self, words, chars):\n",
    "        pattern = [0]*26\n",
    "        result  = 0\n",
    "        for char in chars:\n",
    "            pattern[ord(char)-ord('a')] += 1\n",
    "        for word in words:\n",
    "            curr = {}\n",
    "            for char in word:\n",
    "                char_key = ord(char)-ord('a')\n",
    "                curr[char_key] = curr.get(char_key, 0) + 1\n",
    "            is_good = all([count <= pattern[char] for char, count in curr.items()])\n",
    "            result += len(word) if is_good else 0\n",
    "        return result\n",
    "                    \n",
    "\n",
    "\n"
   ]
  },
  {
   "cell_type": "code",
   "execution_count": null,
   "metadata": {},
   "outputs": [],
   "source": [
    "# Can this be fater??\n",
    "class Solution:\n",
    "    def countCharacters(self, words, chars):\n",
    "        pattern = [0]*26\n",
    "        result  = 0\n",
    "        for char in chars:\n",
    "            pattern[ord(char)-ord('a')] += 1\n",
    "        for word in words:\n",
    "            curr = {}\n",
    "            is_bad = False\n",
    "            for char in word:\n",
    "                c_key   = ord(char)-ord('a')\n",
    "                c_count = curr.get(c_key, 0) + 1\n",
    "                if c_count > pattern[c_key]:\n",
    "                    is_bad = True\n",
    "                    break\n",
    "                curr[c_key] = c_count\n",
    "            if not is_bad:\n",
    "                result += len(word)\n",
    "        return result"
   ]
  },
  {
   "cell_type": "code",
   "execution_count": 3,
   "metadata": {},
   "outputs": [],
   "source": [
    "from collections import Counter\n",
    "class Solution:\n",
    "    def countCharacters(self, words, chars):\n",
    "        chr_counter = Counter(chars)\n",
    "        result = 0\n",
    "        for word in words:\n",
    "            w_counter = Counter(word)\n",
    "            for ch in w_counter:\n",
    "                if w_counter[ch] > chr_counter[ch]:\n",
    "                    break\n",
    "            else:\n",
    "                result += len(word)\n",
    "        return result\n"
   ]
  },
  {
   "cell_type": "code",
   "execution_count": null,
   "metadata": {},
   "outputs": [],
   "source": [
    "# Fastest !!!\n",
    "\n",
    "class Solution:\n",
    "    def countCharacters(self, words, chars):\n",
    "        result = 0\n",
    "        for word in words:\n",
    "            for ch in word:\n",
    "                if word.count(ch) > chars.count(ch):\n",
    "                    break\n",
    "            else:\n",
    "                result += len(word)\n",
    "        return result"
   ]
  }
 ],
 "metadata": {
  "kernelspec": {
   "display_name": "Python 3",
   "language": "python",
   "name": "python3"
  },
  "language_info": {
   "codemirror_mode": {
    "name": "ipython",
    "version": 3
   },
   "file_extension": ".py",
   "mimetype": "text/x-python",
   "name": "python",
   "nbconvert_exporter": "python",
   "pygments_lexer": "ipython3",
   "version": "3.9.1 (tags/v3.9.1:1e5d33e, Dec  7 2020, 17:08:21) [MSC v.1927 64 bit (AMD64)]"
  },
  "orig_nbformat": 4,
  "vscode": {
   "interpreter": {
    "hash": "81794d4967e6c3204c66dcd87b604927b115b27c00565d3d43f05ba2f3a2cb0d"
   }
  }
 },
 "nbformat": 4,
 "nbformat_minor": 2
}
