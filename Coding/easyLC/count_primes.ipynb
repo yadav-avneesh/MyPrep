{
 "cells": [
  {
   "cell_type": "code",
   "execution_count": 1,
   "metadata": {},
   "outputs": [],
   "source": [
    "'''\n",
    "\n",
    "Given an integer n, return the number of prime numbers that are strictly less than n.\n",
    "\n",
    "Example 1:\n",
    "    Input: n = 10\n",
    "    Output: 4\n",
    "    Explanation: There are 4 prime numbers less than 10, they are 2, 3, 5, 7.\n",
    "\n",
    "Example 2:\n",
    "    Input: n = 0\n",
    "    Output: 0\n",
    "\n",
    "Example 3:\n",
    "    Input: n = 1\n",
    "    Output: 0\n",
    " \n",
    "\n",
    "Constraints:\n",
    "    0 <= n <= 5 * 106\n",
    "\n",
    "Tip:\n",
    "    1. Keep boolean array 1 -> n+1\n",
    "    2. For every prime --> p, \n",
    "        a. go until {x=p < sqrt(n)} or x * x < n\n",
    "        b. turn multiplier or x += x until x * x to 0\n",
    "    3. Find sum of all 1s ==> count\n",
    "        a. Corner case; for 0, 1 => 0, 0 in bool array\n",
    "\n",
    "'''\n",
    "\n",
    "class Solution:\n",
    "    def countPrimes(self, n):\n",
    "        if n < 3:\n",
    "            return 0\n",
    "        prime = [1 for i in range(n)]\n",
    "        p = 2\n",
    "        while (p * p < n):\n",
    "            if (prime[p] == 1):\n",
    "                for i in range(p * p, n, p):\n",
    "                    prime[i] = 0\n",
    "            p += 1\n",
    "        return sum(prime[2:])"
   ]
  },
  {
   "cell_type": "code",
   "execution_count": null,
   "metadata": {},
   "outputs": [],
   "source": [
    "class Solution:\n",
    "    def countPrimes(self, n):\n",
    "        prime = [0, 0] + [1 for i in range(2, n)]\n",
    "        p = 2\n",
    "        while (p * p < n):\n",
    "            if (prime[p] == 1):\n",
    "                for i in range(p * p, n, p):\n",
    "                    prime[i] = 0\n",
    "            p += 1\n",
    "        return sum(prime)"
   ]
  }
 ],
 "metadata": {
  "kernelspec": {
   "display_name": "Python 3.9.1 64-bit",
   "language": "python",
   "name": "python3"
  },
  "language_info": {
   "codemirror_mode": {
    "name": "ipython",
    "version": 3
   },
   "file_extension": ".py",
   "mimetype": "text/x-python",
   "name": "python",
   "nbconvert_exporter": "python",
   "pygments_lexer": "ipython3",
   "version": "3.9.1"
  },
  "orig_nbformat": 4,
  "vscode": {
   "interpreter": {
    "hash": "81794d4967e6c3204c66dcd87b604927b115b27c00565d3d43f05ba2f3a2cb0d"
   }
  }
 },
 "nbformat": 4,
 "nbformat_minor": 2
}
