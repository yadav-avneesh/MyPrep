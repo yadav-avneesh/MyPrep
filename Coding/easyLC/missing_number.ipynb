{
 "cells": [
  {
   "cell_type": "code",
   "execution_count": null,
   "metadata": {},
   "outputs": [],
   "source": [
    "\"\"\"\n",
    "Given an array nums containing n distinct numbers in the range [0, n], return the only number in the range that is missing from the array.\n",
    "\n",
    " \n",
    "\n",
    "Example 1:\n",
    "\n",
    "Input: nums = [3,0,1]\n",
    "Output: 2\n",
    "Explanation: n = 3 since there are 3 numbers, so all numbers are in the range [0,3]. 2 is the missing number in the range since it does not appear in nums.\n",
    "Example 2:\n",
    "\n",
    "Input: nums = [0,1]\n",
    "Output: 2\n",
    "Explanation: n = 2 since there are 2 numbers, so all numbers are in the range [0,2]. 2 is the missing number in the range since it does not appear in nums.\n",
    "Example 3:\n",
    "\n",
    "Input: nums = [9,6,4,2,3,5,7,0,1]\n",
    "Output: 8\n",
    "Explanation: n = 9 since there are 9 numbers, so all numbers are in the range [0,9]. 8 is the missing number in the range since it does not appear in nums.\n",
    " \n",
    "\n",
    "Constraints:\n",
    "\n",
    "n == nums.length\n",
    "1 <= n <= 104\n",
    "0 <= nums[i] <= n\n",
    "All the numbers of nums are unique.\n",
    " \n",
    "\n",
    "Follow up: Could you implement a solution using only O(1) extra space complexity and O(n) runtime complexity?\n",
    "\n",
    "TIP:\n",
    "    Sol#1::\n",
    "    0 ^ num = num;\n",
    "    num ^ num = 0\n",
    "    \n",
    "    Sol#2::\n",
    "    Sum(0+1+...+n+1) - sum(nums) <could overflow> -- constraint not as much\n",
    "\"\"\"\n",
    "\n",
    "# O(N) space\n",
    "class Solution:\n",
    "    def missingNumber(self, nums) -> int:\n",
    "        onums = range(len(nums)+1)\n",
    "        missing = 0\n",
    "        for idx, num in enumerate(nums):\n",
    "            missing = missing ^ onums[idx] ^ num\n",
    "        return missing ^ onums[-1]\n",
    "    \n",
    "# O(1) space\n",
    "class Solution:\n",
    "    def missingNumber(self, nums) -> int:\n",
    "        missing = 0\n",
    "        for idx, num in enumerate(nums):\n",
    "            missing = missing ^ idx ^ num\n",
    "        return missing ^ (idx+1)"
   ]
  }
 ],
 "metadata": {
  "kernelspec": {
   "display_name": "Python 3",
   "language": "python",
   "name": "python3"
  },
  "language_info": {
   "name": "python",
   "version": "3.8.10"
  },
  "orig_nbformat": 4,
  "vscode": {
   "interpreter": {
    "hash": "916dbcbb3f70747c44a77c7bcd40155683ae19c65e1c03b4aa3499c5328201f1"
   }
  }
 },
 "nbformat": 4,
 "nbformat_minor": 2
}
