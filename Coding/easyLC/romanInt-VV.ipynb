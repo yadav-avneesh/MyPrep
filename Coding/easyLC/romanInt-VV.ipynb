{
 "cells": [
  {
   "cell_type": "code",
   "execution_count": null,
   "metadata": {},
   "outputs": [],
   "source": [
    "class Solution:\n",
    "    def romanToInt(self, s: str) -> int:\n",
    "        code_value = {'I':1, 'V':5, 'X':10, 'L':50, 'C':100, 'D':500, 'M':1000}\n",
    "        num = 0\n",
    "        prev = s[0]\n",
    "        for curr in s[1:]:\n",
    "            if code_value[prev] >= code_value[curr]:\n",
    "                num += code_value[prev]\n",
    "            else:\n",
    "                num -= code_value[prev]\n",
    "            prev = curr\n",
    "        return num + code_value[prev]"
   ]
  },
  {
   "cell_type": "code",
   "execution_count": 22,
   "metadata": {},
   "outputs": [],
   "source": [
    "class Solution:\n",
    "    def get_roman_code(self, value):\n",
    "        return ('M', 1000)  if value >= 1000 else \\\n",
    "            ('CM', 900) if value >= 900 else \\\n",
    "            ('D', 500)  if value >= 500 else \\\n",
    "            ('CD', 400) if value >= 400 else \\\n",
    "            ('C', 100)  if value >= 100 else \\\n",
    "            ('XC', 90) if value >= 90 else \\\n",
    "            ('L', 50)  if value >= 50 else \\\n",
    "            ('XL', 40) if value >= 40 else \\\n",
    "            ('X', 10)  if value >= 10 else \\\n",
    "            ('IX', 9) if value >= 9 else \\\n",
    "            ('V', 5)  if value >= 5 else \\\n",
    "            ('IV', 4) if value >= 4 else ('I', 1)\n",
    "\n",
    "    def intToRoman(self, num: int) -> str:\n",
    "        roman = ''\n",
    "        while num:\n",
    "            s, r = self.get_roman_code(num)\n",
    "            roman += s\n",
    "            num   -= r\n",
    "        return roman\n",
    "\n",
    "\n",
    "        \n",
    "        "
   ]
  },
  {
   "cell_type": "code",
   "execution_count": 23,
   "metadata": {},
   "outputs": [
    {
     "data": {
      "text/plain": [
       "'MMMCMXCIX'"
      ]
     },
     "execution_count": 23,
     "metadata": {},
     "output_type": "execute_result"
    }
   ],
   "source": [
    "Solution().intToRoman(3999)"
   ]
  },
  {
   "cell_type": "code",
   "execution_count": 1,
   "metadata": {},
   "outputs": [
    {
     "data": {
      "text/plain": [
       "269211"
      ]
     },
     "execution_count": 1,
     "metadata": {},
     "output_type": "execute_result"
    }
   ],
   "source": [
    "80563 + 73227 + 59085 + 56336"
   ]
  },
  {
   "cell_type": "code",
   "execution_count": 1,
   "metadata": {},
   "outputs": [],
   "source": [
    "class Solution:\n",
    "    def intToRoman(self, num: int) -> str:\n",
    "        d1 = ['','I','II','III','IV','V','VI','VII','VIII','IX']\n",
    "        d2 = ['','X','XX','XXX','XL','L','LX','LXX','LXXX','XC']\n",
    "        d3 = ['','C','CC','CCC','CD','D','DC','DCC','DCCC','CM']\n",
    "        d4 = ['','M','MM','MMM']\n",
    "        p4 = num // 1000\n",
    "        p3 = num%1000 // 100\n",
    "        p2 = num%1000%100 // 10\n",
    "        p1 = num%1000%100%10\n",
    "        \n",
    "        roman='{}{}{}{}'.format(d4[p4], d3[p3], d2[p2], d1[p1])\n",
    "\n",
    "        return roman"
   ]
  },
  {
   "cell_type": "code",
   "execution_count": null,
   "metadata": {},
   "outputs": [],
   "source": []
  }
 ],
 "metadata": {
  "kernelspec": {
   "display_name": "Python 3.9.1 64-bit",
   "language": "python",
   "name": "python3"
  },
  "language_info": {
   "codemirror_mode": {
    "name": "ipython",
    "version": 3
   },
   "file_extension": ".py",
   "mimetype": "text/x-python",
   "name": "python",
   "nbconvert_exporter": "python",
   "pygments_lexer": "ipython3",
   "version": "3.9.1"
  },
  "orig_nbformat": 4,
  "vscode": {
   "interpreter": {
    "hash": "81794d4967e6c3204c66dcd87b604927b115b27c00565d3d43f05ba2f3a2cb0d"
   }
  }
 },
 "nbformat": 4,
 "nbformat_minor": 2
}
