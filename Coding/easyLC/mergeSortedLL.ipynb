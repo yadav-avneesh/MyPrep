{
 "cells": [
  {
   "cell_type": "code",
   "execution_count": null,
   "metadata": {},
   "outputs": [],
   "source": [
    "# Definition for singly-linked list.\n",
    "\n",
    "class ListNode:\n",
    "    def __init__(self, val=0, next=None):\n",
    "        self.val = val\n",
    "        self.next = next\n",
    "\n",
    "class Solution:\n",
    "    def mergeTwoLists(self, list1, list2):\n",
    "        if list1 is None and list2 is None:\n",
    "            return None\n",
    "        if list1 is None:\n",
    "            return list2\n",
    "        if list2 is None:\n",
    "            return list1\n",
    "        p1, p2, head = list1, list2, None\n",
    "        if p1.val <= p2.val:\n",
    "            head = ListNode(p1.val)\n",
    "            p1 = p1.next\n",
    "        else:\n",
    "            head = ListNode(p2.val)\n",
    "            p2 = p2.next\n",
    "        res = head\n",
    "        while p1 and p2:\n",
    "            if p1.val <= p2.val:\n",
    "                temp = ListNode(p1.val)\n",
    "                p1 = p1.next\n",
    "            else:\n",
    "                temp = ListNode(p2.val)\n",
    "                p2 = p2.next\n",
    "            res.next = temp\n",
    "            res = res.next\n",
    "        curr = p1 if p1 else p2 if p2 else None\n",
    "        while curr:\n",
    "            temp = ListNode(curr.val)\n",
    "            res.next = temp\n",
    "            res = res.next\n",
    "            curr = curr.next\n",
    "        return head\n",
    "            "
   ]
  }
 ],
 "metadata": {
  "language_info": {
   "name": "python"
  },
  "orig_nbformat": 4
 },
 "nbformat": 4,
 "nbformat_minor": 2
}
