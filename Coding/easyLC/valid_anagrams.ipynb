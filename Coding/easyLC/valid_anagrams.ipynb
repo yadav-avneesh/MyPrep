{
 "cells": [
  {
   "cell_type": "code",
   "execution_count": null,
   "metadata": {},
   "outputs": [],
   "source": [
    "'''\n",
    "Given two strings s and t, return true if t is an anagram of s, and false otherwise.\n",
    "\n",
    "An Anagram is a word or phrase formed by rearranging the letters of a different word or phrase, typically using all the original letters exactly once.\n",
    "\n",
    " \n",
    "\n",
    "Example 1:\n",
    "    Input: s = \"anagram\", t = \"nagaram\"\n",
    "    Output: true\n",
    "\n",
    "Example 2:\n",
    "    Input: s = \"rat\", t = \"car\"\n",
    "    Output: false\n",
    " \n",
    "\n",
    "Constraints:\n",
    "    1 <= s.length, t.length <= 5 * 104\n",
    "    s and t consist of lowercase English letters.\n",
    " \n",
    "Follow up: What if the inputs contain Unicode characters? How would you adapt your solution to such a case?\n",
    "'''\n",
    "\n",
    "class Solution:\n",
    "    def isAnagram(self, s: str, t: str) -> bool:\n",
    "        count1 = [0] * 26\n",
    "        count2 = [0] * 26\n",
    "        s1 = len(s)\n",
    "        t1 = len(t)\n",
    "        if s1 != t1:\n",
    "            return False\n",
    "        i = 0\n",
    "        while i < s1:\n",
    "            # s\n",
    "            sidx  = ord(s[i]) - ord('a')\n",
    "            count1[sidx] += 1\n",
    "            # t\n",
    "            tidx = ord(t[i]) - ord('a')\n",
    "            count2[tidx] += 1\n",
    "            i += 1\n",
    "        for i in range(26):\n",
    "            if count1[i] != count2[i]:\n",
    "                return False\n",
    "        return True\n"
   ]
  },
  {
   "cell_type": "code",
   "execution_count": 1,
   "metadata": {},
   "outputs": [],
   "source": [
    "from collections import Counter"
   ]
  },
  {
   "cell_type": "code",
   "execution_count": 2,
   "metadata": {},
   "outputs": [],
   "source": [
    "from collections import Counter\n",
    "class Solution:\n",
    "    def isAnagram(self, s: str, t: str) -> bool:\n",
    "        return True if Counter(s) == Counter(t) else False"
   ]
  },
  {
   "cell_type": "code",
   "execution_count": null,
   "metadata": {},
   "outputs": [],
   "source": []
  }
 ],
 "metadata": {
  "kernelspec": {
   "display_name": "Python 3.9.1 64-bit",
   "language": "python",
   "name": "python3"
  },
  "language_info": {
   "codemirror_mode": {
    "name": "ipython",
    "version": 3
   },
   "file_extension": ".py",
   "mimetype": "text/x-python",
   "name": "python",
   "nbconvert_exporter": "python",
   "pygments_lexer": "ipython3",
   "version": "3.9.1 (tags/v3.9.1:1e5d33e, Dec  7 2020, 17:08:21) [MSC v.1927 64 bit (AMD64)]"
  },
  "orig_nbformat": 4,
  "vscode": {
   "interpreter": {
    "hash": "81794d4967e6c3204c66dcd87b604927b115b27c00565d3d43f05ba2f3a2cb0d"
   }
  }
 },
 "nbformat": 4,
 "nbformat_minor": 2
}
