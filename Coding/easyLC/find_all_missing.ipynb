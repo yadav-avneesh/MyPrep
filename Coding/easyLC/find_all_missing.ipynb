{
 "cells": [
  {
   "cell_type": "code",
   "execution_count": null,
   "metadata": {},
   "outputs": [],
   "source": [
    "'''\n",
    "\n",
    "Given an array nums of n integers where nums[i] is in the range [1, n], return an array of all the integers in the range [1, n] that do not appear in nums.\n",
    "\n",
    " \n",
    "\n",
    "Example 1:\n",
    "    Input: nums = [4,3,2,7,8,2,3,1]\n",
    "    Output: [5,6]\n",
    "\n",
    "\n",
    "Example 2:\n",
    "    Input: nums = [1,1]\n",
    "    Output: [2]\n",
    " \n",
    "\n",
    "Constraints:\n",
    "    n == nums.length\n",
    "    1 <= n <= 105\n",
    "    1 <= nums[i] <= n\n",
    " \n",
    "\n",
    "Follow up: Could you do it without extra space and in O(n) runtime? You may assume the returned list does not count as extra space.\n",
    "\n",
    "TIP:\n",
    "    1. Make index num -ve,\n",
    "    2. Positive number's idx is missing\n",
    "\n",
    "'''\n",
    "\n",
    "class Solution:\n",
    "    def findDisappearedNumbers(self, nums):\n",
    "        for num in nums:\n",
    "            num = abs(num)\n",
    "            x = nums[num-1]\n",
    "            nums[num-1] = min(x, -x)\n",
    "        return [idx+1 for idx, num in enumerate(nums) if num > 0]\n"
   ]
  }
 ],
 "metadata": {
  "kernelspec": {
   "display_name": "Python 3",
   "language": "python",
   "name": "python3"
  },
  "language_info": {
   "name": "python",
   "version": "3.9.1 (tags/v3.9.1:1e5d33e, Dec  7 2020, 17:08:21) [MSC v.1927 64 bit (AMD64)]"
  },
  "orig_nbformat": 4,
  "vscode": {
   "interpreter": {
    "hash": "81794d4967e6c3204c66dcd87b604927b115b27c00565d3d43f05ba2f3a2cb0d"
   }
  }
 },
 "nbformat": 4,
 "nbformat_minor": 2
}
