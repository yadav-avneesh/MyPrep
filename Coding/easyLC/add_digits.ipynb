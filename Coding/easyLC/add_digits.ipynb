{
 "cells": [
  {
   "cell_type": "code",
   "execution_count": null,
   "metadata": {},
   "outputs": [],
   "source": [
    "\"\"\"\n",
    "Given an integer num, repeatedly add all its digits until the result has only one digit, and return it.\n",
    "\n",
    "Example 1:\n",
    "    Input: num = 38\n",
    "    Output: 2\n",
    "    \n",
    "    Explanation: The process is\n",
    "        38 --> 3 + 8 --> 11\n",
    "        11 --> 1 + 1 --> 2 \n",
    "        Since 2 has only one digit, return it.\n",
    "\n",
    "Example 2:\n",
    "    Input: num = 0\n",
    "    Output: 0\n",
    " \n",
    "\n",
    "Constraints:\n",
    "    0 <= num <= 2^31 - 1\n",
    "\n",
    "Follow up: Could you do it without any loop/recursion in O(1) runtime?\n",
    "\"\"\"\n",
    "\n",
    "class Solution:\n",
    "    def addDigits(self, num: int) -> int:\n",
    "        return num if num == 0 else 9 if num%9 == 0 else num%9"
   ]
  }
 ],
 "metadata": {
  "language_info": {
   "name": "python"
  },
  "orig_nbformat": 4
 },
 "nbformat": 4,
 "nbformat_minor": 2
}
