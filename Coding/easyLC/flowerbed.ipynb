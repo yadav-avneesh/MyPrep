{
 "cells": [
  {
   "cell_type": "code",
   "execution_count": 3,
   "metadata": {},
   "outputs": [],
   "source": [
    "'''\n",
    "You have a long flowerbed in which some of the plots are planted, and some are not. However, flowers cannot be planted in adjacent plots.\n",
    "\n",
    "Given an integer array flowerbed containing 0's and 1's, where 0 means empty and 1 means not empty, and an integer n, return if n new flowers can be planted in the flowerbed without violating the no-adjacent-flowers rule.\n",
    "\n",
    "Example 1:\n",
    "    Input: flowerbed = [1,0,0,0,1], n = 1\n",
    "    Output: true\n",
    "\n",
    "\n",
    "Example 2:\n",
    "    Input: flowerbed = [1,0,0,0,1], n = 2\n",
    "    Output: false\n",
    " \n",
    "\n",
    "Constraints:\n",
    "    1 <= flowerbed.length <= 2 * 104\n",
    "    flowerbed[i] is 0 or 1.\n",
    "    There are no two adjacent flowers in flowerbed.\n",
    "    0 <= n <= flowerbed.length\n",
    "'''\n",
    "\n",
    "class Solution:\n",
    "    def canPlaceFlowers(self, flowerbed, n):\n",
    "        l = len(flowerbed)\n",
    "        c = 0\n",
    "        if l < 3:\n",
    "            return n <= (1 - sum(flowerbed))\n",
    "        if flowerbed[0] == 0 and flowerbed[1]==0:\n",
    "            flowerbed[0] = 1\n",
    "            c += 1\n",
    "        if flowerbed[-1] == 0 and flowerbed[-2]==0:\n",
    "            flowerbed[-1] = 1\n",
    "            c += 1\n",
    "        i = 1\n",
    "        while i < l-1:\n",
    "            if flowerbed[i] == 1:\n",
    "                i += 2\n",
    "            elif flowerbed[i-1] == 0 and flowerbed[i+1] == 0:\n",
    "                c += 1\n",
    "                i += 2\n",
    "            else:\n",
    "                i += 1\n",
    "        return n <= c\n"
   ]
  },
  {
   "cell_type": "code",
   "execution_count": null,
   "metadata": {},
   "outputs": [],
   "source": [
    "## Updated solution\n",
    "# for n plots; can_be_placed = n-1 // 2\n",
    "# count zeros b/w 2 1s \n",
    "\n",
    "class Solution(object):\n",
    "    def canPlaceFlowers(self, flowerbed, n):\n",
    "        \"\"\"\n",
    "        :type flowerbed: List[int]\n",
    "        :type n: int\n",
    "        :rtype: bool\n",
    "        \"\"\"\n",
    "        ans = 0\n",
    "        cnt = 1\n",
    "        for plot in flowerbed:\n",
    "            if plot == 0:\n",
    "                cnt += 1\n",
    "            else:\n",
    "                ans += abs(cnt - 1) / 2\n",
    "                cnt = 0\n",
    "        return ans + cnt / 2 >= n"
   ]
  }
 ],
 "metadata": {
  "kernelspec": {
   "display_name": "Python 3.9.1 64-bit",
   "language": "python",
   "name": "python3"
  },
  "language_info": {
   "codemirror_mode": {
    "name": "ipython",
    "version": 3
   },
   "file_extension": ".py",
   "mimetype": "text/x-python",
   "name": "python",
   "nbconvert_exporter": "python",
   "pygments_lexer": "ipython3",
   "version": "3.9.1"
  },
  "orig_nbformat": 4,
  "vscode": {
   "interpreter": {
    "hash": "81794d4967e6c3204c66dcd87b604927b115b27c00565d3d43f05ba2f3a2cb0d"
   }
  }
 },
 "nbformat": 4,
 "nbformat_minor": 2
}
