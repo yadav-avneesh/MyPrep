{
 "cells": [
  {
   "cell_type": "code",
   "execution_count": 1,
   "metadata": {},
   "outputs": [],
   "source": [
    "\"\"\"\n",
    "Given the root of a binary tree, return the inorder traversal of its nodes' values.\n",
    "\n",
    " \n",
    "\n",
    "Example 1:\n",
    "Input: root = [1,null,2,3]\n",
    "Output: [1,3,2]\n",
    "\n",
    "\n",
    "Example 2:\n",
    "Input: root = []\n",
    "Output: []\n",
    "\n",
    "\n",
    "Example 3:\n",
    "Input: root = [1]\n",
    "Output: [1]\n",
    " \n",
    "\n",
    "Constraints:\n",
    "    The number of nodes in the tree is in the range [0, 100].\n",
    "    -100 <= Node.val <= 100\n",
    "\n",
    "Follow up: Recursive solution is trivial, could you do it iteratively?\n",
    "\"\"\"\n",
    "\n",
    "# Definition for a binary tree node.\n",
    "\n",
    "class TreeNode:\n",
    "    def __init__(self, val=0, left=None, right=None):\n",
    "        self.val = val\n",
    "        self.left = left\n",
    "        self.right = right\n",
    "\n",
    "# Recursive\n",
    "class Solution:\n",
    "    def inorderTraversal(self, root):\n",
    "        def lRr(root, result):\n",
    "            if root.left is not None:\n",
    "                result = lRr(root.left, result)\n",
    "            result.append(root.val)\n",
    "            if root.right is not None:\n",
    "                result = lRr(root.right, result)\n",
    "            return result\n",
    "        res = []\n",
    "        return lRr(root, res)"
   ]
  },
  {
   "cell_type": "code",
   "execution_count": null,
   "metadata": {},
   "outputs": [],
   "source": [
    "\n",
    "# Iterative\n",
    "class Solution:\n",
    "    def inorderTraversal(self, root):\n",
    "        node = root\n",
    "        stk  = [node]\n",
    "        while stk:\n",
    "            curr = stk.pop()\n",
    "            if curr.right:\n",
    "                stk.append(curr.right)\n",
    "            \n",
    "\n",
    "            \n"
   ]
  }
 ],
 "metadata": {
  "kernelspec": {
   "display_name": "Python 3.9.1 64-bit",
   "language": "python",
   "name": "python3"
  },
  "language_info": {
   "codemirror_mode": {
    "name": "ipython",
    "version": 3
   },
   "file_extension": ".py",
   "mimetype": "text/x-python",
   "name": "python",
   "nbconvert_exporter": "python",
   "pygments_lexer": "ipython3",
   "version": "3.9.1"
  },
  "orig_nbformat": 4,
  "vscode": {
   "interpreter": {
    "hash": "81794d4967e6c3204c66dcd87b604927b115b27c00565d3d43f05ba2f3a2cb0d"
   }
  }
 },
 "nbformat": 4,
 "nbformat_minor": 2
}
