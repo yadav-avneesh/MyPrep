{
 "cells": [
  {
   "cell_type": "code",
   "execution_count": null,
   "metadata": {},
   "outputs": [],
   "source": [
    "class MinStack:\n",
    "    def __init__(self):\n",
    "        self.__stack = []\n",
    "        self.minVal  = None\n",
    "\n",
    "    def push(self, val: int) -> None:\n",
    "        if not self.__stack:\n",
    "            self.__stack.append(val)\n",
    "            self.minVal = val\n",
    "            return\n",
    "        if val >= self.minVal:\n",
    "            self.__stack.append(val)\n",
    "            return\n",
    "        self.__stack.append(2*val-self.minVal)\n",
    "        self.minVal = val\n",
    "        return\n",
    "\n",
    "    def pop(self) -> None:\n",
    "        if not self.__stack:\n",
    "            return\n",
    "        last = self.__stack.pop()\n",
    "        if last >= self.minVal:\n",
    "            return\n",
    "        self.minVal = 2 * self.minVal - last\n",
    "        return\n",
    "\n",
    "    def top(self) -> int:\n",
    "        if not self.__stack:\n",
    "            return\n",
    "        top = self.__stack[-1]\n",
    "        return top if top >= self.minVal else self.minVal\n",
    "\n",
    "    def getMin(self) -> int:\n",
    "        if not self.__stack:\n",
    "            return\n",
    "        return self.minVal"
   ]
  }
 ],
 "metadata": {
  "language_info": {
   "name": "python"
  },
  "orig_nbformat": 4
 },
 "nbformat": 4,
 "nbformat_minor": 2
}
