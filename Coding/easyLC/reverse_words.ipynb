{
 "cells": [
  {
   "cell_type": "code",
   "execution_count": null,
   "metadata": {},
   "outputs": [],
   "source": [
    "'''\n",
    "Given a string s, reverse the order of characters in each word within a sentence while still preserving whitespace and initial word order.\n",
    "\n",
    " \n",
    "\n",
    "Example 1:\n",
    "\n",
    "    Input: s = \"Let's take LeetCode contest\"\n",
    "    Output: \"s'teL ekat edoCteeL tsetnoc\"\n",
    "\n",
    "Example 2:\n",
    "\n",
    "    Input: s = \"God Ding\"\n",
    "    Output: \"doG gniD\"\n",
    " \n",
    "\n",
    "Constraints:\n",
    "\n",
    "    1 <= s.length <= 5 * 104\n",
    "    s contains printable ASCII characters.\n",
    "    s does not contain any leading or trailing spaces.\n",
    "    There is at least one word in s.\n",
    "    All the words in s are separated by a single space.\n",
    "'''\n",
    "\n",
    "class Solution:\n",
    "    def reverseWords(self, s):\n",
    "        words = s.split(' ')\n",
    "        return \" \".join(map(lambda w: w[::-1], words))"
   ]
  }
 ],
 "metadata": {
  "kernelspec": {
   "display_name": "Python 3.9.1 64-bit",
   "language": "python",
   "name": "python3"
  },
  "language_info": {
   "name": "python",
   "version": "3.9.1"
  },
  "orig_nbformat": 4,
  "vscode": {
   "interpreter": {
    "hash": "81794d4967e6c3204c66dcd87b604927b115b27c00565d3d43f05ba2f3a2cb0d"
   }
  }
 },
 "nbformat": 4,
 "nbformat_minor": 2
}
