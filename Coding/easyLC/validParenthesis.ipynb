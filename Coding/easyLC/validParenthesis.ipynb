{
 "cells": [
  {
   "cell_type": "code",
   "execution_count": null,
   "metadata": {},
   "outputs": [],
   "source": [
    "class Solution:\n",
    "    def isValid(self, s: str) -> bool:\n",
    "        b_map = {\n",
    "            ')': '(',\n",
    "            '}': '{',\n",
    "            ']': '['\n",
    "        }\n",
    "        validator = []\n",
    "        count = 0\n",
    "        for c in s:\n",
    "            if c == '(' or c == '{' or c =='[':\n",
    "                validator.append(c)\n",
    "                count += 1\n",
    "            else:\n",
    "                if count == 0:\n",
    "                    return False\n",
    "                if validator[-1] != b_map[c]:\n",
    "                    return False\n",
    "                validator.pop()\n",
    "                count -= 1\n",
    "        return len(validator) == 0"
   ]
  }
 ],
 "metadata": {
  "language_info": {
   "name": "python"
  },
  "orig_nbformat": 4
 },
 "nbformat": 4,
 "nbformat_minor": 2
}
