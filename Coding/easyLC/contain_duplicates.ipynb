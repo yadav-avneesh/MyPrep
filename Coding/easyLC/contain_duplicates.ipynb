{
 "cells": [
  {
   "cell_type": "code",
   "execution_count": null,
   "metadata": {},
   "outputs": [],
   "source": [
    "\"\"\"\n",
    "Given an integer array nums, return true if any value appears at least twice in the array, and return false if every element is distinct.\n",
    "\n",
    " \n",
    "\n",
    "Example 1:\n",
    "\n",
    "Input: nums = [1,2,3,1]\n",
    "Output: true\n",
    "Example 2:\n",
    "\n",
    "Input: nums = [1,2,3,4]\n",
    "Output: false\n",
    "Example 3:\n",
    "\n",
    "Input: nums = [1,1,1,3,3,4,3,2,4,2]\n",
    "Output: true\n",
    " \n",
    "\n",
    "Constraints:\n",
    "\n",
    "1 <= nums.length <= 105\n",
    "-109 <= nums[i] <= 109\n",
    "\"\"\"\n",
    "from typing import List\n",
    "\n",
    "class Solution:\n",
    "    def containsDuplicate(self, nums: List[int]) -> bool:\n",
    "        seen = set()\n",
    "        for num in nums:\n",
    "            if num in seen:\n",
    "                return True\n",
    "            else:\n",
    "                seen.add(num)\n",
    "        return False\n",
    "\n",
    "# A bit better\n",
    "class Solution:\n",
    "    def containsDuplicate(self, nums) -> bool:\n",
    "        return len(nums) != len(set(nums))\n",
    "\n",
    "\n",
    "# Works slow\n",
    "from collections import Counter\n",
    "class Solution:\n",
    "    def containsDuplicate(self, nums) -> bool:\n",
    "        return max(Counter(nums).values()) > 1\n"
   ]
  }
 ],
 "metadata": {
  "kernelspec": {
   "display_name": "Python 3",
   "language": "python",
   "name": "python3"
  },
  "language_info": {
   "name": "python",
   "version": "3.8.10"
  },
  "orig_nbformat": 4
 },
 "nbformat": 4,
 "nbformat_minor": 2
}
