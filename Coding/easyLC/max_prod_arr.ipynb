{
 "cells": [
  {
   "cell_type": "code",
   "execution_count": null,
   "metadata": {},
   "outputs": [],
   "source": [
    "\"\"\"\n",
    "Given an integer array nums, find three numbers whose product is maximum and return the maximum product.\n",
    "\n",
    " \n",
    "\n",
    "Example 1:\n",
    "\n",
    "Input: nums = [1,2,3]\n",
    "Output: 6\n",
    "Example 2:\n",
    "\n",
    "Input: nums = [1,2,3,4]\n",
    "Output: 24\n",
    "Example 3:\n",
    "\n",
    "Input: nums = [-1,-2,-3]\n",
    "Output: -6\n",
    " \n",
    "\n",
    "Constraints:\n",
    "\n",
    "3 <= nums.length <= 104\n",
    "-1000 <= nums[i] <= 1000\n",
    "\"\"\"\n",
    "\n",
    "from typing import List\n",
    "\n",
    "# Since we need to find 3 laragest and 2 smallest\n",
    "# So can use heap with NlogK --> Nlog3 --> O(N)\n",
    "from heapq import nlargest, nsmallest\n",
    "class Solution:\n",
    "    def maximumProduct(self, nums: List[int]) -> int:\n",
    "        a, b = nlargest(3, nums), nsmallest(2, nums)\n",
    "        return max(a[0]*a[1]*a[2], a[0]*b[0]*b[1])\n",
    "\n",
    "\n",
    "# NLogN\n",
    "class Solution:\n",
    "    def maximumProduct(self, nums: List[int]) -> int:\n",
    "        snums = sorted(nums)\n",
    "        last = snums[-1]\n",
    "        return max(last * snums[0] * snums[1], last * snums[-2] * snums[-3])"
   ]
  }
 ],
 "metadata": {
  "kernelspec": {
   "display_name": "Python 3",
   "language": "python",
   "name": "python3"
  },
  "language_info": {
   "name": "python",
   "version": "3.8.10"
  },
  "orig_nbformat": 4
 },
 "nbformat": 4,
 "nbformat_minor": 2
}
