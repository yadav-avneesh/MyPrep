{
 "cells": [
  {
   "cell_type": "code",
   "execution_count": 1,
   "metadata": {},
   "outputs": [],
   "source": [
    "'''\n",
    "\n",
    "Given an unsorted array of integers nums, return the length of the longest continuous increasing subsequence (i.e. subarray). The subsequence must be strictly increasing.\n",
    "\n",
    "A continuous increasing subsequence is defined by two indices l and r (l < r) such that it is [nums[l], nums[l + 1], ..., nums[r - 1], nums[r]] and for each l <= i < r, nums[i] < nums[i + 1].\n",
    "\n",
    " \n",
    "\n",
    "Example 1:\n",
    "\n",
    "Input: nums = [1,3,5,4,7]\n",
    "Output: 3\n",
    "Explanation: The longest continuous increasing subsequence is [1,3,5] with length 3.\n",
    "Even though [1,3,5,7] is an increasing subsequence, it is not continuous as elements 5 and 7 are separated by element\n",
    "4.\n",
    "Example 2:\n",
    "\n",
    "Input: nums = [2,2,2,2,2]\n",
    "Output: 1\n",
    "Explanation: The longest continuous increasing subsequence is [2] with length 1. Note that it must be strictly\n",
    "increasing.\n",
    " \n",
    "\n",
    "Constraints:\n",
    "\n",
    "1 <= nums.length <= 104\n",
    "-109 <= nums[i] <= 109\n",
    "\n",
    "\n",
    "TIP: \n",
    "    1. Greedy selection and count max.\n",
    "    2. Can use dp as well, 1d\n",
    "\n",
    "'''\n",
    "\n",
    "# Incorrect\n",
    "class Solution:\n",
    "    def findLengthOfLCIS(self, nums) -> int:\n",
    "        idx = 1\n",
    "        end = len(nums)\n",
    "        count = 0\n",
    "        maxc  = 1\n",
    "        nums = [float('-inf'), *nums]\n",
    "        while idx < end:\n",
    "            if nums[idx] > nums[idx-1]:\n",
    "                count += 1\n",
    "                idx += 1\n",
    "            else:\n",
    "                maxc = max(count, maxc)\n",
    "                count = 0\n",
    "                idx += 2\n",
    "        return maxc\n"
   ]
  },
  {
   "cell_type": "code",
   "execution_count": 2,
   "metadata": {},
   "outputs": [],
   "source": [
    "class Solution:\n",
    "    def findLengthOfLCIS(self, nums) -> int:\n",
    "        idx = 1\n",
    "        end = len(nums)\n",
    "        count = 1\n",
    "        maxc  = 1\n",
    "        while idx < end:\n",
    "            if nums[idx] <= nums[idx-1]:\n",
    "                count = 1\n",
    "                idx += 1\n",
    "                continue\n",
    "            count += 1\n",
    "            maxc = max(count, maxc)\n",
    "            idx += 1\n",
    "        return max(maxc, count)"
   ]
  },
  {
   "cell_type": "code",
   "execution_count": 3,
   "metadata": {},
   "outputs": [],
   "source": [
    "class Solution:\n",
    "    def findLengthOfLCIS(self, nums) -> int:\n",
    "        count = 1\n",
    "        maxc  = 1\n",
    "        for idx, num in enumerate(nums[1:]):\n",
    "            if num <= nums[idx]:\n",
    "                count = 1\n",
    "                continue\n",
    "            count += 1\n",
    "            maxc = max(maxc, count)\n",
    "        return maxc"
   ]
  },
  {
   "cell_type": "code",
   "execution_count": 4,
   "metadata": {},
   "outputs": [],
   "source": [
    "class Solution:\n",
    "    def findLengthOfLCIS(self, nums) -> int:\n",
    "        count = [1]*len(nums)\n",
    "        for idx, num in enumerate(nums[1:]):\n",
    "            if num > nums[idx]:\n",
    "                count[idx+1] = count[idx]+1\n",
    "        return max(count)"
   ]
  },
  {
   "cell_type": "code",
   "execution_count": null,
   "metadata": {},
   "outputs": [],
   "source": [
    "class Solution:\n",
    "    def findLengthOfLCIS(self, nums) -> int:\n",
    "        count = [1]*len(nums)\n",
    "        for idx in range(1, len(nums)):\n",
    "            if nums[idx] > nums[idx-1]:\n",
    "                count[idx] = count[idx-1]+1\n",
    "        return max(count)"
   ]
  }
 ],
 "metadata": {
  "kernelspec": {
   "display_name": "Python 3",
   "language": "python",
   "name": "python3"
  },
  "language_info": {
   "codemirror_mode": {
    "name": "ipython",
    "version": 3
   },
   "file_extension": ".py",
   "mimetype": "text/x-python",
   "name": "python",
   "nbconvert_exporter": "python",
   "pygments_lexer": "ipython3",
   "version": "3.9.1"
  },
  "orig_nbformat": 4,
  "vscode": {
   "interpreter": {
    "hash": "81794d4967e6c3204c66dcd87b604927b115b27c00565d3d43f05ba2f3a2cb0d"
   }
  }
 },
 "nbformat": 4,
 "nbformat_minor": 2
}
