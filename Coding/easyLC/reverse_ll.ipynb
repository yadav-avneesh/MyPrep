{
 "cells": [
  {
   "cell_type": "code",
   "execution_count": null,
   "metadata": {},
   "outputs": [],
   "source": [
    "\"\"\"\n",
    "Given the head of a singly linked list, reverse the list, and return the reversed list.\n",
    "\"\"\"\n",
    "# Definition for singly-linked list.\n",
    "\n",
    "class ListNode:\n",
    "    def __init__(self, val=0, next=None):\n",
    "        self.val = val\n",
    "        self.next = next\n",
    "\n",
    "class Solution:\n",
    "    def reverseList(self, head):\n",
    "        curr   = head\n",
    "        result = None\n",
    "        while curr:\n",
    "            temp = curr.next\n",
    "            curr.next = result\n",
    "            result = curr\n",
    "            curr = temp\n",
    "        return result"
   ]
  }
 ],
 "metadata": {
  "language_info": {
   "name": "python"
  },
  "orig_nbformat": 4
 },
 "nbformat": 4,
 "nbformat_minor": 2
}
