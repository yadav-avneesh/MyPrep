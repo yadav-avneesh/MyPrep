{
 "cells": [
  {
   "cell_type": "code",
   "execution_count": 3,
   "id": "recorded-cameroon",
   "metadata": {},
   "outputs": [],
   "source": [
    "class Solution:\n",
    "    def mark_occupied(self, board, pos):\n",
    "        pass\n",
    "    def solveNQueens(self, A):\n",
    "        self.board = [[0 for i in range(A)] for j in range(A)]\n",
    "        self.prev_board = [];\n",
    "        self.sol = 0\n",
    "    def print_board(self):\n",
    "        for i in range(A):\n",
    "            print('{}'.format(' '.join(self.board[i])))\n",
    "            print('\\n')\n",
    "    "
   ]
  },
  {
   "cell_type": "code",
   "execution_count": null,
   "id": "nominated-photographer",
   "metadata": {},
   "outputs": [],
   "source": []
  }
 ],
 "metadata": {
  "kernelspec": {
   "display_name": "Python 3",
   "language": "python",
   "name": "python3"
  },
  "language_info": {
   "codemirror_mode": {
    "name": "ipython",
    "version": 3
   },
   "file_extension": ".py",
   "mimetype": "text/x-python",
   "name": "python",
   "nbconvert_exporter": "python",
   "pygments_lexer": "ipython3",
   "version": "3.9.1"
  }
 },
 "nbformat": 4,
 "nbformat_minor": 5
}
