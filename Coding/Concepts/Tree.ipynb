{
 "cells": [
  {
   "cell_type": "code",
   "execution_count": 92,
   "metadata": {},
   "outputs": [],
   "source": [
    "\"\"\"\n",
    "A collection of tree data structures in python\n",
    "\n",
    "Sample tree:\n",
    "\n",
    "l = {\n",
    "        0: {1: 1, 2: 10},\n",
    "        1: {1: 9, 2: 20},\n",
    "        10: {1: 15, 2: 18},\n",
    "        9: {1: 11, 2: 19},\n",
    "        20: {1: 13, 2: 25},\n",
    "        15: {1: 39, 2: 83},\n",
    "        19: {1: 3, 2: 23},\n",
    "        3: {1: 21, 2: 73 },\n",
    "        73: {1: 5, 2: 105}\n",
    "    }\n",
    "\n",
    "pre = [0, 1, 9, 11, 19, 3, 21, 73, 5, 105, 23, 20, 13, 25, 10, 15, 39, 83, 18] \n",
    "\n",
    "\n",
    "@author: Avneesh Yadav\n",
    "\"\"\"\n",
    "\n",
    "\n",
    "\n",
    "class BinaryTree(object):\n",
    "    def __init__(self, data, left=None, right=None):\n",
    "        self.data = data # type node\n",
    "        self.left = left\n",
    "        self.right = right\n",
    "        \n",
    "    def __str__(self):\n",
    "        return '{}'.format(self.data)"
   ]
  },
  {
   "cell_type": "code",
   "execution_count": 93,
   "metadata": {},
   "outputs": [],
   "source": [
    "def create_bt(d):\n",
    "    n_bt = {}\n",
    "    for k, v in d.iteritems():\n",
    "        n_bt[k] = BinaryTree(k, None, None)\n",
    "    for k, v in d.iteritems():\n",
    "        if k in n_bt:\n",
    "            l = n_bt.get(v[1], BinaryTree(v[1]))\n",
    "            r = n_bt.get(v[2], BinaryTree(v[2]))\n",
    "            n_bt[k].left = l\n",
    "            n_bt[k].right = r\n",
    "    return n_bt"
   ]
  },
  {
   "cell_type": "code",
   "execution_count": 94,
   "metadata": {},
   "outputs": [],
   "source": [
    "stree1 = {\n",
    "    0: {1: 1, 2: 10},\n",
    "    1: {1: 9, 2: 20},\n",
    "    10: {1: 15, 2: 18},\n",
    "    9: {1: 11, 2: 19},\n",
    "    20: {1: 13, 2: 25},\n",
    "    15: {1: 39, 2: 83},\n",
    "    19: {1: 3, 2: 23},\n",
    "    3: {1: 21, 2: 73 },\n",
    "    73: {1: 5, 2: 105}\n",
    "}\n",
    "\n",
    "\n",
    "\n",
    "\n",
    "#'''\n",
    "#                            0\n",
    "#                   1                10\n",
    "#            9           20       15    18\n",
    "#         11   19      13  25   39  83 \n",
    "#            3    23\n",
    "#         21   73\n",
    "#            5   105\n",
    "#'''\n",
    "\n",
    "stree2 = {\n",
    "    1: {1: 2, 2: 3},\n",
    "    2: {1: 4, 2: 5},\n",
    "    3: {1: 6, 2: 7},\n",
    "    4: {1: 8, 2: 9}\n",
    "}\n",
    "\n",
    "# '''\n",
    "#          1\n",
    "#      2       3\n",
    "#    4    5  6   7\n",
    "#  8   9 \n",
    "# '''"
   ]
  },
  {
   "cell_type": "code",
   "execution_count": 95,
   "metadata": {},
   "outputs": [],
   "source": [
    "STree1 = create_bt(stree1)\n",
    "STree2 = create_bt(stree2)"
   ]
  },
  {
   "cell_type": "code",
   "execution_count": 97,
   "metadata": {},
   "outputs": [],
   "source": [
    "def get_pre_rec(root, res=None):\n",
    "    if res is None:\n",
    "        res = []\n",
    "    if root is None:\n",
    "        return []\n",
    "    res.append(root.data)\n",
    "    if root.left:\n",
    "        get_pre_rec(root.left, res)\n",
    "    if root.right:\n",
    "        get_pre_rec(root.right, res)\n",
    "    return res\n",
    "\n",
    "def get_pre_iter(root):\n",
    "    if root is None:\n",
    "        return []\n",
    "    node_stack = [root]\n",
    "    pre_tree = []\n",
    "    while len(node_stack):\n",
    "        top = node_stack.pop()\n",
    "        pre_tree.append(top.data)\n",
    "        if getattr(top, 'right', None) is not None:\n",
    "            node_stack.append(top.right)\n",
    "        if getattr(top, 'left', None) is not None:\n",
    "            node_stack.append(top.left)\n",
    "    return pre_tree"
   ]
  },
  {
   "cell_type": "code",
   "execution_count": 98,
   "metadata": {},
   "outputs": [
    {
     "name": "stdout",
     "output_type": "stream",
     "text": [
      "[1, 2, 4, 8, 9, 5, 3, 6, 7]\n",
      "[1, 2, 4, 8, 9, 5, 3, 6, 7]\n"
     ]
    }
   ],
   "source": [
    "print get_pre_rec(STree2[1])\n",
    "print get_pre_iter(STree2[1])"
   ]
  },
  {
   "cell_type": "code",
   "execution_count": 99,
   "metadata": {},
   "outputs": [],
   "source": [
    "def get_in_rec(root, res=None):\n",
    "    if res is None:\n",
    "        res = []\n",
    "    if root is None:\n",
    "        return []\n",
    "    if root.left:\n",
    "        get_in_rec(root.left, res)\n",
    "    res.append(root.data)\n",
    "    if root.right:\n",
    "        get_in_rec(root.right, res)\n",
    "    return res \n",
    "\n",
    "def get_in_iter(root):\n",
    "    if root is None:\n",
    "        return []\n",
    "    stack = []\n",
    "    res = []\n",
    "    curr = root\n",
    "    while stack or curr:\n",
    "        if curr:\n",
    "            stack.append(curr)\n",
    "            curr = curr.left\n",
    "        else:\n",
    "            res_node = stack.pop()\n",
    "            res.append(res_node.data)\n",
    "            if res_node.right:\n",
    "                curr = res_node.right\n",
    "    return res\n",
    "    "
   ]
  },
  {
   "cell_type": "code",
   "execution_count": 100,
   "metadata": {},
   "outputs": [
    {
     "name": "stdout",
     "output_type": "stream",
     "text": [
      "[8, 4, 9, 2, 5, 1, 6, 3, 7]\n",
      "[8, 4, 9, 2, 5, 1, 6, 3, 7]\n"
     ]
    }
   ],
   "source": [
    "print get_in_rec(STree2[1])\n",
    "print get_in_iter(STree2[1])"
   ]
  },
  {
   "cell_type": "code",
   "execution_count": 101,
   "metadata": {},
   "outputs": [],
   "source": [
    "def get_post_rec(root, res=None):\n",
    "    if res is None:\n",
    "        res = []\n",
    "    if root is None:\n",
    "        return []\n",
    "    if root.left:\n",
    "        get_post_rec(root.left, res)\n",
    "    if root.right:\n",
    "        get_post_rec(root.right, res)\n",
    "    res.append(root.data)\n",
    "    return res\n",
    "\n",
    "def get_post_iter_two_stk(root):\n",
    "    if root is None:\n",
    "        return []\n",
    "    st1 = [root]\n",
    "    st2 = []\n",
    "    while st1:\n",
    "        node = st1.pop()\n",
    "        st2.append(node.data)\n",
    "        if node.left:\n",
    "            st1.append(node.left)\n",
    "        if node.right:\n",
    "            st1.append(node.right)\n",
    "    return list(reversed(st2))\n",
    "\n",
    "def get_post_iter_one_stk(root):\n",
    "    def get_last(st):\n",
    "        return st[-1] if st else None\n",
    "    if root is None:\n",
    "        return []\n",
    "    st1 = []\n",
    "    st2 = []\n",
    "    node = root\n",
    "    prev = None\n",
    "    while st1 or node:\n",
    "        if node:\n",
    "            if node.right:\n",
    "                st1.append(node.right)\n",
    "            st1.append(node)\n",
    "            node = node.left\n",
    "        else:\n",
    "            process = st1.pop()\n",
    "            prev = get_last(st1)\n",
    "            if process.right == prev:\n",
    "                node = st1.pop()\n",
    "                st1.append(process)\n",
    "            else:\n",
    "                st2.append(process.data)\n",
    "    return st2"
   ]
  },
  {
   "cell_type": "code",
   "execution_count": 102,
   "metadata": {},
   "outputs": [
    {
     "name": "stdout",
     "output_type": "stream",
     "text": [
      "[8, 9, 4, 5, 2, 6, 7, 3, 1]\n"
     ]
    }
   ],
   "source": [
    "print get_post_rec(STree2[1])"
   ]
  },
  {
   "cell_type": "code",
   "execution_count": 103,
   "metadata": {},
   "outputs": [
    {
     "name": "stdout",
     "output_type": "stream",
     "text": [
      "[8, 9, 4, 5, 2, 6, 7, 3, 1]\n"
     ]
    }
   ],
   "source": [
    "print get_post_iter_two_stk(STree2[1])"
   ]
  },
  {
   "cell_type": "code",
   "execution_count": 104,
   "metadata": {},
   "outputs": [
    {
     "name": "stdout",
     "output_type": "stream",
     "text": [
      "[8, 9, 4, 5, 2, 6, 7, 3, 1]\n"
     ]
    }
   ],
   "source": [
    "print get_post_iter_one_stk(STree2[1])\n"
   ]
  },
  {
   "cell_type": "code",
   "execution_count": 105,
   "metadata": {},
   "outputs": [],
   "source": [
    "def level_order(root):\n",
    "    if root is None:\n",
    "        return []\n",
    "    currl = [root]\n",
    "    nextl = []\n",
    "    res = []\n",
    "    while currl:\n",
    "        for node in currl:\n",
    "            res.append(node.data)\n",
    "            if node.left:\n",
    "                nextl.append(node.left)\n",
    "            if node.right:\n",
    "                nextl.append(node.right)\n",
    "        currl = nextl\n",
    "        nextl = []\n",
    "    return res\n",
    "            "
   ]
  },
  {
   "cell_type": "code",
   "execution_count": 106,
   "metadata": {},
   "outputs": [
    {
     "data": {
      "text/plain": [
       "[1, 2, 3, 4, 5, 6, 7, 8, 9]"
      ]
     },
     "execution_count": 106,
     "metadata": {},
     "output_type": "execute_result"
    }
   ],
   "source": [
    "level_order(STree2[1])"
   ]
  },
  {
   "cell_type": "code",
   "execution_count": 107,
   "metadata": {},
   "outputs": [
    {
     "name": "stdout",
     "output_type": "stream",
     "text": [
      "None\n"
     ]
    }
   ],
   "source": [
    "print max(None, None, None)"
   ]
  },
  {
   "cell_type": "code",
   "execution_count": 108,
   "metadata": {},
   "outputs": [],
   "source": [
    "def get_max(root):\n",
    "    if root is None:\n",
    "        return None\n",
    "    return max(root.data, get_max(root.left), get_max(root.right))\n",
    "\n",
    "def get_max_iter(root):\n",
    "    if root is None:\n",
    "        return None\n",
    "    maxd = None\n",
    "    currl = [root]\n",
    "    nextl = []\n",
    "    while currl:\n",
    "        for node in currl:\n",
    "            maxd = max(node.data, maxd)\n",
    "            if node.left:\n",
    "                nextl.append(node.left)\n",
    "            if node.right:\n",
    "                nextl.append(node.right)\n",
    "        currl = nextl\n",
    "        nextl = []\n",
    "    return maxd"
   ]
  },
  {
   "cell_type": "code",
   "execution_count": 109,
   "metadata": {},
   "outputs": [
    {
     "name": "stdout",
     "output_type": "stream",
     "text": [
      "105\n",
      "105\n"
     ]
    }
   ],
   "source": [
    "print get_max(STree1[0])\n",
    "print get_max_iter(STree1[0])"
   ]
  },
  {
   "cell_type": "code",
   "execution_count": 110,
   "metadata": {},
   "outputs": [],
   "source": [
    "def all_root_to_leaf_paths(root):\n",
    "    if root is None:\n",
    "        return []\n",
    "    lp = rp = []\n",
    "    if root.left:\n",
    "        lp = all_root_to_leaf_paths(root.left)\n",
    "    if root.right:\n",
    "        rp = all_root_to_leaf_paths(root.right)\n",
    "    paths = lp+rp\n",
    "    return [[root.data]+p for p in lp+rp] if paths else [[root.data]]\n"
   ]
  },
  {
   "cell_type": "code",
   "execution_count": 111,
   "metadata": {},
   "outputs": [
    {
     "data": {
      "text/plain": [
       "[[0, 1, 9, 11],\n",
       " [0, 1, 9, 19, 3, 21],\n",
       " [0, 1, 9, 19, 3, 73, 5],\n",
       " [0, 1, 9, 19, 3, 73, 105],\n",
       " [0, 1, 9, 19, 23],\n",
       " [0, 1, 20, 13],\n",
       " [0, 1, 20, 25],\n",
       " [0, 10, 15, 39],\n",
       " [0, 10, 15, 83],\n",
       " [0, 10, 18]]"
      ]
     },
     "execution_count": 111,
     "metadata": {},
     "output_type": "execute_result"
    }
   ],
   "source": [
    "all_root_to_leaf_paths(STree1[0])"
   ]
  },
  {
   "cell_type": "code",
   "execution_count": 112,
   "metadata": {},
   "outputs": [],
   "source": [
    "def is_mirror(r1, r2):\n",
    "    if r1 is None and r2 is None:\n",
    "        return True\n",
    "    if None in [r1, r2]:\n",
    "        return False\n",
    "    if r1.data != r2.data:\n",
    "        return False\n",
    "    return is_mirror(r1.left, r2.right) and is_mirror(r1.right, r2.left)"
   ]
  },
  {
   "cell_type": "code",
   "execution_count": 113,
   "metadata": {},
   "outputs": [],
   "source": [
    "t1 = {\n",
    "    1:{1: 2, 2: 3},\n",
    "    2:{1: 4, 2: 5}\n",
    "}\n",
    "t2 = {\n",
    "    1:{1:3, 2:2},\n",
    "    2:{1:5, 2:4}\n",
    "}\n",
    "tr1 = create_bt(t1)[1]\n",
    "tr2 = create_bt(t2)[1]"
   ]
  },
  {
   "cell_type": "code",
   "execution_count": 114,
   "metadata": {},
   "outputs": [
    {
     "data": {
      "text/plain": [
       "True"
      ]
     },
     "execution_count": 114,
     "metadata": {},
     "output_type": "execute_result"
    }
   ],
   "source": [
    "is_mirror(tr1, tr2)"
   ]
  },
  {
   "cell_type": "code",
   "execution_count": 115,
   "metadata": {},
   "outputs": [
    {
     "data": {
      "text/plain": [
       "False"
      ]
     },
     "execution_count": 115,
     "metadata": {},
     "output_type": "execute_result"
    }
   ],
   "source": [
    "is_mirror(tr1, tr1)"
   ]
  },
  {
   "cell_type": "code",
   "execution_count": 116,
   "metadata": {},
   "outputs": [],
   "source": [
    "def find_lca(root, n1, n2):\n",
    "    if not root:\n",
    "        return None\n",
    "    if root.data==n1 or root.data==n2:\n",
    "        return root\n",
    "    left = find_lca(root.left, n1, n2)\n",
    "    right = find_lca(root.right, n1, n2)\n",
    "    if left and right:\n",
    "        return root\n",
    "    return left if left else right\n",
    "    "
   ]
  },
  {
   "cell_type": "code",
   "execution_count": 117,
   "metadata": {},
   "outputs": [
    {
     "data": {
      "text/plain": [
       "23"
      ]
     },
     "execution_count": 117,
     "metadata": {},
     "output_type": "execute_result"
    }
   ],
   "source": [
    "find_lca(STree1[0], 23, 119).data"
   ]
  },
  {
   "cell_type": "code",
   "execution_count": 118,
   "metadata": {},
   "outputs": [],
   "source": [
    "def find_ancestors(root, n):\n",
    "    if not root:\n",
    "        return 0\n",
    "    if root.data==n or find_ancestors(root.left, n) or find_ancestors(root.right, n):\n",
    "        print root.data\n",
    "        return 1\n",
    "    return 0"
   ]
  },
  {
   "cell_type": "code",
   "execution_count": 119,
   "metadata": {},
   "outputs": [
    {
     "name": "stdout",
     "output_type": "stream",
     "text": [
      "23\n",
      "19\n",
      "9\n",
      "1\n",
      "0\n"
     ]
    },
    {
     "data": {
      "text/plain": [
       "1"
      ]
     },
     "execution_count": 119,
     "metadata": {},
     "output_type": "execute_result"
    }
   ],
   "source": [
    "find_ancestors(STree1[0], 23)"
   ]
  },
  {
   "cell_type": "code",
   "execution_count": 120,
   "metadata": {},
   "outputs": [],
   "source": [
    "def create_tree(preorder):\n",
    "    if not preorder:\n",
    "        return None\n",
    "    else:\n",
    "        root_data = preorder[0]\n",
    "        node = BinaryTree(root_data)\n",
    "        if root_data=='L' or len(preorder)==1:\n",
    "            return node\n",
    "        else:\n",
    "            subtree = preorder[1:]\n",
    "            l_index = subtree.find('L')\n",
    "            l = subtree[:l_index+1]\n",
    "            r = subtree[l_index+1:]\n",
    "            node.left = create_tree(l)\n",
    "            node.right = create_tree(r)\n",
    "            return node\n",
    "            \n",
    "                \n",
    "        "
   ]
  },
  {
   "cell_type": "code",
   "execution_count": 121,
   "metadata": {},
   "outputs": [
    {
     "data": {
      "text/plain": [
       "['I', 'L', 'I', 'L', 'L']"
      ]
     },
     "execution_count": 121,
     "metadata": {},
     "output_type": "execute_result"
    }
   ],
   "source": [
    "get_pre_rec(create_tree('ILILL'))"
   ]
  },
  {
   "cell_type": "code",
   "execution_count": 151,
   "metadata": {},
   "outputs": [],
   "source": [
    "def find_lca_n(root, v1, v2, lca=None, is_found1=None, is_found2=None):\n",
    "    if not root:\n",
    "        return lca, is_found1, is_found2\n",
    "    else:\n",
    "        if root.data==v1 and root.data==v2:\n",
    "            return root, True, True\n",
    "        l_lca, l_is_found1, l_is_found2 = find_lca_n(root.left, v1, v2, lca, is_found1, is_found2)\n",
    "        r_lca, r_is_found1, r_is_found2 = find_lca_n(root.right, v1, v2, lca, is_found1, is_found2)\n",
    "        if l_lca or r_lca:\n",
    "            return l_lca if l_lca else r_lca, True, True\n",
    "        elif (l_is_found1 and r_is_found2) or (l_is_found2 and r_is_found1):\n",
    "            return root, True, True\n",
    "        else:\n",
    "            is_found1 = l_is_found1 or r_is_found1\n",
    "            is_found2 = l_is_found2 or r_is_found2\n",
    "            if root.data==v1:\n",
    "                is_found1 = True\n",
    "            if root.data==v2:\n",
    "                is_found2 = True\n",
    "            if is_found1 and is_found2:\n",
    "                return root, True, True\n",
    "            else:\n",
    "                return None, is_found1, is_found2\n",
    "            "
   ]
  },
  {
   "cell_type": "code",
   "execution_count": null,
   "metadata": {},
   "outputs": [],
   "source": []
  }
 ],
 "metadata": {
  "kernelspec": {
   "display_name": "Python 3",
   "language": "python",
   "name": "python3"
  },
  "language_info": {
   "codemirror_mode": {
    "name": "ipython",
    "version": 3
   },
   "file_extension": ".py",
   "mimetype": "text/x-python",
   "name": "python",
   "nbconvert_exporter": "python",
   "pygments_lexer": "ipython3",
   "version": "3.9.1"
  }
 },
 "nbformat": 4,
 "nbformat_minor": 4
}
