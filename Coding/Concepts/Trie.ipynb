{
 "cells": [
  {
   "cell_type": "code",
   "execution_count": 27,
   "metadata": {},
   "outputs": [],
   "source": [
    "class TrieNode:\n",
    "    def __init__(self):\n",
    "        self.childs = dict([(chr(ord('a')+ i), None) for i in range(26)])\n",
    "        self.count  = 0\n",
    "        self.is_end = False\n",
    "        \n",
    "    def set_end(self):\n",
    "        self.is_end = True\n",
    "        \n",
    "    def get_end(self):\n",
    "        return self.is_end\n",
    "    \n",
    "    def update_count(self):\n",
    "        self.count += 1\n",
    "    \n",
    "    def get_count(self):\n",
    "        return self.count\n",
    "        \n",
    "    def has_child(self, letter):\n",
    "        return self.childs[letter] is not None\n",
    "    \n",
    "    def get_child(self, letter):\n",
    "        assert self.has_child(letter)\n",
    "        return self.childs[letter]\n",
    "    \n",
    "    def add_child(self, letter):\n",
    "        if not self.has_child(letter):\n",
    "            self.childs[letter] = TrieNode()\n",
    "        self.update_count()\n",
    "        return self.childs[letter]\n",
    "    \n",
    "class Trie:\n",
    "    def __init__(self):\n",
    "        self.root = self.get_node()\n",
    "\n",
    "    def get_node(self):\n",
    "        return TrieNode()\n",
    "\n",
    "    def insert_word(self, word):\n",
    "        curr = self.root\n",
    "        for letter in word:\n",
    "            curr = curr.add_child(letter)\n",
    "        curr.set_end()\n",
    "\n",
    "    def get_prefix(self, word):\n",
    "        prefixi = -1\n",
    "        curr = self.root\n",
    "        for i, s in enumerate(word):\n",
    "            curr = curr.get_child(s)\n",
    "            if curr.get_count() > 1:\n",
    "                prefixi = i\n",
    "        return word[:(prefixi+1)+1]\n",
    "\n",
    "def prefixes(strs):\n",
    "    root = Trie()\n",
    "    for s in strs:\n",
    "        root.insert_word(s)\n",
    "    for s in strs:\n",
    "        print root.get_prefix(s)\n",
    "        "
   ]
  },
  {
   "cell_type": "code",
   "execution_count": 28,
   "metadata": {},
   "outputs": [
    {
     "name": "stdout",
     "output_type": "stream",
     "text": [
      "pqrs\n",
      "pp\n",
      "ps\n",
      "q\n",
      "pqrs\n"
     ]
    }
   ],
   "source": [
    "strings = [\"pqrs\", \"pprt\", \"psst\", \"qqrs\", \"pqrs\"]\n",
    "\n",
    "prefixes(strings)"
   ]
  },
  {
   "cell_type": "code",
   "execution_count": null,
   "metadata": {},
   "outputs": [],
   "source": []
  }
 ],
 "metadata": {
  "kernelspec": {
   "display_name": "Python 3",
   "language": "python",
   "name": "python3"
  },
  "language_info": {
   "codemirror_mode": {
    "name": "ipython",
    "version": 3
   },
   "file_extension": ".py",
   "mimetype": "text/x-python",
   "name": "python",
   "nbconvert_exporter": "python",
   "pygments_lexer": "ipython3",
   "version": "3.9.1"
  }
 },
 "nbformat": 4,
 "nbformat_minor": 4
}
