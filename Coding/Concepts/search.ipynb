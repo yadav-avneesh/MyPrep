{
 "cells": [
  {
   "cell_type": "code",
   "execution_count": 4,
   "metadata": {},
   "outputs": [],
   "source": [
    "\"\"\"\n",
    "Binary search\n",
    "\n",
    "https://leetcode.com/discuss/general-discussion/786126/Python-Powerful-Ultimate-Binary-Search-Template.-Solved-many-problems\n",
    "\n",
    "The following code is the most generalized binary search template:\n",
    "\n",
    "def binary_search(array) -> int:\n",
    "    def condition(value) -> bool:\n",
    "        pass\n",
    "\n",
    "    left, right = min(search_space), max(search_space) # could be [0, n], [1, n] etc. Depends on problem\n",
    "    while left < right:\n",
    "        mid = left + (right - left) // 2\n",
    "        if condition(mid):\n",
    "            right = mid\n",
    "        else:\n",
    "            left = mid + 1\n",
    "    return left\n",
    "\n",
    "What's really nice of this template is that, for most of the binary search \n",
    "problems, we only need to modify three parts after copy-pasting this template, \n",
    "and never need to worry about corner cases and bugs in code any more:\n",
    "\n",
    "Correctly initialize the boundary variables left and right to specify search \n",
    "space. \n",
    "\n",
    "Only one rule: set up the boundary to include all possible elements;\n",
    "\n",
    "Decide return value. Is it return left or return left - 1?\n",
    "\n",
    "Remember this: after exiting the while loop, left is the minimal k satisfying \n",
    "the condition function;\n",
    "\n",
    "Design the condition function. This is the most difficult and most beautiful \n",
    "part. Needs lots of practice.\n",
    "\"\"\"\n",
    "\n",
    "class Test:\n",
    "    pass\n"
   ]
  },
  {
   "cell_type": "code",
   "execution_count": 2,
   "metadata": {},
   "outputs": [],
   "source": [
    "\n",
    "\n",
    "# https://leetcode.com/problems/find-first-and-last-position-of-element-in-sorted-array/solutions/702162/python-lets-implement-pythons-bisect-algorithm/\n",
    "\n",
    "from typing import List\n",
    "class Solution:\n",
    "    def searchRange(self, nums: List[int], target: int) -> List[int]:\n",
    "        left, right = self.bisect_left(nums, target), self.bisect_right(nums, target) - 1\n",
    "        return [\n",
    "            left if left < len(nums) and nums[left] == target else -1,\n",
    "            right if 0 <= right < len(nums) and nums[right] == target else -1\n",
    "        ]\n",
    "      \n",
    "    def bisect_left(self, a, x):\n",
    "        '''returns i where all a[:i] is less than x'''\n",
    "        lo, hi = 0, len(a)\n",
    "        while lo < hi:\n",
    "            mid = lo + (hi - lo) // 2\n",
    "            if a[mid] < x: lo = mid + 1\n",
    "            else: hi = mid\n",
    "        return lo\n",
    "    \n",
    "    def bisect_right(self, a, x):\n",
    "        '''returns i where all a[:i] is less than or equal to x'''\n",
    "        lo, hi = 0, len(a)\n",
    "        while lo < hi:\n",
    "            mid = lo + (hi - lo) // 2\n",
    "            if a[mid] > x: hi = mid\n",
    "            else: lo = mid + 1\n",
    "        return lo"
   ]
  },
  {
   "cell_type": "code",
   "execution_count": null,
   "metadata": {},
   "outputs": [],
   "source": [
    "\n",
    "# Iterative\n",
    "# Function to determine if a `target` exists in the sorted list `nums`\n",
    "# or not using a binary search algorithm\n",
    "def binarySearch(nums, target):\n",
    " \n",
    "    # search space is nums[left…right]\n",
    "    (left, right) = (0, len(nums) - 1)\n",
    " \n",
    "    # loop till the search space is exhausted\n",
    "    while left <= right:\n",
    " \n",
    "        # find the mid-value in the search space and\n",
    "        # compares it with the target\n",
    " \n",
    "        mid = (left + right) // 2\n",
    " \n",
    "        # overflow can happen. Use:\n",
    "        # mid = left + (right - left) / 2\n",
    "        # mid = right - (right - left) // 2\n",
    " \n",
    "        # target is found\n",
    "        if target == nums[mid]:\n",
    "            return mid\n",
    " \n",
    "        # discard all elements in the right search space,\n",
    "        # including the middle element\n",
    "        elif target < nums[mid]:\n",
    "            right = mid - 1\n",
    " \n",
    "        # discard all elements in the left search space,\n",
    "        # including the middle element\n",
    "        else:\n",
    "            left = mid + 1\n",
    " \n",
    "    # `target` doesn't exist in the list\n",
    "    return -1\n",
    " \n",
    "nums = [2, 5, 6, 8, 9, 10]\n",
    "target = 5\n",
    "index = binarySearch(nums, target)\n",
    "if index != -1:\n",
    "    print('Element found at index', index)\n",
    "else:\n",
    "    print('Element found not in the list')\n"
   ]
  },
  {
   "cell_type": "code",
   "execution_count": 3,
   "metadata": {},
   "outputs": [],
   "source": [
    "# https://www.geeksforgeeks.org/binary-search/\n",
    "# https://www.scaler.com/topics/binary-search-in-python/\n",
    "# https://www.geeksforgeeks.org/meta-binary-search-one-sided-binary-search/"
   ]
  },
  {
   "attachments": {},
   "cell_type": "markdown",
   "metadata": {},
   "source": [
    "Given an array of integers nums sorted in non-decreasing order, find the \n",
    "starting and ending position of a given target value. If target is not found in \n",
    "the array, return [-1, -1]. You must write an algorithm with O(log n) runtime \n",
    "complexity.\n",
    "\n",
    " \n",
    "\n",
    "Example 1:\n",
    "- Input: nums = [5,7,7,8,8,10], target = 8\n",
    "- Output: [3,4]\n",
    "\n",
    "Example 2:\n",
    "- Input: nums = [5,7,7,8,8,10], target = 6\n",
    "- Output: [-1,-1]\n",
    "\n",
    "Example 3:\n",
    "- Input: nums = [], target = 0\n",
    "- Output: [-1,-1]\n",
    " \n",
    "\n",
    "Constraints:\n",
    "- 0 <= nums.length <= 105\n",
    "- -109 <= nums[i] <= 109\n",
    "- nums is a non-decreasing array.\n",
    "- -109 <= target <= 109"
   ]
  },
  {
   "cell_type": "code",
   "execution_count": 6,
   "metadata": {},
   "outputs": [],
   "source": [
    "from typing import List\n",
    "class Solution:\n",
    "    def searchRange(self, nums: List[int], target: int) -> List[int]:\n",
    "        nl = len(nums)\n",
    "        def find_left():\n",
    "            l, r = 0, nl\n",
    "            while l < r:\n",
    "                mid = l + (r-l)//2\n",
    "                if nums[mid] < target:\n",
    "                    l = mid + 1\n",
    "                else:\n",
    "                    r = mid\n",
    "            return l\n",
    "        def find_right():\n",
    "            l, r = 0, nl\n",
    "            while l < r:\n",
    "                mid = l + (r-l)//2\n",
    "                if nums[mid] <= target:\n",
    "                    l = mid + 1\n",
    "                else:\n",
    "                    r = mid\n",
    "            return l\n",
    "        li = find_left()\n",
    "        ri = find_right() - 1\n",
    "        return [\n",
    "            li if li < nl and nums[li]==target else -1,\n",
    "            ri if 0 <= ri < nl and nums[ri]==target else -1\n",
    "        ]"
   ]
  },
  {
   "cell_type": "code",
   "execution_count": 6,
   "metadata": {},
   "outputs": [
    {
     "data": {
      "text/plain": [
       "'0000001010'"
      ]
     },
     "execution_count": 6,
     "metadata": {},
     "output_type": "execute_result"
    }
   ],
   "source": [
    "bin(10)[2:].zfill(10)"
   ]
  },
  {
   "cell_type": "code",
   "execution_count": 4,
   "metadata": {},
   "outputs": [
    {
     "data": {
      "text/plain": [
       "[0, 0, 0, 0, 0, 0, 1, 0, 1, 0]"
      ]
     },
     "execution_count": 4,
     "metadata": {},
     "output_type": "execute_result"
    }
   ],
   "source": [
    "[(10 >> i) & 1 for i in range(10)][::-1]"
   ]
  },
  {
   "cell_type": "code",
   "execution_count": 7,
   "metadata": {},
   "outputs": [
    {
     "data": {
      "text/plain": [
       "'0b1010'"
      ]
     },
     "execution_count": 7,
     "metadata": {},
     "output_type": "execute_result"
    }
   ],
   "source": [
    "bin(10)"
   ]
  },
  {
   "cell_type": "code",
   "execution_count": null,
   "metadata": {},
   "outputs": [],
   "source": []
  }
 ],
 "metadata": {
  "kernelspec": {
   "display_name": "Python 3",
   "language": "python",
   "name": "python3"
  },
  "language_info": {
   "codemirror_mode": {
    "name": "ipython",
    "version": 3
   },
   "file_extension": ".py",
   "mimetype": "text/x-python",
   "name": "python",
   "nbconvert_exporter": "python",
   "pygments_lexer": "ipython3",
   "version": "3.10.11"
  },
  "orig_nbformat": 4,
  "vscode": {
   "interpreter": {
    "hash": "916dbcbb3f70747c44a77c7bcd40155683ae19c65e1c03b4aa3499c5328201f1"
   }
  }
 },
 "nbformat": 4,
 "nbformat_minor": 2
}
