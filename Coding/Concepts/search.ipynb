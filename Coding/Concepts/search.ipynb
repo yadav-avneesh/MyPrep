{
 "cells": [
  {
   "cell_type": "code",
   "execution_count": 2,
   "metadata": {},
   "outputs": [],
   "source": [
    "\"\"\"\n",
    "Binary search\n",
    "\n",
    "https://leetcode.com/discuss/general-discussion/786126/Python-Powerful-Ultimate-Binary-Search-Template.-Solved-many-problems\n",
    "\n",
    "The following code is the most generalized binary search template:\n",
    "\n",
    "def binary_search(array) -> int:\n",
    "    def condition(value) -> bool:\n",
    "        pass\n",
    "\n",
    "    left, right = min(search_space), max(search_space) # could be [0, n], [1, n] etc. Depends on problem\n",
    "    while left < right:\n",
    "        mid = left + (right - left) // 2\n",
    "        if condition(mid):\n",
    "            right = mid\n",
    "        else:\n",
    "            left = mid + 1\n",
    "    return left\n",
    "What's really nice of this template is that, for most of the binary search problems, we only need to modify three parts after copy-pasting this template, and never need to worry about corner cases and bugs in code any more:\n",
    "\n",
    "Correctly initialize the boundary variables left and right to specify search space. Only one rule: set up the boundary to include all possible elements;\n",
    "Decide return value. Is it return left or return left - 1? Remember this: after exiting the while loop, left is the minimal k satisfying the condition function;\n",
    "Design the condition function. This is the most difficult and most beautiful part. Needs lots of practice.\n",
    "\n",
    "\"\"\"\n",
    "def foo():\n",
    "    pass"
   ]
  },
  {
   "cell_type": "code",
   "execution_count": 3,
   "metadata": {},
   "outputs": [],
   "source": [
    "# https://www.geeksforgeeks.org/binary-search/"
   ]
  },
  {
   "cell_type": "code",
   "execution_count": null,
   "metadata": {},
   "outputs": [],
   "source": []
  }
 ],
 "metadata": {
  "kernelspec": {
   "display_name": "Python 3",
   "language": "python",
   "name": "python3"
  },
  "language_info": {
   "codemirror_mode": {
    "name": "ipython",
    "version": 3
   },
   "file_extension": ".py",
   "mimetype": "text/x-python",
   "name": "python",
   "nbconvert_exporter": "python",
   "pygments_lexer": "ipython3",
   "version": "3.8.10"
  },
  "orig_nbformat": 4,
  "vscode": {
   "interpreter": {
    "hash": "916dbcbb3f70747c44a77c7bcd40155683ae19c65e1c03b4aa3499c5328201f1"
   }
  }
 },
 "nbformat": 4,
 "nbformat_minor": 2
}
