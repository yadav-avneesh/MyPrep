{
 "cells": [
  {
   "cell_type": "markdown",
   "metadata": {},
   "source": [
    "### Sorting Algos\n",
    "\n",
    "#### Two types\n",
    "- Comparison based : Best=O(NlogN), Worst=O(N^2)\n",
    "- Linear : Counting, Radix, Bucket\n",
    "\n",
    "#### Stable sorting algo\n",
    "A stable sorting algorithm is one that preserves the relative order of equal elements in the input when sorting."
   ]
  },
  {
   "cell_type": "code",
   "execution_count": 5,
   "metadata": {},
   "outputs": [],
   "source": [
    "A = [10, 2, 8, 9, 0, 100, 5, 20, 91, 10, 5, 23]"
   ]
  },
  {
   "cell_type": "markdown",
   "metadata": {},
   "source": [
    "#### Bubble sort\n",
    "\n",
    "- O(N^2)\n",
    "- bubble up the elm by comparisons\n",
    "- first position elm : check with all, if not correct order then swap"
   ]
  },
  {
   "cell_type": "markdown",
   "metadata": {},
   "source": [
    "#### Selection sort\n",
    "\n",
    "- O(n^2)\n",
    "- go over list, find min and swap with position i[0..N]\n",
    "- repeatedly select min elm, hench selection sort"
   ]
  },
  {
   "cell_type": "markdown",
   "metadata": {},
   "source": [
    "#### Insertion sort\n",
    "\n",
    "- keep removing one element from unsorted and move it to sorted half;\n",
    "- after k iterations, k+1 elms are sorted, \n",
    "- for x,\n",
    "    - <x | >x | x | rest, would become\n",
    "    - <x | x | >x | rest\n",
    "- O(N^2); Avg and worst\n",
    "- works efficiently on input almost sorted\n"
   ]
  },
  {
   "cell_type": "markdown",
   "metadata": {},
   "source": [
    "#### Merge sort \n",
    "- theta(NlogN)\n",
    "- D n C\n"
   ]
  },
  {
   "cell_type": "markdown",
   "metadata": {},
   "source": [
    "#### Heap Sort\n",
    "- theta(nlogn)\n",
    "- favorable worst case time"
   ]
  },
  {
   "cell_type": "markdown",
   "metadata": {},
   "source": [
    "#### Quick sort\n",
    "- choose an elm, typically left most\n",
    "- partition the array such that p1 has elm <= pivot and p2 has elms > pivot\n",
    "- recursively do the same for p1 and p2\n",
    "- best & Avg : O(nlogn), worst : O(n^2)\n",
    "- Randomized quick sort\n",
    "    - randomly choose the pivot, thus improving the prob to get nlogn complexity.\n",
    "        "
   ]
  },
  {
   "cell_type": "markdown",
   "metadata": {},
   "source": [
    "#### Tree sort\n",
    "- create a BST\n",
    "- do inorder\n",
    "- O(nlogn): avg, worst: O(n^2) if skewed tree"
   ]
  },
  {
   "cell_type": "markdown",
   "metadata": {},
   "source": [
    "#### Linear sorting algos\n",
    "\n",
    "Some assumptions for inputs, thus we don't need to do regular comparison for all.\n",
    "\n",
    "##### Counting\n",
    "- range for inputs is K\n",
    "- based on the range K, count and sort\n",
    "- Counting sort is a sorting technique based on keys between a specific range. \n",
    "- It works by counting the number of objects having distinct key values (kind of hashing). \n",
    "- Then doing some arithmetic to calculate the position of each object in the output sequence.\n",
    "\n",
    "###### Complexity\n",
    "- T:O(n+k),  \n",
    "    - worst case depending on k can go to n^2 or n^3, k is the max element, worst can occur for skewed data\n",
    "- S:O(n+k)\n",
    "\n",
    "###### Algo\n",
    "- Find out the maximum element from the given array; K\n",
    "- create a freuency array of `max+1` size, initial value as 0 for all.\n",
    "- create cumulative sum of freq array which tells actual position of each element in order. \n",
    "    - useful when it is not just single number but tuple that we are sorting, (2, \"A\"), (2, \"B\") : order matters now.\n",
    "- iterate from R -> L on input array, as this preserves the order, thus making it a stable sorting algo\n",
    "\n",
    "###### Pro\n",
    "- Generally performs faster than all comparison-based sorting algorithms. \n",
    "    - such as merge sort and quicksort, if the range of input is of the order of the number of input.\n",
    "- easy to code\n",
    "- a stable algorithm.\n",
    "\n",
    "###### Cons\n",
    "- doesn’t work on decimal values.\n",
    "- inefficient if the range of values to be sorted is very large.\n",
    "- not an In-place sorting algorithm, It uses extra space for sorting the array elements.\n",
    "\n",
    "###### Application\n",
    "- the cases where we have limited range items. For example, sort students by grades, sort a events by time, days, months, years, etc\n",
    "- It is used as a subroutine in Radix Sort; The idea of counting sort is used in Bucket Sort to divide elements into different buckets.\n",
    "\n",
    "\n",
    "##### Bucket or Bit\n",
    "Bucket sort is a sorting technique that involves dividing elements into various groups, or buckets. These buckets are formed by uniformly distributing the elements. Once the elements are divided into buckets, they can be sorted using any other sorting algorithm. Finally, the sorted elements are gathered together in an ordered fashion.\n",
    "\n",
    "###### Algo\n",
    "- Create n empty buckets (Or lists) and do the following for every array element arr[i].\n",
    "- Insert arr[i] into bucket[n*array[i]]\n",
    "    - Take each element from the input array.\n",
    "    - Multiply the element by the size of the bucket array (10 in this case). For example, for element 0.23, we get 0.23 * 10 = 2.3.\n",
    "    - Convert the result to an integer, which gives us the bucket index. In this case, 2.3 is converted to the integer 2.\n",
    "    - Insert the element into the bucket corresponding to the calculated index.\n",
    "    - Repeat these steps for all elements in the input array.\n",
    "    - For Multiple elms on same bucket, use LL in bucket or array\n",
    "- Sort individual buckets using insertion sort.\n",
    "- Concatenate all sorted buckets.\n",
    "\n",
    "###### Complexity: \n",
    "- TC: Best case: O(n+k) : when each bucket has ~equal elms\n",
    "- TC: Worst case: O(n^2) : when all elms in one bucket\n",
    "- SC: O(n+k)\n",
    "\n",
    "\n",
    "##### Radix\n",
    "Radix Sort is a linear sorting algorithm that sorts elements by processing them digit by digit. It is an efficient sorting algorithm for integers or strings with fixed-size keys. The key idea behind Radix Sort is to exploit the concept of place value. It assumes that sorting numbers digit by digit will eventually result in a fully sorted list. Radix Sort can be performed using different variations, such as Least Significant Digit (LSD) Radix Sort or Most Significant Digit (MSD) Radix Sort.\n",
    "\n",
    "###### Algo\n",
    "\n",
    "- Find max number : and then digits in same; \n",
    "    - Assume 3 digits : meaning we'll run some linear time stable sort for 3 places - unit, ten, hundread\n",
    "- Perform counting sort on the array based on the unit place digits.\n",
    "- Perform counting sort on the array based on the tens place digits.\n",
    "- Perform counting sort on the array based on the 100s place digits.\n",
    "\n",
    "###### Complexity\n",
    "- TC:O(d * (n + b)), where d is the number of digits, n is the number of elements, and b is the base of the number system being used.\n",
    "- In practical implementations, radix sort is often faster than other comparison-based sorting algorithms, such as quicksort or merge sort, for large datasets, especially when the keys have many digits. However, its time complexity grows linearly with the number of digits, and so it is not as efficient for small datasets.\n",
    "- SC : O(n + b), where n is the number of elements and b is the base of the number system. \n",
    "    - This space complexity comes from the need to create buckets for each digit value and to copy the elements back to the original array after each digit has been sorted."
   ]
  },
  {
   "cell_type": "markdown",
   "metadata": {},
   "source": [
    "#### topological sorting\n",
    "\n",
    "#### External sorting\n",
    "- Massive data in file\n",
    "- Smaller ram \n",
    "- sort in chunks then merge chunks and place output on the file"
   ]
  },
  {
   "cell_type": "code",
   "execution_count": null,
   "metadata": {},
   "outputs": [],
   "source": []
  }
 ],
 "metadata": {
  "kernelspec": {
   "display_name": "Python 3",
   "language": "python",
   "name": "python3"
  },
  "language_info": {
   "codemirror_mode": {
    "name": "ipython",
    "version": 3
   },
   "file_extension": ".py",
   "mimetype": "text/x-python",
   "name": "python",
   "nbconvert_exporter": "python",
   "pygments_lexer": "ipython3",
   "version": "3.9.1"
  }
 },
 "nbformat": 4,
 "nbformat_minor": 4
}
