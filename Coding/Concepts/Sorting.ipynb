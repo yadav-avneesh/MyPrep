{
 "cells": [
  {
   "cell_type": "markdown",
   "metadata": {},
   "source": [
    "### Sorting Algos\n",
    "\n",
    "- Two types\n",
    "    - Comparison based : Best=O(NlogN), Worst=O(N^2)\n",
    "    - Linear : Counting, Radix, Bucket\n",
    "        \n"
   ]
  },
  {
   "cell_type": "code",
   "execution_count": 5,
   "metadata": {},
   "outputs": [],
   "source": [
    "A = [10, 2, 8, 9, 0, 100, 5, 20, 91, 10, 5, 23]"
   ]
  },
  {
   "cell_type": "markdown",
   "metadata": {},
   "source": [
    "#### Bubble sort\n",
    "\n",
    "- O(N^2)\n",
    "- bubble up the elm by comparisons\n",
    "- first position elm : check with all, if not correct order then swap"
   ]
  },
  {
   "cell_type": "markdown",
   "metadata": {},
   "source": [
    "#### Selection sort\n",
    "\n",
    "- O(n^2)\n",
    "- go over list, find min and swap with position i[0..N]\n",
    "- repeatedly select min elm, hench selection sort"
   ]
  },
  {
   "cell_type": "markdown",
   "metadata": {},
   "source": [
    "#### Insertion sort\n",
    "\n",
    "- keep removing one element from unsorted and move it to sorted half;\n",
    "- after k iterations, k+1 elms are sorted, \n",
    "- for x,\n",
    "    - <x | >x | x | rest, would become\n",
    "    - <x | x | >x | rest\n",
    "- O(N^2); Avg and worst\n",
    "- works efficiently on input almost sorted\n"
   ]
  },
  {
   "cell_type": "markdown",
   "metadata": {},
   "source": [
    "#### Merge sort \n",
    "- theta(NlogN)\n",
    "- D n C\n"
   ]
  },
  {
   "cell_type": "markdown",
   "metadata": {},
   "source": [
    "#### Heap Sort\n",
    "- theta(nlogn)\n",
    "- favorable worst case time"
   ]
  },
  {
   "cell_type": "markdown",
   "metadata": {},
   "source": [
    "#### Quick sort\n",
    "- choose an elm, typically left most\n",
    "- partition the array such that p1 has elm <= pivot and p2 has elms > pivot\n",
    "- recursively do the same for p1 and p2\n",
    "- best & Avg : O(nlogn), worst : O(n^2)\n",
    "- Randomized quick sort\n",
    "    - randomly choose the pivot, thus improving the prob to get nlogn complexity.\n",
    "        "
   ]
  },
  {
   "cell_type": "markdown",
   "metadata": {},
   "source": [
    "#### Tree sort\n",
    "- create a BST\n",
    "- do inorder\n",
    "- O(nlogn): avg, worst: O(n^2) if skewed tree"
   ]
  },
  {
   "cell_type": "markdown",
   "metadata": {},
   "source": [
    "#### Linear sorting algos\n",
    "\n",
    "- some assumptions for inputs\n",
    "- Counting\n",
    "    - range for inputs is K\n",
    "    - based on the range K, count and sort\n",
    "    - Counting sort is a sorting technique based on keys between a specific range. \n",
    "    - It works by counting the number of objects having distinct key values (kind of hashing). \n",
    "    - Then doing some arithmetic to calculate the position of each object in the output sequence.\n",
    "- Bucket or Bit\n",
    "    - buckets\n",
    "- Radix\n",
    "    - base d for numbers, sort by LSdigit, and keep sorting till MSdigit"
   ]
  },
  {
   "cell_type": "markdown",
   "metadata": {},
   "source": [
    "#### topological sorting\n",
    "\n",
    "#### External sorting\n",
    "- Massive data in file\n",
    "- Smaller ram \n",
    "- sort in chunks then merge chunks and place output on the file"
   ]
  },
  {
   "cell_type": "code",
   "execution_count": null,
   "metadata": {},
   "outputs": [],
   "source": []
  }
 ],
 "metadata": {
  "kernelspec": {
   "display_name": "Python 3",
   "language": "python",
   "name": "python3"
  },
  "language_info": {
   "codemirror_mode": {
    "name": "ipython",
    "version": 3
   },
   "file_extension": ".py",
   "mimetype": "text/x-python",
   "name": "python",
   "nbconvert_exporter": "python",
   "pygments_lexer": "ipython3",
   "version": "3.9.1"
  }
 },
 "nbformat": 4,
 "nbformat_minor": 4
}
