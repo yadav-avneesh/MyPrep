{
 "cells": [
  {
   "attachments": {},
   "cell_type": "markdown",
   "metadata": {},
   "source": [
    "### DP\n",
    "\n",
    "* Top-down (memoization), bottom-up (tabulation)\n",
    "* Optimal substructure and overlapping sub problems\n",
    "* Exponential to polymonial time complexity, optimization problems, minimize, maximize etc.\n",
    "* Solution\n",
    " * State and transition; base state --> intermediate ---> end\n",
    " * Identify state\n",
    "    * Identify if it is a DP problem\n",
    "    * Decide a state expression with least parameters\n",
    "    * Formulate state relationship    \n",
    "    * Do tabulation (or add memoization)"
   ]
  },
  {
   "attachments": {},
   "cell_type": "markdown",
   "metadata": {},
   "source": [
    "* Step 1 : How to classify a problem as a Dynamic Programming Problem?\n",
    "\n",
    "    * Typically, all the problems that require to maximize or minimize certain quantity or counting problems that say to count the arrangements under certain condition or certain probability problems can be solved by using Dynamic Programming. All dynamic programming problems satisfy the overlapping subproblems property and most of the classic dynamic problems also satisfy the optimal substructure property. Once, we observe these properties in a given problem, be sure that it can be solved using DP.\n",
    "\n",
    "* Step 2 : Deciding the state\n",
    "    * DP problems are all about state and their transition. This is the most basic step which must be done very carefully because the state transition depends on the choice of state definition you make. So, let’s see what do we mean by the term “state”.\n",
    "\n",
    "    * State A state can be defined as the set of parameters that can uniquely identify a certain position or standing in the given problem. This set of parameters should be as small as possible to reduce state space. For example: \n",
    "        * In our famous Knapsack problem, we define our state by two parameters index and weight i.e DP[index][weight]. Here DP[index][weight] tells us the maximum profit it can make by taking items from range 0 to index having the capacity of sack to be weight. Therefore, here the parameters index and weight together can uniquely identify a subproblem for the knapsack problem.\n",
    "\n",
    "    * So, our first step will be deciding a state for the problem after identifying that the problem is a DP problem.\n",
    "\n",
    "    * As we know DP is all about using calculated results to formulate the final result. So, our next step will be to find a relation between previous states to reach the current state.\n",
    "\n",
    "* Step 3 : Formulating a relation among the states\n",
    "    * This part is the hardest part of for solving a DP problem and requires a lot of intuition, observation and practice. Let’s understand it by considering a sample problem\n",
    "\n"
   ]
  },
  {
   "attachments": {},
   "cell_type": "markdown",
   "metadata": {},
   "source": [
    "### References\n",
    "* https://www.topcoder.com/community/competitive-programming/tutorials/dynamic-programming-from-novice-to-advanced/\n",
    "* https://codeforces.com/blog/entry/67679\n",
    "* https://codeforces.com/blog/entry/43256\n",
    "* https://www.codechef.com/wiki/tutorial-dynamic-programming#:~:text=Dynamic%20programming%20(usually%20referred%20to,coding%20part%20is%20very%20easy.\n",
    "* http://jeffe.cs.illinois.edu/teaching/algorithms/book/03-dynprog.pdf\n",
    "* https://www.iarcs.org.in/inoi/online-study-material/topics/dp-tiling.php\n",
    "* https://www.geeksforgeeks.org/dynamic-programming/#concepts\n",
    "* "
   ]
  },
  {
   "attachments": {},
   "cell_type": "markdown",
   "metadata": {},
   "source": [
    "### Problems\n",
    "\n",
    "* Given a list of N coins, their values (V1, V2, … , VN), and the total sum S. Find the minimum number of coins the sum of which is S (we can use as many coins of one type as we want), or report that it’s not possible to select coins in such a way that they sum up to S.\n",
    "    * S -- tabulation of sum I\n",
    "    * S[n] = min(c + S[n-c] for c in coins)\n",
    "    \n",
    "* Longest incresing sequence, from a set of numbers A1, A2, A3, ...., AN\n",
    "    * S -- tabulation of seuqence of set of N\n",
    "    * S[n] = \n",
    "    \n",
    "* LCS; for two string\n",
    "\n",
    "* Edit distance\n",
    "\n",
    "* Min jumps to reach end of an array\n",
    "\n",
    "* Tiling\n",
    "\n",
    "* Shortest path"
   ]
  },
  {
   "attachments": {},
   "cell_type": "markdown",
   "metadata": {},
   "source": [
    "### Merge sum problem\n",
    "\n",
    "* Given an array of numbers, how to merge all numbers into one such that total merge cost is minimum, you can only merge adjacent numbers and replce the two numbers with its sum.\n",
    "* 2d dp\n",
    "\n",
    "T[n] = min(T[0....k] + T[k+1...n]) for k from 0 to n-1.\n",
    "\n",
    "* O(N^3)\n",
    "``` python\n",
    "for i in range(1, N):\n",
    "    for j in range(i, -1, -1):\n",
    "        prev_cost\n",
    "        for k in range(j, i):\n",
    "            cost[][] = min(prev_cost, cost[][] + cost[][] + sum[][]\n",
    "                           \n",
    "return cost[0][l-1]\n",
    "```\n",
    "\n",
    "\n",
    "\n",
    "\n"
   ]
  },
  {
   "attachments": {},
   "cell_type": "markdown",
   "metadata": {},
   "source": [
    "### Palindrome partition for a string\n",
    "\n",
    "* Given a string, what is the min number of partition that can be done such that all the partitions are palindrom\n",
    "* 2d DP\n",
    "\n",
    "* T[n] = Partition[0...k]  + T[k+1....n] + 1 : minimize for k from 0 to n\n",
    "\n",
    "\n",
    "\n"
   ]
  },
  {
   "attachments": {},
   "cell_type": "markdown",
   "metadata": {},
   "source": [
    "### Questions"
   ]
  },
  {
   "cell_type": "code",
   "execution_count": 2,
   "metadata": {},
   "outputs": [
    {
     "name": "stdout",
     "output_type": "stream",
     "text": [
      "413403\n"
     ]
    },
    {
     "data": {
      "text/plain": [
       "'\\nreference: \\n    https://tutorialspoint.dev/algorithm/dynamic-programming-algorithms/tiling-with-dominoes\\n'"
      ]
     },
     "execution_count": 2,
     "metadata": {},
     "output_type": "execute_result"
    }
   ],
   "source": [
    "# Tiling dominoes\n",
    "\n",
    "# Python 3 program to find no. of ways to fill a 3xn board with 2x1 dominoes.\n",
    "def countWays(n):\n",
    "    A = [0] * (n + 1)\n",
    "    B = [0] * (n + 1)\n",
    "    A[0] = 1\n",
    "    A[1] = 0\n",
    "    B[0] = 0\n",
    "    B[1] = 1\n",
    "    for i in range(2, n+1):\n",
    "        A[i] = A[i - 2] + 2 * B[i - 1]\n",
    "        B[i] = A[i - 1] + B[i - 2]\n",
    "    return A[n] \n",
    "n = 20\n",
    "print(countWays(n))\n",
    "\n",
    "\n",
    "class Solution:\n",
    "    # @param A : integer\n",
    "    # @return an integer\n",
    "    def solve(self, A):\n",
    "        X = [1, 0]\n",
    "        Y = [0, 1]\n",
    "        M = 1000000007\n",
    "        for i in range(2, A+1):\n",
    "            X.append(X[i-2]%M + 2*Y[i-1]%M)\n",
    "            Y.append(X[i-1]%M + Y[i-2]%M)\n",
    "        return X[A]%M\n",
    "\n",
    "'''\n",
    "reference: \n",
    "https://tutorialspoint.dev/algorithm/dynamic-programming-algorithms/tiling-with-dominoes\n",
    "'''\n"
   ]
  },
  {
   "attachments": {},
   "cell_type": "markdown",
   "metadata": {},
   "source": [
    "### \n",
    "x = a, b, d, b, a, b, f, g, d\n",
    "y = b, e, t, f,d, b, f, a, f, r\n",
    "\n",
    "z = 4; b d b a\n",
    "substring from x and subsequnece of y\n",
    "\n",
    "\n",
    "\n"
   ]
  },
  {
   "cell_type": "code",
   "execution_count": 41,
   "metadata": {},
   "outputs": [
    {
     "name": "stdout",
     "output_type": "stream",
     "text": [
      "(5, [0, 3, 8, 12, 14])\n",
      "(6, [10, 22, 33, 50, 60, 80])\n"
     ]
    }
   ],
   "source": [
    "def lis1(A):\n",
    "    l = len(A)\n",
    "    lis = [[1, [i]] for i in A]\n",
    "    for i in range(1, l):\n",
    "        for j in range(i):\n",
    "            if A[i] > A[j] and lis[j][0] + 1 > lis[i][0]:\n",
    "                lis[i][0] = lis[j][0] + 1\n",
    "                lis[i][1] = lis[j][1] + [A[i]]\n",
    "    maxlis, maxliselms = 0, []\n",
    "    for lisl, liselms in lis:\n",
    "        if lisl > maxlis:\n",
    "            maxlis = lisl\n",
    "            maxliselms = liselms\n",
    "    return maxlis, maxliselms\n",
    "print(lis1([0, 3, 8, 4, 12, 2, 10, 6, 14, 1, 9, 5]))\n",
    "print(lis1([10, 22, 9, 33, 21, 50, 41, 60, 80]))"
   ]
  },
  {
   "cell_type": "code",
   "execution_count": 94,
   "metadata": {},
   "outputs": [
    {
     "name": "stdout",
     "output_type": "stream",
     "text": [
      "(4, 'BDAB')\n",
      "\n",
      "------------- separator ------------------- \n",
      "\n",
      "(4, 'GTAB')\n"
     ]
    }
   ],
   "source": [
    "'''\n",
    "\n",
    "# X = A B C B D A B\n",
    "# Y = B D C A B A\n",
    "\n",
    "      \"\"  A  B  C  B  D  A  B\n",
    "  \"\"  0   0  0  0  0  0  0  0\n",
    "  B   0   0  1  1  1  1  1  1\n",
    "  D   0   0  1  1  1  2  2  2\n",
    "  C   0\n",
    "  A   0\n",
    "  B   0 \n",
    "  A   0\n",
    "\n",
    "LCS(s1, s2)\n",
    " 1) Say we are looking at last element;\n",
    " \n",
    " s1_l, s2_l\n",
    " say last are equal, then ans would be lcs of s1 s2 ecept last elements +1, meaning:: \n",
    "     s1_l == s2_l => Ans = 1 + LCS(s1:s1_l, s2:s2_l)\n",
    "\n",
    "  2) s1_l =/= s2_l\n",
    "  So ans would be max(LCS(s1, s2:s2_L), LCS(s1:s1_L, s2)), \n",
    "  essentially our 2d dp state has varies on length of s1 and s2;\n",
    "  current length is dependent on lcs from skipping last elements if these are equal or \n",
    "  lcs from including/skipping one of last element\n",
    "\n",
    "Basically we think in the direction of how the current new element in s1 or s2 is \n",
    "affected from prev states and solutions. For first letters, no previous states, \n",
    "so we conjure \"\" as prev and add 0 for those, thus covering previous state for these.\n",
    "Other option is to initialize these ourself or have conditional checking to fill in \n",
    "these out of bound values.\n",
    "\n",
    "LCS[s1:0, s2:0] = if equal then need LCS(s1:-1, s2:-1) or will need max(LCS s1:-1, s2), LCS(s1, s2:-1))\n",
    "\n",
    "If we want a substring from X and subsequence from Y => we solve in the similar manner except, if last char not equal then we just check against s2(Y):/-1 & s1(X) and for all such length of X.\n",
    "'''\n",
    "\n",
    "def lcs1(A, B):\n",
    "    rl, cl = len(A), len(B)\n",
    "    xrl, xcl = rl + 1, cl + 1\n",
    "    lcst = [[0 for i in range(xcl)] for j in range(xrl)]\n",
    "\n",
    "    for i, a in enumerate(A):\n",
    "        for j, b in enumerate(B):\n",
    "            if a == b:\n",
    "                lcst[i+1][j+1] = lcst[i][j] + 1\n",
    "            else:\n",
    "                lcst[i+1][j+1] = max(lcst[i+1][j], lcst[i][j+1])\n",
    "\n",
    "    # finding LCS\n",
    "    lcsl = lcst[rl][cl]\n",
    "    lcss = ''\n",
    "    cr, cc = rl, cl\n",
    "    count = 0\n",
    "    while count < lcsl:\n",
    "        if A[cr-1] == B[cc-1]:\n",
    "            lcss += A[cr-1]\n",
    "            count += 1\n",
    "            cr, cc = cr-1, cc-1\n",
    "        elif lcst[cr-1][cc] > lcst[cr][cc-1]:\n",
    "            cr, cc = cr-1, cc\n",
    "        else:\n",
    "            cr, cc = cr, cc-1\n",
    "    return lcsl, lcss[::-1]\n",
    "\n",
    "print(lcs1('ABCBDAB', 'BDCABA'))\n",
    "print(f'\\n------------- separator ------------------- \\n')\n",
    "print(lcs1('AGGTAB', 'GXTXAYB'))"
   ]
  }
 ],
 "metadata": {
  "kernelspec": {
   "display_name": "Python 3.9.1 64-bit",
   "language": "python",
   "name": "python3"
  },
  "language_info": {
   "codemirror_mode": {
    "name": "ipython",
    "version": 3
   },
   "file_extension": ".py",
   "mimetype": "text/x-python",
   "name": "python",
   "nbconvert_exporter": "python",
   "pygments_lexer": "ipython3",
   "version": "3.9.1"
  },
  "vscode": {
   "interpreter": {
    "hash": "81794d4967e6c3204c66dcd87b604927b115b27c00565d3d43f05ba2f3a2cb0d"
   }
  }
 },
 "nbformat": 4,
 "nbformat_minor": 4
}
