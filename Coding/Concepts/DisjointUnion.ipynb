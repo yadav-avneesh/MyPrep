{
 "cells": [
  {
   "cell_type": "markdown",
   "metadata": {},
   "source": [
    "### Disjoint Set (Union and Find)\n",
    "\n",
    "References:\n",
    "* [Tutorial 1](https://cp-algorithms.com/data_structures/disjoint_set_union.html)\n",
    "\n",
    "* This is a useful data strucuture for connectivity related info; such as network nodes or graph nodes. It has applications in various algorithms like \n",
    "    * Kruskal, \n",
    "    * network connectivity\n",
    "    * finding cycle in a graph\n",
    "    * LCA\n",
    "    * Game algos\n",
    "    * FSA (automaton equivalence)\n",
    "\n",
    "* Based on the theory of sets; But not same as Mathematical sets, doesn't have math set ops like difference, intersection etc.\n",
    "\n",
    "* All related elements are part of same set. Relation generally has to be reflective, symmetric & transitive; e.g. rail connectivity\n",
    "a -> a\n",
    "a -> b ==> b -> a\n",
    "a -> b -> c ==> a -> c\n",
    "\n",
    "* An element can't be part of multiple sets;\n",
    "* Three major operations; \n",
    "    * MAKE_SET(n); \n",
    "    * FIND_SET(a); \n",
    "    * UNION(a, b)\n",
    "\n",
    "* Implementation can be with tree or array;\n",
    "\n",
    "#### Implementations\n",
    "\n",
    "* Several variations like quick-find, quick-union (union by rank/size, with path compression)\n",
    "\n",
    "* Quick Find\n",
    "    * Implemented using array; Array directly stores set name;\n",
    "        * n elements; A[n] size array; A[i] stores set name for ith elements\n",
    "            * FIND(i) --> A[i] : O(1)\n",
    "            * Union(i, j) --> i under parent of j; and all other under parent of i to be changed to j : O(n<sup>2</sup>\n",
    "            \n",
    "* Quick Union\n",
    "    * Remove notion of set name;\n",
    "    * Inititally all elements are its own set;\n",
    "    * 0, 1, 2, 3, 4, 5, 6; n=6; Can also assume these as tree nodes.\n",
    "    * Union(i,j): One becomes parent of the other; (1)\n",
    "    * Find(i) : A[i]; Traverse parents to get to final parent\n",
    "    * (1) can have skewed structure with O(n) Find;\n",
    "    * Variations, parent represented by negative value;\n",
    "        * Union by size(#nodes)\n",
    "        * Union by rank\n",
    "        * Both of these are still O(logn) find; We could further use **Collapsed find**, **compressed path** ===> Amortized O(1) Find;\n",
    "\n",
    "\n"
   ]
  },
  {
   "cell_type": "markdown",
   "metadata": {},
   "source": [
    "### Fast Find\n",
    "\n",
    "n : [1, 2, 3, 4, 5, 6, 7, 8]\n",
    "\n",
    "find(3) --> 4\n",
    "\n",
    "union(0, 3) ---> "
   ]
  },
  {
   "cell_type": "code",
   "execution_count": 1,
   "metadata": {},
   "outputs": [],
   "source": [
    "class DSUFF:\n",
    "    def __init__(self):\n",
    "        self.dset = None\n",
    "    def make_set(self, n):\n",
    "        self.dset = range(n)\n",
    "    def find_set(self, i):\n",
    "        if i == self.dset[i]:\n",
    "            return i\n",
    "        return self.find_set(self.dset[i])\n",
    "    def union(self, i, j):\n",
    "        pi = self.find_set(i)\n",
    "        pj = self.find_set(j)\n",
    "        if pi==pj:\n",
    "            return\n",
    "        else:\n",
    "            for i in range(len(self.dset)):\n",
    "                if self.dset[i]==pi:\n",
    "                    self.dset[i] = pj       "
   ]
  },
  {
   "cell_type": "markdown",
   "metadata": {},
   "source": [
    "### Fast Union\n",
    "\n",
    "* rank/size\n",
    "* with path compression\n",
    "\n",
    "* -1 : negative indicates its parent;\n",
    "* -1 * rank/size; idicates number of nodes in set and -ve indicates parent\n",
    "* collapsed find is just memoizing the find_set to indicate parent directly "
   ]
  },
  {
   "cell_type": "code",
   "execution_count": 2,
   "metadata": {},
   "outputs": [],
   "source": [
    "import math\n",
    "class DSFU:\n",
    "    def __init__(self):\n",
    "        self.dset = None\n",
    "    def make_set(self, n):\n",
    "        self.dset = [-1]*n\n",
    "    def find_set(self, i):\n",
    "        pi = self.dset[i]\n",
    "        parent = pi if pi < 0 else self.find_set(pi)\n",
    "        self.dset[i] = parent\n",
    "        return parent\n",
    "    def union(self, i, j):\n",
    "        pi = self.find_set(i)\n",
    "        pj = self.find_set(j)\n",
    "        if pi != pj:\n",
    "            nodes = math.abs()\n",
    "            "
   ]
  },
  {
   "cell_type": "markdown",
   "metadata": {},
   "source": [
    "### Using auxillary space"
   ]
  },
  {
   "cell_type": "code",
   "execution_count": 2,
   "metadata": {},
   "outputs": [],
   "source": [
    "class DSU:\n",
    "    def __init__(self):\n",
    "        self.parent = []\n",
    "        self.rank = []\n",
    "    def make_set(self, n):\n",
    "        self.parent = range(n)\n",
    "        self.rank = [0]*n\n",
    "    def find_set(self, x):\n",
    "        parent = self.parent[x]\n",
    "        if parent == x:\n",
    "            return x\n",
    "        else:\n",
    "            self.parent[x] = self.find_set(parent)\n",
    "        return self.parent[x]\n",
    "    def union(self, x, y):\n",
    "        px = self.find_set(x)\n",
    "        py = self.find_set(y)\n",
    "        if px == py: # same set\n",
    "            return\n",
    "        if self.rank[px] < self.rank[py]:\n",
    "            self.parent[px] = py\n",
    "        elif self.rank[px] > self.rank[py]:\n",
    "            self.parent[py] = px\n",
    "        else:\n",
    "            self.parent[py] = px\n",
    "            self.rank[px] += 1"
   ]
  }
 ],
 "metadata": {
  "kernelspec": {
   "display_name": "Python 3.9.1 64-bit",
   "language": "python",
   "name": "python3"
  },
  "language_info": {
   "codemirror_mode": {
    "name": "ipython",
    "version": 3
   },
   "file_extension": ".py",
   "mimetype": "text/x-python",
   "name": "python",
   "nbconvert_exporter": "python",
   "pygments_lexer": "ipython3",
   "version": "3.9.1 (tags/v3.9.1:1e5d33e, Dec  7 2020, 17:08:21) [MSC v.1927 64 bit (AMD64)]"
  },
  "vscode": {
   "interpreter": {
    "hash": "81794d4967e6c3204c66dcd87b604927b115b27c00565d3d43f05ba2f3a2cb0d"
   }
  }
 },
 "nbformat": 4,
 "nbformat_minor": 4
}
