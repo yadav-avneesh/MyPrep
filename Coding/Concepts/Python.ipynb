{
 "cells": [
  {
   "cell_type": "code",
   "execution_count": 1,
   "metadata": {},
   "outputs": [
    {
     "name": "stdout",
     "output_type": "stream",
     "text": [
      "1\n",
      "1\n"
     ]
    }
   ],
   "source": [
    "### First digit of num\n",
    "import math\n",
    "num = 12121\n",
    "first = int(num / (10 ** int(math.log(num, 10))))\n",
    "print(first)\n",
    "\n",
    "## last digit\n",
    "print(num%10)"
   ]
  },
  {
   "cell_type": "code",
   "execution_count": null,
   "metadata": {},
   "outputs": [],
   "source": [
    "# https://www.geeksforgeeks.org/find-the-nth-row-in-pascals-triangle/\n",
    "\n",
    "def generateNthRow (N):\n",
    " \n",
    "    # nC0 = 1\n",
    "    prev = 1\n",
    "    print(prev, end = '')\n",
    " \n",
    "    for i in range(1, N + 1):\n",
    " \n",
    "        # nCr = (nCr-1 * (n - r + 1))/r\n",
    "        curr = (prev * (N - i + 1)) // i\n",
    "        print(\",\", curr, end = '')\n",
    "        prev = curr\n",
    " \n",
    "# Driver code\n",
    "N = 5\n",
    " \n",
    "# Function calling\n",
    "generateNthRow(N)\n",
    "\n",
    "\n",
    "n = 5\n",
    "r = 2\n",
    "total = 1\n",
    " \n",
    "# Calculate the value of n choose r using the binomial coefficient formula\n",
    "for i in range(1, r+1):\n",
    "    total = total * (n - r + i) / i\n",
    " \n",
    "print(int(total))"
   ]
  }
 ],
 "metadata": {
  "kernelspec": {
   "display_name": "Python 3.9.1 64-bit",
   "language": "python",
   "name": "python3"
  },
  "language_info": {
   "codemirror_mode": {
    "name": "ipython",
    "version": 3
   },
   "file_extension": ".py",
   "mimetype": "text/x-python",
   "name": "python",
   "nbconvert_exporter": "python",
   "pygments_lexer": "ipython3",
   "version": "3.9.1"
  },
  "orig_nbformat": 4,
  "vscode": {
   "interpreter": {
    "hash": "81794d4967e6c3204c66dcd87b604927b115b27c00565d3d43f05ba2f3a2cb0d"
   }
  }
 },
 "nbformat": 4,
 "nbformat_minor": 2
}
