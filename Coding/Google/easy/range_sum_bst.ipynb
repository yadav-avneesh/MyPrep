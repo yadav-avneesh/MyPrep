{
 "cells": [
  {
   "cell_type": "code",
   "execution_count": null,
   "metadata": {},
   "outputs": [],
   "source": [
    "\"\"\"\n",
    "Given the root node of a binary search tree and two integers low and high, return the sum of values of all nodes with a value in the inclusive range [low, high].\n",
    "\n",
    "Example 1:\n",
    "    Input: root = [10,5,15,3,7,null,18], low = 7, high = 15\n",
    "    Output: 32\n",
    "    Explanation: Nodes 7, 10, and 15 are in the range [7, 15]. 7 + 10 + 15 = 32.\n",
    "\n",
    "Example 2:\n",
    "    Input: root = [10,5,15,3,7,13,18,1,null,6], low = 6, high = 10\n",
    "    Output: 23\n",
    "    Explanation: Nodes 6, 7, and 10 are in the range [6, 10]. 6 + 7 + 10 = 23.\n",
    " \n",
    "\n",
    "Constraints:\n",
    "\n",
    "    The number of nodes in the tree is in the range [1, 2 * 104].\n",
    "    1 <= Node.val <= 105\n",
    "    1 <= low <= high <= 105\n",
    "    All Node.val are unique.\n",
    "\"\"\"\n",
    "\n",
    "from typing import Optional\n",
    "\n",
    "# Definition for a binary tree node.\n",
    "\n",
    "class TreeNode:\n",
    "    def __init__(self, val=0, left=None, right=None):\n",
    "        self.val = val\n",
    "        self.left = left\n",
    "        self.right = right\n",
    "\n",
    "class Solution:\n",
    "    def rangeSumBST(self, root: Optional[TreeNode], low: int, high: int) -> int:\n",
    "        if not root:\n",
    "            return 0\n",
    "        if root.val < low:\n",
    "            return self.rangeSumBST(root.right, low, high)\n",
    "        elif root.val > high:\n",
    "            return self.rangeSumBST(root.left, low, high)\n",
    "        else:\n",
    "            return root.val + self.rangeSumBST(root.left, low, root.val) + self.rangeSumBST(root.right, root.val, high) \n"
   ]
  }
 ],
 "metadata": {
  "language_info": {
   "name": "python"
  },
  "orig_nbformat": 4
 },
 "nbformat": 4,
 "nbformat_minor": 2
}
