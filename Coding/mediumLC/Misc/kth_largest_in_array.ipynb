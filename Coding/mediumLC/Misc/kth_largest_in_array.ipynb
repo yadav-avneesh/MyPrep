{
 "cells": [
  {
   "cell_type": "code",
   "execution_count": 1,
   "metadata": {},
   "outputs": [],
   "source": [
    "'''\n",
    "Given an integer array nums and an integer k, return the kth largest element in the array.\n",
    "\n",
    "Note that it is the kth largest element in the sorted order, not the kth distinct element.\n",
    "\n",
    "You must solve it in O(n) time complexity.\n",
    "\n",
    "\n",
    "Example 1:\n",
    "    Input: nums = [3,2,1,5,6,4], k = 2\n",
    "    Output: 5\n",
    "\n",
    "Example 2:\n",
    "    Input: nums = [3,2,3,1,2,4,5,5,6], k = 4\n",
    "    Output: 4\n",
    " \n",
    "\n",
    "Constraints:\n",
    "    1 <= k <= nums.length <= 105\n",
    "    -104 <= nums[i] <= 104\n",
    "\n",
    "TIP:\n",
    "    1. Quick select.\n",
    "    2. Choose a random array num, partion on both sides\n",
    "        a. Larger, smaller, equal\n",
    "    3. Check if k found else check in one of above arrays based on k\n",
    "    and len or arrays.\n",
    "    4. O(N) avg; worst case O(N^2) if pivot is not good.\n",
    "'''\n",
    "\n",
    "from random import choice\n",
    "class Solution:\n",
    "    def findKthSmallest(self, nums, k):\n",
    "        def quick_find(arr, kth):\n",
    "            pivot  = choice(arr)\n",
    "            larger = [num for num in arr if num > pivot]\n",
    "            smaller= [num for num in arr if num < pivot]\n",
    "            equal  = [num for num in arr if num == pivot]\n",
    "            if kth <= len(smaller):\n",
    "                return quick_find(smaller, kth)\n",
    "            if kth <= (len(smaller) + len(equal)):\n",
    "                return pivot\n",
    "            return quick_find(larger, kth - len(smaller)-len(equal))\n",
    "        return quick_find(nums, k)"
   ]
  },
  {
   "cell_type": "code",
   "execution_count": null,
   "metadata": {},
   "outputs": [],
   "source": [
    "from random import choice\n",
    "class Solution:\n",
    "    def findKthLargest(self, nums, k):\n",
    "        def quick_find(arr, kth):\n",
    "            pivot  = choice(arr)\n",
    "            larger = [num for num in arr if num > pivot]\n",
    "            smaller= [num for num in arr if num < pivot]\n",
    "            equal  = [num for num in arr if num == pivot]\n",
    "            if kth <= len(larger):\n",
    "                return quick_find(larger, kth)\n",
    "            if kth <= (len(larger) + len(equal)):\n",
    "                return pivot\n",
    "            return quick_find(smaller, kth - len(larger)-len(equal))\n",
    "        return quick_find(nums, k)"
   ]
  }
 ],
 "metadata": {
  "kernelspec": {
   "display_name": "Python 3",
   "language": "python",
   "name": "python3"
  },
  "language_info": {
   "codemirror_mode": {
    "name": "ipython",
    "version": 3
   },
   "file_extension": ".py",
   "mimetype": "text/x-python",
   "name": "python",
   "nbconvert_exporter": "python",
   "pygments_lexer": "ipython3",
   "version": "3.9.1"
  },
  "orig_nbformat": 4,
  "vscode": {
   "interpreter": {
    "hash": "81794d4967e6c3204c66dcd87b604927b115b27c00565d3d43f05ba2f3a2cb0d"
   }
  }
 },
 "nbformat": 4,
 "nbformat_minor": 2
}
