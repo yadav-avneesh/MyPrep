{
 "cells": [
  {
   "cell_type": "code",
   "execution_count": null,
   "metadata": {},
   "outputs": [],
   "source": [
    "\"\"\"\n",
    "\n",
    "You are given a string s. We want to partition the string into as many parts as possible so that each letter appears in at most one part.\n",
    "\n",
    "Note that the partition is done so that after concatenating all the parts in order, the resultant string should be s.\n",
    "\n",
    "Return a list of integers representing the size of these parts.\n",
    "\n",
    " \n",
    "\n",
    "Example 1:\n",
    "\n",
    "Input: s = \"ababcbacadefegdehijhklij\"\n",
    "Output: [9,7,8]\n",
    "Explanation:\n",
    "The partition is \"ababcbaca\", \"defegde\", \"hijhklij\".\n",
    "This is a partition so that each letter appears in at most one part.\n",
    "A partition like \"ababcbacadefegde\", \"hijhklij\" is incorrect, because it splits s into less parts.\n",
    "Example 2:\n",
    "\n",
    "Input: s = \"eccbbbbdec\"\n",
    "Output: [10]\n",
    " \n",
    "\n",
    "Constraints:\n",
    "\n",
    "1 <= s.length <= 500\n",
    "s consists of lowercase English letters.\n",
    "\n",
    "TIP:\n",
    "    A variation of merge interval\n",
    "\n",
    "\"\"\"\n",
    "class Solution:\n",
    "    def partitionLabels(self, s: str):\n",
    "        charidx = {}\n",
    "        for idx, char in enumerate(s):\n",
    "            if char in charidx:\n",
    "                charidx[char][-1] = idx\n",
    "            else:\n",
    "                charidx[char] = [idx, idx]\n",
    "        ranges = [[-1, -1]]\n",
    "        for start, end in charidx.values():\n",
    "            if start > ranges[-1][-1]:\n",
    "                ranges.append([start, end])\n",
    "            else:\n",
    "                ranges[-1][-1] = max(end, ranges[-1][-1])\n",
    "        return [end-start+1 for start, end in ranges[1:]]"
   ]
  },
  {
   "cell_type": "code",
   "execution_count": null,
   "metadata": {},
   "outputs": [],
   "source": [
    "class Solution:\n",
    "    def partitionLabels(self, s: str):\n",
    "        result = []\n",
    "        last = 0\n",
    "        prev_last = -1\n",
    "        for i in range(len(s)):\n",
    "            last_idx = s.rfind(s[i])\n",
    "            last = max(last_idx, last)\n",
    "\n",
    "            if i == last:\n",
    "                result.append(last - prev_last)\n",
    "                prev_last = last\n",
    "\n",
    "        return result\n"
   ]
  }
 ],
 "metadata": {
  "kernelspec": {
   "display_name": "Python 3",
   "language": "python",
   "name": "python3"
  },
  "language_info": {
   "name": "python",
   "version": "3.8.10"
  },
  "orig_nbformat": 4,
  "vscode": {
   "interpreter": {
    "hash": "916dbcbb3f70747c44a77c7bcd40155683ae19c65e1c03b4aa3499c5328201f1"
   }
  }
 },
 "nbformat": 4,
 "nbformat_minor": 2
}
