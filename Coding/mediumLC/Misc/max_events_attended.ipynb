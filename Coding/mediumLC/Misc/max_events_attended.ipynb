{
 "cells": [
  {
   "cell_type": "code",
   "execution_count": null,
   "metadata": {},
   "outputs": [],
   "source": [
    "\"\"\"\n",
    "You are given an array of events where events[i] = [startDayi, endDayi]. \n",
    "Every event i starts at startDayi and ends at endDayi. You can attend an \n",
    "event i at any day d where startTimei <= d <= endTimei. You can only \n",
    "attend one event at any time d. Return the maximum number of events you \n",
    "can attend.\n",
    "\n",
    " \n",
    "\n",
    "Example 1:\n",
    "    Input: \n",
    "        events = [[1,2],[2,3],[3,4]]\n",
    "    Output: \n",
    "        3\n",
    "    Explanation: You can attend all the three events. One way to attend \n",
    "    them all is as shown.\n",
    "        Attend the first event on day 1.\n",
    "        Attend the second event on day 2.\n",
    "    Attend the third event on day 3.\n",
    "\n",
    "Example 2:\n",
    "    Input: \n",
    "        events= [[1,2],[2,3],[3,4],[1,2]]\n",
    "    Output: \n",
    "        4\n",
    " \n",
    "\n",
    "Constraints:\n",
    "    1 <= events.length <= 105\n",
    "    events[i].length == 2\n",
    "    1 <= startDayi <= endDayi <= 105\n",
    "\"\"\"\n",
    "\n",
    "# 2 attempts that didn't work;\n",
    "# 0. Sort, count events attended based day value.\n",
    "# 1. Use PQ of day range so far; will not work for non-overlapping intervals;\n",
    "# 2. TIP\n",
    "# Solution\n",
    "# Keep traversing day wise, check if any complete event can be removed.\n",
    "# Keep adding events."
   ]
  }
 ],
 "metadata": {
  "language_info": {
   "name": "python"
  },
  "orig_nbformat": 4
 },
 "nbformat": 4,
 "nbformat_minor": 2
}
