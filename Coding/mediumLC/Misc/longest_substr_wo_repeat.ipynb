{
 "cells": [
  {
   "cell_type": "code",
   "execution_count": 1,
   "metadata": {},
   "outputs": [],
   "source": [
    "\"\"\"\n",
    "Given a string s, find the length of the longest substring without repeating characters.\n",
    "\n",
    " \n",
    "\n",
    "Example 1:\n",
    "\n",
    "Input: s = \"abcabcbb\"\n",
    "Output: 3\n",
    "Explanation: The answer is \"abc\", with the length of 3.\n",
    "Example 2:\n",
    "\n",
    "Input: s = \"bbbbb\"\n",
    "Output: 1\n",
    "Explanation: The answer is \"b\", with the length of 1.\n",
    "Example 3:\n",
    "\n",
    "Input: s = \"pwwkew\"\n",
    "Output: 3\n",
    "Explanation: The answer is \"wke\", with the length of 3.\n",
    "Notice that the answer must be a substring, \"pwke\" is a subsequence and not a substring.\n",
    " \n",
    "\n",
    "Constraints:\n",
    "\n",
    "0 <= s.length <= 5 * 104\n",
    "s consists of English letters, digits, symbols and spaces.\n",
    "\"\"\"\n",
    "class Solution:\n",
    "    def lengthOfLongestSubstring(self, s: str) -> int:\n",
    "        l = len(s)\n",
    "        ci = {}\n",
    "        mi, mx, ml = 0, 0, 0\n",
    "        idx = 0\n",
    "        while idx < l:\n",
    "            c = s[idx]\n",
    "            if c not in ci or ci[c] < mi :\n",
    "                ci[c] = idx\n",
    "            else:\n",
    "                ml = max(ml, idx - mi)\n",
    "                mi = ci[c] + 1\n",
    "                ci[c] = idx\n",
    "            idx += 1\n",
    "        return max(ml, idx-mi)"
   ]
  },
  {
   "cell_type": "code",
   "execution_count": 2,
   "metadata": {},
   "outputs": [],
   "source": [
    "class Solution:\n",
    "    def lengthOfLongestSubstring(self, s: str) -> int:\n",
    "        l = len(s)\n",
    "        seen = set()\n",
    "        ml = 0\n",
    "        idx = 0\n",
    "        mi = 0\n",
    "        while idx < l:\n",
    "            c = s[idx]\n",
    "            if c not in seen:\n",
    "                seen.add(c)\n",
    "            else:\n",
    "                ml = max(ml, idx - mi)\n",
    "                while (c in seen):\n",
    "                    seen.remove(s[mi])\n",
    "                    mi += 1\n",
    "                seen.add(c)\n",
    "            idx += 1\n",
    "        return max(ml, idx-mi)"
   ]
  },
  {
   "cell_type": "code",
   "execution_count": null,
   "metadata": {},
   "outputs": [],
   "source": []
  }
 ],
 "metadata": {
  "kernelspec": {
   "display_name": "Python 3.9.1 64-bit",
   "language": "python",
   "name": "python3"
  },
  "language_info": {
   "codemirror_mode": {
    "name": "ipython",
    "version": 3
   },
   "file_extension": ".py",
   "mimetype": "text/x-python",
   "name": "python",
   "nbconvert_exporter": "python",
   "pygments_lexer": "ipython3",
   "version": "3.9.1"
  },
  "orig_nbformat": 4,
  "vscode": {
   "interpreter": {
    "hash": "81794d4967e6c3204c66dcd87b604927b115b27c00565d3d43f05ba2f3a2cb0d"
   }
  }
 },
 "nbformat": 4,
 "nbformat_minor": 2
}
