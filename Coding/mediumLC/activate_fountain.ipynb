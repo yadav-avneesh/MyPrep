{
 "cells": [
  {
   "cell_type": "markdown",
   "metadata": {},
   "source": [
    "Fountains are installed at every position along a one-dimensional garden of length n. Array locations[] represents the coverage limit of these \n",
    "fountains. The ith fountain (where 1 ≤ i ≤ n) has a coverage limit of locations[i] that can range from the \n",
    "position max( (i - locations[i]), 1 ) to min( (i + locations[i] ), n ). \n",
    "In other words, the fountains do not reach outside the boundaries of the garden. In the beginning, all the fountains are switched off. \n",
    "Determine the minimum number of fountains that need to be activated to cover the n length garden by water.\n",
    "\n",
    " \n",
    "\n",
    "Example\n",
    "\n",
    "n = 3\n",
    "\n",
    "locations[] = {0, 2, 1}, then\n",
    "\n",
    " \n",
    "\n",
    "For position 1: locations[1] = 0, max( (1 - 0), 1) to min( (1+0), 3) gives range = 1 to 1\n",
    "\n",
    "For position 2: locations[2] = 2, max( (2 - 2), 1) to min( (2+2), 3) gives range = 1 to 3\n",
    "\n",
    "For position 3: locations[3] = 1, max( (3 - 1), 1) to min( (3+1), 3) gives range = 2 to 3\n",
    "\n",
    "\n",
    "\n",
    "For the entire length of this garden to be covered, only the fountain at position 2 needs to be activated.  \n",
    "\n",
    " \n",
    "\n",
    "Function Description\n",
    "\n",
    "Complete the function fountainActivation in the editor below.\n",
    "\n",
    " \n",
    "\n",
    "fountainActivation has the following parameter:\n",
    "\n",
    "    int locations[n]:  the fountain locations\n",
    "\n",
    "Returns\n",
    "\n",
    "    int: the minimum number of fountains that must be activated\n",
    "\n",
    " \n",
    "\n",
    "Constraints\n",
    "\n",
    "1 ≤ n ≤ 105\n",
    "0 ≤ locations[i] ≤ min( n,100) (where 1 ≤ i ≤ 105)\n",
    "\n",
    "\n",
    "Input Format For Custom Testing\n",
    "The first line contains an integer, n, the number of elements in locations.\n",
    "\n",
    "Each line i of the n subsequent lines (where 1 ≤ i ≤ n) contains an integer, locations[i].\n",
    "\n",
    "Sample Case 0\n",
    "Sample Input For Custom Testing\n",
    "\n",
    "STDIN     Function \n",
    "-----     -------- \n",
    "3    →    locations[] size n = 3\n",
    "1    →    locations[] = [ 1, 1, 1 ]\n",
    "1\n",
    "1\n",
    "Sample Output\n",
    "\n",
    "1\n",
    "Explanation\n",
    "\n",
    "\n",
    "\n",
    "Here, locations = {1, 1, 1}\n",
    "\n",
    " \n",
    "\n",
    "For position 1: locations[1] = 1, max( (1 - 1), 1) to min( (1+1), 3) gives range = 1 to 2\n",
    "\n",
    "For position 2: locations[2] = 1, max( (2 - 1), 1) to min( (2+1), 3) gives range = 1 to 3\n",
    "\n",
    "For position 3: locations[3] = 1, max( (3 - 1), 1) to min( (3+1), 3) gives range = 2 to 3\n",
    "\n",
    "If the 2nd fountain is active, the range from position 1 to 3 will be covered. The total number of fountains needed is "
   ]
  },
  {
   "cell_type": "code",
   "execution_count": 91,
   "metadata": {},
   "outputs": [],
   "source": [
    "def get_right(locs):\n",
    "    s, e = 1, len(locs)\n",
    "    ranges = [0]*e\n",
    "    for i,l in enumerate(locs):\n",
    "        ri, li = min(i+1+l, e), max(i+1-l, s)\n",
    "        ranges[li-1] = max(ri - li, ranges[li-1])\n",
    "    return ranges\n",
    "\n",
    "def get_active(ranges):\n",
    "    l = len(ranges)\n",
    "    s = 0\n",
    "    active = 0\n",
    "    while s < l:\n",
    "        active += 1\n",
    "        r = ranges[s]\n",
    "        ir = r + s\n",
    "        if ir >= l-1:\n",
    "            return active\n",
    "        elif ir == s:\n",
    "            s += 1\n",
    "            continue\n",
    "        mir = ir\n",
    "        j = ir + 1\n",
    "        ni = ir+1\n",
    "        while j > s:\n",
    "            cir = ranges[j] + j\n",
    "            if mir < cir:\n",
    "                mir = cir\n",
    "                ni = j\n",
    "            j -= 1\n",
    "        s = ni\n",
    "    return active\n",
    "\n",
    "def min_fountain(locations):\n",
    "    ranges = get_right(locations)\n",
    "    return get_active(ranges)\n"
   ]
  },
  {
   "cell_type": "code",
   "execution_count": 92,
   "metadata": {},
   "outputs": [
    {
     "name": "stdout",
     "output_type": "stream",
     "text": [
      "[3, 0, 0, 3, 0, 0, 0]\n",
      "[2, 1, 0]\n",
      "[0]\n",
      "[2, 0, 0, 0]\n",
      "[6, 0, 0, 3, 0, 0, 0]\n",
      "[6, 0, 0, 3, 0, 0, 0]\n",
      "[3, 0, 2, 6, 0, 0, 0, 2, 0, 0, 0, 0, 0, 0, 2, 0, 1, 0]\n",
      "18\n",
      "[0, 0, 0, 0, 0, 0, 0, 0, 0, 0]\n",
      "[3, 0, 4, 0, 4, 0, 0, 0, 0]\n"
     ]
    }
   ],
   "source": [
    "activate = get_right\n",
    "print(activate([2, 2, 0, 0, 0, 0, 3]))\n",
    "print(activate([1, 1, 1]))\n",
    "print(activate([1]))\n",
    "print(activate([2, 0, 0, 0]))\n",
    "print(activate([2, 2, 0, 0, 10, 0, 3]))\n",
    "print(activate([2, 2, 0, 0, 10, 0, 3]))\n",
    "print(activate([0, 2, 0, 1, 0, 0, 3, 0, 1, 0, 0, 0, 0, 0, 0, 1, 0, 1]))\n",
    "print(len([0, 2, 0, 1, 0, 0, 3, 0, 0, 0, 0, 0, 0, 0, 0, 0, 0, 1]))\n",
    "print(activate([0, 0, 0, 0, 0, 0, 0, 0, 0, 0]))\n",
    "print(activate([0, 2, 0, 0, 2, 0, 2, 0, 0]))"
   ]
  },
  {
   "cell_type": "code",
   "execution_count": 93,
   "metadata": {},
   "outputs": [
    {
     "name": "stdout",
     "output_type": "stream",
     "text": [
      "2\n",
      "1\n",
      "1\n",
      "2\n",
      "1\n",
      "1\n",
      "7\n",
      "18\n",
      "9\n",
      "3\n",
      "2\n"
     ]
    }
   ],
   "source": [
    "activate = min_fountain\n",
    "print(activate([2, 2, 0, 0, 0, 0, 3]))\n",
    "print(activate([1, 1, 1]))\n",
    "print(activate([1]))\n",
    "print(activate([2, 0, 0, 0]))\n",
    "print(activate([2, 2, 0, 0, 10, 0, 3]))\n",
    "print(activate([2, 2, 0, 0, 10, 0, 3]))\n",
    "print(activate([0, 2, 0, 1, 0, 0, 3, 0, 1, 0, 0, 0, 0, 0, 1, 0, 0, 1]))\n",
    "print(len([0, 2, 0, 1, 0, 0, 3, 0, 0, 0, 0, 0, 0, 0, 0, 0, 0, 1]))\n",
    "print(activate([0, 0, 0, 0, 0, 0, 0, 0, 0, 1]))\n",
    "print(activate([0, 2, 0, 0, 2, 0, 0, 0, 1, 0, 0, 0, 6, 0, 0, 0]))\n",
    "print(activate([0, 2, 0, 0, 2, 0, 2, 0, 0]))"
   ]
  },
  {
   "cell_type": "markdown",
   "metadata": {},
   "source": [
    "### Min array jumps"
   ]
  },
  {
   "cell_type": "code",
   "execution_count": 35,
   "metadata": {},
   "outputs": [],
   "source": [
    "def min_jumps(A):\n",
    "    l = len(A)\n",
    "    if l == 0:\n",
    "        return -1\n",
    "    elif l == 1:\n",
    "        return 0\n",
    "    elif max(A) == 0:\n",
    "        return -1\n",
    "    s = jump = 0\n",
    "    while s < l:\n",
    "        prev = s\n",
    "        maxr = -100\n",
    "        if A[s]+s >= l-1:\n",
    "            return jump + 1\n",
    "        for j in range(1, A[s]+1):\n",
    "            p = prev + j\n",
    "            i_reach = A[p] + p\n",
    "            if i_reach >= l-1:\n",
    "                return jump+2\n",
    "            elif i_reach > maxr:\n",
    "                s = p\n",
    "                maxr = i_reach\n",
    "        jump += 1\n",
    "        if s == prev:\n",
    "            return -1\n",
    "    return jump"
   ]
  },
  {
   "cell_type": "code",
   "execution_count": 36,
   "metadata": {},
   "outputs": [
    {
     "name": "stdout",
     "output_type": "stream",
     "text": [
      "-1\n",
      "4\n",
      "2\n",
      "2\n",
      "1\n"
     ]
    }
   ],
   "source": [
    "print(min_jumps([2, 0, 0, 1, 1, 4]))\n",
    "print(min_jumps([3, 3, 4, 1, 1, 1, 1, 2, 3, 9]))\n",
    "print(min_jumps(activate([0, 2, 0, 1, 0, 0, 3, 0, 0, 0])))\n",
    "print(min_jumps(activate([2, 2, 0, 0, 0, 0, 3])))\n",
    "print(min_jumps([2, 1, 0]))"
   ]
  },
  {
   "cell_type": "code",
   "execution_count": null,
   "metadata": {},
   "outputs": [],
   "source": []
  }
 ],
 "metadata": {
  "kernelspec": {
   "display_name": "Python 3",
   "language": "python",
   "name": "python3"
  },
  "language_info": {
   "codemirror_mode": {
    "name": "ipython",
    "version": 3
   },
   "file_extension": ".py",
   "mimetype": "text/x-python",
   "name": "python",
   "nbconvert_exporter": "python",
   "pygments_lexer": "ipython3",
   "version": "3.9.1"
  }
 },
 "nbformat": 4,
 "nbformat_minor": 4
}
