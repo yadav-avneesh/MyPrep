{
 "cells": [
  {
   "cell_type": "code",
   "execution_count": null,
   "metadata": {},
   "outputs": [],
   "source": [
    "\"\"\"\n",
    "Given a string s, partition s such that every substring of the partition is a \n",
    "palindrome. Return all possible palindrome partitioning of s.\n",
    "\n",
    "Example 1:\n",
    "    Input: s = \"aab\"\n",
    "    Output: [[\"a\",\"a\",\"b\"],[\"aa\",\"b\"]]\n",
    "\n",
    "Example 2:\n",
    "    Input: s = \"a\"\n",
    "    Output: [[\"a\"]]\n",
    " \n",
    "\n",
    "Constraints:\n",
    "    1 <= s.length <= 16\n",
    "    s contains only lowercase English letters.\n",
    "\"\"\"\n",
    "from typing import List\n",
    "class Solution:\n",
    "    def partition(self, s: str) -> List[List[str]]:\n",
    "        res = []\n",
    "        def is_palin(x):\n",
    "            l = 0\n",
    "            r = len(x) - 1\n",
    "            while l <= r:\n",
    "                if x[l] != x[r]:\n",
    "                    return False\n",
    "                l += 1\n",
    "                r -= 1\n",
    "            return True\n",
    "        def produce(idx, palin):\n",
    "            if idx >= len(s):\n",
    "                res.append(palin)\n",
    "                return\n",
    "            for j in range(idx, len(s)):\n",
    "                curr = s[idx:j+1]\n",
    "                if not is_palin(curr):\n",
    "                    continue\n",
    "                produce(j+1, [*palin, curr])\n",
    "        produce(0, [])\n",
    "        return res"
   ]
  }
 ],
 "metadata": {
  "kernelspec": {
   "display_name": "Python 3",
   "language": "python",
   "name": "python3"
  },
  "language_info": {
   "name": "python",
   "version": "3.8.10"
  },
  "orig_nbformat": 4
 },
 "nbformat": 4,
 "nbformat_minor": 2
}
