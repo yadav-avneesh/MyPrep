{
 "cells": [
  {
   "cell_type": "code",
   "execution_count": 4,
   "metadata": {},
   "outputs": [],
   "source": [
    "\"\"\"\n",
    "Given an array nums of distinct integers, return all the possible permutations. You can return the answer in any order.\n",
    "\n",
    " \n",
    "\n",
    "Example 1:\n",
    "\n",
    "Input: nums = [1,2,3]\n",
    "Output: [[1,2,3],[1,3,2],[2,1,3],[2,3,1],[3,1,2],[3,2,1]]\n",
    "Example 2:\n",
    "\n",
    "Input: nums = [0,1]\n",
    "Output: [[0,1],[1,0]]\n",
    "Example 3:\n",
    "\n",
    "Input: nums = [1]\n",
    "Output: [[1]]\n",
    " \n",
    "\n",
    "Constraints:\n",
    "\n",
    "1 <= nums.length <= 6\n",
    "-10 <= nums[i] <= 10\n",
    "All the integers of nums are unique.\n",
    "\n",
    "Notes:\n",
    "- Solution 1: backtrack and keep adding curr to permuted list in the remaining\n",
    "- Solution 2: Starting from [], and dfs over elms until none left, \n",
    "  while keep adding the result\n",
    "\"\"\"\n",
    "\n",
    "class Solution:\n",
    "    def permutel(self, nums, l):\n",
    "        if l == 1:\n",
    "            return [[nums[0]]]\n",
    "        results = []\n",
    "        for idx, num in enumerate(nums):\n",
    "            remaining = nums[:idx] + nums[idx+1:]\n",
    "            last_result = self.permutel(remaining, l-1)\n",
    "            for res in last_result:\n",
    "                res.append(num)\n",
    "            results.extend(last_result)\n",
    "        return results\n",
    "            \n",
    "    def permute(self, nums):\n",
    "        return self.permutel(nums, len(nums))\n"
   ]
  },
  {
   "cell_type": "code",
   "execution_count": null,
   "metadata": {},
   "outputs": [],
   "source": [
    "class Solution:        \n",
    "    def permute(self, nums):\n",
    "        def permutel(nums):\n",
    "            if not nums:\n",
    "                return [[]]\n",
    "            results = []\n",
    "            for idx, num in enumerate(nums):\n",
    "                restl = nums[:idx] + nums[idx+1:]\n",
    "                last_result = permutel(restl)\n",
    "                for res in last_result:\n",
    "                    results.append(res+[num])\n",
    "            return results\n",
    "        return permutel(nums)"
   ]
  }
 ],
 "metadata": {
  "kernelspec": {
   "display_name": "Python 3.9.1 64-bit",
   "language": "python",
   "name": "python3"
  },
  "language_info": {
   "codemirror_mode": {
    "name": "ipython",
    "version": 3
   },
   "file_extension": ".py",
   "mimetype": "text/x-python",
   "name": "python",
   "nbconvert_exporter": "python",
   "pygments_lexer": "ipython3",
   "version": "3.9.1"
  },
  "orig_nbformat": 4,
  "vscode": {
   "interpreter": {
    "hash": "81794d4967e6c3204c66dcd87b604927b115b27c00565d3d43f05ba2f3a2cb0d"
   }
  }
 },
 "nbformat": 4,
 "nbformat_minor": 2
}
