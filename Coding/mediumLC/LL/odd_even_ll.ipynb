{
 "cells": [
  {
   "cell_type": "code",
   "execution_count": 1,
   "metadata": {},
   "outputs": [],
   "source": [
    "\"\"\"\n",
    "Given the head of a singly linked list, group all the nodes with odd indices together followed by the nodes with even indices, and return the reordered list.\n",
    "\n",
    "The first node is considered odd, and the second node is even, and so on.\n",
    "\n",
    "Note that the relative order inside both the even and odd groups should remain as it was in the input.\n",
    "\n",
    "You must solve the problem in O(1) extra space complexity and O(n) time complexity.\n",
    "\n",
    " \n",
    "\n",
    "Example 1:\n",
    "\n",
    "\n",
    "Input: head = [1,2,3,4,5]\n",
    "Output: [1,3,5,2,4]\n",
    "Example 2:\n",
    "\n",
    "\n",
    "Input: head = [2,1,3,5,6,4,7]\n",
    "Output: [2,3,6,7,1,5,4]\n",
    " \n",
    "\n",
    "Constraints:\n",
    "\n",
    "The number of nodes in the linked list is in the range [0, 104].\n",
    "-106 <= Node.val <= 106\n",
    "\n",
    "TIP:\n",
    "    1. Simple LL walk;\n",
    "    2. Keep assigning next of odd even, at the end last_odd would point to first even.\n",
    "\n",
    "\"\"\"\n",
    "\n",
    "# Definition for singly-linked list.\n",
    "class ListNode:\n",
    "    def __init__(self, val=0, next=None):\n",
    "        self.val = val\n",
    "        self.next = next\n",
    "\n",
    "\n",
    "class Solution:\n",
    "    def oddEvenList(self, head):\n",
    "        if not head or (head and not head.next) or (head and head.next and not head.next.next):\n",
    "            return head\n",
    "        result  = head\n",
    "        lastOdd = None\n",
    "        evens   = head.next\n",
    "        odd, even = head, head.next\n",
    "        while odd and even:\n",
    "            odd_next, even_next = None, None\n",
    "            if even.next:\n",
    "                odd_next = even.next\n",
    "                if even.next.next:\n",
    "                    even_next = even.next.next\n",
    "                odd.next, even.next = odd_next, even_next\n",
    "                odd, even = odd.next, even.next\n",
    "                lastOdd = odd\n",
    "            else:\n",
    "                odd, even = odd_next, even_next\n",
    "        lastOdd.next = evens\n",
    "        return head"
   ]
  },
  {
   "cell_type": "code",
   "execution_count": null,
   "metadata": {},
   "outputs": [],
   "source": [
    "class Solution:\n",
    "    def oddEvenList(self, head):\n",
    "        if not head or (head and not head.next) or (head and head.next and not head.next.next):\n",
    "            return head\n",
    "        odd_curr  = head\n",
    "        even_head = head.next\n",
    "        even_curr = head.next\n",
    "        while odd_curr and even_curr and even_curr.next:\n",
    "            odd_next, even_next = None, None\n",
    "            if even_curr.next:\n",
    "                odd_next = even_curr.next\n",
    "                if even_curr.next.next:\n",
    "                    even_next = even_curr.next.next\n",
    "                odd_curr.next, even_curr.next = odd_next, even_next\n",
    "                odd_curr, even_curr = odd_next, even_next\n",
    "        odd_curr.next = even_head\n",
    "        return head"
   ]
  }
 ],
 "metadata": {
  "kernelspec": {
   "display_name": "Python 3",
   "language": "python",
   "name": "python3"
  },
  "language_info": {
   "codemirror_mode": {
    "name": "ipython",
    "version": 3
   },
   "file_extension": ".py",
   "mimetype": "text/x-python",
   "name": "python",
   "nbconvert_exporter": "python",
   "pygments_lexer": "ipython3",
   "version": "3.9.1"
  },
  "orig_nbformat": 4,
  "vscode": {
   "interpreter": {
    "hash": "81794d4967e6c3204c66dcd87b604927b115b27c00565d3d43f05ba2f3a2cb0d"
   }
  }
 },
 "nbformat": 4,
 "nbformat_minor": 2
}
