{
 "cells": [
  {
   "cell_type": "code",
   "execution_count": null,
   "metadata": {},
   "outputs": [],
   "source": [
    "\"\"\"\n",
    "Given the head of a linked list, return the list after sorting it in ascending order.\n",
    "\n",
    " \n",
    "\n",
    "Example 1:\n",
    "    Input: head = [4,2,1,3]\n",
    "    Output: [1,2,3,4]\n",
    "\n",
    "Example 2:\n",
    "    Input: head = [-1,5,3,4,0]\n",
    "    Output: [-1,0,3,4,5]\n",
    "\n",
    "Example 3:\n",
    "    Input: head = []\n",
    "    Output: []\n",
    " \n",
    "Constraints:\n",
    "    The number of nodes in the list is in the range [0, 5 * 104].\n",
    "    -105 <= Node.val <= 105\n",
    " \n",
    "\n",
    "Follow up: Can you sort the linked list in O(n logn) time and O(1) memory (i.e. constant space)?\n",
    "\n",
    "\"\"\"\n",
    "\n",
    "class ListNode:\n",
    "    def __init__(self, val=0, next=None):\n",
    "        self.val = val\n",
    "        self.next = next\n",
    "\n",
    "class Solution:\n",
    "    def sortList(self, head):\n",
    "        pass\n"
   ]
  }
 ],
 "metadata": {
  "kernelspec": {
   "display_name": "Python 3",
   "language": "python",
   "name": "python3"
  },
  "language_info": {
   "name": "python",
   "version": "3.8.10"
  },
  "orig_nbformat": 4,
  "vscode": {
   "interpreter": {
    "hash": "916dbcbb3f70747c44a77c7bcd40155683ae19c65e1c03b4aa3499c5328201f1"
   }
  }
 },
 "nbformat": 4,
 "nbformat_minor": 2
}
