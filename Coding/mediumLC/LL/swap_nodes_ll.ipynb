{
 "cells": [
  {
   "cell_type": "code",
   "execution_count": 1,
   "metadata": {},
   "outputs": [],
   "source": [
    "\"\"\"\n",
    "Given a linked list, swap every two adjacent nodes and return its head. You must solve the problem without modifying the values in the list's nodes (i.e., only nodes themselves may be changed.)\n",
    "\n",
    "Example 1:\n",
    "Input: head = [1,2,3,4]\n",
    "Output: [2,1,4,3]\n",
    "\n",
    "Example 2:\n",
    "Input: head = []\n",
    "Output: []\n",
    "\n",
    "Example 3:\n",
    "Input: head = [1]\n",
    "Output: [1]\n",
    " \n",
    "Constraints:\n",
    "The number of nodes in the list is in the range [0, 100].\n",
    "0 <= Node.val <= 100\n",
    "\"\"\"\n",
    "\n",
    "# Definition for singly-linked list.\n",
    "class ListNode:\n",
    "    def __init__(self, val=0, next=None):\n",
    "        self.val = val\n",
    "        self.next = next\n",
    "\n",
    "class Solution:\n",
    "    def swapPairs(self, head):\n",
    "        if not head or not head.next:\n",
    "            return head\n",
    "        new_head = head.next\n",
    "        prev_start = head\n",
    "        start = head\n",
    "        start.next.next, start.next = start, start.next.next\n",
    "        start = start.next\n",
    "        while start and start.next:\n",
    "            prev_start.next = start.next\n",
    "            prev_start = start\n",
    "            start.next.next, start.next = start, start.next.next\n",
    "            start = start.next\n",
    "        return new_head\n"
   ]
  },
  {
   "cell_type": "code",
   "execution_count": 3,
   "metadata": {},
   "outputs": [],
   "source": [
    "class Solution:\n",
    "    def swapPairs(self, head):\n",
    "        dummy = ListNode(None, head)\n",
    "        prev, cur = dummy, head\n",
    "        while cur and cur.next:\n",
    "            prev.next = cur.next\n",
    "            cur.next = cur.next.next\n",
    "            prev.next.next = cur\n",
    "            prev, cur = cur, cur.next\n",
    "        return dummy.next"
   ]
  },
  {
   "cell_type": "code",
   "execution_count": null,
   "metadata": {},
   "outputs": [],
   "source": []
  }
 ],
 "metadata": {
  "kernelspec": {
   "display_name": "Python 3.9.1 64-bit",
   "language": "python",
   "name": "python3"
  },
  "language_info": {
   "codemirror_mode": {
    "name": "ipython",
    "version": 3
   },
   "file_extension": ".py",
   "mimetype": "text/x-python",
   "name": "python",
   "nbconvert_exporter": "python",
   "pygments_lexer": "ipython3",
   "version": "3.9.1"
  },
  "orig_nbformat": 4,
  "vscode": {
   "interpreter": {
    "hash": "81794d4967e6c3204c66dcd87b604927b115b27c00565d3d43f05ba2f3a2cb0d"
   }
  }
 },
 "nbformat": 4,
 "nbformat_minor": 2
}
