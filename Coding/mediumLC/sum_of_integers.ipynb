{
 "cells": [
  {
   "cell_type": "code",
   "execution_count": 30,
   "metadata": {},
   "outputs": [],
   "source": [
    "'''\n",
    "Given two integers a and b, return the sum of the two integers without using the operators + and -.\n",
    "\n",
    " \n",
    "\n",
    "Example 1:\n",
    "\n",
    "Input: a = 1, b = 2\n",
    "Output: 3\n",
    "Example 2:\n",
    "\n",
    "Input: a = 2, b = 3\n",
    "Output: 5\n",
    " \n",
    "\n",
    "Constraints:\n",
    "\n",
    "-1000 <= a, b <= 1000\n",
    "\n",
    "\n",
    "TIP:\n",
    "    1. for any number a, b\n",
    "        a. a ^ b gives sum, a & b gives carry\n",
    "        b. for summing like this, keep adding carry until there is no carry\n",
    "\n",
    "\n",
    "'''\n",
    "\n",
    "class Solution:\n",
    "    def getSum(self, a: int, b: int) -> int:\n",
    "        if a == 0 or b == 0:\n",
    "            return a or b or 0\n",
    "        elif a > 0 and b > 0:\n",
    "            while b:\n",
    "                a, b = a ^ b, (a & b) << 1\n",
    "            return a\n",
    "        elif a < 0 and b < 0:\n",
    "            a, b = abs(a), abs(b)\n",
    "            while b:\n",
    "                a, b = a ^ b, (a & b) << 1\n",
    "            return -a\n",
    "        else:\n",
    "            A, B = abs(a), abs(b)\n",
    "            signC = 1 if (a > 0 and A > B) or (b > 0 and B > A) else -1\n",
    "            X = max(A, B)\n",
    "            Y = min(A, B)\n",
    "            while Y != 0:\n",
    "                X, Y = X ^ Y, (~X & Y) << 1\n",
    "            return signC*X\n",
    "            \n",
    "       \n"
   ]
  },
  {
   "cell_type": "code",
   "execution_count": 31,
   "metadata": {},
   "outputs": [
    {
     "data": {
      "text/plain": [
       "2"
      ]
     },
     "execution_count": 31,
     "metadata": {},
     "output_type": "execute_result"
    }
   ],
   "source": [
    "Solution().getSum(-14, 16)"
   ]
  },
  {
   "cell_type": "code",
   "execution_count": null,
   "metadata": {},
   "outputs": [],
   "source": [
    "### Think about this\n",
    "\n",
    "class Solution:\n",
    "    def getSum(self, a: int, b: int) -> int:\n",
    "        sign = False\n",
    "        carry = 0\n",
    "        if a <0 and b <0:\n",
    "            sign = True\n",
    "            a= abs(a)\n",
    "            b=abs(b)\n",
    "        elif a < 0:\n",
    "            a += 2**32\n",
    "        elif b < 0:\n",
    "            b+= 2**32\n",
    "       \n",
    "        while b != 0:\n",
    "            ans = a^b \n",
    "            carry = (a & b)  << 1\n",
    "            a, b = ans, carry\n",
    "       \n",
    "       \n",
    "        a= a if a < 2**31 else a-2**32\n",
    "        return -a if sign else a\n"
   ]
  }
 ],
 "metadata": {
  "kernelspec": {
   "display_name": "Python 3",
   "language": "python",
   "name": "python3"
  },
  "language_info": {
   "codemirror_mode": {
    "name": "ipython",
    "version": 3
   },
   "file_extension": ".py",
   "mimetype": "text/x-python",
   "name": "python",
   "nbconvert_exporter": "python",
   "pygments_lexer": "ipython3",
   "version": "3.9.1"
  },
  "orig_nbformat": 4,
  "vscode": {
   "interpreter": {
    "hash": "81794d4967e6c3204c66dcd87b604927b115b27c00565d3d43f05ba2f3a2cb0d"
   }
  }
 },
 "nbformat": 4,
 "nbformat_minor": 2
}
