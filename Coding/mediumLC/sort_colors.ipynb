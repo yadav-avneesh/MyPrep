{
 "cells": [
  {
   "cell_type": "code",
   "execution_count": null,
   "metadata": {},
   "outputs": [],
   "source": [
    "\"\"\"\n",
    "Given an array nums with n objects colored red, white, or blue, sort them in-place so that objects of the same color are adjacent, with the colors in the order red, white, and blue.\n",
    "\n",
    "We will use the integers 0, 1, and 2 to represent the color red, white, and blue, respectively.\n",
    "\n",
    "You must solve this problem without using the library's sort function.\n",
    "\n",
    " \n",
    "\n",
    "Example 1:\n",
    "\n",
    "Input: nums = [2,0,2,1,1,0]\n",
    "Output: [0,0,1,1,2,2]\n",
    "\n",
    "\n",
    "Example 2:\n",
    "Input: nums = [2,0,1]\n",
    "Output: [0,1,2]\n",
    " \n",
    "Example 3:\n",
    "Input: nums = \n",
    "\n",
    "\n",
    "Example 4:\n",
    "Input: nums = [2, 0, 2, 1, 1, 0]\n",
    "\n",
    "\n",
    "Constraints:\n",
    "\n",
    "    n == nums.length\n",
    "    1 <= n <= 300\n",
    "    nums[i] is either 0, 1, or 2.\n",
    "\n",
    "\n",
    "Follow up: Could you come up with a one-pass algorithm using only constant extra space?\n",
    "\n",
    "Concept:\n",
    "- Solution 1\n",
    "    - Keep track of zero pointer, two pointer, which will be at either of the end;\n",
    "    - iterate from L -> R, replace with 0 if 0 found and curr > zero_pointer, replace with two if two found and curr < two_pointer\n",
    "\n",
    "\"\"\"\n",
    "class Solution:\n",
    "    def sortColors(self, nums):\n",
    "        \"\"\"\n",
    "        Do not return anything, modify nums in-place instead.\n",
    "        \"\"\"\n",
    "        l = len(nums)\n",
    "        zero = 0\n",
    "        two  = l-1\n",
    "        curr = 0\n",
    "        while curr < l:\n",
    "            if nums[curr] == 0 and curr > zero:\n",
    "                nums[zero], nums[curr] = nums[curr], nums[zero]\n",
    "                zero += 1\n",
    "            elif nums[curr] == 2 and curr < two:\n",
    "                nums[two], nums[curr] = nums[curr], nums[two]\n",
    "                two -= 1\n",
    "            else:\n",
    "                curr += 1\n",
    "        \n",
    "\n",
    "\n",
    "\n",
    "\n",
    "\n"
   ]
  }
 ],
 "metadata": {
  "kernelspec": {
   "display_name": "Python 3.9.1 64-bit",
   "language": "python",
   "name": "python3"
  },
  "language_info": {
   "name": "python",
   "version": "3.9.1"
  },
  "orig_nbformat": 4,
  "vscode": {
   "interpreter": {
    "hash": "81794d4967e6c3204c66dcd87b604927b115b27c00565d3d43f05ba2f3a2cb0d"
   }
  }
 },
 "nbformat": 4,
 "nbformat_minor": 2
}
