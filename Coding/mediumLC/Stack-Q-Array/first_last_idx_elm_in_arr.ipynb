{
 "cells": [
  {
   "attachments": {},
   "cell_type": "markdown",
   "metadata": {},
   "source": [
    "### Find First and Last Position of Element in Sorted Array\n",
    "\n",
    "Given an array of integers nums sorted in non-decreasing order, find the \n",
    "starting and ending position of a given target value. If target is not found in \n",
    "the array, return [-1, -1]. You must write an algorithm with O(log n) runtime \n",
    "complexity.\n",
    "\n",
    " \n",
    "\n",
    "Example 1:\n",
    "- Input: nums = [5,7,7,8,8,10], target = 8\n",
    "- Output: [3,4]\n",
    "\n",
    "Example 2:\n",
    "- Input: nums = [5,7,7,8,8,10], target = 6\n",
    "- Output: [-1,-1]\n",
    "\n",
    "Example 3:\n",
    "- Input: nums = [], target = 0\n",
    "- Output: [-1,-1]\n",
    " \n",
    "\n",
    "Constraints:\n",
    "- 0 <= nums.length <= 105\n",
    "- -109 <= nums[i] <= 109\n",
    "- nums is a non-decreasing array.\n",
    "- -109 <= target <= 109"
   ]
  },
  {
   "cell_type": "code",
   "execution_count": 1,
   "metadata": {},
   "outputs": [],
   "source": [
    "from typing import List\n",
    "class Solution:\n",
    "    def searchRange(self, nums: List[int], target: int) -> List[int]:\n",
    "        nl = len(nums)\n",
    "        def find_left():\n",
    "            l, r = 0, nl\n",
    "            while l < r:\n",
    "                mid = l + (r-l)//2\n",
    "                if nums[mid] < target:\n",
    "                    l = mid + 1\n",
    "                else:\n",
    "                    r = mid\n",
    "            return l\n",
    "        def find_right():\n",
    "            l, r = 0, nl\n",
    "            while l < r:\n",
    "                mid = l + (r-l)//2\n",
    "                if nums[mid] <= target:\n",
    "                    l = mid + 1\n",
    "                else:\n",
    "                    r = mid\n",
    "            return l\n",
    "        li = find_left()\n",
    "        ri = find_right() - 1\n",
    "        return [\n",
    "            li if li < nl and nums[li]==target else -1,\n",
    "            ri if 0 <= ri < nl and nums[ri]==target else -1\n",
    "        ]\n"
   ]
  },
  {
   "cell_type": "code",
   "execution_count": null,
   "metadata": {},
   "outputs": [],
   "source": []
  }
 ],
 "metadata": {
  "kernelspec": {
   "display_name": "Python 3",
   "language": "python",
   "name": "python3"
  },
  "language_info": {
   "codemirror_mode": {
    "name": "ipython",
    "version": 3
   },
   "file_extension": ".py",
   "mimetype": "text/x-python",
   "name": "python",
   "nbconvert_exporter": "python",
   "pygments_lexer": "ipython3",
   "version": "3.8.10"
  },
  "orig_nbformat": 4
 },
 "nbformat": 4,
 "nbformat_minor": 2
}
