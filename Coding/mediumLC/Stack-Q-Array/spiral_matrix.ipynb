{
 "cells": [
  {
   "cell_type": "code",
   "execution_count": null,
   "metadata": {},
   "outputs": [],
   "source": [
    "\"\"\"\n",
    "Given an m x n matrix, return all elements of the matrix in spiral order.\n",
    "\n",
    "TIP:\n",
    "    1. Follow R, C; Decrement and append.\n",
    "    2. Remove whole row; col;\n",
    "        a. https://leetcode.com/problems/spiral-matrix/solutions/3039684/python-solution-explained-step-by-step-with-illustrations/\n",
    "\n",
    "\"\"\"\n",
    "\n",
    "class Solution:\n",
    "    def spiralOrder(self, matrix):\n",
    "        result = []\n",
    "        r = len(matrix)\n",
    "        c = len(matrix[0])\n",
    "        total = r*c\n",
    "        endr = r - 1\n",
    "        endc = c - 1\n",
    "        startr = startc = 0\n",
    "        while True:\n",
    "            for j in range(startc, endc+1):\n",
    "                result.append(matrix[startr][j])\n",
    "            startr += 1\n",
    "            if len(result) == total:\n",
    "                break\n",
    "            for i in range(startr, endr+1):\n",
    "                result.append(matrix[i][endc])\n",
    "            endc -= 1\n",
    "            if len(result) == total:\n",
    "                break\n",
    "            for j in range(endc, startc-1, -1):\n",
    "                result.append(matrix[endr][j])\n",
    "            endr -= 1\n",
    "            if len(result) == total:\n",
    "                break\n",
    "            for i in range(endr, startr-1, -1):\n",
    "                result.append(matrix[i][startc])\n",
    "            startc += 1\n",
    "            if len(result) == total:\n",
    "                break\n",
    "        return result"
   ]
  }
 ],
 "metadata": {
  "language_info": {
   "name": "python"
  },
  "orig_nbformat": 4
 },
 "nbformat": 4,
 "nbformat_minor": 2
}
