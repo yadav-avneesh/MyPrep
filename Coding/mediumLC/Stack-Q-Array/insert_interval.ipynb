{
 "cells": [
  {
   "cell_type": "code",
   "execution_count": null,
   "metadata": {},
   "outputs": [],
   "source": [
    "\"\"\"\n",
    "You are given an array of non-overlapping intervals intervals where intervals[i] = [starti, endi] represent the start and the end of the ith interval and intervals is sorted in ascending order by starti. You are also given an interval newInterval = [start, end] that represents the start and end of another interval.\n",
    "\n",
    "Insert newInterval into intervals such that intervals is still sorted in ascending order by starti and intervals still does not have any overlapping intervals (merge overlapping intervals if necessary).\n",
    "\n",
    "Return intervals after the insertion.\n",
    "\n",
    " \n",
    "\n",
    "Example 1:\n",
    "    Input: intervals = [[1,3],[6,9]], newInterval = [2,5]\n",
    "    Output: [[1,5],[6,9]]\n",
    "\n",
    "Example 2:\n",
    "    Input: intervals = [[1,2],[3,5],[6,7],[8,10],[12,16]], newInterval = [4,8]\n",
    "    Output: [[1,2],[3,10],[12,16]]\n",
    "    Explanation: Because the new interval [4,8] overlaps with [3,5],[6,7],[8,10].\n",
    " \n",
    "\n",
    "Constraints:\n",
    "    0 <= intervals.length <= 104\n",
    "    intervals[i].length == 2\n",
    "    0 <= starti <= endi <= 105\n",
    "    intervals is sorted by starti in ascending order.\n",
    "    newInterval.length == 2\n",
    "    0 <= start <= end <= 105\n",
    "\n",
    "TIP:\n",
    "    Watch corner cases carefully !!\n",
    "\n",
    "\"\"\"\n",
    "\n",
    "class Solution:\n",
    "    def insert(self, intervals, newInterval):\n",
    "        result = []\n",
    "        ns, ne = newInterval\n",
    "        idx = 0\n",
    "        while idx < len(intervals) and ns > intervals[idx][1]:\n",
    "            result.append(intervals[idx])\n",
    "            idx += 1\n",
    "        result.append(newInterval)\n",
    "        for interval in intervals[idx:]:\n",
    "            cs, ce = interval\n",
    "            if cs > result[-1][-1]:\n",
    "                result.append((cs, ce))\n",
    "            else:\n",
    "                ps, pe = result.pop()\n",
    "                result.append((min(cs, ps), max(ce, pe)))\n",
    "        return result\n"
   ]
  }
 ],
 "metadata": {
  "language_info": {
   "name": "python"
  },
  "orig_nbformat": 4
 },
 "nbformat": 4,
 "nbformat_minor": 2
}
