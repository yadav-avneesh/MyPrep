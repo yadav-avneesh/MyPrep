{
 "cells": [
  {
   "cell_type": "code",
   "execution_count": null,
   "metadata": {},
   "outputs": [],
   "source": [
    "\"\"\"\n",
    "Given a circular integer array nums (i.e., the next element of nums[nums.length - 1] is nums[0]), return the next greater number for every element in nums.\n",
    "\n",
    "The next greater number of a number x is the first greater number to its traversing-order next in the array, which means you could search circularly to find its next greater number. If it doesn't exist, return -1 for this number.\n",
    "\n",
    "Example 1:\n",
    "    Input: nums = [1,2,1]\n",
    "    Output: [2,-1,2]\n",
    "    Explanation: The first 1's next greater number is 2; \n",
    "    The number 2 can't find next greater number. \n",
    "    The second 1's next greater number needs to search circularly, which is also 2.\n",
    "\n",
    "Example 2:\n",
    "    Input: nums = [1,2,3,4,3]\n",
    "    Output: [2,3,4,-1,4]\n",
    " \n",
    "\n",
    "Constraints:\n",
    "    1 <= nums.length <= 104\n",
    "    -109 <= nums[i] <= 109\n",
    "\"\"\"\n",
    "\n",
    "class Solution:\n",
    "    def nextGreaterElements(self, nums):\n",
    "        nl  = len(nums)\n",
    "        res = [-1] * nl\n",
    "        stk = []\n",
    "        for idx, num in enumerate(nums):\n",
    "            while stk and nums[stk[-1]] < num:\n",
    "                res[stk.pop()] = num\n",
    "            stk.append(idx)\n",
    "        for idx, num in enumerate(nums):\n",
    "            while stk and nums[stk[-1]] < num and idx < stk[-1]:\n",
    "                res[stk.pop()] = num\n",
    "        return res"
   ]
  }
 ],
 "metadata": {
  "kernelspec": {
   "display_name": "Python 3",
   "language": "python",
   "name": "python3"
  },
  "language_info": {
   "name": "python",
   "version": "3.8.10"
  },
  "orig_nbformat": 4,
  "vscode": {
   "interpreter": {
    "hash": "916dbcbb3f70747c44a77c7bcd40155683ae19c65e1c03b4aa3499c5328201f1"
   }
  }
 },
 "nbformat": 4,
 "nbformat_minor": 2
}
