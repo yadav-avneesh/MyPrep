{
 "cells": [
  {
   "cell_type": "code",
   "execution_count": null,
   "metadata": {},
   "outputs": [],
   "source": [
    "\"\"\"\n",
    "Given an array of intervals where intervals[i] = [starti, endi], merge all overlapping intervals, and return an array of the non-overlapping intervals that cover all the intervals in the input.\n",
    "\n",
    " \n",
    "\n",
    "Example 1:\n",
    "\n",
    "Input: intervals = [[1,3],[2,6],[8,10],[15,18]]\n",
    "\n",
    "Output: [[1,6],[8,10],[15,18]]\n",
    "\n",
    "Explanation: Since intervals [1,3] and [2,6] overlap, merge them into [1,6].\n",
    "\n",
    "\n",
    "\n",
    "Example 2:\n",
    "\n",
    "Input: intervals = [[1,4],[4,5]]\n",
    "\n",
    "Output: [[1,5]]\n",
    "\n",
    "Explanation: Intervals [1,4] and [4,5] are considered overlapping.\n",
    " \n",
    "\n",
    "Constraints:\n",
    "    1 <= intervals.length <= 104\n",
    "    intervals[i].length == 2\n",
    "    0 <= starti <= endi <= 104\n",
    "\n",
    "Notes:\n",
    "- Sort and merge based on conditional check; (NlogN)\n",
    "\"\"\"\n",
    "\n",
    "class Solution:\n",
    "    def merge(self, intervals):\n",
    "        ivals = sorted(intervals, key=lambda elm: elm[0])\n",
    "        result = []\n",
    "        for ival in ivals:\n",
    "            currs, curre = ival\n",
    "            while result:\n",
    "                prevs, preve = result[-1]\n",
    "                if currs > preve:\n",
    "                    break\n",
    "                if currs == preve:\n",
    "                    currs, curre = prevs, curre\n",
    "                elif currs > prevs:\n",
    "                    currs, curre = prevs, max(preve, curre)\n",
    "                elif currs == prevs:\n",
    "                    currs, curre = currs, max(curre, preve)\n",
    "                result.pop()\n",
    "            result.append((currs, curre))\n",
    "        return result\n",
    "\n"
   ]
  },
  {
   "cell_type": "code",
   "execution_count": null,
   "metadata": {},
   "outputs": [],
   "source": [
    "# Don't need while, only last one could be redundant;\n",
    "class Solution:\n",
    "    def merge(self, intervals):\n",
    "        ivals = sorted(intervals, key=lambda elm: elm[0])\n",
    "        result = [ivals[0]]\n",
    "        for ival in ivals[1:]:\n",
    "            currs, curre = ival\n",
    "            prevs, preve = result[-1]\n",
    "            if currs > preve:\n",
    "                result.append((currs, curre))\n",
    "                continue\n",
    "            if currs == preve:\n",
    "                currs, curre = prevs, curre\n",
    "            elif currs > prevs:\n",
    "                currs, curre = prevs, max(preve, curre)\n",
    "            elif currs == prevs:\n",
    "                currs, curre = currs, max(curre, preve)\n",
    "            result.pop()\n",
    "            result.append((currs, curre))\n",
    "        return result"
   ]
  },
  {
   "cell_type": "code",
   "execution_count": null,
   "metadata": {},
   "outputs": [],
   "source": [
    "# Don't need while, only last one could be redundant;\n",
    "# if current start in between or equal to previous then only change prev end to # max end until now.\n",
    "class Solution:\n",
    "    def merge(self, intervals):\n",
    "        intervals.sort()\n",
    "        result = [intervals[0]]\n",
    "        for start, end in intervals[1:]:\n",
    "            lasts, laste = result[-1]\n",
    "            if start > laste:\n",
    "                result.append([start, end])\n",
    "            else:\n",
    "                result[-1][1] = max(laste, end)\n",
    "        return result"
   ]
  }
 ],
 "metadata": {
  "kernelspec": {
   "display_name": "Python 3.9.1 64-bit",
   "language": "python",
   "name": "python3"
  },
  "language_info": {
   "name": "python",
   "version": "3.9.1"
  },
  "orig_nbformat": 4,
  "vscode": {
   "interpreter": {
    "hash": "81794d4967e6c3204c66dcd87b604927b115b27c00565d3d43f05ba2f3a2cb0d"
   }
  }
 },
 "nbformat": 4,
 "nbformat_minor": 2
}
