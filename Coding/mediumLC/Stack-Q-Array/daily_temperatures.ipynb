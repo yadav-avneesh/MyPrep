{
 "cells": [
  {
   "cell_type": "code",
   "execution_count": 2,
   "metadata": {},
   "outputs": [],
   "source": [
    "\"\"\"\n",
    "Given an array of integers temperatures represents the daily temperatures, return an array answer such that answer[i] is the number of days you have to wait after the ith day to get a warmer temperature. If there is no future day for which this is possible, keep answer[i] == 0 instead.\n",
    "\n",
    " \n",
    "\n",
    "Example 1:\n",
    "\n",
    "    Input: temperatures = [73,74,75,71,69,72,76,73]\n",
    "    Output: [1,1,4,2,1,1,0,0]\n",
    "\n",
    "\n",
    "Example 2:\n",
    "\n",
    "    Input: temperatures = [30,40,50,60]\n",
    "    Output: [1,1,1,0]\n",
    "\n",
    "\n",
    "Example 3:\n",
    "\n",
    "    Input: temperatures = [30,60,90]\n",
    "    Output: [1,1,0]\n",
    " \n",
    "\n",
    "Constraints:\n",
    "\n",
    "    1 <= temperatures.length <= 105\n",
    "    30 <= temperatures[i] <= 100\n",
    "\"\"\"\n",
    "\n",
    "# For better than while in python;\n",
    "class Solution:\n",
    "    def dailyTemperatures(self, temperatures):\n",
    "        result = [0] * len(temperatures)\n",
    "        stk = []\n",
    "        idx = 0\n",
    "        for idx, temp in enumerate(temperatures):\n",
    "            while stk and temp > temperatures[stk[-1]]:\n",
    "                prev_idx = stk.pop()\n",
    "                result[prev_idx] = idx - prev_idx\n",
    "            stk.append(idx)\n",
    "        return result"
   ]
  },
  {
   "cell_type": "code",
   "execution_count": null,
   "metadata": {},
   "outputs": [],
   "source": []
  }
 ],
 "metadata": {
  "kernelspec": {
   "display_name": "Python 3",
   "language": "python",
   "name": "python3"
  },
  "language_info": {
   "codemirror_mode": {
    "name": "ipython",
    "version": 3
   },
   "file_extension": ".py",
   "mimetype": "text/x-python",
   "name": "python",
   "nbconvert_exporter": "python",
   "pygments_lexer": "ipython3",
   "version": "3.8.10"
  },
  "orig_nbformat": 4,
  "vscode": {
   "interpreter": {
    "hash": "916dbcbb3f70747c44a77c7bcd40155683ae19c65e1c03b4aa3499c5328201f1"
   }
  }
 },
 "nbformat": 4,
 "nbformat_minor": 2
}
