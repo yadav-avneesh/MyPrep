{
 "cells": [
  {
   "cell_type": "code",
   "execution_count": null,
   "metadata": {},
   "outputs": [],
   "source": [
    "\"\"\"\n",
    "Given an integer array nums, find the subarray with the largest sum, and return its sum.\n",
    "\n",
    "Example 1:\n",
    "    Input: nums = [-2,1,-3,4,-1,2,1,-5,4]\n",
    "    Output: 6\n",
    "    Explanation: The subarray [4,-1,2,1] has the largest sum 6.\n",
    "\n",
    "Example 2:\n",
    "    Input: nums = [1]\n",
    "    Output: 1\n",
    "    Explanation: The subarray [1] has the largest sum 1.\n",
    "\n",
    "Example 3:\n",
    "    Input: nums = [5,4,-1,7,8]\n",
    "    Output: 23\n",
    "    Explanation: The subarray [5,4,-1,7,8] has the largest sum 23.\n",
    " \n",
    "\n",
    "Constraints:\n",
    "    1 <= nums.length <= 105\n",
    "    -104 <= nums[i] <= 104\n",
    "\n",
    "    Follow up: If you have figured out the O(n) solution, \n",
    "    try coding another solution using the divide and conquer \n",
    "    approach, which is more subtle.\n",
    "\"\"\"\n",
    "\n",
    "class Solution:\n",
    "    def maxSubArray(self, nums) -> int:\n",
    "        maxs = prev = float('-inf')\n",
    "        for num in nums:\n",
    "            if num + prev <= num:\n",
    "                prev = num\n",
    "            else:\n",
    "                prev += num\n",
    "            maxs = max(prev, maxs)\n",
    "        return maxs"
   ]
  }
 ],
 "metadata": {
  "language_info": {
   "name": "python"
  },
  "orig_nbformat": 4
 },
 "nbformat": 4,
 "nbformat_minor": 2
}
