{
 "cells": [
  {
   "cell_type": "markdown",
   "id": "distinguished-walker",
   "metadata": {},
   "source": [
    "### Word ladder\n",
    "\n",
    "\n",
    "Given two words A and B, and a dictionary, C, find the length of shortest transformation sequence from A to B, such that:\n",
    "\n",
    "You must change exactly one character in every transformation. Each intermediate word must exist in the dictionary.\n",
    "\n",
    "**Note**:\n",
    "* Return 0 if there is no such transformation sequence.\n",
    "* All words have the same length.\n",
    "* All words contain only lowercase alphabetic characters.\n",
    "\n",
    "\n",
    "**Input Format:**\n",
    "* The first argument of input contains a string, A.\n",
    "* The second argument of input contains a string, B.\n",
    "* The third argument of input contains an array of strings, C.\n",
    "\n",
    "**Output Format:**\n",
    "* Return an integer representing the minimum number of steps required to change string A to string B.\n",
    "\n",
    "**Constraints:**\n",
    "* 1 <= length(A), length(B), length(C[i]) <= 25\n",
    "* 1 <= length(C) <= 5e3\n",
    "\n",
    "**Example :**\n",
    "\n",
    "**Input 1:**\n",
    "```python\n",
    "    A = \"hit\"\n",
    "    B = \"cog\"\n",
    "    C = [\"hot\", \"dot\", \"dog\", \"lot\", \"log\"]\n",
    "```\n",
    "\n",
    "**Output 1:** 5\n",
    "\n",
    "**Explanation 1:** \"hit\" -> \"hot\" -> \"dot\" -> \"dog\" -> \"cog\""
   ]
  },
  {
   "cell_type": "markdown",
   "id": "defined-paintball",
   "metadata": {},
   "source": [
    "#### Solution\n",
    "\n",
    "* Create a graph of words, where adjacent if only single letter change\n",
    "* See if start, end in Graph, if not then add and connect\n",
    "* Do BFS to find min steps to reach end node\n"
   ]
  },
  {
   "cell_type": "code",
   "execution_count": 99,
   "id": "naval-manitoba",
   "metadata": {},
   "outputs": [],
   "source": [
    "import pprint\n",
    "pp = pprint.PrettyPrinter(4)"
   ]
  },
  {
   "cell_type": "markdown",
   "id": "optimum-adoption",
   "metadata": {},
   "source": [
    "#### Code"
   ]
  },
  {
   "cell_type": "code",
   "execution_count": 119,
   "id": "balanced-profit",
   "metadata": {},
   "outputs": [],
   "source": [
    "from collections import deque, defaultdict\n",
    "\n",
    "def get_nbrs(C):\n",
    "    wlr = range(len(C[0]))\n",
    "    subwords = defaultdict(lambda: [])\n",
    "    wsubwords = {}\n",
    "    for w in C:\n",
    "        wsubwords[w] = []\n",
    "        for i in wlr:\n",
    "            w1 = '{}{}{}'.format(w[:i], '_', w[i+1:])\n",
    "            wsubwords[w].append(w1)\n",
    "            subwords[w1].append(w)\n",
    "    nbrs = {}\n",
    "    for w in C:\n",
    "        nbrs[w] = []\n",
    "        for wsubword in wsubwords[w]:\n",
    "            nbrs[w].extend(subwords[wsubword])\n",
    "    for k, v in nbrs.items():\n",
    "        nbrs[k] = list(set(v))\n",
    "   \n",
    "    return nbrs\n",
    "\n",
    "class Solution:\n",
    "    # @param A : string\n",
    "    # @param B : string\n",
    "    # @param C : list of strings\n",
    "    # @return an integer\n",
    "    def solve(self, A, B, C):\n",
    "        l = len(C)\n",
    "        if A == B:\n",
    "            return 1\n",
    "        if l==0:\n",
    "            return 0\n",
    "\n",
    "        C = list(set(C + [A, B]))\n",
    "\n",
    "        nbrs = get_nbrs(C)\n",
    "        \n",
    "        visited = {}\n",
    "        q = deque([(A, 1)])\n",
    "        tl = 0\n",
    "        while q:\n",
    "            node, level = q.pop()\n",
    "            if node == B:\n",
    "                tl = level\n",
    "                break\n",
    "            visited[node] = True\n",
    "            for nbr in nbrs[node]:\n",
    "                if visited.get(nbr, False):\n",
    "                    continue\n",
    "                q.appendleft((nbr, level+1))\n",
    "        \n",
    "        return tl"
   ]
  },
  {
   "cell_type": "code",
   "execution_count": 122,
   "id": "miniature-resort",
   "metadata": {},
   "outputs": [
    {
     "data": {
      "text/plain": [
       "10"
      ]
     },
     "execution_count": 122,
     "metadata": {},
     "output_type": "execute_result"
    }
   ],
   "source": [
    "A = \"ymain\"\n",
    "B = \"oecij\"\n",
    "C = [ \"ymann\", \"yycrj\", \"oecij\", \"ymcnj\", \"yzcrj\", \"yycij\", \"xecij\", \"yecij\", \"ymanj\", \"yzcnj\", \"ymain\" ]\n",
    "Solution().solve(A, B, C)"
   ]
  },
  {
   "cell_type": "code",
   "execution_count": 123,
   "id": "occupied-indian",
   "metadata": {},
   "outputs": [
    {
     "data": {
      "text/plain": [
       "5"
      ]
     },
     "execution_count": 123,
     "metadata": {},
     "output_type": "execute_result"
    }
   ],
   "source": [
    "A = \"hit\"\n",
    "B = \"cog\"\n",
    "C = [ \"hot\", \"dog\", \"dot\", \"log\", \"lot\",]\n",
    "Solution().solve(A, B, C)"
   ]
  },
  {
   "cell_type": "code",
   "execution_count": 134,
   "id": "invalid-persian",
   "metadata": {},
   "outputs": [],
   "source": [
    "def get_nbrs(ws):\n",
    "    ls = set(''.join(ws))\n",
    "    ws = set(ws)\n",
    "\n",
    "    pp.pprint('ls = {}'.format(ls))\n",
    "    pp.pprint('ws = {}'.format(ws))\n",
    "    \n",
    "    def ns(x):\n",
    "        cs = list(x)\n",
    "        pp.pprint('cs = {}'.format(cs))\n",
    "        \n",
    "        cands = set()\n",
    "        for i in range(len(x)):\n",
    "            for l in ls:\n",
    "                cs[i] = l\n",
    "                cands.add(''.join(cs))\n",
    "            cs[i] = x[i]\n",
    "\n",
    "        pp.pprint('ws = {}'.format(ws))\n",
    "        pp.pprint('cands = {}'.format(cands))\n",
    "        pp.pprint(ws & cands)\n",
    "        return ws & cands\n",
    "\n",
    "    return ns"
   ]
  },
  {
   "cell_type": "code",
   "execution_count": 135,
   "id": "considered-royalty",
   "metadata": {},
   "outputs": [
    {
     "name": "stdout",
     "output_type": "stream",
     "text": [
      "\"ls = {'d', 'l', 'h', 't', 'g', 'o'}\"\n",
      "\"ws = {'hot', 'lot', 'dot', 'log', 'dog'}\"\n"
     ]
    }
   ],
   "source": [
    "nbrs = get_nbrs([ \"hot\", \"dog\", \"dot\", \"log\", \"lot\",])"
   ]
  },
  {
   "cell_type": "code",
   "execution_count": 136,
   "id": "eleven-andorra",
   "metadata": {},
   "outputs": [
    {
     "name": "stdout",
     "output_type": "stream",
     "text": [
      "\"cs = ['h', 'i', 't']\"\n",
      "\"ws = {'hot', 'lot', 'dot', 'log', 'dog'}\"\n",
      "(\"cands = {'hot', 'hig', 'hht', 'hio', 'hit', 'htt', 'hid', 'oit', 'hlt', \"\n",
      " \"'lit', 'hgt', 'git', 'hih', 'dit', 'tit', 'hdt', 'hil'}\")\n",
      "{'hot'}\n"
     ]
    },
    {
     "data": {
      "text/plain": [
       "{'hot'}"
      ]
     },
     "execution_count": 136,
     "metadata": {},
     "output_type": "execute_result"
    }
   ],
   "source": [
    "nbrs('hit')"
   ]
  },
  {
   "cell_type": "markdown",
   "id": "advance-breakdown",
   "metadata": {},
   "source": [
    "### Variant of the above\n",
    "* Print shortest path\n",
    "* If there are multiple shortest path, print all such paths"
   ]
  },
  {
   "cell_type": "code",
   "execution_count": null,
   "id": "ecological-rogers",
   "metadata": {},
   "outputs": [],
   "source": []
  }
 ],
 "metadata": {
  "kernelspec": {
   "display_name": "Python 3",
   "language": "python",
   "name": "python3"
  },
  "language_info": {
   "codemirror_mode": {
    "name": "ipython",
    "version": 3
   },
   "file_extension": ".py",
   "mimetype": "text/x-python",
   "name": "python",
   "nbconvert_exporter": "python",
   "pygments_lexer": "ipython3",
   "version": "3.9.1"
  }
 },
 "nbformat": 4,
 "nbformat_minor": 5
}
