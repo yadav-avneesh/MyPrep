{
 "cells": [
  {
   "cell_type": "code",
   "execution_count": 7,
   "metadata": {},
   "outputs": [],
   "source": [
    "\"\"\"\n",
    "Given n pairs of parentheses, write a function to generate all combinations of well-formed parentheses.\n",
    "\n",
    "Example 1:\n",
    "\n",
    "Input: n = 3\n",
    "Output: [\"((()))\",\"(()())\",\"(())()\",\"()(())\",\"()()()\"]\n",
    "\n",
    "\n",
    "Example 2:\n",
    "\n",
    "Input: n = 1\n",
    "Output: [\"()\"]\n",
    " \n",
    "\n",
    "Constraints: 1 <= n <= 8\n",
    "\n",
    "Notes:\n",
    "- Can start from open, keep count of closed and open\n",
    "- Apply BFS or level order to generate by adding open or closed to previous\n",
    "\n",
    "Learned about:\n",
    "- list(zip(*result))[0]; result = [(a, b, c), (x, y, z)]; need all [a, x, ...]\n",
    "\"\"\"\n",
    "\n",
    "class Solution:\n",
    "    def generateParenthesis(self, n):\n",
    "        prev = [('(', 1, 0)]\n",
    "        result = []\n",
    "        while prev:\n",
    "            char, oc, cc = prev.pop()\n",
    "            if oc < n:\n",
    "                result.append((f\"{char}(\", oc+1, cc))\n",
    "            if (oc > cc) and (cc < n):\n",
    "                result.append((f\"{char})\", oc, cc+1))\n",
    "            if not prev:\n",
    "                if result[0][1] == n and result[0][2] == n:\n",
    "                    break\n",
    "                prev = result\n",
    "                result = []\n",
    "        return list(zip(*result))[0]"
   ]
  },
  {
   "cell_type": "code",
   "execution_count": null,
   "metadata": {},
   "outputs": [],
   "source": []
  }
 ],
 "metadata": {
  "kernelspec": {
   "display_name": "Python 3.9.1 64-bit",
   "language": "python",
   "name": "python3"
  },
  "language_info": {
   "codemirror_mode": {
    "name": "ipython",
    "version": 3
   },
   "file_extension": ".py",
   "mimetype": "text/x-python",
   "name": "python",
   "nbconvert_exporter": "python",
   "pygments_lexer": "ipython3",
   "version": "3.9.1"
  },
  "orig_nbformat": 4,
  "vscode": {
   "interpreter": {
    "hash": "81794d4967e6c3204c66dcd87b604927b115b27c00565d3d43f05ba2f3a2cb0d"
   }
  }
 },
 "nbformat": 4,
 "nbformat_minor": 2
}
