{
 "cells": [
  {
   "cell_type": "code",
   "execution_count": 1,
   "metadata": {},
   "outputs": [],
   "source": [
    "'''\n",
    "\n",
    "Given two integers dividend and divisor, divide two integers without using multiplication, division, and mod operator.\n",
    "\n",
    "The integer division should truncate toward zero, which means losing its fractional part. For example, 8.345 would be truncated to 8, and -2.7335 would be truncated to -2.\n",
    "\n",
    "Return the quotient after dividing dividend by divisor.\n",
    "\n",
    "Note: Assume we are dealing with an environment that could only store integers within the 32-bit signed integer range: [−231, 231 − 1]. For this problem, if the quotient is strictly greater than 231 - 1, then return 231 - 1, and if the quotient is strictly less than -231, then return -231.\n",
    "\n",
    " \n",
    "\n",
    "Example 1:\n",
    "\n",
    "Input: dividend = 10, divisor = 3\n",
    "Output: 3\n",
    "Explanation: 10/3 = 3.33333.. which is truncated to 3.\n",
    "Example 2:\n",
    "\n",
    "Input: dividend = 7, divisor = -3\n",
    "Output: -2\n",
    "Explanation: 7/-3 = -2.33333.. which is truncated to -2.\n",
    " \n",
    "\n",
    "Constraints:\n",
    "\n",
    "-231 <= dividend, divisor <= 231 - 1\n",
    "divisor != 0\n",
    "\n",
    "TIP 1:\n",
    "    1. Solution 1\n",
    "        a. sign for two numbers = -1 if a < 0 ^ b < 0 else 1\n",
    "        b. Use typical subtract until less than divisor.\n",
    "        c. O(a/b)\n",
    "    3. Solution 2\n",
    "        a. find quotient using bit tricks\n",
    "        b. \n",
    "\n",
    "'''\n",
    "\n",
    "# TLE\n",
    "class Solution:\n",
    "    def divide(self, dividend: int, divisor: int) -> int:\n",
    "        sign= 1 if (dividend > 0 and divisor >0) or (dividend < 0 and divisor < 0) else -1\n",
    "        num = abs(dividend)\n",
    "        divisor = abs(divisor)\n",
    "        count = 0\n",
    "        while num >= divisor:\n",
    "            num -= divisor\n",
    "            count += 1\n",
    "        return sign * count"
   ]
  },
  {
   "cell_type": "code",
   "execution_count": 2,
   "metadata": {},
   "outputs": [],
   "source": [
    "# Tracking quotient --- wrong answer, off by 1 for -ve input\n",
    "class Solution:\n",
    "    def divide(self, dividend: int, divisor: int) -> int:\n",
    "        sign = -1 if((dividend < 0) ^ (divisor < 0)) else 1\n",
    "        dividend = abs(dividend)\n",
    "        divisor = abs(divisor)\n",
    "        quotient = 0\n",
    "        temp = 0\n",
    "        for i in range(31, -1, -1):\n",
    "            if (temp + (divisor << i) <= dividend):\n",
    "                temp += divisor << i\n",
    "                quotient |= 1 << i\n",
    "        if sign ==-1 :\n",
    "            quotient=-quotient\n",
    "        return quotient"
   ]
  },
  {
   "cell_type": "code",
   "execution_count": 12,
   "metadata": {},
   "outputs": [],
   "source": [
    "import math\n",
    "num = 2 ** 31 -1"
   ]
  },
  {
   "cell_type": "code",
   "execution_count": 14,
   "metadata": {},
   "outputs": [
    {
     "data": {
      "text/plain": [
       "2147483646.9999995"
      ]
     },
     "execution_count": 14,
     "metadata": {},
     "output_type": "execute_result"
    }
   ],
   "source": [
    "math.e ** math.log(num)"
   ]
  },
  {
   "cell_type": "code",
   "execution_count": 17,
   "metadata": {},
   "outputs": [
    {
     "data": {
      "text/plain": [
       "2147483648"
      ]
     },
     "execution_count": 17,
     "metadata": {},
     "output_type": "execute_result"
    }
   ],
   "source": [
    "2 ** 31"
   ]
  },
  {
   "cell_type": "code",
   "execution_count": 23,
   "metadata": {},
   "outputs": [],
   "source": [
    "def f(a, b):\n",
    "    x = math.e ** (math.log(a) - math.log(b))\n",
    "    return x"
   ]
  },
  {
   "cell_type": "code",
   "execution_count": 32,
   "metadata": {},
   "outputs": [
    {
     "data": {
      "text/plain": [
       "77"
      ]
     },
     "execution_count": 32,
     "metadata": {},
     "output_type": "execute_result"
    }
   ],
   "source": [
    "int(round(f(231, 3), 5))"
   ]
  },
  {
   "cell_type": "code",
   "execution_count": null,
   "metadata": {},
   "outputs": [],
   "source": []
  }
 ],
 "metadata": {
  "kernelspec": {
   "display_name": "Python 3",
   "language": "python",
   "name": "python3"
  },
  "language_info": {
   "codemirror_mode": {
    "name": "ipython",
    "version": 3
   },
   "file_extension": ".py",
   "mimetype": "text/x-python",
   "name": "python",
   "nbconvert_exporter": "python",
   "pygments_lexer": "ipython3",
   "version": "3.9.1 (tags/v3.9.1:1e5d33e, Dec  7 2020, 17:08:21) [MSC v.1927 64 bit (AMD64)]"
  },
  "orig_nbformat": 4,
  "vscode": {
   "interpreter": {
    "hash": "81794d4967e6c3204c66dcd87b604927b115b27c00565d3d43f05ba2f3a2cb0d"
   }
  }
 },
 "nbformat": 4,
 "nbformat_minor": 2
}
