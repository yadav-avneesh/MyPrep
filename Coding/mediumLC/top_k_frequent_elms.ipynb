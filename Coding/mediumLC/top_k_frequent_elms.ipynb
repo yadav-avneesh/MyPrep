{
 "cells": [
  {
   "cell_type": "code",
   "execution_count": null,
   "metadata": {},
   "outputs": [],
   "source": [
    "\"\"\"\n",
    "Given an integer array nums and an integer k, return the k most frequent elements. You may return the answer in any order.\n",
    " \n",
    "\n",
    "Example 1:\n",
    "    Input: nums = [1,1,1,2,2,3], k = 2\n",
    "    Output: [1,2]\n",
    "\n",
    "Example 2:\n",
    "    Input: nums = [1], k = 1\n",
    "    Output: [1]\n",
    " \n",
    "\n",
    "Constraints:\n",
    "    1 <= nums.length <= 105\n",
    "    -104 <= nums[i] <= 104\n",
    "    k is in the range [1, the number of unique elements in the array].\n",
    "    It is guaranteed that the answer is unique.\n",
    " \n",
    "\n",
    "Follow up: Your algorithm's time complexity must be better than O(n log n), where n is the array's size.\n",
    "\n",
    "TIP:\n",
    "    1. Counter & sorting; \n",
    "        sort counter; \n",
    "        return last k (increasing counter collection) --> O(NlogD)\n",
    "    2. Min PQ ---> O(N) + O(K) + O(D-KLogK); D = disntinct number count\n",
    "        Counter, \n",
    "        Min heap of k (freq, num); --> klogk, \n",
    "        replace top is curr is greater. return heap; \n",
    "    3. Bucketing --> O(N)\n",
    "        n numbers => at most N frequency\n",
    "        create frequency bucket array (freq from 1 -> N); freq[i] -> [list of nums with this freq]\n",
    "        iterate freq array from backwards and return top k frequent.\n",
    "\"\"\"\n",
    "\n",
    "from heapq import heapify, heappush, heappop\n",
    "from collections import Counter\n",
    "\n",
    "class Solution:\n",
    "    def topKFrequent(self, nums, k):\n",
    "        x = Counter(nums)\n",
    "        y = 0\n",
    "        nfheap = []\n",
    "        rest   = []\n",
    "        for num, freq in x.items():\n",
    "            if y < k:\n",
    "                nfheap.append((freq, num))\n",
    "                y += 1\n",
    "            else:\n",
    "                rest.append((freq, num))\n",
    "        heapify(nfheap)\n",
    "        for freq, num in rest:\n",
    "            minf = nfheap[0][0]\n",
    "            if freq > minf:\n",
    "                heappop(nfheap)\n",
    "                heappush(nfheap, (freq, num))\n",
    "        return [num for _, num in nfheap]"
   ]
  },
  {
   "cell_type": "code",
   "execution_count": null,
   "metadata": {},
   "outputs": [],
   "source": [
    "from collections import Counter\n",
    "\n",
    "class Solution:\n",
    "    def topKFrequent(self, nums, k):\n",
    "        l = len(nums)\n",
    "        freq = [[] for i in range(l+1)]\n",
    "        for num, _freq in Counter(nums).items():\n",
    "            freq[_freq].append(num)\n",
    "        result = []\n",
    "        y = 0\n",
    "        for numl in freq[::-1]:\n",
    "            if len(numl) == 0:\n",
    "                continue\n",
    "            if y < k:\n",
    "                result.extend(numl)\n",
    "                y += len(numl)\n",
    "            else:\n",
    "                break\n",
    "        return result"
   ]
  }
 ],
 "metadata": {
  "kernelspec": {
   "display_name": "Python 3",
   "language": "python",
   "name": "python3"
  },
  "language_info": {
   "name": "python",
   "version": "3.9.1 (tags/v3.9.1:1e5d33e, Dec  7 2020, 17:08:21) [MSC v.1927 64 bit (AMD64)]"
  },
  "orig_nbformat": 4,
  "vscode": {
   "interpreter": {
    "hash": "81794d4967e6c3204c66dcd87b604927b115b27c00565d3d43f05ba2f3a2cb0d"
   }
  }
 },
 "nbformat": 4,
 "nbformat_minor": 2
}
