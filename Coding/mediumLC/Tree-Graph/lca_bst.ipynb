{
 "cells": [
  {
   "cell_type": "code",
   "execution_count": null,
   "metadata": {},
   "outputs": [],
   "source": [
    "\"\"\"\n",
    "Given a binary search tree (BST), find the lowest common ancestor (LCA) node of two given nodes in the BST.\n",
    "\n",
    "According to the definition of LCA on Wikipedia: “The lowest common ancestor is defined between two nodes p and q as the lowest node in T that has both p and q as descendants (where we allow a node to be a descendant of itself).”\n",
    "\n",
    " \n",
    "\n",
    "Example 1:\n",
    "    Input: root = [6,2,8,0,4,7,9,null,null,3,5], p = 2, q = 8\n",
    "    Output: 6\n",
    "    Explanation: The LCA of nodes 2 and 8 is 6.\n",
    "\n",
    "Example 2:\n",
    "    Input: root = [6,2,8,0,4,7,9,null,null,3,5], p = 2, q = 4\n",
    "    Output: 2\n",
    "    Explanation: The LCA of nodes 2 and 4 is 2, since a node can be a descendant of itself according to the LCA definition.\n",
    "\n",
    "Example 3:\n",
    "    Input: root = [2,1], p = 2, q = 1\n",
    "    Output: 2\n",
    " \n",
    "\n",
    "Constraints:\n",
    "    The number of nodes in the tree is in the range [2, 105].\n",
    "    -109 <= Node.val <= 109\n",
    "    All Node.val are unique.\n",
    "    p != q\n",
    "    p and q will exist in the BST.\n",
    "\"\"\"\n",
    "\n",
    "# Definition for a binary tree node.\n",
    "\n",
    "class TreeNode:\n",
    "    def __init__(self, x):\n",
    "        self.val = x\n",
    "        self.left = None\n",
    "        self.right = None\n",
    "\n",
    "class Solution:\n",
    "    def lowestCommonAncestor(self, root, p, q):\n",
    "        if p.val == root.val:\n",
    "            return p\n",
    "        if q.val == root.val:\n",
    "            return q\n",
    "        if (p.val > root.val and q.val < root.val) or (q.val > root.val and p.val < root.val):\n",
    "            return root\n",
    "        if p.val < root.val and q.val < root.val:\n",
    "            return self.lowestCommonAncestor(root.left, p, q)\n",
    "        return self.lowestCommonAncestor(root.right, p, q)"
   ]
  }
 ],
 "metadata": {
  "kernelspec": {
   "display_name": "Python 3",
   "language": "python",
   "name": "python3"
  },
  "language_info": {
   "name": "python",
   "version": "3.8.10"
  },
  "orig_nbformat": 4
 },
 "nbformat": 4,
 "nbformat_minor": 2
}
