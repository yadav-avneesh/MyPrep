{
 "cells": [
  {
   "cell_type": "code",
   "execution_count": 4,
   "metadata": {},
   "outputs": [],
   "source": [
    "\"\"\"\n",
    "Given an m x n 2D binary grid grid which represents a map of '1's (land) and '0's (water), return the number of islands.\n",
    "\n",
    "An island is surrounded by water and is formed by connecting adjacent lands horizontally or vertically. You may assume all four edges of the grid are all surrounded by water.\n",
    "\n",
    " \n",
    "\n",
    "Example 1:\n",
    "\n",
    "    Input: grid = [\n",
    "    [\"1\",\"1\",\"1\",\"1\",\"0\"],\n",
    "    [\"1\",\"1\",\"0\",\"1\",\"0\"],\n",
    "    [\"1\",\"1\",\"0\",\"0\",\"0\"],\n",
    "    [\"0\",\"0\",\"0\",\"0\",\"0\"]\n",
    "    ]\n",
    "    Output: 1\n",
    "\n",
    "\n",
    "Example 2:\n",
    "\n",
    "    Input: grid = [\n",
    "    [\"1\",\"1\",\"0\",\"0\",\"0\"],\n",
    "    [\"1\",\"1\",\"0\",\"0\",\"0\"],\n",
    "    [\"0\",\"0\",\"1\",\"0\",\"0\"],\n",
    "    [\"0\",\"0\",\"0\",\"1\",\"1\"]\n",
    "    ]\n",
    "    Output: 3\n",
    "\n",
    "\n",
    "Constraints:\n",
    "    m == grid.length\n",
    "    n == grid[i].length\n",
    "    1 <= m, n <= 300\n",
    "    grid[i][j] is '0' or '1'.\n",
    "\"\"\"\n",
    "\n",
    "class Solution:\n",
    "    def numIslands(self, grid) -> int:\n",
    "        def mark_island(i, j):\n",
    "            visited.add((i, j))\n",
    "            for x, y in [(i, j-1), (i, j+1), (i-1, j), (i+1, j)]:\n",
    "                if x < 0 or y < 0 or x >= m or y >= n or grid[x][y] == \"0\" or (x, y) in visited:\n",
    "                    continue\n",
    "                mark_island(x, y)\n",
    "            return\n",
    "        visited = set()\n",
    "        islands = 0\n",
    "        m = len(grid)\n",
    "        n = len(grid[0])\n",
    "        for i in range(m):\n",
    "            for j in range(n):\n",
    "                if grid[i][j] == \"0\" or (i, j) in visited:\n",
    "                    continue\n",
    "                islands += 1\n",
    "                mark_island(i, j)\n",
    "        return islands"
   ]
  },
  {
   "cell_type": "code",
   "execution_count": 5,
   "metadata": {},
   "outputs": [],
   "source": [
    "class Solution:\n",
    "    def numIslands(self, grid) -> int:\n",
    "        def mark_island(i, j):\n",
    "            grid[i][j] = \"0\"\n",
    "            for x, y in [(i, j-1), (i, j+1), (i-1, j), (i+1, j)]:\n",
    "                if x < 0 or y < 0 or x >= m or y >= n or grid[x][y] == \"0\":\n",
    "                    continue\n",
    "                mark_island(x, y)\n",
    "            return\n",
    "        islands = 0\n",
    "        m = len(grid)\n",
    "        n = len(grid[0])\n",
    "        for i in range(m):\n",
    "            for j in range(n):\n",
    "                if grid[i][j] == \"0\":\n",
    "                    continue\n",
    "                islands += 1\n",
    "                mark_island(i, j)\n",
    "        return islands"
   ]
  },
  {
   "cell_type": "code",
   "execution_count": 6,
   "metadata": {},
   "outputs": [],
   "source": [
    "class Solution:\n",
    "    def numIslands(self, grid) -> int:\n",
    "        def mark_island(i, j):\n",
    "            grid[i][j] = \"0\"\n",
    "            if i > 0 and grid[i-1][j] == \"1\":\n",
    "                mark_island(i-1, j)\n",
    "            if i < m-1 and grid[i+1][j] == \"1\":\n",
    "                mark_island(i+1, j)\n",
    "            if j > 0 and grid[i][j-1] == \"1\":\n",
    "                mark_island(i, j-1)\n",
    "            if j < n-1 and grid[i][j+1] == \"1\":\n",
    "                mark_island(i, j+1)\n",
    "        islands = 0\n",
    "        m = len(grid)\n",
    "        n = len(grid[0])\n",
    "        for i in range(m):\n",
    "            for j in range(n):\n",
    "                if grid[i][j] == \"1\":\n",
    "                    islands += 1\n",
    "                    mark_island(i, j)\n",
    "        return islands"
   ]
  },
  {
   "cell_type": "code",
   "execution_count": null,
   "metadata": {},
   "outputs": [],
   "source": []
  }
 ],
 "metadata": {
  "kernelspec": {
   "display_name": "Python 3",
   "language": "python",
   "name": "python3"
  },
  "language_info": {
   "codemirror_mode": {
    "name": "ipython",
    "version": 3
   },
   "file_extension": ".py",
   "mimetype": "text/x-python",
   "name": "python",
   "nbconvert_exporter": "python",
   "pygments_lexer": "ipython3",
   "version": "3.8.10"
  },
  "orig_nbformat": 4,
  "vscode": {
   "interpreter": {
    "hash": "916dbcbb3f70747c44a77c7bcd40155683ae19c65e1c03b4aa3499c5328201f1"
   }
  }
 },
 "nbformat": 4,
 "nbformat_minor": 2
}
