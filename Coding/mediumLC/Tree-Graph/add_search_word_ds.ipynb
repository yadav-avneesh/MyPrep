{
 "cells": [
  {
   "cell_type": "code",
   "execution_count": null,
   "metadata": {},
   "outputs": [],
   "source": [
    "\"\"\"\n",
    "Design a data structure that supports adding new words and finding if a string matches any previously added string.\n",
    "\n",
    "Implement the WordDictionary class:\n",
    "\n",
    "WordDictionary() Initializes the object.\n",
    "void addWord(word) Adds word to the data structure, it can be matched later.\n",
    "bool search(word) Returns true if there is any string in the data structure that matches word or false otherwise. word may contain dots '.' where dots can be matched with any letter.\n",
    " \n",
    "\n",
    "Example:\n",
    "\n",
    "Input\n",
    "    [\"WordDictionary\",\"addWord\",\"addWord\",\"addWord\",\"search\",\"search\",\"search\",\"search\"]\n",
    "    [[],[\"bad\"],[\"dad\"],[\"mad\"],[\"pad\"],[\"bad\"],[\".ad\"],[\"b..\"]]\n",
    "Output\n",
    "    [null,null,null,null,false,true,true,true]\n",
    "\n",
    "Explanation\n",
    "    WordDictionary wordDictionary = new WordDictionary();\n",
    "    wordDictionary.addWord(\"bad\");\n",
    "    wordDictionary.addWord(\"dad\");\n",
    "    wordDictionary.addWord(\"mad\");\n",
    "    wordDictionary.search(\"pad\"); // return False\n",
    "    wordDictionary.search(\"bad\"); // return True\n",
    "    wordDictionary.search(\".ad\"); // return True\n",
    "    wordDictionary.search(\"b..\"); // return True\n",
    " \n",
    "\n",
    "Constraints:\n",
    "    1 <= word.length <= 25\n",
    "    word in addWord consists of lowercase English letters.\n",
    "    word in search consist of '.' or lowercase English letters.\n",
    "    There will be at most 2 dots in word for search queries.\n",
    "    At most 104 calls will be made to addWord and search.\n",
    "\"\"\""
   ]
  }
 ],
 "metadata": {
  "language_info": {
   "name": "python"
  },
  "orig_nbformat": 4
 },
 "nbformat": 4,
 "nbformat_minor": 2
}
