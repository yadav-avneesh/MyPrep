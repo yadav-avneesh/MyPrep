{
 "cells": [
  {
   "cell_type": "code",
   "execution_count": 1,
   "metadata": {},
   "outputs": [],
   "source": [
    "\"\"\"\n",
    "Given the root of a binary search tree, and an integer k, return the kth smallest value (1-indexed) of all the values of the nodes in the tree.\n",
    "\n",
    " \n",
    "\n",
    "Example 1:\n",
    "Input: root = [3,1,4,null,2], k = 1\n",
    "\n",
    "\n",
    "              3\n",
    "        1          4\n",
    "            2      \n",
    "\n",
    "Output: 1\n",
    "\n",
    "\n",
    "Example 2:\n",
    "Input: root = [5,3,6,2,4,null,null,1], k = 3\n",
    "\n",
    "               5\n",
    "            3      6\n",
    "        2      4\n",
    "    1       \n",
    "\n",
    "Output: 3\n",
    " \n",
    "\n",
    "Constraints:\n",
    "The number of nodes in the tree is n.\n",
    "1 <= k <= n <= 104\n",
    "0 <= Node.val <= 104\n",
    "\n",
    "TIP:\n",
    "    1. Inorder using stk and keep decreasing count O(H)\n",
    "    2. for followup; either store rank of each node and move in direction of k O(H)\n",
    "    3. Or, store a DLL of nodes. O(K)\n",
    "\n",
    "Follow up: If the BST is modified often (i.e., we can do insert and delete operations) and you need to find the kth smallest frequently, how would you optimize?\n",
    "\"\"\"\n",
    "\n",
    "# Definition for a binary tree node.\n",
    "\n",
    "class TreeNode:\n",
    "    def __init__(self, val=0, left=None, right=None):\n",
    "        self.val = val\n",
    "        self.left = left\n",
    "        self.right = right\n",
    "\n",
    "class Solution:\n",
    "    def kthSmallest(self, root, k):\n",
    "        stk = []\n",
    "        curr = root\n",
    "        while k>0 and (stk or curr):\n",
    "            if curr:\n",
    "                stk.append(curr)\n",
    "                curr = curr.left\n",
    "                continue\n",
    "            node = stk.pop()\n",
    "            k   -= 1\n",
    "            curr = node.right\n",
    "        return node.val"
   ]
  },
  {
   "cell_type": "code",
   "execution_count": null,
   "metadata": {},
   "outputs": [],
   "source": []
  }
 ],
 "metadata": {
  "kernelspec": {
   "display_name": "Python 3.9.1 64-bit",
   "language": "python",
   "name": "python3"
  },
  "language_info": {
   "codemirror_mode": {
    "name": "ipython",
    "version": 3
   },
   "file_extension": ".py",
   "mimetype": "text/x-python",
   "name": "python",
   "nbconvert_exporter": "python",
   "pygments_lexer": "ipython3",
   "version": "3.9.1"
  },
  "orig_nbformat": 4,
  "vscode": {
   "interpreter": {
    "hash": "81794d4967e6c3204c66dcd87b604927b115b27c00565d3d43f05ba2f3a2cb0d"
   }
  }
 },
 "nbformat": 4,
 "nbformat_minor": 2
}
