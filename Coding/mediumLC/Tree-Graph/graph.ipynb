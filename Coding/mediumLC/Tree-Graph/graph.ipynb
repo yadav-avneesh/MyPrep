{
 "cells": [
  {
   "attachments": {},
   "cell_type": "markdown",
   "metadata": {},
   "source": [
    "Directed graph -- concept of edges:\n",
    "\n",
    "* [gfg ref](https://www.geeksforgeeks.org/tree-back-edge-and-cross-edges-in-dfs-of-graph/)\n",
    "\n",
    "* Consider a directed graph, if DFS is applied on this graph a tree is obtained which is connected using green edges.\n",
    "  - Tree Edge: It is an edge which is present in the tree obtained after applying DFS on the graph. All the Green edges are tree edges. \n",
    "  - Forward Edge: It is an edge (u, v) such that v is a descendant but not part of the DFS tree. An edge from 1 to 8 is a forward edge. \n",
    "  - Back edge: It is an edge (u, v) such that v is the ancestor of node u but is not part of the DFS tree. Edge from 6 to 2 is a back edge. Presence of back edge indicates a cycle in directed graph. \n",
    "  - Cross Edge: It is an edge that connects two nodes such that they do not have any ancestor and a descendant relationship between them. The edge from node 5 to 4 is a cross edge.\n",
    "\n",
    "* Time Complexity(DFS):\n",
    "  - Since all the nodes and vertices are visited, the average time complexity for DFS on a graph is O(V + E), where V is the number of vertices and E is the number of edges. \n",
    "  - In case of DFS on a tree, the time complexity is O(V), where V is the number of nodes.\n",
    "\n",
    "* For following graph, find all different type of edges using DFS (O(V+E));\n",
    "  - Adjacency List Representation:\n",
    "      - 0 --> 5\n",
    "      - 1 --> 3 7\n",
    "      - 2 --> 4 3 8 9\n",
    "      - 3 --> 3\n",
    "      - 4 --> 0\n",
    "      - 5 --> 2 0\n",
    "      - 6 --> 0\n",
    "      - 7 --> 7 4 3\n",
    "      - 8 --> 8 9\n",
    "      - 9 --> 9\n",
    "\n",
    "  - Different type of edges are\n",
    "      - Tree Edge: 0-->5\n",
    "      - Tree Edge: 5-->2\n",
    "      - Tree Edge: 2-->4\n",
    "      - Tree Edge: 2-->3\n",
    "      - Tree Edge: 2-->8\n",
    "      - Tree Edge: 8-->9\n",
    "      - Forward Edge: 2-->9\n",
    "      - Cross Edge: 5-->0\n",
    "      - Back Edge: 1-->3\n",
    "      - Tree Edge: 1-->7\n",
    "      - Cross Edge: 7-->4\n",
    "      - Cross Edge: 7-->3\n",
    "      - Back Edge: 6-->0\n",
    "\n",
    "   - DFS Traversal:  [0, 5, 2, 4, 3, 8, 9, 1, 7, 6]\n",
    "\n",
    "```python\n",
    "'''\n",
    "|              Edge Types in Graph Traversal                            |\n",
    "|-----------------------------------------------------------------------|\n",
    "| Traversal Type  |             Types of Graph                          |\n",
    "|-----------------|-----------------------------------------------------|  \n",
    "|-----------------|     Undirected         |      Directed              |\n",
    "|-----------------|------------------------|----------------------------|\n",
    "|      BFS        |     Tree, Cross        | Tree, Back, Cross          |\n",
    "|-----------------|------------------------|----------------------------|\n",
    "|      DFS        |     Tree, Back         | Tree, Back, Cross, Forward |\n",
    "|-----------------------------------------------------------------------|\n",
    "'''\n",
    "```"
   ]
  },
  {
   "cell_type": "code",
   "execution_count": 66,
   "metadata": {},
   "outputs": [],
   "source": [
    "graph = {\n",
    "    0: [5],\n",
    "    1: [3, 7],\n",
    "    2: [4, 3, 8, 9],\n",
    "    3: [3],\n",
    "    4: [0],\n",
    "    5: [2, 0],\n",
    "    6: [0],\n",
    "    7: [7, 4, 3],\n",
    "    8: [8, 9],\n",
    "    9: [9]\n",
    "}\n",
    "\n",
    "graph1 = {\n",
    "    1: [2, 3, 8],\n",
    "    2: [4],\n",
    "    4: [6],\n",
    "    6: [2],\n",
    "    3: [5],\n",
    "    5: [4, 7, 8],\n",
    "}"
   ]
  },
  {
   "cell_type": "code",
   "execution_count": 67,
   "metadata": {},
   "outputs": [],
   "source": [
    "class Graph:\n",
    "    def __init__(self, graph):\n",
    "        self.graph = graph\n",
    "        self.nodes = []\n",
    "        for k, v in graph.items():\n",
    "            self.nodes = [*self.nodes, k, *v]\n",
    "        self.nodes = sorted(list(set(self.nodes)))\n",
    "        self.visited = {}\n",
    "        self.edge_type_list = []\n",
    "        self.time = 0\n",
    "        self.entry = {k: 0 for k in self.nodes}\n",
    "        self.exit = {k: 0 for k in self.nodes}\n",
    "\n",
    "    def identify_edges(self):\n",
    "        for node in self.graph:\n",
    "            if node in self.visited:\n",
    "                continue\n",
    "            self.dfs(node, self.graph)\n",
    "        for k, v, etype in self.edge_type_list:\n",
    "            print(f\"Edge of type {etype} from {k} --> {v}\")\n",
    "\n",
    "    def dfs(self, node, graph):\n",
    "        self.visited[node] = True\n",
    "        self.entry[node] = self.time\n",
    "        self.time += 1\n",
    "        for nbr in graph.get(node, []):\n",
    "            # print(f\"For node={node}, Entry={self.entry[node]}, Exit={self.exit[node]}\")\n",
    "            # print(f\"For nbr={nbr}, Entry={self.entry[nbr]}, Exit={self.exit[nbr]}\")\n",
    "            if nbr not in self.visited:\n",
    "                self.edge_type_list.append((node, nbr, 'Tree'))\n",
    "                self.dfs(nbr, graph)\n",
    "            else:\n",
    "                if self.entry[node] > self.entry[nbr] and self.exit[node] < self.exit[nbr]:\n",
    "                    self.edge_type_list.append((node, nbr, 'Cross'))\n",
    "                elif self.entry[node] > self.entry[nbr] and self.exit[nbr]==0:\n",
    "                    self.edge_type_list.append((node, nbr, 'Back'))\n",
    "                elif self.entry[node] < self.entry[nbr]  and self.exit[node] > self.exit[nbr]:\n",
    "                    self.edge_type_list.append((node, nbr, 'Forward'))\n",
    "            self.exit[node] = self.time\n",
    "            self.time += 1\n",
    "        return\n",
    "\n",
    "\n"
   ]
  },
  {
   "cell_type": "code",
   "execution_count": 77,
   "metadata": {},
   "outputs": [
    {
     "name": "stdout",
     "output_type": "stream",
     "text": [
      "Edge of type Tree from 0 --> 5\n",
      "Edge of type Tree from 5 --> 2\n",
      "Edge of type Tree from 2 --> 4\n",
      "Edge of type Back from 4 --> 0\n",
      "Edge of type Tree from 2 --> 3\n",
      "Edge of type Tree from 2 --> 8\n",
      "Edge of type Tree from 8 --> 9\n",
      "Edge of type Forward from 2 --> 9\n",
      "Edge of type Back from 5 --> 0\n",
      "Edge of type Cross from 1 --> 3\n",
      "Edge of type Tree from 1 --> 7\n",
      "Edge of type Cross from 6 --> 0\n"
     ]
    }
   ],
   "source": [
    "Graph(graph).identify_edges()"
   ]
  },
  {
   "cell_type": "code",
   "execution_count": 78,
   "metadata": {},
   "outputs": [
    {
     "name": "stdout",
     "output_type": "stream",
     "text": [
      "Edge of type Tree from 1 --> 2\n",
      "Edge of type Tree from 2 --> 4\n",
      "Edge of type Tree from 4 --> 6\n",
      "Edge of type Back from 6 --> 2\n",
      "Edge of type Tree from 1 --> 3\n",
      "Edge of type Tree from 3 --> 5\n",
      "Edge of type Cross from 5 --> 4\n",
      "Edge of type Tree from 5 --> 7\n",
      "Edge of type Tree from 5 --> 8\n",
      "Edge of type Forward from 1 --> 8\n"
     ]
    }
   ],
   "source": [
    "Graph(graph1).identify_edges()"
   ]
  },
  {
   "cell_type": "code",
   "execution_count": 92,
   "metadata": {},
   "outputs": [],
   "source": [
    "def detect_cycle(graph):\n",
    "    def check_cyclic(node, graph, visited, temv):\n",
    "        tempv.add(node)\n",
    "        for nbr in graph.get(node, []):\n",
    "            if nbr in visited:\n",
    "                continue\n",
    "            if nbr in tempv:\n",
    "                return True\n",
    "            is_cyclic = check_cyclic(nbr, graph, visited, tempv)\n",
    "            if is_cyclic:\n",
    "                return True\n",
    "            visited.add(node)\n",
    "        return False\n",
    "    visited = set()\n",
    "    for node in graph:\n",
    "        if node in visited:\n",
    "            continue\n",
    "        tempv = set()\n",
    "        is_cyclic = check_cyclic(node, graph, visited, tempv)\n",
    "        if is_cyclic:\n",
    "            return True\n",
    "    return False\n"
   ]
  },
  {
   "cell_type": "code",
   "execution_count": 93,
   "metadata": {},
   "outputs": [
    {
     "name": "stdout",
     "output_type": "stream",
     "text": [
      "\n",
      " Is graph = {1: [2, 3, 8], 2: [4], 4: [6], 6: [2], 3: [5], 5: [4, 7, 8]} cyclic = True \n",
      "\n",
      "\n",
      " Is graph = {0: [5], 1: [3, 7], 2: [4, 3, 8, 9], 3: [3], 4: [0], 5: [2, 0], 6: [0], 7: [7, 4, 3], 8: [8, 9], 9: [9]} cyclic = True \n",
      "\n",
      "\n",
      " Is graph = {1: [2, 3, 4], 2: [5], 5: [6], 3: [7], 4: [8], 8: [2]} cyclic = False \n",
      "\n"
     ]
    }
   ],
   "source": [
    "print(f\"\\n Is graph = {graph1} cyclic = {detect_cycle(graph1)} \\n\")\n",
    "print(f\"\\n Is graph = {graph} cyclic = {detect_cycle(graph)} \\n\")\n",
    "graph3 = {\n",
    "    1: [2, 3, 4],\n",
    "    2: [5],\n",
    "    5: [6],\n",
    "    3: [7],\n",
    "    4: [8],\n",
    "    8: [2]\n",
    "}\n",
    "print(f\"\\n Is graph = {graph3} cyclic = {detect_cycle(graph3)} \\n\")"
   ]
  },
  {
   "cell_type": "code",
   "execution_count": 99,
   "metadata": {},
   "outputs": [],
   "source": [
    "# Degree count\n",
    "# compute in_degree count for each node\n",
    "# start with a queue of 0 degree nodes\n",
    "# when processing such node, decrease in_degree of nbrs by 1\n",
    "# add in q if in_degree == 0\n",
    "# u ---> v => v has in_degree = 1\n",
    "from collections import deque\n",
    "def detect_cycle1(graph):\n",
    "    nodes = []\n",
    "    end_nodes = []\n",
    "    for node, nbrs in graph.items():\n",
    "        nodes = [*nodes, node, *nbrs]\n",
    "        end_nodes = [*end_nodes, *nbrs]\n",
    "    nodes = list(set(nodes))\n",
    "    in_degree = {node: 0 for node in nodes}\n",
    "    for node in end_nodes:\n",
    "        in_degree[node] += 1\n",
    "    nodeq = deque([\n",
    "        node \n",
    "        for node, in_degree_count in in_degree.items() \n",
    "        if in_degree_count==0\n",
    "    ])\n",
    "    visited = {}\n",
    "    top_order = []\n",
    "    while nodeq:\n",
    "        curr = nodeq.pop()\n",
    "        for nbr in graph.get(curr, []):\n",
    "            in_degree[nbr] -= 1\n",
    "            if in_degree[nbr] == 0:\n",
    "                nodeq.appendleft(nbr)\n",
    "        top_order.append(curr)\n",
    "    is_cyclic = len(top_order) < len(nodes)\n",
    "    return is_cyclic, top_order\n"
   ]
  },
  {
   "cell_type": "code",
   "execution_count": 100,
   "metadata": {},
   "outputs": [
    {
     "name": "stdout",
     "output_type": "stream",
     "text": [
      "\n",
      " For graph = \n",
      " {1: [2, 3, 4], 2: [5], 5: [6], 3: [7], 4: [8], 8: [2]} \n",
      " is it cyclic = (False, [1, 3, 4, 7, 8, 2, 5, 6]) \n",
      "\n",
      "\n",
      " For graph = \n",
      " {1: [2, 3, 8], 2: [4], 4: [6], 6: [2], 3: [5], 5: [4, 7, 8]} \n",
      " is it cyclic = (True, [1, 3, 5, 7, 8]) \n",
      "\n",
      "\n",
      " For graph = \n",
      " {0: [5], 1: [3, 7], 2: [4, 3, 8, 9], 3: [3], 4: [0], 5: [2, 0], 6: [0], 7: [7, 4, 3], 8: [8, 9], 9: [9]} \n",
      " is it cyclic = (True, [6, 1]) \n",
      "\n"
     ]
    }
   ],
   "source": [
    "print(f\"\\n For graph = \\n {graph3} \\n is it cyclic = {detect_cycle1(graph3)} \\n\")\n",
    "print(f\"\\n For graph = \\n {graph1} \\n is it cyclic = {detect_cycle1(graph1)} \\n\")\n",
    "print(f\"\\n For graph = \\n {graph} \\n is it cyclic = {detect_cycle1(graph)} \\n\")"
   ]
  },
  {
   "cell_type": "code",
   "execution_count": null,
   "metadata": {},
   "outputs": [],
   "source": []
  }
 ],
 "metadata": {
  "kernelspec": {
   "display_name": "Python 3",
   "language": "python",
   "name": "python3"
  },
  "language_info": {
   "codemirror_mode": {
    "name": "ipython",
    "version": 3
   },
   "file_extension": ".py",
   "mimetype": "text/x-python",
   "name": "python",
   "nbconvert_exporter": "python",
   "pygments_lexer": "ipython3",
   "version": "3.9.1 (tags/v3.9.1:1e5d33e, Dec  7 2020, 17:08:21) [MSC v.1927 64 bit (AMD64)]"
  },
  "orig_nbformat": 4,
  "vscode": {
   "interpreter": {
    "hash": "81794d4967e6c3204c66dcd87b604927b115b27c00565d3d43f05ba2f3a2cb0d"
   }
  }
 },
 "nbformat": 4,
 "nbformat_minor": 2
}
