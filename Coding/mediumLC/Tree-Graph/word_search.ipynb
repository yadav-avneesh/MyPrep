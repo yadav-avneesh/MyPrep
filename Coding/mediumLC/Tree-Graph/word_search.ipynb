{
 "cells": [
  {
   "cell_type": "code",
   "execution_count": 34,
   "id": "interstate-fleet",
   "metadata": {},
   "outputs": [],
   "source": [
    "\"\"\"\n",
    "Given an m x n grid of characters board and a string word, return true if word exists in the grid.\n",
    "\n",
    "The word can be constructed from letters of sequentially adjacent cells, where adjacent cells are horizontally or vertically neighboring. The same letter cell may not be used more than once.\n",
    "\n",
    " \n",
    "\n",
    "Example 1:\n",
    "    Input: board = [[\"A\",\"B\",\"C\",\"E\"],[\"S\",\"F\",\"C\",\"S\"],[\"A\",\"D\",\"E\",\"E\"]], word = \"ABCCED\"\n",
    "    Output: true\n",
    "\n",
    "Example 2:\n",
    "    Input: board = [[\"A\",\"B\",\"C\",\"E\"],[\"S\",\"F\",\"C\",\"S\"],[\"A\",\"D\",\"E\",\"E\"]], word = \"SEE\"\n",
    "    Output: true\n",
    "\n",
    "\n",
    "Example 3:\n",
    "    Input: board = [[\"A\",\"B\",\"C\",\"E\"],[\"S\",\"F\",\"C\",\"S\"],[\"A\",\"D\",\"E\",\"E\"]], word = \"ABCB\"\n",
    "    Output: false\n",
    " \n",
    "\n",
    "Constraints:\n",
    "    m == board.length\n",
    "    n = board[i].length\n",
    "    1 <= m, n <= 6\n",
    "    1 <= word.length <= 15\n",
    "    board and word consists of only lowercase and uppercase English letters.\n",
    " \n",
    "Follow up: \n",
    "    Could you use search pruning to make your solution faster with a larger board?\n",
    "\"\"\"\n",
    "\n",
    "# Works but slow !!\n",
    "class Solution:\n",
    "    def exist(self, board, word: str) -> bool:\n",
    "        R = len(board)\n",
    "        C = len(board[0])\n",
    "        def get_nbrs(r, c):\n",
    "            if r+1 < R:\n",
    "               yield r+1, c\n",
    "            if r - 1 >= 0:\n",
    "                yield r-1, c\n",
    "            if c + 1 < C:\n",
    "                yield r, c+1\n",
    "            if c - 1 >= 0:\n",
    "                yield r, c-1\n",
    "        def dfs(start, end, pos, visited):\n",
    "            if board[start][end] != word[pos]:\n",
    "                return False\n",
    "            if pos+1 >= len(word):\n",
    "                return True\n",
    "            visited.add((start, end))\n",
    "            for nr, nc in get_nbrs(start, end):\n",
    "                if (nr, nc) in visited:\n",
    "                    continue\n",
    "                if dfs(nr, nc, pos+1, visited):\n",
    "                    return True\n",
    "            visited.remove((start, end))\n",
    "            return False\n",
    "        for r in range(R):\n",
    "            for c in range(C):\n",
    "                if dfs(r, c, 0, set()):\n",
    "                    return True\n",
    "        return False"
   ]
  },
  {
   "cell_type": "code",
   "execution_count": null,
   "id": "cc7522d6",
   "metadata": {},
   "outputs": [],
   "source": [
    "# From neetcode\n",
    "from collections import Counter, defaultdict\n",
    "class Solution:\n",
    "    def exist(self, board, word: str) -> bool:\n",
    "        ROWS, COLS = len(board), len(board[0])\n",
    "        path = set()\n",
    "\n",
    "        def dfs(r, c, i):\n",
    "            if i == len(word):\n",
    "                return True\n",
    "            if (\n",
    "                min(r, c) < 0\n",
    "                or r >= ROWS\n",
    "                or c >= COLS\n",
    "                or word[i] != board[r][c]\n",
    "                or (r, c) in path\n",
    "            ):\n",
    "                return False\n",
    "            path.add((r, c))\n",
    "            res = (\n",
    "                dfs(r + 1, c, i + 1)\n",
    "                or dfs(r - 1, c, i + 1)\n",
    "                or dfs(r, c + 1, i + 1)\n",
    "                or dfs(r, c - 1, i + 1)\n",
    "            )\n",
    "            path.remove((r, c))\n",
    "            return res\n",
    "\n",
    "        # To prevent TLE,reverse the word if frequency of the first letter is more than the last letter's\n",
    "        count = defaultdict(int, sum(map(Counter, board), Counter()))\n",
    "        if count[word[0]] > count[word[-1]]:\n",
    "            word = word[::-1]\n",
    "\n",
    "        for r in range(ROWS):\n",
    "            for c in range(COLS):\n",
    "                if dfs(r, c, 0):\n",
    "                    return True\n",
    "        return False\n",
    "\n",
    "    # O(n * m * 4^n)"
   ]
  },
  {
   "cell_type": "code",
   "execution_count": null,
   "id": "41c84e22",
   "metadata": {},
   "outputs": [],
   "source": [
    "# Given a list of strings, search if the given word can be found in those.\n",
    "class Solution:\n",
    "    # @param A : list of strings\n",
    "    # @param B : string\n",
    "    # @return an integer\n",
    "    \n",
    "    def get_nbrs(self, r, c, R, C):\n",
    "        if r + 1 < R:\n",
    "             yield r+1, c\n",
    "        if r - 1 >= 0:\n",
    "            yield r-1, c\n",
    "        if c + 1 < C:\n",
    "            yield r, c+1\n",
    "        if c - 1 >= 0:\n",
    "            yield r, c-1\n",
    "\n",
    "    def do_dfs(self, nbrs, word, words, R, C):\n",
    "        if len(word) < 1:\n",
    "            return 1\n",
    "        for nbr in nbrs:\n",
    "            r, c = nbr\n",
    "            if words[r][c] != word[0]:\n",
    "                continue\n",
    "            is_found = self.do_dfs(list(self.get_nbrs(r, c, R, C)), word[1:], words, R, C)\n",
    "            if is_found:\n",
    "                return 1\n",
    "        return 0\n",
    "\n",
    "    def exist(self, A, B):\n",
    "        charmap = {}\n",
    "        for r, word in enumerate(A):\n",
    "            for c, l in enumerate(word):\n",
    "                if l not in charmap:\n",
    "                    charmap[l] = []\n",
    "                charmap[l].append((r, c))\n",
    "        if len(charmap.get(B[0], [])) == 0:\n",
    "            return 0\n",
    "        R, C = len(A), len(A[0])\n",
    "        return self.do_dfs(charmap[B[0]], B, A, R, C)\n",
    "                    \n",
    "                    \n"
   ]
  },
  {
   "cell_type": "code",
   "execution_count": 35,
   "id": "communist-prince",
   "metadata": {},
   "outputs": [],
   "source": [
    "A = [ \"GFDABEGEE\", \"DAEFEECCF\", \"CAGGEDCDG\", \"GCABEAAEA\", \"CFGCGEEFB\", \"AFFBADFFC\", \"ECAGGDFAD\" ]\n",
    "B = \"DFFBFDACBF\""
   ]
  },
  {
   "cell_type": "code",
   "execution_count": 36,
   "id": "affecting-centre",
   "metadata": {},
   "outputs": [
    {
     "name": "stdout",
     "output_type": "stream",
     "text": [
      "7 GFDABEGEE DAEFEECCF CAGGEDCDG GCABEAAEA CFGCGEEFB AFFBADFFC ECAGGDFAD\n",
      "DFFBFDACBF\n"
     ]
    }
   ],
   "source": [
    "print(len(A), ' '.join(A))\n",
    "print(B)"
   ]
  },
  {
   "cell_type": "code",
   "execution_count": 37,
   "id": "necessary-indicator",
   "metadata": {},
   "outputs": [
    {
     "data": {
      "text/plain": [
       "0"
      ]
     },
     "execution_count": 37,
     "metadata": {},
     "output_type": "execute_result"
    }
   ],
   "source": [
    "Solution().exist(A, B)"
   ]
  },
  {
   "cell_type": "code",
   "execution_count": null,
   "id": "dimensional-fifty",
   "metadata": {},
   "outputs": [],
   "source": []
  },
  {
   "cell_type": "code",
   "execution_count": null,
   "id": "civic-twenty",
   "metadata": {},
   "outputs": [],
   "source": []
  }
 ],
 "metadata": {
  "kernelspec": {
   "display_name": "Python 3",
   "language": "python",
   "name": "python3"
  },
  "language_info": {
   "codemirror_mode": {
    "name": "ipython",
    "version": 3
   },
   "file_extension": ".py",
   "mimetype": "text/x-python",
   "name": "python",
   "nbconvert_exporter": "python",
   "pygments_lexer": "ipython3",
   "version": "3.9.1"
  }
 },
 "nbformat": 4,
 "nbformat_minor": 5
}
