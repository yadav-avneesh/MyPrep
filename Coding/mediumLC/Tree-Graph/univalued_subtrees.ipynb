{
 "cells": [
  {
   "cell_type": "code",
   "execution_count": null,
   "metadata": {},
   "outputs": [],
   "source": [
    "\"\"\"\n",
    "A binary tree is uni-valued if every node in the tree has the same value.\n",
    "\n",
    "Given the root of a binary tree, return true if the given tree is uni-valued, or false otherwise.\n",
    "\n",
    " \n",
    "\n",
    "Example 1:\n",
    "    Input: root = [1,1,1,1,1,null,1]\n",
    "    Output: true\n",
    "\n",
    "\n",
    "Example 2:\n",
    "    Input: root = [2,2,2,5,2]\n",
    "    Output: false\n",
    " \n",
    "\n",
    "Constraints:\n",
    "    The number of nodes in the tree is in the range [1, 100].\n",
    "    0 <= Node.val < 100\n",
    "\"\"\"\n",
    "\n",
    "from typing import Optional\n",
    "\n",
    "# Definition for a binary tree node.\n",
    "class TreeNode:\n",
    "    def __init__(self, val=0, left=None, right=None):\n",
    "        self.val = val\n",
    "        self.left = left\n",
    "        self.right = right\n",
    "\n",
    "class Solution:\n",
    "    def isUnivalTree(self, root: Optional[TreeNode]) -> bool:       \n",
    "        if not root:\n",
    "            return True\n",
    "        if root.left and root.left.val != root.val:\n",
    "            return False\n",
    "        if root.right and root.right.val != root.val:\n",
    "            return False\n",
    "        return self.isUnivalTree(root.left) and self.isUnivalTree(root.right)"
   ]
  }
 ],
 "metadata": {
  "language_info": {
   "name": "python"
  },
  "orig_nbformat": 4
 },
 "nbformat": 4,
 "nbformat_minor": 2
}
