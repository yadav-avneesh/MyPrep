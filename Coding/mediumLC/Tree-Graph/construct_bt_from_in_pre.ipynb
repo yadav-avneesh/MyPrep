{
 "cells": [
  {
   "cell_type": "code",
   "execution_count": null,
   "metadata": {},
   "outputs": [],
   "source": [
    "\"\"\"\n",
    "Given two integer arrays preorder and inorder where preorder is the preorder traversal of a binary tree and inorder is the inorder traversal of the same tree, construct and return the binary tree.\n",
    "\n",
    "Example 1:\n",
    "    Input: preorder = [3,9,20,15,7], inorder = [9,3,15,20,7]\n",
    "    Output: [3,9,20,null,null,15,7]\n",
    "\n",
    "Example 2:\n",
    "    Input: preorder = [-1], inorder = [-1]\n",
    "    Output: [-1]\n",
    " \n",
    "\n",
    "Constraints:\n",
    "    1 <= preorder.length <= 3000\n",
    "    inorder.length == preorder.length\n",
    "    -3000 <= preorder[i], inorder[i] <= 3000\n",
    "    preorder and inorder consist of unique values.\n",
    "    Each value of inorder also appears in preorder.\n",
    "    preorder is guaranteed to be the preorder traversal of the tree.\n",
    "    inorder is guaranteed to be the inorder traversal of the tree.\n",
    "\"\"\"\n",
    "\n",
    "# Definition for a binary tree node.\n",
    "\n",
    "class TreeNode:\n",
    "    def __init__(self, val=0, left=None, right=None):\n",
    "        self.val = val\n",
    "        self.left = left\n",
    "        self.right = right\n",
    "\n",
    "class Solution:\n",
    "    def buildTree(self, preorder, inorder):\n",
    "        node_idx = {node:idx for idx, node in enumerate(inorder)}\n",
    "        pre_idx  = 0\n",
    "        def buildbt(in_start, in_end):\n",
    "            nonlocal pre_idx\n",
    "            if in_start > in_end:\n",
    "                return None\n",
    "            root   = TreeNode(preorder[pre_idx])\n",
    "            pre_idx += 1\n",
    "            in_idx = node_idx[root.val]\n",
    "            root.left = buildbt(in_start, in_idx-1)\n",
    "            root.right= buildbt(in_idx+1, in_end)\n",
    "            return root\n",
    "        return buildbt(0, len(inorder)-1)\n",
    "            "
   ]
  }
 ],
 "metadata": {
  "language_info": {
   "name": "python"
  },
  "orig_nbformat": 4
 },
 "nbformat": 4,
 "nbformat_minor": 2
}
