{
 "cells": [
  {
   "cell_type": "code",
   "execution_count": null,
   "metadata": {},
   "outputs": [],
   "source": [
    "'''\n",
    "\n",
    "Given a 2D matrix matrix, handle multiple queries of the following type:\n",
    "\n",
    "Calculate the sum of the elements of matrix inside the rectangle defined by its upper left corner (row1, col1) and lower right corner (row2, col2).\n",
    "Implement the NumMatrix class:\n",
    "\n",
    "NumMatrix(int[][] matrix) Initializes the object with the integer matrix matrix.\n",
    "int sumRegion(int row1, int col1, int row2, int col2) Returns the sum of the elements of matrix inside the rectangle defined by its upper left corner (row1, col1) and lower right corner (row2, col2).\n",
    "You must design an algorithm where sumRegion works on O(1) time complexity.\n",
    "\n",
    " \n",
    "\n",
    "Example 1:\n",
    "\n",
    "    Input\n",
    "    [\"NumMatrix\", \"sumRegion\", \"sumRegion\", \"sumRegion\"]\n",
    "    [[[[3, 0, 1, 4, 2], [5, 6, 3, 2, 1], [1, 2, 0, 1, 5], [4, 1, 0, 1, 7], [1, 0, 3, 0, 5]]], [2, 1, 4, 3], [1, 1, 2, 2], [1, 2, 2, 4]]\n",
    "    Output\n",
    "    [null, 8, 11, 12]\n",
    "\n",
    "    Explanation\n",
    "    NumMatrix numMatrix = new NumMatrix([[3, 0, 1, 4, 2], [5, 6, 3, 2, 1], [1, 2, 0, 1, 5], [4, 1, 0, 1, 7], [1, 0, 3, 0, 5]]);\n",
    "    numMatrix.sumRegion(2, 1, 4, 3); // return 8 (i.e sum of the red rectangle)\n",
    "    numMatrix.sumRegion(1, 1, 2, 2); // return 11 (i.e sum of the green rectangle)\n",
    "    numMatrix.sumRegion(1, 2, 2, 4); // return 12 (i.e sum of the blue rectangle)\n",
    " \n",
    "\n",
    "Constraints:\n",
    "\n",
    "    m == matrix.length\n",
    "    n == matrix[i].length\n",
    "    1 <= m, n <= 200\n",
    "    -104 <= matrix[i][j] <= 104\n",
    "    0 <= row1 <= row2 < m\n",
    "    0 <= col1 <= col2 < n\n",
    "    At most 104 calls will be made to sumRegion.\n",
    "\n",
    "TIP:\n",
    "    1. store corner sum\n",
    "    2. Another example where dummy space is useful for not worrying about corner cases. --> padding with 1 more row and col.\n",
    "    0 0 0\n",
    "    0 1 2\n",
    "    0 3 4\n",
    "'''\n",
    "\n",
    "class NumMatrix:\n",
    "    def __init__(self, matrix):\n",
    "        m = len(matrix)\n",
    "        n = len(matrix[0])\n",
    "        psum = [[0 for i in range(n+1)] for j in range(m+1)]\n",
    "        for i in range(1, m+1):\n",
    "            for j in range(1, n+1):\n",
    "                psum[i][j] = psum[i][j-1] + psum[i-1][j] + matrix[i-1][j-1] - psum[i-1][j-1]\n",
    "        self.psum = psum\n",
    "\n",
    "    def sumRegion(self, row1: int, col1: int, row2: int, col2: int) -> int:\n",
    "        return self.psum[row2+1][col2+1] - self.psum[row2+1][col1] - self.psum[row1][col2+1] + self.psum[row1][col1]\n",
    "\n",
    "\n",
    "# Your NumMatrix object will be instantiated and called as such:\n",
    "# obj = NumMatrix(matrix)\n",
    "# param_1 = obj.sumRegion(row1,col1,row2,col2)"
   ]
  }
 ],
 "metadata": {
  "kernelspec": {
   "display_name": "Python 3",
   "language": "python",
   "name": "python3"
  },
  "language_info": {
   "name": "python",
   "version": "3.9.1 (tags/v3.9.1:1e5d33e, Dec  7 2020, 17:08:21) [MSC v.1927 64 bit (AMD64)]"
  },
  "orig_nbformat": 4,
  "vscode": {
   "interpreter": {
    "hash": "81794d4967e6c3204c66dcd87b604927b115b27c00565d3d43f05ba2f3a2cb0d"
   }
  }
 },
 "nbformat": 4,
 "nbformat_minor": 2
}
