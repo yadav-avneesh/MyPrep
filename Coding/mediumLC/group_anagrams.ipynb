{
 "cells": [
  {
   "cell_type": "code",
   "execution_count": 11,
   "metadata": {},
   "outputs": [],
   "source": [
    "\"\"\"\n",
    "Given an array of strings strs, group the anagrams together. You can return the answer in any order.\n",
    "\n",
    "An Anagram is a word or phrase formed by rearranging the letters of a different word or phrase, \n",
    "typically using all the original letters exactly once.\n",
    "\n",
    " \n",
    "\n",
    "Example 1:\n",
    "\n",
    "Input: strs = [\"eat\",\"tea\",\"tan\",\"ate\",\"nat\",\"bat\"]\n",
    "Output: [[\"bat\"],[\"nat\",\"tan\"],[\"ate\",\"eat\",\"tea\"]]\n",
    "\n",
    "\n",
    "Example 2:\n",
    "\n",
    "Input: strs = [\"\"]\n",
    "Output: [[\"\"]]\n",
    "\n",
    "\n",
    "Example 3:\n",
    "\n",
    "Input: strs = [\"a\"]\n",
    "Output: [[\"a\"]]\n",
    " \n",
    "\n",
    "Constraints:\n",
    "\n",
    "1 <= strs.length <= 104\n",
    "0 <= strs[i].length <= 100\n",
    "strs[i] consists of lowercase English letters.\n",
    "\"\"\"\n",
    "from collections import defaultdict as dd\n",
    "class Solution:\n",
    "    def groupAnagrams(self, strs):\n",
    "        char_idx = {chr(ord(\"a\")+i):i for i in range(26)}\n",
    "        agrp = dd(lambda:[])\n",
    "        dkey = [0]*26\n",
    "        for word in strs:\n",
    "            curr_code = dkey[:]\n",
    "            for char in word:\n",
    "                curr_code[char_idx[char]] += 1\n",
    "            curr_key = '_'.join(map(str, curr_code))\n",
    "            agrp[curr_key].append(word)\n",
    "        return agrp.values()"
   ]
  },
  {
   "cell_type": "code",
   "execution_count": 12,
   "metadata": {},
   "outputs": [],
   "source": [
    "from collections import defaultdict as dd\n",
    "class Solution:\n",
    "    def groupAnagrams(self, strs):\n",
    "        char_idx = {chr(ord(\"a\")+i):i for i in range(26)}\n",
    "        idx_char = {v: k for k, v in char_idx.items()}\n",
    "        agrp = dd(lambda:[])\n",
    "        dkey = [0]*26\n",
    "        for word in strs:\n",
    "            curr_code = dkey[:]\n",
    "            for char in word:\n",
    "                curr_code[char_idx[char]] += 1\n",
    "            curr_key = ''\n",
    "            for idx, count in enumerate(curr_code):\n",
    "                if count > 0:\n",
    "                    curr_key = f\"{curr_key}{idx_char[idx]}{count}\"\n",
    "            agrp[curr_key].append(word)\n",
    "        return agrp.values()  "
   ]
  },
  {
   "cell_type": "code",
   "execution_count": 13,
   "metadata": {},
   "outputs": [],
   "source": [
    "class Solution:\n",
    "    def groupAnagrams(self, strs):\n",
    "        idx_char = \"abcdefghijklmnopqrstuvwxyz\"\n",
    "        char_idx = {char:idx for idx, char in enumerate(idx_char)}\n",
    "        agrp = {}\n",
    "        dkey = [0]*26\n",
    "        for word in strs:\n",
    "            curr_code = dkey[:]\n",
    "            for char in word:\n",
    "                curr_code[char_idx[char]] += 1\n",
    "            curr_key = ''\n",
    "            for idx, count in enumerate(curr_code):\n",
    "                if count > 0:\n",
    "                    curr_key = f\"{curr_key}{idx_char[idx]}{count}\"\n",
    "            if curr_key in agrp:\n",
    "                agrp[curr_key].append(word)\n",
    "            else:\n",
    "                agrp[curr_key] = [word]\n",
    "        return agrp.values()"
   ]
  },
  {
   "cell_type": "code",
   "execution_count": 14,
   "metadata": {},
   "outputs": [],
   "source": [
    "class Solution:\n",
    "    def groupAnagrams(self, strs):\n",
    "        result = {}\n",
    "        init_k = [0]*26\n",
    "        for word in strs:\n",
    "            curr_code = init_k[:]\n",
    "            for char in word:\n",
    "                curr_code[ord(char)-ord('a')] += 1\n",
    "            curr_key = tuple(curr_code)\n",
    "            if curr_key in result:\n",
    "                result[curr_key].append(word)\n",
    "            else:\n",
    "                result[curr_key] = [word]\n",
    "        return result.values()   \n"
   ]
  },
  {
   "cell_type": "code",
   "execution_count": null,
   "metadata": {},
   "outputs": [],
   "source": []
  }
 ],
 "metadata": {
  "kernelspec": {
   "display_name": "Python 3.9.1 64-bit",
   "language": "python",
   "name": "python3"
  },
  "language_info": {
   "codemirror_mode": {
    "name": "ipython",
    "version": 3
   },
   "file_extension": ".py",
   "mimetype": "text/x-python",
   "name": "python",
   "nbconvert_exporter": "python",
   "pygments_lexer": "ipython3",
   "version": "3.9.1"
  },
  "orig_nbformat": 4,
  "vscode": {
   "interpreter": {
    "hash": "81794d4967e6c3204c66dcd87b604927b115b27c00565d3d43f05ba2f3a2cb0d"
   }
  }
 },
 "nbformat": 4,
 "nbformat_minor": 2
}
