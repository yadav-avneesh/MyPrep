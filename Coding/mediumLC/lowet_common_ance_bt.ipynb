{
 "cells": [
  {
   "cell_type": "code",
   "execution_count": 1,
   "metadata": {},
   "outputs": [],
   "source": [
    "'''\n",
    "\n",
    "Given a binary tree, find the lowest common ancestor (LCA) of two given nodes in the tree.\n",
    "\n",
    "According to the definition of LCA on Wikipedia: “The lowest common ancestor is defined between two nodes p and q as the lowest node in T that has both p and q as descendants (where we allow a node to be a descendant of itself).”\n",
    "\n",
    " \n",
    "\n",
    "Example 1:\n",
    "\n",
    "    Input: root = [3,5,1,6,2,0,8,null,null,7,4], p = 5, q = 1\n",
    "    Output: 3\n",
    "\n",
    "    Explanation: The LCA of nodes 5 and 1 is 3.\n",
    "\n",
    "\n",
    "Example 2:\n",
    "\n",
    "    Input: root = [3,5,1,6,2,0,8,null,null,7,4], p = 5, q = 4\n",
    "    Output: 5\n",
    "\n",
    "    Explanation: The LCA of nodes 5 and 4 is 5, since a node can be a descendant of itself according to the LCA definition.\n",
    "\n",
    "\n",
    "Example 3:\n",
    "    Input: root = [1,2], p = 1, q = 2\n",
    "    Output: 1\n",
    "\n",
    "\n",
    "Constraints:\n",
    "    The number of nodes in the tree is in the range [2, 105].\n",
    "    -109 <= Node.val <= 109\n",
    "    All Node.val are unique.\n",
    "    p != q\n",
    "    p and q will exist in the tree.\n",
    "\n",
    "\n",
    "TIP:\n",
    "    1. Sol1\n",
    "        a. root -> n1 path; root -> n2 path; \n",
    "        b. node just before first dissimilarity in path from root is LCA\n",
    "    2. Sol2\n",
    "        a. root == n1 or root == n2 then root is lca\n",
    "        b. 3 cases\n",
    "            1. n1, n2 in left --> not found in right\n",
    "            2. n1, n2 in right ---> not found in left\n",
    "            3. n1, n2 split in left and right\n",
    "        c. do left_lca, right_lca\n",
    "            1. one of left_lca or right_lca is None \n",
    "                a.then that will be the lca\n",
    "            2. If both left and right lca not None\n",
    "                a. current root will be lca\n",
    "        d. Also need to check if both n1 and n2 in tree\n",
    "        e. Sort of pre-order and propagating parent.\n",
    "'''\n",
    "# Definition for a binary tree node.\n",
    "\n",
    "class TreeNode:\n",
    "    def __init__(self, x):\n",
    "        self.val = x\n",
    "        self.left = None\n",
    "        self.right = None"
   ]
  },
  {
   "cell_type": "code",
   "execution_count": 2,
   "metadata": {},
   "outputs": [],
   "source": [
    "class Solution:\n",
    "    def lowestCommonAncestor(self, root, p, q):\n",
    "        if not root:\n",
    "            return None\n",
    "        if root.val == p.val or root.val == q.val:\n",
    "            return root\n",
    "        l_lca = self.lowestCommonAncestor(root.left, p, q)\n",
    "        r_lca = self.lowestCommonAncestor(root.right, p, q)\n",
    "        if l_lca and r_lca:\n",
    "            return root\n",
    "        return l_lca if l_lca else r_lca"
   ]
  },
  {
   "cell_type": "code",
   "execution_count": null,
   "metadata": {},
   "outputs": [],
   "source": [
    "class Solution:\n",
    "    def lowestCommonAncestor(self, root, p, q):\n",
    "        def lca(root):\n",
    "            if not root:\n",
    "                return None\n",
    "            if root.val == p.val or root.val == q.val:\n",
    "                return root\n",
    "            l_lca = lca(root.left)\n",
    "            r_lca = lca(root.right)\n",
    "            if l_lca and r_lca:\n",
    "                return root\n",
    "            return l_lca or r_lca\n",
    "        return lca(root)"
   ]
  }
 ],
 "metadata": {
  "kernelspec": {
   "display_name": "Python 3",
   "language": "python",
   "name": "python3"
  },
  "language_info": {
   "codemirror_mode": {
    "name": "ipython",
    "version": 3
   },
   "file_extension": ".py",
   "mimetype": "text/x-python",
   "name": "python",
   "nbconvert_exporter": "python",
   "pygments_lexer": "ipython3",
   "version": "3.9.1 (tags/v3.9.1:1e5d33e, Dec  7 2020, 17:08:21) [MSC v.1927 64 bit (AMD64)]"
  },
  "orig_nbformat": 4,
  "vscode": {
   "interpreter": {
    "hash": "81794d4967e6c3204c66dcd87b604927b115b27c00565d3d43f05ba2f3a2cb0d"
   }
  }
 },
 "nbformat": 4,
 "nbformat_minor": 2
}
