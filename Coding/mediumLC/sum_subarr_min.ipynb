{
 "cells": [
  {
   "cell_type": "code",
   "execution_count": null,
   "metadata": {},
   "outputs": [],
   "source": [
    "\"\"\"\n",
    "Given an array of integers arr, find the sum of min(b), where b ranges over every (contiguous) subarray of arr. Since the answer may be large, return the answer modulo 109 + 7.\n",
    "\n",
    " \n",
    "\n",
    "Example 1:\n",
    "\n",
    "Input: arr = [3,1,2,4]\n",
    "Output: 17\n",
    "Explanation: \n",
    "Subarrays are [3], [1], [2], [4], [3,1], [1,2], [2,4], [3,1,2], [1,2,4], [3,1,2,4]. \n",
    "Minimums are 3, 1, 2, 4, 1, 1, 2, 1, 1, 1.\n",
    "Sum is 17.\n",
    "Example 2:\n",
    "\n",
    "Input: arr = [11,81,94,43,3]\n",
    "Output: 444\n",
    " \n",
    "\n",
    "Constraints:\n",
    "\n",
    "1 <= arr.length <= 3 * 104\n",
    "1 <= arr[i] <= 3 * 104\n",
    "\"\"\"\n",
    "class Solution:\n",
    "    def sumSubarrayMins(self, arr):\n",
    "        mod = 1000000007\n",
    "        "
   ]
  }
 ],
 "metadata": {
  "kernelspec": {
   "display_name": "Python 3",
   "language": "python",
   "name": "python3"
  },
  "language_info": {
   "name": "python",
   "version": "3.10.10"
  },
  "orig_nbformat": 4,
  "vscode": {
   "interpreter": {
    "hash": "3edb2e6d3596951c1c4c3a75c2c247efbb96f97e3cd7969e8779ee080f09f46b"
   }
  }
 },
 "nbformat": 4,
 "nbformat_minor": 2
}
