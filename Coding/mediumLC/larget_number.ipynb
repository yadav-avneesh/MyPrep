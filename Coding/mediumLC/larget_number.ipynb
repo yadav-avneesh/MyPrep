{
 "cells": [
  {
   "cell_type": "code",
   "execution_count": 35,
   "metadata": {},
   "outputs": [],
   "source": [
    "'''\n",
    "Given a list of non-negative integers nums, arrange them such that they form the largest number and return it.\n",
    "\n",
    "Since the result may be very large, so you need to return a string instead of an integer.\n",
    "\n",
    " \n",
    "\n",
    "Example 1:\n",
    "    Input: nums = [10,2]\n",
    "    Output: \"210\"\n",
    "\n",
    "Example 2:\n",
    "    Input: nums = [3,30,34,5,9]\n",
    "    Output: \"9534330\"\n",
    " \n",
    "\n",
    "Constraints:\n",
    "    1 <= nums.length <= 100\n",
    "    0 <= nums[i] <= 109\n",
    "\n",
    "\n",
    "Tip::\n",
    "    1. Consider corner case of all 0s.\n",
    "        a. If leading 0 in largest number than \"0\" can be returned\n",
    "    2. Comparator function learn to use cpm_to_key;\n",
    "\n",
    "'''\n",
    "from functools import cmp_to_key\n",
    "class Solution:\n",
    "    def largestNumber(self, nums):\n",
    "        if all([num==0 for num in nums]):\n",
    "            return \"0\"\n",
    "        snums = list(map(str, nums))\n",
    "        def compare(x, y):\n",
    "            a = f'{x}{y}'\n",
    "            b = f'{y}{x}'\n",
    "            if a > b:\n",
    "                return 1\n",
    "            elif a < b:\n",
    "                return -1\n",
    "            else:\n",
    "                return 0\n",
    "        return \"\".join(sorted(snums, key=cmp_to_key(compare), reverse=True))"
   ]
  },
  {
   "cell_type": "code",
   "execution_count": 36,
   "metadata": {},
   "outputs": [
    {
     "data": {
      "text/plain": [
       "[30, 3, 34, 580, 58, 588, 59, 98, 995, 99, 99, 9]"
      ]
     },
     "execution_count": 36,
     "metadata": {},
     "output_type": "execute_result"
    }
   ],
   "source": [
    "from functools import cmp_to_key\n",
    "def compare_large(x, y):\n",
    "    a = str(x)+str(y)\n",
    "    b = str(y)+str(x)\n",
    "    if a > b:\n",
    "        return 1\n",
    "    elif a < b:\n",
    "        return -1\n",
    "    else:\n",
    "        return 0\n",
    "l = [3, 30, 34, 59, 58, 580, 588, 99, 99, 98, 995, 9]\n",
    "sorted(l, key=cmp_to_key(compare_large))"
   ]
  },
  {
   "cell_type": "code",
   "execution_count": 37,
   "metadata": {},
   "outputs": [],
   "source": [
    "from functools import cmp_to_key\n",
    "\n",
    "class Solution:\n",
    "    def largestNumber(self, nums):\n",
    "        zeros = 0\n",
    "        count = 0\n",
    "        for n in nums:\n",
    "            if n == 0:\n",
    "                zeros += 1\n",
    "            count += 1\n",
    "        if zeros == count:\n",
    "            return \"0\"\n",
    "        snums = list(map(str, nums))\n",
    "        def compare(x, y):\n",
    "            a = f'{x}{y}'\n",
    "            b = f'{y}{x}'\n",
    "            if a > b:\n",
    "                return 1\n",
    "            elif a < b:\n",
    "                return -1\n",
    "            else:\n",
    "                return 0\n",
    "        return \"\".join(sorted(snums, key=cmp_to_key(compare), reverse=True))"
   ]
  },
  {
   "cell_type": "code",
   "execution_count": null,
   "metadata": {},
   "outputs": [],
   "source": [
    "from functools import cmp_to_key\n",
    "\n",
    "class Solution:\n",
    "    def largestNumber(self, nums):\n",
    "        snums  = map(str, nums)\n",
    "        result = \"\".join(sorted(\n",
    "                        snums, \n",
    "                        key=cmp_to_key(lambda x, y: 1 if x+y>y+x else -1), reverse=True\n",
    "                    )\n",
    "                )\n",
    "        return \"0\" if result[0]==\"0\" else result"
   ]
  }
 ],
 "metadata": {
  "kernelspec": {
   "display_name": "Python 3.9.1 64-bit",
   "language": "python",
   "name": "python3"
  },
  "language_info": {
   "codemirror_mode": {
    "name": "ipython",
    "version": 3
   },
   "file_extension": ".py",
   "mimetype": "text/x-python",
   "name": "python",
   "nbconvert_exporter": "python",
   "pygments_lexer": "ipython3",
   "version": "3.9.1"
  },
  "orig_nbformat": 4,
  "vscode": {
   "interpreter": {
    "hash": "81794d4967e6c3204c66dcd87b604927b115b27c00565d3d43f05ba2f3a2cb0d"
   }
  }
 },
 "nbformat": 4,
 "nbformat_minor": 2
}
