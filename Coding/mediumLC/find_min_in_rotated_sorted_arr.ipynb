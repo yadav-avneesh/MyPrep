{
 "cells": [
  {
   "cell_type": "code",
   "execution_count": 38,
   "metadata": {},
   "outputs": [],
   "source": [
    "\"\"\"\n",
    "Suppose an array of length n sorted in ascending order is rotated between 1 and n times. \n",
    "For example, the array nums = [0,1,2,4,5,6,7] might become:\n",
    "\n",
    "[4,5,6,7,0,1,2] if it was rotated 4 times.\n",
    "[0,1,2,4,5,6,7] if it was rotated 7 times.\n",
    "Notice that rotating an array [a[0], a[1], a[2], ..., a[n-1]] \n",
    "1 time results in the array [a[n-1], a[0], a[1], a[2], ..., a[n-2]].\n",
    "\n",
    "Given the sorted rotated array nums of unique elements, return the \n",
    "minimum element of this array.\n",
    "\n",
    "You must write an algorithm that runs in O(log n) time.\n",
    "\n",
    " \n",
    "\n",
    "Example 1:\n",
    "    Input: nums = [3,4,5,1,2]\n",
    "    Output: 1\n",
    "    Explanation: The original array was [1,2,3,4,5] rotated 3 times.\n",
    "\n",
    "\n",
    "Example 2:\n",
    "    Input: nums = [4,5,6,7,0,1,2]\n",
    "    Output: 0\n",
    "    Explanation: The original array was [0,1,2,4,5,6,7] and it was rotated 4 times.\n",
    "\n",
    "\n",
    "Example 3:\n",
    "    Input: nums = [11,13,15,17]\n",
    "    Output: 11\n",
    "    Explanation: The original array was [11,13,15,17] and it was rotated 4 times. \n",
    " \n",
    "\n",
    "Constraints:\n",
    "    n == nums.length\n",
    "    1 <= n <= 5000\n",
    "    -5000 <= nums[i] <= 5000\n",
    "    All the integers of nums are unique.\n",
    "    nums is sorted and rotated between 1 and n times.\n",
    "\n",
    "TIP:\n",
    "    : From mid you check for condition to be minimun\n",
    "    : Move l or r to mid based on mid & nums[0] and also the fact that nums[l] and nums[r] comparison.\n",
    "\"\"\"\n",
    "\n",
    "\n",
    "# Best solution for unique\n",
    "class Solution:\n",
    "    def findMin(self, nums):\n",
    "        l = 0\n",
    "        r = len(nums)-1\n",
    "        while l < r: # ----- important\n",
    "            mid = l + (r-l)//2\n",
    "            if nums[mid] >= nums[r]: # ---- pivoting on l\n",
    "                l = mid + 1\n",
    "            else:\n",
    "                r = mid\n",
    "        return nums[l]\n",
    "\n",
    "class Solution:\n",
    "    def findMin(self, nums):\n",
    "        l = 0\n",
    "        r = len(nums)-1\n",
    "        result = None\n",
    "        while l <= r:\n",
    "            mid = l + (r-l)//2\n",
    "            is_mid_lt_r = True if (mid >= len(nums)-1) else nums[mid] <= nums[mid+1]\n",
    "            is_mid_lt_l = True if (mid <= 0) else nums[mid] <= nums[mid-1]\n",
    "            # print(nums[mid], mid, is_mid_lt_r, is_mid_lt_l)\n",
    "            if is_mid_lt_l and is_mid_lt_r:\n",
    "                result = nums[mid]\n",
    "                break\n",
    "            if nums[mid] >= nums[0] and nums[l] >= nums[r]:\n",
    "                l = mid + 1\n",
    "            else:\n",
    "                r = mid - 1\n",
    "        return result\n",
    "\n"
   ]
  },
  {
   "cell_type": "code",
   "execution_count": 40,
   "metadata": {},
   "outputs": [
    {
     "name": "stdout",
     "output_type": "stream",
     "text": [
      "20 4 False False\n",
      "12 7 True False\n",
      "11 5 True True\n"
     ]
    },
    {
     "data": {
      "text/plain": [
       "11"
      ]
     },
     "execution_count": 40,
     "metadata": {},
     "output_type": "execute_result"
    }
   ],
   "source": [
    "Solution().findMin([16, 17, 18, 19, 20, 11, 11, 12, 14, 15])"
   ]
  },
  {
   "cell_type": "code",
   "execution_count": 41,
   "metadata": {},
   "outputs": [],
   "source": [
    "class Solution:\n",
    "    def findMin(self, nums):\n",
    "        l = 0\n",
    "        r = len(nums)-1\n",
    "        mid = 0\n",
    "        while l <= r:\n",
    "            mid = l + (r-l)//2\n",
    "            if nums[max(0, mid-1)] >= nums[mid] <= nums[min(mid+1, len(nums)-1)]:\n",
    "                break\n",
    "            if nums[mid] >= nums[0] and nums[l] >= nums[r]:\n",
    "                l = mid + 1\n",
    "            else:\n",
    "                r = mid - 1  \n",
    "        return nums[mid]"
   ]
  },
  {
   "cell_type": "code",
   "execution_count": null,
   "metadata": {},
   "outputs": [],
   "source": [
    "# If Unique elements\n",
    "class Solution:\n",
    "    def findMin(self, nums):\n",
    "        l = 0\n",
    "        r = len(nums)-1\n",
    "        mid = 0\n",
    "        while l <= r:\n",
    "            mid = l + (r-l)//2\n",
    "            if nums[mid] < nums[max(0, mid-1)]:\n",
    "                break\n",
    "            if nums[mid] >= nums[0] and nums[l] > nums[r]:\n",
    "                l = mid + 1\n",
    "            else:\n",
    "                r = mid - 1  \n",
    "        return nums[mid]"
   ]
  }
 ],
 "metadata": {
  "kernelspec": {
   "display_name": "Python 3",
   "language": "python",
   "name": "python3"
  },
  "language_info": {
   "codemirror_mode": {
    "name": "ipython",
    "version": 3
   },
   "file_extension": ".py",
   "mimetype": "text/x-python",
   "name": "python",
   "nbconvert_exporter": "python",
   "pygments_lexer": "ipython3",
   "version": "3.10.10"
  },
  "orig_nbformat": 4,
  "vscode": {
   "interpreter": {
    "hash": "3edb2e6d3596951c1c4c3a75c2c247efbb96f97e3cd7969e8779ee080f09f46b"
   }
  }
 },
 "nbformat": 4,
 "nbformat_minor": 2
}
