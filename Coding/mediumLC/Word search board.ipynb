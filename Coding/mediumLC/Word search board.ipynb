{
 "cells": [
  {
   "cell_type": "code",
   "execution_count": 34,
   "id": "interstate-fleet",
   "metadata": {},
   "outputs": [],
   "source": [
    "class Solution:\n",
    "    # @param A : list of strings\n",
    "    # @param B : string\n",
    "    # @return an integer\n",
    "    \n",
    "    def get_nbrs(self, r, c, R, C):\n",
    "        if r + 1 < R:\n",
    "             yield r+1, c\n",
    "        if r - 1 >= 0:\n",
    "            yield r-1, c\n",
    "        if c + 1 < C:\n",
    "            yield r, c+1\n",
    "        if c - 1 >= 0:\n",
    "            yield r, c-1\n",
    "\n",
    "    def do_dfs(self, nbrs, word, words, R, C):\n",
    "        if len(word) < 1:\n",
    "            return 1\n",
    "        for nbr in nbrs:\n",
    "            r, c = nbr\n",
    "            if words[r][c] != word[0]:\n",
    "                continue\n",
    "            is_found = self.do_dfs(list(self.get_nbrs(r, c, R, C)), word[1:], words, R, C)\n",
    "            if is_found:\n",
    "                return 1\n",
    "        return 0\n",
    "\n",
    "    def exist(self, A, B):\n",
    "        charmap = {}\n",
    "        for r, word in enumerate(A):\n",
    "            for c, l in enumerate(word):\n",
    "                if l not in charmap:\n",
    "                    charmap[l] = []\n",
    "                charmap[l].append((r, c))\n",
    "        if len(charmap.get(B[0], [])) == 0:\n",
    "            return 0\n",
    "        R, C = len(A), len(A[0])\n",
    "        return self.do_dfs(charmap[B[0]], B, A, R, C)\n",
    "                    \n",
    "                    \n"
   ]
  },
  {
   "cell_type": "code",
   "execution_count": 35,
   "id": "communist-prince",
   "metadata": {},
   "outputs": [],
   "source": [
    "A = [ \"GFDABEGEE\", \"DAEFEECCF\", \"CAGGEDCDG\", \"GCABEAAEA\", \"CFGCGEEFB\", \"AFFBADFFC\", \"ECAGGDFAD\" ]\n",
    "B = \"DFFBFDACBF\""
   ]
  },
  {
   "cell_type": "code",
   "execution_count": 36,
   "id": "affecting-centre",
   "metadata": {},
   "outputs": [
    {
     "name": "stdout",
     "output_type": "stream",
     "text": [
      "7 GFDABEGEE DAEFEECCF CAGGEDCDG GCABEAAEA CFGCGEEFB AFFBADFFC ECAGGDFAD\n",
      "DFFBFDACBF\n"
     ]
    }
   ],
   "source": [
    "print(len(A), ' '.join(A))\n",
    "print(B)"
   ]
  },
  {
   "cell_type": "code",
   "execution_count": 37,
   "id": "necessary-indicator",
   "metadata": {},
   "outputs": [
    {
     "data": {
      "text/plain": [
       "0"
      ]
     },
     "execution_count": 37,
     "metadata": {},
     "output_type": "execute_result"
    }
   ],
   "source": [
    "Solution().exist(A, B)"
   ]
  },
  {
   "cell_type": "code",
   "execution_count": null,
   "id": "dimensional-fifty",
   "metadata": {},
   "outputs": [],
   "source": []
  },
  {
   "cell_type": "code",
   "execution_count": null,
   "id": "civic-twenty",
   "metadata": {},
   "outputs": [],
   "source": []
  }
 ],
 "metadata": {
  "kernelspec": {
   "display_name": "Python 3",
   "language": "python",
   "name": "python3"
  },
  "language_info": {
   "codemirror_mode": {
    "name": "ipython",
    "version": 3
   },
   "file_extension": ".py",
   "mimetype": "text/x-python",
   "name": "python",
   "nbconvert_exporter": "python",
   "pygments_lexer": "ipython3",
   "version": "3.9.1"
  }
 },
 "nbformat": 4,
 "nbformat_minor": 5
}
