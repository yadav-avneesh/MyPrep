{
 "cells": [
  {
   "cell_type": "code",
   "execution_count": 1,
   "metadata": {},
   "outputs": [],
   "source": [
    "'''\n",
    "\n",
    "According to Wikipedia's article: \"The Game of Life, also known simply as Life, is a cellular automaton devised by the British mathematician John Horton Conway in 1970.\"\n",
    "\n",
    "The board is made up of an m x n grid of cells, where each cell has an initial state: live (represented by a 1) or dead (represented by a 0). Each cell interacts with its eight neighbors (horizontal, vertical, diagonal) using the following four rules (taken from the above Wikipedia article):\n",
    "\n",
    "Any live cell with fewer than two live neighbors dies as if caused by under-population.\n",
    "Any live cell with two or three live neighbors lives on to the next generation.\n",
    "Any live cell with more than three live neighbors dies, as if by over-population.\n",
    "Any dead cell with exactly three live neighbors becomes a live cell, as if by reproduction.\n",
    "The next state is created by applying the above rules simultaneously to every cell in the current state, where births and deaths occur simultaneously. Given the current state of the m x n grid board, return the next state.\n",
    "\n",
    " \n",
    "\n",
    "Example 1:\n",
    "    Input: board = [[0,1,0],[0,0,1],[1,1,1],[0,0,0]]\n",
    "    Output: [[0,0,0],[1,0,1],[0,1,1],[0,1,0]]\n",
    "\n",
    "\n",
    "Example 2:\n",
    "    Input: board = [[1,1],[1,0]]\n",
    "    Output: [[1,1],[1,1]]\n",
    " \n",
    "\n",
    "Constraints:\n",
    "    m == board.length\n",
    "    n == board[i].length\n",
    "    1 <= m, n <= 25\n",
    "    board[i][j] is 0 or 1.\n",
    " \n",
    "\n",
    "Follow up:\n",
    "    Could you solve it in-place? Remember that the board needs to be updated simultaneously: You cannot update some cells first and then use their updated values to update other cells.\n",
    "\n",
    "    In this question, we represent the board using a 2D array. In principle, the board is infinite, which would cause problems when the active area encroaches upon the border of the array (i.e., live cells reach the border). How would you address these problems?\n",
    "\n",
    "\n",
    "TIP:\n",
    "    1. Should encode state change, since only 0 and 1 are viable states.\n",
    "    2. \n",
    "        00 -> 0\n",
    "        01 -> 1\n",
    "        10 -> 2 => 0 -> 1\n",
    "        11 -> 3 => 1 -> 0\n",
    "    3. To decode, either use map or bit shift.\n",
    "\n",
    "    Sol-2 for encoding decoding;\n",
    "    \n",
    "    if 0 -> 1 => encode as 2; 2 & 1 => 0 ; 2 >> 1 => 1\n",
    "        0 | 2 = 2\n",
    "    if 1 -> 1 => encode as 3; 3 & 1 => 1 ; 3 >> 1 => 1\n",
    "        1 | 2 = 3\n",
    "    if 0 -> 0 => 0 & 1 => 0; 0 >> 1 => 0\n",
    "    if 1 -> 0 => 1 & 1 => 1; 1 >> 1 => 0\n",
    "\n",
    "'''\n",
    "\n",
    "class Solution:\n",
    "    def gameOfLife(self, board):\n",
    "        \"\"\"\n",
    "        Do not return anything, modify board in-place instead.\n",
    "        \"\"\"\n",
    "        row = len(board)\n",
    "        col = len(board[0])\n",
    "        def get_alive_nbrs(r, c):\n",
    "            dr = [0, 0, 1, 1, 1, -1, -1, -1]\n",
    "            dc = [-1, 1, -1, 0, 1, -1, 0, 1]\n",
    "            decode_map = {0: 0, 1: 1, 2: 0, 3: 1}\n",
    "            nbrs = [decode_map[board[r+_dr][c+_dc]] for _dr, _dc in zip(dr, dc) if 0 <= r+_dr <= row-1 and 0 <= c+_dc <= col-1]\n",
    "            return sum(nbrs)\n",
    "        for i in range(row):\n",
    "            for j in range(col):\n",
    "                alive = get_alive_nbrs(i, j)\n",
    "                if board[i][j] == 0:\n",
    "                    if alive == 3:\n",
    "                        board[i][j] = 2\n",
    "                else:\n",
    "                    if not (alive == 2 or alive == 3):\n",
    "                        board[i][j] = 3\n",
    "        for i in range(row):\n",
    "            for j in range(col):\n",
    "                decode_map = {0: 0, 1: 1, 2: 1, 3: 0}\n",
    "                board[i][j] = decode_map[board[i][j]]\n",
    "        return"
   ]
  },
  {
   "cell_type": "code",
   "execution_count": 15,
   "metadata": {},
   "outputs": [
    {
     "data": {
      "text/plain": [
       "0"
      ]
     },
     "execution_count": 15,
     "metadata": {},
     "output_type": "execute_result"
    }
   ],
   "source": [
    "class Solution:\n",
    "    def gameOfLife(self, board):\n",
    "        \"\"\"\n",
    "        Do not return anything, modify board in-place instead.\n",
    "        \"\"\"\n",
    "        row = len(board)\n",
    "        col = len(board[0])\n",
    "        def get_alive_nbrs(r, c):\n",
    "            dr = [0, 0, 1, 1, 1, -1, -1, -1]\n",
    "            dc = [-1, 1, -1, 0, 1, -1, 0, 1]\n",
    "            nbrs = [board[r+_dr][c+_dc] & 1 for _dr, _dc in zip(dr, dc) if 0 <= r+_dr <= row-1 and 0 <= c+_dc <= col-1]\n",
    "            return sum(nbrs)\n",
    "        for i in range(row):\n",
    "            for j in range(col):\n",
    "                alive = get_alive_nbrs(i, j)\n",
    "                if board[i][j] == 0:\n",
    "                    if alive == 3:\n",
    "                        board[i][j] = 2\n",
    "                else:\n",
    "                    if not (alive == 2 or alive == 3):\n",
    "                        board[i][j] = 3\n",
    "        for i in range(row):\n",
    "            for j in range(col):\n",
    "                decode_map = {0: 0, 1: 1, 2: 1, 3: 0}\n",
    "                board[i][j] = decode_map[board[i][j]]\n",
    "        return"
   ]
  },
  {
   "cell_type": "code",
   "execution_count": 29,
   "metadata": {},
   "outputs": [
    {
     "data": {
      "text/plain": [
       "0"
      ]
     },
     "execution_count": 29,
     "metadata": {},
     "output_type": "execute_result"
    }
   ],
   "source": [
    "'''\n",
    "    Sol-2 for encoding decoding;\n",
    "    \n",
    "    if 0 -> 1 => encode as 2; 2 & 1 => 0 ; 2 >> 1 => 1\n",
    "        0 | 2 = 2\n",
    "    if 1 -> 1 => encode as 3; 3 & 1 => 1 ; 3 >> 1 => 1\n",
    "        1 | 2 = 3\n",
    "    if 0 -> 0 => 0 & 1 => 0; 0 >> 1 => 0\n",
    "    if 1 -> 0 => 1 & 1 => 1; 1 >> 1 => 0\n",
    "'''\n",
    "class Solution:\n",
    "    def gameOfLife(self, board):\n",
    "        \"\"\"\n",
    "        Do not return anything, modify board in-place instead.\n",
    "        \"\"\"\n",
    "        row = len(board)\n",
    "        col = len(board[0])\n",
    "        def update_rc(r, c):\n",
    "            alive = 0\n",
    "            for p in range(r-1, r+2):\n",
    "                for q in range(c-1, c+2):\n",
    "                    if p==r and c==q:\n",
    "                        continue\n",
    "                    if 0 <= p < row and 0 <= q < col and board[p][q] & 1:\n",
    "                        alive += 1\n",
    "            if alive == 3 or (board[r][c]==1 and alive == 2):\n",
    "                board[r][c] |= 2\n",
    "\n",
    "        for i in range(row):\n",
    "            for j in range(col):\n",
    "                update_rc(i, j)\n",
    "        for i in range(row):\n",
    "            for j in range(col):\n",
    "                board[i][j] >>= 1\n",
    "        return"
   ]
  },
  {
   "cell_type": "code",
   "execution_count": 33,
   "metadata": {},
   "outputs": [
    {
     "data": {
      "text/plain": [
       "0"
      ]
     },
     "execution_count": 33,
     "metadata": {},
     "output_type": "execute_result"
    }
   ],
   "source": [
    "class Solution:\n",
    "    def gameOfLife(self, board):\n",
    "        \"\"\"\n",
    "        Do not return anything, modify board in-place instead.\n",
    "        \"\"\"\n",
    "        row = len(board)\n",
    "        col = len(board[0])\n",
    "        def get_alive_nbrs(r, c):\n",
    "            dr = [0, 0, 1, 1, 1, -1, -1, -1]\n",
    "            dc = [-1, 1, -1, 0, 1, -1, 0, 1]\n",
    "            nbrs = [board[r+_dr][c+_dc] & 1 for _dr, _dc in zip(dr, dc) if 0 <= r+_dr < row and 0 <= c+_dc < col]\n",
    "            return sum(nbrs)\n",
    "        for i in range(row):\n",
    "            for j in range(col):\n",
    "                alive = get_alive_nbrs(i, j)\n",
    "                if alive == 3 or (board[i][j]==1 and alive == 2):\n",
    "                    board[i][j] |= 2\n",
    "        for i in range(row):\n",
    "            for j in range(col):\n",
    "                board[i][j] = board[i][j] >> 1\n",
    "        return"
   ]
  },
  {
   "cell_type": "code",
   "execution_count": null,
   "metadata": {},
   "outputs": [],
   "source": []
  }
 ],
 "metadata": {
  "kernelspec": {
   "display_name": "Python 3",
   "language": "python",
   "name": "python3"
  },
  "language_info": {
   "codemirror_mode": {
    "name": "ipython",
    "version": 3
   },
   "file_extension": ".py",
   "mimetype": "text/x-python",
   "name": "python",
   "nbconvert_exporter": "python",
   "pygments_lexer": "ipython3",
   "version": "3.9.1 (tags/v3.9.1:1e5d33e, Dec  7 2020, 17:08:21) [MSC v.1927 64 bit (AMD64)]"
  },
  "orig_nbformat": 4,
  "vscode": {
   "interpreter": {
    "hash": "81794d4967e6c3204c66dcd87b604927b115b27c00565d3d43f05ba2f3a2cb0d"
   }
  }
 },
 "nbformat": 4,
 "nbformat_minor": 2
}
