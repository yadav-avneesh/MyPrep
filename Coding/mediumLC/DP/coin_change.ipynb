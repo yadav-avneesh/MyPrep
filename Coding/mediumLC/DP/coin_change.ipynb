{
 "cells": [
  {
   "cell_type": "code",
   "execution_count": 1,
   "metadata": {},
   "outputs": [],
   "source": [
    "\"\"\"\n",
    "You are given an integer array coins representing coins of different denominations and an integer amount representing a total amount of money.\n",
    "\n",
    "Return the fewest number of coins that you need to make up that amount. If that amount of money cannot be made up by any combination of the coins, return -1.\n",
    "\n",
    "You may assume that you have an infinite number of each kind of coin.\n",
    "\n",
    "Example 1:\n",
    "    Input: coins = [1,2,5], amount = 11\n",
    "    Output: 3\n",
    "    Explanation: 11 = 5 + 5 + 1\n",
    "\n",
    "Example 2:\n",
    "    Input: coins = [2], amount = 3\n",
    "    Output: -1\n",
    "\n",
    "Example 3:\n",
    "    Input: coins = [1], amount = 0\n",
    "    Output: 0\n",
    " \n",
    "Constraints:\n",
    "    1 <= coins.length <= 12\n",
    "    1 <= coins[i] <= 231 - 1\n",
    "    0 <= amount <= 104\n",
    "\"\"\"\n",
    "\n",
    "# Apparently BFS or level order is much faster than DP\n",
    "# Basically shortest path from 0 --> amount;\n",
    "\n",
    "\n",
    "# Final try for DP:\n",
    "class Solution:\n",
    "    def coinChange(self, coins, amount: int) -> int:\n",
    "        if amount == 0:\n",
    "            return 0\n",
    "        T = [float('inf')] * (amount+1)\n",
    "        T[0] = 0\n",
    "        for i in range(1, amount+1):\n",
    "            for coin in coins:\n",
    "                if i - coin >= 0:\n",
    "                    T[i] = min(T[i-coin]+1, T[i])\n",
    "        return T[amount] if T[amount] != float('inf') else -1\n",
    "\n",
    "# Works but too slow\n",
    "class Solution:\n",
    "    def coinChange(self, coins, amount: int) -> int:\n",
    "        T = {0: 0}\n",
    "        scoins = sorted(coins)\n",
    "        for target in range(amount+1):\n",
    "            for coin in scoins:\n",
    "                rest = target - coin\n",
    "                if rest in T:\n",
    "                    T[target] = T.get(rest, 0) + 1\n",
    "                if target in T:\n",
    "                    break\n",
    "            if target in T:\n",
    "                    break\n",
    "        return T.get(amount, -1)"
   ]
  },
  {
   "cell_type": "code",
   "execution_count": null,
   "metadata": {},
   "outputs": [],
   "source": [
    "# Improvements ==> None yet;\n",
    "class Solution:\n",
    "    def coinChange(self, coins, amount: int) -> int:\n",
    "        T = {0: 0}\n",
    "        scoins = sorted(coins)\n",
    "        for target in range(amount+1):\n",
    "            for coin in scoins:\n",
    "                rest = target - coin\n",
    "                if rest in T:\n",
    "                    T[target] = min(T.get(rest, 0) + 1, T.get(target, float('inf')))\n",
    "            if amount in T:\n",
    "                    break\n",
    "        return T.get(amount, -1)"
   ]
  }
 ],
 "metadata": {
  "kernelspec": {
   "display_name": "Python 3",
   "language": "python",
   "name": "python3"
  },
  "language_info": {
   "codemirror_mode": {
    "name": "ipython",
    "version": 3
   },
   "file_extension": ".py",
   "mimetype": "text/x-python",
   "name": "python",
   "nbconvert_exporter": "python",
   "pygments_lexer": "ipython3",
   "version": "3.8.10"
  },
  "orig_nbformat": 4,
  "vscode": {
   "interpreter": {
    "hash": "916dbcbb3f70747c44a77c7bcd40155683ae19c65e1c03b4aa3499c5328201f1"
   }
  }
 },
 "nbformat": 4,
 "nbformat_minor": 2
}
