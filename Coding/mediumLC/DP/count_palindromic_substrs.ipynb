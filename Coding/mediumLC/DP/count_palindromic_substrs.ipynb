{
 "cells": [
  {
   "cell_type": "code",
   "execution_count": null,
   "metadata": {},
   "outputs": [],
   "source": [
    "\"\"\"\n",
    "Given a string s, return the number of palindromic substrings in it.\n",
    "\n",
    "A string is a palindrome when it reads the same backward as forward.\n",
    "\n",
    "A substring is a contiguous sequence of characters within the string.\n",
    "\n",
    " \n",
    "\n",
    "Example 1:\n",
    "\n",
    "Input: s = \"abc\"\n",
    "Output: 3\n",
    "Explanation: Three palindromic strings: \"a\", \"b\", \"c\".\n",
    "Example 2:\n",
    "\n",
    "Input: s = \"aaa\"\n",
    "Output: 6\n",
    "Explanation: Six palindromic strings: \"a\", \"a\", \"a\", \"aa\", \"aa\", \"aaa\".\n",
    " \n",
    "\n",
    "Constraints:\n",
    "\n",
    "1 <= s.length <= 1000\n",
    "s consists of lowercase English letters.\n",
    "\"\"\"\n",
    "\n",
    "from collections import defaultdict as dd\n",
    "class Solution:\n",
    "    def countSubstrings(self, s: str) -> int:\n",
    "        dp = dd(lambda: 0)\n",
    "        for i in range(len(s)):\n",
    "            dp[(i, i)] = 1\n",
    "            for j in range(0, i):\n",
    "                if s[j] != s[i]:\n",
    "                    continue\n",
    "                if (i - j == 1) or dp[(j+1, i-1)]==1:\n",
    "                    dp[(j, i)] = 1\n",
    "        return sum(dp.values())"
   ]
  }
 ],
 "metadata": {
  "language_info": {
   "name": "python"
  },
  "orig_nbformat": 4
 },
 "nbformat": 4,
 "nbformat_minor": 2
}
