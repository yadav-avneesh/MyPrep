{
 "cells": [
  {
   "cell_type": "code",
   "execution_count": null,
   "metadata": {},
   "outputs": [],
   "source": [
    "'''\n",
    "Find triplets in array such that for (i, j, k) where [0 <= i <= j <= k < l], arr[i] + arr[j] * X + arr[k] * X * X is maximum\n",
    "\n",
    "\n",
    "\n",
    "'''\n",
    "# def max_array(arr, l, idx, step):\n",
    "#     mx = [arr[idx]]\n",
    "#     stop_idx = 0 if step < 0 else l-1\n",
    "#     while idx != stop_idx:\n",
    "#         mx.append(max(mx[-1], arr[idx]))\n",
    "#         idx += step\n",
    "#     return mx if step > 0 else mx[::-1]\n",
    "\n",
    "def getMaxValue(arr, r):\n",
    "    if r >= 0:\n",
    "        mx = max(arr)\n",
    "        return mx*(1+r+r*r)\n",
    "    l = len(arr)\n",
    "    rarr = arr[::-1]\n",
    "    lmx = [arr[0]]\n",
    "    rmx = [rarr[0]]\n",
    "    for v in arr[1:]:\n",
    "        lmx.append(max(lmx[-1], v))\n",
    "    for v in rarr[1:]:\n",
    "        rmx.append(max(rmx[-1], v))\n",
    "    rmx = rmx[::-1]\n",
    "    result = float('-inf')\n",
    "    for i, v in enumerate(arr):\n",
    "        result = max(result, lmx[i]+arr[i]*r+rmx[i]*r*r)\n",
    "    return result\n",
    "\n",
    "\n"
   ]
  }
 ],
 "metadata": {
  "kernelspec": {
   "display_name": "Python 3.9.1 64-bit",
   "language": "python",
   "name": "python3"
  },
  "language_info": {
   "name": "python",
   "version": "3.9.1"
  },
  "orig_nbformat": 4,
  "vscode": {
   "interpreter": {
    "hash": "81794d4967e6c3204c66dcd87b604927b115b27c00565d3d43f05ba2f3a2cb0d"
   }
  }
 },
 "nbformat": 4,
 "nbformat_minor": 2
}
