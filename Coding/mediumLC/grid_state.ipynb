{
 "cells": [
  {
   "cell_type": "code",
   "execution_count": null,
   "metadata": {},
   "outputs": [],
   "source": [
    "\"\"\"\n",
    "Coding question:\n",
    "\n",
    "Given a 2D NxM grid. Cells can be empty or can contain a block. Give the updated block positions after \n",
    "gravity is turned ON. Blocks will move if cell below is emtpy.\n",
    "\n",
    "Part2: Now the blocks can stick to each other in 4 directions. Give the updated positions now.\n",
    "\n",
    "\n",
    "What I failed to consider was that blocks can land on top of other blocks. Didn't take \n",
    "structural aspects into account and tried to represent a block by 1 cell - which was wrong and \n",
    "interviewer didn't point it out when i said it. But yeah I should have thought of it.\n",
    "\n",
    "[\n",
    "\n",
    "*   *    _\n",
    "\n",
    "*   _    _\n",
    "\n",
    "_   *    *\n",
    "\n",
    "*   _    *\n",
    "\n",
    "]\n",
    "\n",
    "\n",
    "[\n",
    "_   _    _\n",
    "\n",
    "*   *    _\n",
    "\n",
    "*   *    *\n",
    "\n",
    "_   _    *\n",
    "\n",
    "]\n",
    "\n",
    "\"\"\"\n",
    "\n"
   ]
  }
 ],
 "metadata": {
  "language_info": {
   "name": "python"
  },
  "orig_nbformat": 4
 },
 "nbformat": 4,
 "nbformat_minor": 2
}
