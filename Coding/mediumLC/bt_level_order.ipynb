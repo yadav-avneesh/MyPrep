{
 "cells": [
  {
   "cell_type": "code",
   "execution_count": 1,
   "metadata": {},
   "outputs": [],
   "source": [
    "'''\n",
    "Given the root of a binary tree, return the level order traversal of its nodes' values. (i.e., from left to right, level by level).\n",
    "\n",
    " \n",
    "\n",
    "Example 1:\n",
    "    Input: root = [3,9,20,null,null,15,7]\n",
    "    Output: [[3],[9,20],[15,7]]\n",
    "\n",
    "\n",
    "Example 2:\n",
    "    Input: root = [1]\n",
    "    Output: [[1]]\n",
    "\n",
    "Example 3:\n",
    "    Input: root = []\n",
    "    Output: []\n",
    " \n",
    "\n",
    "Constraints:\n",
    "    The number of nodes in the tree is in the range [0, 2000].\n",
    "    -1000 <= Node.val <= 1000\n",
    "\n",
    "\n",
    "'''\n",
    "\n",
    "\n",
    "# Definition for a binary tree node.\n",
    "class TreeNode:\n",
    "    def __init__(self, val=0, left=None, right=None):\n",
    "        self.val = val\n",
    "        self.left = left\n",
    "        self.right = right"
   ]
  },
  {
   "cell_type": "code",
   "execution_count": null,
   "metadata": {},
   "outputs": [],
   "source": [
    "from collections import deque\n",
    "class Solution:\n",
    "    def levelOrder(self, root):\n",
    "        if not root:\n",
    "            return []\n",
    "        dq = deque([(root, 0)])\n",
    "        result = []\n",
    "        prevl = 0\n",
    "        temp = []\n",
    "        while dq:\n",
    "            curr, level = dq.pop()\n",
    "            if prevl != level:\n",
    "                prevl = level\n",
    "                result.append(temp)\n",
    "                temp = []\n",
    "            temp.append(curr.val)\n",
    "            if curr.left:\n",
    "                dq.appendleft((curr.left, level+1))\n",
    "            if curr.right:\n",
    "                dq.appendleft((curr.right, level+1))\n",
    "        else:\n",
    "            if temp:\n",
    "                result.append(temp)\n",
    "        return result\n"
   ]
  }
 ],
 "metadata": {
  "kernelspec": {
   "display_name": "Python 3",
   "language": "python",
   "name": "python3"
  },
  "language_info": {
   "codemirror_mode": {
    "name": "ipython",
    "version": 3
   },
   "file_extension": ".py",
   "mimetype": "text/x-python",
   "name": "python",
   "nbconvert_exporter": "python",
   "pygments_lexer": "ipython3",
   "version": "3.9.1"
  },
  "orig_nbformat": 4,
  "vscode": {
   "interpreter": {
    "hash": "81794d4967e6c3204c66dcd87b604927b115b27c00565d3d43f05ba2f3a2cb0d"
   }
  }
 },
 "nbformat": 4,
 "nbformat_minor": 2
}
