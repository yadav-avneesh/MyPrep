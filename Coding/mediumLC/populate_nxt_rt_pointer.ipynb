{
 "cells": [
  {
   "cell_type": "code",
   "execution_count": null,
   "metadata": {},
   "outputs": [],
   "source": [
    "\"\"\"\n",
    "Given a binary tree\n",
    "\n",
    "struct Node {\n",
    "  int val;\n",
    "  Node *left;\n",
    "  Node *right;\n",
    "  Node *next;\n",
    "}\n",
    "Populate each next pointer to point to its next right node. If there is no next right node, the next pointer should be set to NULL.\n",
    "\n",
    "Initially, all next pointers are set to NULL.\n",
    "\n",
    " \n",
    "\n",
    "Example 1:\n",
    "\n",
    "Input: root = [1,2,3,4,5,null,7]\n",
    "Output: [1,#,2,3,#,4,5,7,#]\n",
    "Explanation: Given the above binary tree (Figure A), your function should populate each next pointer to point to its next right node, just like in Figure B. The serialized output is in level order as connected by the next pointers, with '#' signifying the end of each level.\n",
    "\n",
    "\n",
    "Example 2:\n",
    "\n",
    "Input: root = []\n",
    "Output: []\n",
    "\n",
    "\n",
    "Constraints:\n",
    "\n",
    "The number of nodes in the tree is in the range [0, 6000].\n",
    "-100 <= Node.val <= 100\n",
    " \n",
    "\n",
    "Follow-up:\n",
    "You may only use constant extra space.\n",
    "The recursive approach is fine. You may assume implicit stack space does not count as extra space for this problem.\n",
    "\"\"\"\n",
    "# Definition for a Node.\n",
    "\n",
    "from collections import deque\n",
    "\n",
    "class Node:\n",
    "    def __init__(self, val: int = 0, left: 'Node' = None, right: 'Node' = None, next: 'Node' = None):\n",
    "        self.val = val\n",
    "        self.left = left\n",
    "        self.right = right\n",
    "        self.next = next\n",
    "\n",
    "class Solution:\n",
    "    def connect(self, root):\n",
    "        if not root:\n",
    "            return root\n",
    "        q = deque([(root, 0)])\n",
    "        prev, prev_lvl = None, -1\n",
    "        while q:\n",
    "            curr, lvl = q.pop()\n",
    "            if lvl != prev_lvl:\n",
    "                prev = None\n",
    "            curr.next = prev\n",
    "            if curr.right:\n",
    "                q.appendleft((curr.right, lvl+1))\n",
    "            if curr.left:\n",
    "                q.appendleft((curr.left, lvl+1))\n",
    "            prev, prev_lvl = curr, lvl\n",
    "        return root"
   ]
  },
  {
   "cell_type": "code",
   "execution_count": 1,
   "metadata": {},
   "outputs": [],
   "source": [
    "from collections import deque\n",
    "\n",
    "class Solution:\n",
    "    def connect(self, root):\n",
    "        if not root:\n",
    "            return root\n",
    "        q1 = deque([root])\n",
    "        q2 = deque()\n",
    "        prev = None\n",
    "        while q1:\n",
    "            curr = q1.pop()\n",
    "            curr.next = prev\n",
    "            if curr.right:\n",
    "                q2.appendleft(curr.right)\n",
    "            if curr.left:\n",
    "                q2.appendleft(curr.left)\n",
    "            prev = curr\n",
    "            if not q1:\n",
    "                q1 = q2\n",
    "                q2 = deque()\n",
    "                prev = None\n",
    "        return root"
   ]
  },
  {
   "cell_type": "code",
   "execution_count": null,
   "metadata": {},
   "outputs": [],
   "source": [
    "# So far not using previously set next_right; there should be \n",
    "# a space-optimal way to do this using this info\n",
    "# Do a pre-order traversal, while keep setting the next;"
   ]
  },
  {
   "cell_type": "code",
   "execution_count": 1,
   "metadata": {},
   "outputs": [
    {
     "data": {
      "text/plain": [
       "3078"
      ]
     },
     "execution_count": 1,
     "metadata": {},
     "output_type": "execute_result"
    }
   ],
   "source": [
    "1176-330+1416-330+1149-660+202+166+289"
   ]
  },
  {
   "cell_type": "code",
   "execution_count": null,
   "metadata": {},
   "outputs": [],
   "source": []
  }
 ],
 "metadata": {
  "kernelspec": {
   "display_name": "Python 3.9.1 64-bit",
   "language": "python",
   "name": "python3"
  },
  "language_info": {
   "codemirror_mode": {
    "name": "ipython",
    "version": 3
   },
   "file_extension": ".py",
   "mimetype": "text/x-python",
   "name": "python",
   "nbconvert_exporter": "python",
   "pygments_lexer": "ipython3",
   "version": "3.9.1"
  },
  "orig_nbformat": 4,
  "vscode": {
   "interpreter": {
    "hash": "81794d4967e6c3204c66dcd87b604927b115b27c00565d3d43f05ba2f3a2cb0d"
   }
  }
 },
 "nbformat": 4,
 "nbformat_minor": 2
}
