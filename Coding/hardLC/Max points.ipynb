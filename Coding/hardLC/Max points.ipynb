{
 "cells": [
  {
   "cell_type": "code",
   "execution_count": 1,
   "id": "f4e04340",
   "metadata": {},
   "outputs": [],
   "source": [
    "def find_max(arr, k, res):\n",
    "    if k == 1:\n",
    "        return max(arr[0], arr[-1])\n",
    "    x1 = arr[0] + find_max(arr[1:][:], k-1, res)\n",
    "    x2 = arr[-1] + find_max(arr[:-1][:], k-1, res)\n",
    "    return x1 if x1 > x2 else x2\n",
    "\n",
    "def max_points(arr, k):\n",
    "    l = len(arr)\n",
    "    res = []\n",
    "    return find_max(arr, k, res)"
   ]
  },
  {
   "cell_type": "code",
   "execution_count": 17,
   "id": "184b76fd",
   "metadata": {},
   "outputs": [
    {
     "data": {
      "text/plain": [
       "16"
      ]
     },
     "execution_count": 17,
     "metadata": {},
     "output_type": "execute_result"
    }
   ],
   "source": [
    "max_points([1, 2, 3, 4, 5, 6, 1], 4\n",
    "          )"
   ]
  },
  {
   "cell_type": "code",
   "execution_count": 15,
   "id": "6e39bdc0",
   "metadata": {},
   "outputs": [],
   "source": [
    "def max_points1(arr, k):\n",
    "    l = len(arr)\n",
    "    if k == 0:\n",
    "        return 0\n",
    "    if k == 1:\n",
    "        return max(arr[0], arr[-1])\n",
    "    if k >= l:\n",
    "        return sum(arr)\n",
    "    karr = arr[-k::] + arr[:k]\n",
    "    print(karr)\n",
    "    k_sum = current_sum = sum(karr[:k])\n",
    "#     current_sum = sum(karr[:k])\n",
    "    print(karr[k:])\n",
    "    for i, val in enumerate(karr[k:]):\n",
    "        current_sum = current_sum - karr[k - (k-i)] + val\n",
    "        k_sum = max(k_sum, current_sum)\n",
    "        \n",
    "    return k_sum\n",
    "    "
   ]
  },
  {
   "cell_type": "code",
   "execution_count": 18,
   "id": "fdaa173c",
   "metadata": {},
   "outputs": [
    {
     "name": "stdout",
     "output_type": "stream",
     "text": [
      "[4, 5, 6, 1, 1, 2, 3, 4]\n",
      "[1, 2, 3, 4]\n"
     ]
    },
    {
     "data": {
      "text/plain": [
       "16"
      ]
     },
     "execution_count": 18,
     "metadata": {},
     "output_type": "execute_result"
    }
   ],
   "source": [
    "max_points1([1, 2, 3, 4, 5, 6, 1], 4)"
   ]
  },
  {
   "cell_type": "code",
   "execution_count": 19,
   "id": "97cbf11f",
   "metadata": {},
   "outputs": [],
   "source": [
    "def mul_max_points1(arr, multipliers):\n",
    "    l = len(arr)\n",
    "    k = len(multipliers)\n",
    "    if k == 0:\n",
    "        return 0\n",
    "    if k == 1:\n",
    "        return max(arr[0], arr[-1]) * multipliers[0]\n",
    "#     if k >= l:\n",
    "#         return sum(arr)\n",
    "    karr = arr[-k::] + arr[:k]\n",
    "    print(karr)\n",
    "    k_sum = current_sum = sum([karr[i] *  multipliers[i] for i in range(k)])\n",
    "#     current_sum = sum(karr[:k])\n",
    "    print(karr[k:])\n",
    "    for i, val in enumerate(karr[k:]):\n",
    "        current_sum = current_sum - karr[k - (k-i)] * multipliers[k - (k-i)] + val * multipliers[k - (k-i)]\n",
    "        k_sum = max(k_sum, current_sum)\n",
    "        \n",
    "    return k_sum\n",
    "    "
   ]
  },
  {
   "cell_type": "code",
   "execution_count": null,
   "id": "f2e6e673",
   "metadata": {},
   "outputs": [],
   "source": [
    "mul_max_points1([1,2,3], [3, 2, 1])"
   ]
  }
 ],
 "metadata": {
  "kernelspec": {
   "display_name": "Python 3",
   "language": "python",
   "name": "python3"
  },
  "language_info": {
   "codemirror_mode": {
    "name": "ipython",
    "version": 3
   },
   "file_extension": ".py",
   "mimetype": "text/x-python",
   "name": "python",
   "nbconvert_exporter": "python",
   "pygments_lexer": "ipython3",
   "version": "3.9.1"
  }
 },
 "nbformat": 4,
 "nbformat_minor": 5
}
