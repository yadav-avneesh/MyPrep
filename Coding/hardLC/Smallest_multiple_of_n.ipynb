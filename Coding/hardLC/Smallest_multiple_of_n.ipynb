{
 "cells": [
  {
   "cell_type": "code",
   "execution_count": null,
   "id": "angry-driver",
   "metadata": {},
   "outputs": [],
   "source": [
    "\"\"\"\n",
    "Smallest multiple of N containing only 0 or 1 as digits\n",
    "\n",
    "You are given an integer N. You have to find smallest \n",
    "multiple of N which consists of digits 0 and 1 only. \n",
    "Since this multiple could be large, return it in form of a string.\n",
    "\n",
    "Note:\n",
    "    Returned string should not contain leading zeroes. For example,\n",
    "    For N = 55, 110 is smallest multiple consisting of digits 0 and 1.\n",
    "    For N = 2, 10 is the answer.\n",
    "\n",
    "TIP\n",
    "\n",
    "### Solution approach\n",
    "\n",
    "* Of course we saw that we need to have a tree of 1-0 to define a number, \n",
    "  and we want smallest multiple so we go left 0 and right 1 while root \n",
    "  always starts at 1.\n",
    "* Then at each level we can do traversal and see if the multiple is found,\n",
    "  we can't compute multiple for large numbers so we can carry forward the \n",
    "  mod N value to the next node level\n",
    "* A hint was also to see if we can reduce the state by thinking of ith state\n",
    "  which gives mod i, and then going to i=0.\n",
    "* Let's work on this.\n",
    "\"\"\"\n",
    "\n",
    "def solve_smalles_n_multiple():\n",
    "    pass"
   ]
  }
 ],
 "metadata": {
  "kernelspec": {
   "display_name": "Python 3",
   "language": "python",
   "name": "python3"
  },
  "language_info": {
   "codemirror_mode": {
    "name": "ipython",
    "version": 3
   },
   "file_extension": ".py",
   "mimetype": "text/x-python",
   "name": "python",
   "nbconvert_exporter": "python",
   "pygments_lexer": "ipython3",
   "version": "3.9.1"
  }
 },
 "nbformat": 4,
 "nbformat_minor": 5
}
