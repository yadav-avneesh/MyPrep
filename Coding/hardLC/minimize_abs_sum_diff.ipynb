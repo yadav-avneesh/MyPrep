{
 "cells": [
  {
   "cell_type": "code",
   "execution_count": null,
   "metadata": {},
   "outputs": [],
   "source": [
    "\"\"\"\n",
    "\n",
    "You are given an integer array nums of 2 * n integers. You need to partition nums into two arrays of length n to minimize the absolute difference of the sums of the arrays. To partition nums, put each element of nums into one of the two arrays.\n",
    "\n",
    "Return the minimum possible absolute difference.\n",
    "\n",
    " \n",
    "\n",
    "Example 1:\n",
    "\n",
    "example-1\n",
    "Input: nums = [3,9,7,3]\n",
    "Output: 2\n",
    "Explanation: One optimal partition is: [3,9] and [7,3].\n",
    "The absolute difference between the sums of the arrays is abs((3 + 9) - (7 + 3)) = 2.\n",
    "Example 2:\n",
    "\n",
    "Input: nums = [-36,36]\n",
    "Output: 72\n",
    "Explanation: One optimal partition is: [-36] and [36].\n",
    "The absolute difference between the sums of the arrays is abs((-36) - (36)) = 72.\n",
    "Example 3:\n",
    "\n",
    "example-3\n",
    "Input: nums = [2,-1,0,4,-2,-9]\n",
    "Output: 0\n",
    "Explanation: One optimal partition is: [2,4,-9] and [-1,0,-2].\n",
    "The absolute difference between the sums of the arrays is abs((2 + 4 + -9) - (-1 + 0 + -2)) = 0.\n",
    " \n",
    "\n",
    "Constraints:\n",
    "\n",
    "1 <= n <= 15\n",
    "nums.length == 2 * n\n",
    "-107 <= nums[i] <= 107\n",
    "\n",
    "TIP:\n",
    "    DP\n",
    "    \n",
    "\"\"\"\n",
    "\n"
   ]
  }
 ],
 "metadata": {
  "language_info": {
   "name": "python"
  },
  "orig_nbformat": 4
 },
 "nbformat": 4,
 "nbformat_minor": 2
}
