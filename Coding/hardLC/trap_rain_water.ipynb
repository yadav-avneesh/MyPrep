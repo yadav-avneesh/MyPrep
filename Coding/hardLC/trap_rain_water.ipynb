{
 "cells": [
  {
   "cell_type": "code",
   "execution_count": null,
   "metadata": {},
   "outputs": [],
   "source": [
    "\"\"\"\n",
    "Given n non-negative integers representing an elevation map where the width of each bar is 1, compute how much water it can trap after raining.\n",
    "\n",
    " \n",
    "\n",
    "Example 1:\n",
    "\n",
    "Input: height = [0,1,0,2,1,0,1,3,2,1,2,1]\n",
    "Output: 6\n",
    "\n",
    "Explanation: The above elevation map (black section) is represented by array [0,1,0,2,1,0,1,3,2,1,2,1]. In this case, 6 units of rain water (blue section) are being trapped.\n",
    "\n",
    "\n",
    "Example 2:\n",
    "Input: height = [4,2,0,3,2,5]\n",
    "Output: 9\n",
    " \n",
    "\n",
    "Constraints:\n",
    "n == height.length\n",
    "1 <= n <= 2 * 104\n",
    "0 <= height[i] <= 105\n",
    "\n",
    "Notes:\n",
    "\n",
    "- For any bar water stored at bar is min(left_max, right_max) - bar_height;\n",
    "- Solution 1\n",
    "    - maintain lmax, rmax and compute\n",
    "- Solution 2\n",
    "    - Concepts of two pointer;\n",
    "    - proceed(move R or L pointer) in such a way that min is preserved;\n",
    "\"\"\"\n",
    "class Solution:\n",
    "    def trap(self, height):\n",
    "        th = len(height)\n",
    "        lmx = 0\n",
    "        rmx = 0\n",
    "        l = 0\n",
    "        r = th - 1\n",
    "        trapped = 0\n",
    "        while l <= r:\n",
    "            lh = height[l]\n",
    "            rh = height[r]\n",
    "            if lh < rh:\n",
    "                if lh >= lmx:\n",
    "                    lmx = lh\n",
    "                else:\n",
    "                    trapped += lmx - lh\n",
    "                l += 1\n",
    "            else:\n",
    "                if rh >= rmx:\n",
    "                    rmx = rh\n",
    "                else:\n",
    "                    trapped += rmx - rh\n",
    "                r -= 1\n",
    "        return trapped\n"
   ]
  }
 ],
 "metadata": {
  "kernelspec": {
   "display_name": "Python 3.9.1 64-bit",
   "language": "python",
   "name": "python3"
  },
  "language_info": {
   "name": "python",
   "version": "3.9.1"
  },
  "orig_nbformat": 4,
  "vscode": {
   "interpreter": {
    "hash": "81794d4967e6c3204c66dcd87b604927b115b27c00565d3d43f05ba2f3a2cb0d"
   }
  }
 },
 "nbformat": 4,
 "nbformat_minor": 2
}
