{
 "cells": [
  {
   "cell_type": "code",
   "execution_count": null,
   "metadata": {},
   "outputs": [],
   "source": [
    "\"\"\"\n",
    "Given a string s, partition s such that every substring of the partition is a \n",
    "palindrome. Return the minimum cuts needed for a palindrome partitioning of s.\n",
    "\n",
    "\n",
    "Example 1:\n",
    "    Input: s = \"aab\"\n",
    "    Output: 1\n",
    "    Explanation: The palindrome partitioning [\"aa\",\"b\"] could be produced using 1 cut.\n",
    "\n",
    "Example 2:\n",
    "    Input: s = \"a\"\n",
    "    Output: 0\n",
    "\n",
    "Example 3:\n",
    "    Input: s = \"ab\"\n",
    "    Output: 1\n",
    " \n",
    "\n",
    "Constraints:\n",
    "    1 <= s.length <= 2000\n",
    "    s consists of lowercase English letters only.\n",
    "\"\"\"\n",
    "\n",
    "\n",
    "# Even better is expansion around centre\n",
    "\n",
    "\n",
    "\n",
    "class Solution:\n",
    "    def minCut(self, s: str) -> int:\n",
    "        n = len(s)\n",
    "        palin = [i for i in range(n)]\n",
    "        for idx in range(n):\n",
    "            t1 = s[:idx+1]\n",
    "            if t1 == t1[::-1]:\n",
    "                palin[idx] = 0\n",
    "                continue\n",
    "            for jdx in range(1, idx+1):\n",
    "                temp = s[jdx:idx+1]\n",
    "                if temp == temp[::-1]:\n",
    "                    palin[idx] = min(palin[idx], palin[jdx-1]+1)\n",
    "        return palin[-1]\n",
    "\n",
    "\n",
    "class Solution:\n",
    "    def minCut(self, s):\n",
    "        \"\"\"\n",
    "        :type s: str\n",
    "        :rtype: int\n",
    "        \"\"\"\n",
    "        n = len(s)\n",
    "        # generate isPalindrome[i][j] to judge\n",
    "        # whether s[i:j+1] is palindrome\n",
    "        # with dynamic programming\n",
    "        isPalindrome = [[True] * n for _ in range(n)]\n",
    "        # i backward\n",
    "        for i in range(n-1, -1, -1):\n",
    "            # j forward\n",
    "            for j in range(i+1, n):\n",
    "                # \n",
    "                isPalindrome[i][j] = isPalindrome[i+1][j-1] and s[i] == s[j]\n",
    "\n",
    "        # generate minPartition[i] to restore\n",
    "        # the min partition times s[0:i+1] needs\n",
    "        # with dynamic programming\n",
    "        minPartition = [k for k in range(n)] # at most seperate each character\n",
    "        for i in range(n):\n",
    "            # if s[0:i+1] itself is palindrome\n",
    "            if isPalindrome[0][i]:\n",
    "                minPartition[i] = 0\n",
    "                continue\n",
    "            # if s[0:i+1] is not palindrome\n",
    "            for j in range(1, i+1):\n",
    "                # search a s[j:i+1] which is palindrome\n",
    "                if isPalindrome[j][i]:\n",
    "                    # we can partition it as s[0:j] and s[j:i+1]\n",
    "                    # then a possible partition times is minPartition[j-1] + 1\n",
    "                    partition = minPartition[j-1] + 1\n",
    "                    # choose the min time among all choices of s[j:i+1]\n",
    "                    minPartition[i] = min(partition, minPartition[i])  \n",
    "\n",
    "        # result is last element of minPartition\n",
    "        return minPartition[n-1]\n",
    "\n",
    "# TLE\n",
    "from functools import cache\n",
    "class Solution:\n",
    "    def minCut(self, s: str) -> int:\n",
    "        @cache\n",
    "        def is_palin(l, r):\n",
    "            while l <= r:\n",
    "                if s[l] != s[r]:\n",
    "                    return False\n",
    "                l += 1\n",
    "                r -= 1\n",
    "            return True\n",
    "        @cache\n",
    "        def min_count(idx):\n",
    "            if idx >= len(s):\n",
    "                return 0\n",
    "            count = float('inf')\n",
    "            for j in range(idx, len(s)):\n",
    "                if is_palin(idx, j):\n",
    "                    count = min(count, min_count(j+1)+1)\n",
    "            return count\n",
    "        return min_count(0)-1"
   ]
  },
  {
   "cell_type": "code",
   "execution_count": 1,
   "metadata": {},
   "outputs": [],
   "source": [
    "t = \"aabbaa\""
   ]
  },
  {
   "cell_type": "code",
   "execution_count": 3,
   "metadata": {},
   "outputs": [
    {
     "data": {
      "text/plain": [
       "True"
      ]
     },
     "execution_count": 3,
     "metadata": {},
     "output_type": "execute_result"
    }
   ],
   "source": [
    "t == t[::-1]"
   ]
  },
  {
   "cell_type": "code",
   "execution_count": null,
   "metadata": {},
   "outputs": [],
   "source": []
  }
 ],
 "metadata": {
  "kernelspec": {
   "display_name": "Python 3",
   "language": "python",
   "name": "python3"
  },
  "language_info": {
   "codemirror_mode": {
    "name": "ipython",
    "version": 3
   },
   "file_extension": ".py",
   "mimetype": "text/x-python",
   "name": "python",
   "nbconvert_exporter": "python",
   "pygments_lexer": "ipython3",
   "version": "3.10.11"
  },
  "orig_nbformat": 4
 },
 "nbformat": 4,
 "nbformat_minor": 2
}
