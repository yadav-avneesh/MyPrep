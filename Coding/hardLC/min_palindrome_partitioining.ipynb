{
 "cells": [
  {
   "cell_type": "code",
   "execution_count": null,
   "metadata": {},
   "outputs": [],
   "source": [
    "\"\"\"\n",
    "Given a string s, partition s such that every substring of the partition is a \n",
    "palindrome. Return the minimum cuts needed for a palindrome partitioning of s.\n",
    "\n",
    "\n",
    "Example 1:\n",
    "    Input: s = \"aab\"\n",
    "    Output: 1\n",
    "    Explanation: The palindrome partitioning [\"aa\",\"b\"] could be produced using 1 cut.\n",
    "\n",
    "Example 2:\n",
    "    Input: s = \"a\"\n",
    "    Output: 0\n",
    "\n",
    "Example 3:\n",
    "    Input: s = \"ab\"\n",
    "    Output: 1\n",
    " \n",
    "\n",
    "Constraints:\n",
    "    1 <= s.length <= 2000\n",
    "    s consists of lowercase English letters only.\n",
    "\"\"\"\n",
    "\n",
    "from functools import cache\n",
    "class Solution:\n",
    "    def minCut(self, s: str) -> int:\n",
    "        @cache\n",
    "        def is_palin(l, r):\n",
    "            while l <= r:\n",
    "                if s[l] != s[r]:\n",
    "                    return False\n",
    "                l += 1\n",
    "                r -= 1\n",
    "            return True\n",
    "        @cache\n",
    "        def min_count(idx):\n",
    "            if idx >= len(s):\n",
    "                return 0\n",
    "            count = float('inf')\n",
    "            for j in range(idx, len(s)):\n",
    "                if is_palin(idx, j):\n",
    "                    count = min(count, min_count(j+1)+1)\n",
    "            return count\n",
    "        return min_count(0)-1"
   ]
  }
 ],
 "metadata": {
  "kernelspec": {
   "display_name": "Python 3",
   "language": "python",
   "name": "python3"
  },
  "language_info": {
   "codemirror_mode": {
    "name": "ipython",
    "version": 3
   },
   "file_extension": ".py",
   "mimetype": "text/x-python",
   "name": "python",
   "nbconvert_exporter": "python",
   "pygments_lexer": "ipython3",
   "version": "3.8.10"
  },
  "orig_nbformat": 4
 },
 "nbformat": 4,
 "nbformat_minor": 2
}
