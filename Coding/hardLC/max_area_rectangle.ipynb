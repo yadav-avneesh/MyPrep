{
 "cells": [
  {
   "cell_type": "markdown",
   "metadata": {},
   "source": [
    "Maximum size rectanlge with all 1s in the given binary rectangle"
   ]
  },
  {
   "cell_type": "code",
   "execution_count": 2,
   "metadata": {},
   "outputs": [],
   "source": [
    "def max_area(A):\n",
    "    l = len(A)\n",
    "    area = -1\n",
    "    stack = []\n",
    "    j = 0\n",
    "    while j < l:\n",
    "        if (not stack) or A[j] >= A[stack[-1]]:\n",
    "            stack.append(j)\n",
    "            j += 1\n",
    "        else:\n",
    "            elm = A[stack.pop()]\n",
    "            count = j - 1 - stack[-1] if stack else j\n",
    "            area = max(area, elm*count)\n",
    "    while stack:\n",
    "        elm = A[stack.pop()]\n",
    "        count = j - 1 - stack[-1] if stack else j\n",
    "        area = max(area, elm*count)\n",
    "    return area"
   ]
  },
  {
   "cell_type": "code",
   "execution_count": 14,
   "metadata": {},
   "outputs": [],
   "source": [
    "def maximalRectangle(A):\n",
    "    r, c = len(A), len(A[0])\n",
    "    for i in range(1, r):\n",
    "        for j in range(c):\n",
    "            if A[i][j] == 1:\n",
    "                A[i][j] += A[i-1][j]\n",
    "    for i in range(r):\n",
    "        print(A[i])\n",
    "    area = -1\n",
    "    for row in A:\n",
    "        area = max(max_area(row), area)\n",
    "    return area\n"
   ]
  },
  {
   "cell_type": "code",
   "execution_count": 15,
   "metadata": {},
   "outputs": [],
   "source": [
    "inp = [\n",
    "  [1, 1, 1, 1, 1, 1, 0, 1, 1, 1, 1, 1, 1, 1, 1],\n",
    "  [1, 0, 1, 1, 0, 1, 1, 1, 1, 1, 1, 1, 1, 1, 1],\n",
    "  [1, 1, 1, 1, 1, 1, 1, 1, 1, 1, 1, 1, 1, 1, 1],\n",
    "  [0, 1, 1, 1, 1, 1, 1, 0, 1, 1, 1, 0, 1, 1, 1],\n",
    "  [1, 0, 0, 1, 1, 1, 1, 1, 1, 1, 1, 0, 1, 1, 1],\n",
    "  [1, 1, 1, 1, 1, 1, 1, 1, 1, 1, 1, 1, 1, 1, 1],\n",
    "  [1, 1, 1, 0, 1, 1, 1, 1, 1, 1, 1, 0, 1, 1, 1],\n",
    "  [1, 1, 1, 1, 0, 0, 0, 1, 1, 1, 1, 1, 0, 1, 0],\n",
    "  [1, 0, 1, 1, 0, 0, 0, 1, 1, 1, 1, 0, 1, 0, 1],\n",
    "  [1, 0, 1, 1, 1, 1, 1, 1, 0, 1, 1, 1, 0, 1, 1],\n",
    "  [1, 0, 1, 1, 1, 1, 1, 1, 1, 1, 1, 1, 1, 1, 1],\n",
    "  [1, 1, 1, 0, 1, 1, 1, 1, 1, 1, 1, 1, 1, 1, 1],\n",
    "  [1, 1, 1, 0, 0, 0, 1, 0, 1, 1, 1, 1, 1, 1, 1],\n",
    "  [1, 1, 1, 1, 1, 1, 0, 1, 1, 1, 1, 1, 1, 1, 1],\n",
    "  [1, 1, 1, 1, 1, 1, 1, 0, 1, 1, 1, 1, 1, 0, 1]\n",
    "]\n"
   ]
  },
  {
   "cell_type": "code",
   "execution_count": 16,
   "metadata": {},
   "outputs": [
    {
     "name": "stdout",
     "output_type": "stream",
     "text": [
      "[1, 1, 1, 1, 1, 1, 0, 1, 1, 1, 1, 1, 1, 1, 1]\n",
      "[2, 0, 2, 2, 0, 2, 1, 2, 2, 2, 2, 2, 2, 2, 2]\n",
      "[3, 1, 3, 3, 1, 3, 2, 3, 3, 3, 3, 3, 3, 3, 3]\n",
      "[0, 2, 4, 4, 2, 4, 3, 0, 4, 4, 4, 0, 4, 4, 4]\n",
      "[1, 0, 0, 5, 3, 5, 4, 1, 5, 5, 5, 0, 5, 5, 5]\n",
      "[2, 1, 1, 6, 4, 6, 5, 2, 6, 6, 6, 1, 6, 6, 6]\n",
      "[3, 2, 2, 0, 5, 7, 6, 3, 7, 7, 7, 0, 7, 7, 7]\n",
      "[4, 3, 3, 1, 0, 0, 0, 4, 8, 8, 8, 1, 0, 8, 0]\n",
      "[5, 0, 4, 2, 0, 0, 0, 5, 9, 9, 9, 0, 1, 0, 1]\n",
      "[6, 0, 5, 3, 1, 1, 1, 6, 0, 10, 10, 1, 0, 1, 2]\n",
      "[7, 0, 6, 4, 2, 2, 2, 7, 1, 11, 11, 2, 1, 2, 3]\n",
      "[8, 1, 7, 0, 3, 3, 3, 8, 2, 12, 12, 3, 2, 3, 4]\n",
      "[9, 2, 8, 0, 0, 0, 4, 0, 3, 13, 13, 4, 3, 4, 5]\n",
      "[10, 3, 9, 1, 1, 1, 0, 1, 4, 14, 14, 5, 4, 5, 6]\n",
      "[11, 4, 10, 2, 2, 2, 1, 0, 5, 15, 15, 6, 5, 0, 7]\n"
     ]
    },
    {
     "data": {
      "text/plain": [
       "30"
      ]
     },
     "execution_count": 16,
     "metadata": {},
     "output_type": "execute_result"
    }
   ],
   "source": [
    "maximalRectangle(inp)"
   ]
  },
  {
   "cell_type": "code",
   "execution_count": null,
   "metadata": {},
   "outputs": [],
   "source": []
  }
 ],
 "metadata": {
  "kernelspec": {
   "display_name": "Python 3",
   "language": "python",
   "name": "python3"
  },
  "language_info": {
   "codemirror_mode": {
    "name": "ipython",
    "version": 3
   },
   "file_extension": ".py",
   "mimetype": "text/x-python",
   "name": "python",
   "nbconvert_exporter": "python",
   "pygments_lexer": "ipython3",
   "version": "3.7.7"
  }
 },
 "nbformat": 4,
 "nbformat_minor": 4
}
