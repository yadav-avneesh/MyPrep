{
 "cells": [
  {
   "cell_type": "code",
   "execution_count": 1,
   "metadata": {},
   "outputs": [],
   "source": [
    "\"\"\"\n",
    "You are given an array of integers nums, there is a sliding window of size k which is moving from the very left of the array to the very right. You can only see the k numbers in the window. Each time the sliding window moves right by one position.\n",
    "\n",
    "Return the max sliding window.\n",
    "\n",
    " \n",
    "\n",
    "Example 1:\n",
    "\n",
    "Input: nums = [1,3,-1,-3,5,3,6,7], k = 3\n",
    "Output: [3,3,5,5,6,7]\n",
    "Explanation: \n",
    "Window position                Max\n",
    "---------------               -----\n",
    "[1  3  -1] -3  5  3  6  7       3\n",
    " 1 [3  -1  -3] 5  3  6  7       3\n",
    " 1  3 [-1  -3  5] 3  6  7       5\n",
    " 1  3  -1 [-3  5  3] 6  7       5\n",
    " 1  3  -1  -3 [5  3  6] 7       6\n",
    " 1  3  -1  -3  5 [3  6  7]      7\n",
    "Example 2:\n",
    "\n",
    "Input: nums = [1], k = 1\n",
    "Output: [1]\n",
    " \n",
    "\n",
    "Constraints:\n",
    "\n",
    "1 <= nums.length <= 105\n",
    "-104 <= nums[i] <= 104\n",
    "1 <= k <= nums.length\n",
    "\"\"\"\n",
    "from collections import deque\n",
    "class Solution:\n",
    "    def maxSlidingWindow(self, nums, k):\n",
    "        maxw = deque()\n",
    "        result = []\n",
    "        idx = 0\n",
    "        l = len(nums)\n",
    "        while idx < k-1:\n",
    "            curr = nums[idx]\n",
    "            while maxw and nums[maxw[-1]] <= curr:\n",
    "                maxw.pop()\n",
    "            maxw.append(idx)\n",
    "            idx += 1\n",
    "        while idx < l:\n",
    "            curr = nums[idx]\n",
    "            while maxw and nums[maxw[-1]] <= curr:\n",
    "                maxw.pop()\n",
    "            maxw.append(idx)\n",
    "            cmx_i = maxw[0]\n",
    "            result.append(nums[cmx_i])\n",
    "            x_idx = idx - k + 1\n",
    "            if maxw[0] == x_idx:\n",
    "                maxw.popleft()\n",
    "            idx += 1\n",
    "        return result"
   ]
  },
  {
   "cell_type": "code",
   "execution_count": 2,
   "metadata": {},
   "outputs": [],
   "source": [
    "from collections import deque\n",
    "class Solution:\n",
    "    def maxSlidingWindow(self, nums, k):\n",
    "        maxw = deque()\n",
    "        result = []\n",
    "        for idx, curr in enumerate(nums):\n",
    "            while maxw and nums[maxw[-1]] <= curr:\n",
    "                maxw.pop()\n",
    "            maxw.append(idx)\n",
    "            if idx >= k-1:\n",
    "                result.append(nums[maxw[0]])\n",
    "            if maxw[0] == idx - k + 1:\n",
    "                maxw.popleft()\n",
    "        return result"
   ]
  },
  {
   "cell_type": "code",
   "execution_count": null,
   "metadata": {},
   "outputs": [],
   "source": []
  }
 ],
 "metadata": {
  "kernelspec": {
   "display_name": "Python 3.9.1 64-bit",
   "language": "python",
   "name": "python3"
  },
  "language_info": {
   "codemirror_mode": {
    "name": "ipython",
    "version": 3
   },
   "file_extension": ".py",
   "mimetype": "text/x-python",
   "name": "python",
   "nbconvert_exporter": "python",
   "pygments_lexer": "ipython3",
   "version": "3.9.1"
  },
  "orig_nbformat": 4,
  "vscode": {
   "interpreter": {
    "hash": "81794d4967e6c3204c66dcd87b604927b115b27c00565d3d43f05ba2f3a2cb0d"
   }
  }
 },
 "nbformat": 4,
 "nbformat_minor": 2
}
