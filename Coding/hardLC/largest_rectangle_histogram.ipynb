{
 "cells": [
  {
   "cell_type": "code",
   "execution_count": 1,
   "metadata": {},
   "outputs": [],
   "source": [
    "\"\"\"\n",
    "Given an array of integers heights representing the histogram's bar height where the width of each bar is 1, return the area of the largest rectangle in the histogram.\n",
    " \n",
    "\n",
    "Example 1:\n",
    "    Input: heights = [2,1,5,6,2,3]\n",
    "    Output: 10\n",
    "    Explanation: The above is a histogram where width of each bar is 1.\n",
    "    The largest rectangle is shown in the red area, which has an area = 10 units.\n",
    "\n",
    "\n",
    "Example 2:\n",
    "    Input: heights = [2,4]\n",
    "    Output: 4\n",
    " \n",
    "\n",
    "Constraints:\n",
    "    1 <= heights.length <= 105\n",
    "    0 <= heights[i] <= 104\n",
    "\n",
    "TIP:\n",
    "    1. Naive : O(N^2)\n",
    "    2. Optimized: TC = O(N); SC = O(N)\n",
    "        a. traverse heights;\n",
    "        b. soon as we encounter a height lesser than previous, then we can compute area due to previous ones until previous becomes lesser or equal\n",
    "        to current.\n",
    "        c. Keep a bredth_prev = breadh_next + 1; because prev would be lesser and hence will have + 1 breadh\n",
    "        d. Thus get an increasing sequence.\n",
    "        e. Iterate once more, keep decreasing bases as you go.\n",
    "    3. Can be simplified a bit;\n",
    "        a. instead of following base_count; \n",
    "        b. curr_idx - popped_idx will be base_count for popped_larger_height\n",
    "        c. and then add curr_height at last_popped_idx.\n",
    "\"\"\"\n",
    "\n",
    "class Solution:\n",
    "    def largestRectangleArea(self, heights):\n",
    "        l = len(heights)\n",
    "        area = [[0, 1]]\n",
    "        max_area = 0\n",
    "        for height in heights:\n",
    "            if height >= area[-1][0]:\n",
    "                area.append([height, 1])\n",
    "            else:\n",
    "                prev_base  = 0\n",
    "                while len(area) > 1 and area[-1][0] > height:\n",
    "                    curr, base = area.pop()\n",
    "                    base += prev_base\n",
    "                    max_area = max(curr*base, max_area)\n",
    "                    prev_base = base\n",
    "                area.append([height, prev_base+1])\n",
    "        while len(area) > 1:\n",
    "            curr, base = area.pop()\n",
    "            max_area = max(curr*base, max_area)\n",
    "            area[-1][1] += base\n",
    "        return max_area\n",
    "\n",
    "\n",
    "\n",
    "\n",
    "\n"
   ]
  },
  {
   "cell_type": "code",
   "execution_count": null,
   "metadata": {},
   "outputs": [],
   "source": [
    "class Solution:\n",
    "    def largestRectangleArea(self, heights):\n",
    "        bars = [(0, -1)]\n",
    "        result = 0\n",
    "        for idx, height in enumerate(heights):\n",
    "            pidx = idx\n",
    "            while bars[-1][0] > height:\n",
    "                h, pidx = bars.pop()\n",
    "                result = max((idx-pidx)* h, result)\n",
    "            bars.append((height, pidx))\n",
    "        l = len(heights)\n",
    "        while bars:\n",
    "            height, idx = bars.pop()\n",
    "            result = max(height*(l-idx), result)\n",
    "        return result\n"
   ]
  },
  {
   "cell_type": "code",
   "execution_count": null,
   "metadata": {},
   "outputs": [],
   "source": []
  }
 ],
 "metadata": {
  "kernelspec": {
   "display_name": "Python 3",
   "language": "python",
   "name": "python3"
  },
  "language_info": {
   "codemirror_mode": {
    "name": "ipython",
    "version": 3
   },
   "file_extension": ".py",
   "mimetype": "text/x-python",
   "name": "python",
   "nbconvert_exporter": "python",
   "pygments_lexer": "ipython3",
   "version": "3.9.1"
  },
  "orig_nbformat": 4,
  "vscode": {
   "interpreter": {
    "hash": "81794d4967e6c3204c66dcd87b604927b115b27c00565d3d43f05ba2f3a2cb0d"
   }
  }
 },
 "nbformat": 4,
 "nbformat_minor": 2
}
