{
 "cells": [
  {
   "cell_type": "code",
   "execution_count": 1,
   "metadata": {},
   "outputs": [],
   "source": [
    "\"\"\"\n",
    "A path in a binary tree is a sequence of nodes where each pair of adjacent nodes in the \n",
    "sequence has an edge connecting them. A node can only appear in the sequence at most \n",
    "once. Note that the path does not need to pass through the root.\n",
    "\n",
    "The path sum of a path is the sum of the node's values in the path.\n",
    "\n",
    "Given the root of a binary tree, return the maximum path sum of any non-empty path.\n",
    "\n",
    "Example 1:\n",
    "Input: root = [1,2,3]\n",
    "Output: 6\n",
    "Explanation: The optimal path is 2 -> 1 -> 3 with a path sum of 2 + 1 + 3 = 6.\n",
    "\n",
    "\n",
    "Example 2:\n",
    "Input: root = [-10,9,20,null,null,15,7]\n",
    "Output: 42\n",
    "Explanation: The optimal path is 15 -> 20 -> 7 with a path sum of 15 + 20 + 7 = 42.\n",
    " \n",
    "\n",
    "Constraints:\n",
    "The number of nodes in the tree is in the range [1, 3 * 104].\n",
    "-1000 <= Node.val <= 1000\n",
    "\"\"\"\n",
    "\n",
    "\n",
    "# Definition for a binary tree node.\n",
    "\n",
    "class TreeNode:\n",
    "    def __init__(self, val=0, left=None, right=None):\n",
    "        self.val = val\n",
    "        self.left = left\n",
    "        self.right = right\n",
    "\n",
    "class Solution:\n",
    "    def get_max_path_sum(self, root):\n",
    "        if not root:\n",
    "            return float('-inf'), 0\n",
    "        max_ltree, lmax_path_sum = self.get_max_path_sum(root.left)\n",
    "        max_rtree, rmax_path_sum = self.get_max_path_sum(root.right)\n",
    "        max_path_sum = root.val + max(lmax_path_sum, rmax_path_sum, 0)\n",
    "        max_tree_sum = max(\n",
    "            max_ltree, \n",
    "            max_rtree, \n",
    "            root.val, \n",
    "            max_path_sum, \n",
    "            root.val+lmax_path_sum + rmax_path_sum)\n",
    "        return max_tree_sum, max_path_sum\n",
    "    def maxPathSum(self, root):\n",
    "        if not root:\n",
    "            return 0\n",
    "        return self.get_max_path_sum(root)[0]"
   ]
  },
  {
   "cell_type": "code",
   "execution_count": 2,
   "metadata": {},
   "outputs": [],
   "source": [
    "class Solution:\n",
    "    gmx = float('-inf')\n",
    "\n",
    "    def get_max_path_sum(self, root):\n",
    "        if not root:\n",
    "            return 0\n",
    "        curr, lt, rt = root.val, root.left, root.right\n",
    "        lmax_path_sum = self.get_max_path_sum(lt)\n",
    "        rmax_path_sum = self.get_max_path_sum(rt)\n",
    "        max_path_sum = curr + max(lmax_path_sum, rmax_path_sum, 0)\n",
    "        self.gmx = max(self.gmx, curr, max_path_sum, curr+lmax_path_sum+rmax_path_sum)\n",
    "        return max_path_sum\n",
    "    \n",
    "    def maxPathSum(self, root):\n",
    "        self.get_max_path_sum(root)\n",
    "        return self.gmx"
   ]
  },
  {
   "cell_type": "code",
   "execution_count": null,
   "metadata": {},
   "outputs": [],
   "source": []
  }
 ],
 "metadata": {
  "kernelspec": {
   "display_name": "Python 3.9.1 64-bit",
   "language": "python",
   "name": "python3"
  },
  "language_info": {
   "codemirror_mode": {
    "name": "ipython",
    "version": 3
   },
   "file_extension": ".py",
   "mimetype": "text/x-python",
   "name": "python",
   "nbconvert_exporter": "python",
   "pygments_lexer": "ipython3",
   "version": "3.9.1"
  },
  "orig_nbformat": 4,
  "vscode": {
   "interpreter": {
    "hash": "81794d4967e6c3204c66dcd87b604927b115b27c00565d3d43f05ba2f3a2cb0d"
   }
  }
 },
 "nbformat": 4,
 "nbformat_minor": 2
}
