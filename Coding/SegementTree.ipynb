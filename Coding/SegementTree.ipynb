{
 "cells": [
  {
   "cell_type": "markdown",
   "metadata": {},
   "source": [
    "### Segement Tree"
   ]
  },
  {
   "cell_type": "markdown",
   "metadata": {},
   "source": [
    "* This is a useful data strucutre for range queries, for example, finding sum for a range, finding min for a range etc.\n",
    "* It is a binary tree sort of structure, where leaf nodes are array elements and rest of the nodes all the way to the root, are ranges with some value for which we query the range\n",
    "* Construction : O(n), Update : O(logn), Query: O(logn); \n",
    "* Space: n size array would need a  (n + n/2 + n/4 ... 2^logn ~= 4n) size array, i.e., O(n) sapce.\n",
    "* We can use another array to create segment tree structure, as it is just a binary tree."
   ]
  },
  {
   "cell_type": "markdown",
   "metadata": {},
   "source": [
    "### Building Seg tree for sum query"
   ]
  },
  {
   "cell_type": "code",
   "execution_count": 74,
   "metadata": {},
   "outputs": [],
   "source": [
    "a = [5, 3, 1, 2, 6, 5, 4]"
   ]
  },
  {
   "cell_type": "markdown",
   "metadata": {},
   "source": [
    "                                              1(0:6)\n",
    "                                                 |\n",
    "                     2(0:3)                      |                         3(4:6)\n",
    "                        |                        |                            |\n",
    "                       11                        |                           15\n",
    "                                                 | \n",
    "          4(0:1)                5(2:3)           |              6(4:5)               7(6:6)\n",
    "             |                     |             |                |                     |\n",
    "             8                     3             |               11                     |                                                                                |                                      |\n",
    "    8(0:0)      9(1:1)   10(2:2)       11(3:3)   |     12(4:4)         13(5:5)          | \n",
    "      |            |        |             |     26        |                |            |\n",
    "      |            |        |             |               |                |            |\n",
    "      5            3        1             2               6                5            4\n",
    "          "
   ]
  },
  {
   "cell_type": "code",
   "execution_count": 75,
   "metadata": {},
   "outputs": [],
   "source": [
    "n = len(a)"
   ]
  },
  {
   "cell_type": "code",
   "execution_count": 76,
   "metadata": {},
   "outputs": [],
   "source": [
    "tree = 4*n*[None]"
   ]
  },
  {
   "cell_type": "code",
   "execution_count": 77,
   "metadata": {},
   "outputs": [],
   "source": [
    "def build_tree(start, end, curr):\n",
    "    if start == end:\n",
    "        tree[curr] = a[start]\n",
    "    else:\n",
    "        l = curr * 2\n",
    "        r = curr * 2 + 1\n",
    "        m = (start + end) / 2\n",
    "        build_tree(start, m, l)\n",
    "        build_tree(m+1, end, r)\n",
    "        tree[curr] = tree[l] + tree[r]\n"
   ]
  },
  {
   "cell_type": "code",
   "execution_count": 78,
   "metadata": {},
   "outputs": [],
   "source": [
    "def update_tree(start, end, curr, idx, value):\n",
    "    if start == end:\n",
    "        tree[curr] = value\n",
    "    else:\n",
    "        l = curr * 2\n",
    "        r = curr * 2 + 1\n",
    "        m = (start + end) / 2\n",
    "        if idx <= m:\n",
    "            update_tree(start, m, l, idx, value)\n",
    "        else:\n",
    "            update_tree(m+1, end, r, idx, value)\n",
    "        tree[curr] = tree[l] + tree[r]\n",
    "        "
   ]
  },
  {
   "cell_type": "code",
   "execution_count": 94,
   "metadata": {},
   "outputs": [],
   "source": [
    "def query_tree(start, end, curr, l, r):\n",
    "    if l > r:\n",
    "        return 0\n",
    "    if start == l and r == end:\n",
    "        return tree[curr]\n",
    "    l1, r1 = curr * 2, curr * 2 + 1\n",
    "    m = (start + end) / 2\n",
    "    return (\n",
    "        query_tree(start, m, l1, l, min(m, r)) +\n",
    "        query_tree(m+1, end, r1, max(l, m+1), r)\n",
    "    )\n"
   ]
  },
  {
   "cell_type": "code",
   "execution_count": 88,
   "metadata": {},
   "outputs": [],
   "source": [
    "build_tree(0, n-1, 1)"
   ]
  },
  {
   "cell_type": "code",
   "execution_count": 89,
   "metadata": {},
   "outputs": [
    {
     "name": "stdout",
     "output_type": "stream",
     "text": [
      "[None, 26, 11, 15, 8, 3, 11, 4, 5, 3, 1, 2, 6, 5, None, None, None, None, None, None, None, None, None, None, None, None, None, None]\n"
     ]
    }
   ],
   "source": [
    "print(tree)"
   ]
  },
  {
   "cell_type": "code",
   "execution_count": 90,
   "metadata": {},
   "outputs": [],
   "source": [
    "update_tree(0, 6, 1, 2, 11)"
   ]
  },
  {
   "cell_type": "markdown",
   "metadata": {},
   "source": [
    "                                              1(0:6)\n",
    "                                                 |\n",
    "                     2(0:3)                      |                         3(4:6)\n",
    "                        |                        |                            |\n",
    "                       21                        |                           15\n",
    "                                                 | \n",
    "          4(0:1)                5(2:3)           |              6(4:5)               7(6:6)\n",
    "             |                     |             |                |                     |\n",
    "             8                    13             |               11                     |                                                                                |                                      |\n",
    "    8(0:0)      9(1:1)   10(2:2)       11(3:3)   |     12(4:4)         13(5:5)          | \n",
    "      |            |        |             |     36        |                |            |\n",
    "      |            |        |             |               |                |            |\n",
    "      5            3       11             2               6                5            4\n",
    "          "
   ]
  },
  {
   "cell_type": "code",
   "execution_count": 91,
   "metadata": {},
   "outputs": [
    {
     "name": "stdout",
     "output_type": "stream",
     "text": [
      "[None, 36, 21, 15, 8, 13, 11, 4, 5, 3, 11, 2, 6, 5, None, None, None, None, None, None, None, None, None, None, None, None, None, None]\n"
     ]
    }
   ],
   "source": [
    "print(tree)"
   ]
  },
  {
   "cell_type": "code",
   "execution_count": 93,
   "metadata": {},
   "outputs": [
    {
     "data": {
      "text/plain": [
       "27"
      ]
     },
     "execution_count": 93,
     "metadata": {},
     "output_type": "execute_result"
    }
   ],
   "source": [
    "query_tree(0, 6, 1, 1, 5)"
   ]
  },
  {
   "cell_type": "code",
   "execution_count": 108,
   "metadata": {},
   "outputs": [],
   "source": [
    "class SegTreeSum:\n",
    "    def __init__(self, values):\n",
    "        self.values = values \n",
    "        self.n = len(self.values)\n",
    "        self.tree = [None]*4*self.n\n",
    "        self.build_tree(0, self.n-1, 1) # vertex 1 is the root vertex\n",
    "\n",
    "    def build_tree(self, start, end, curr):\n",
    "        if start == end:\n",
    "            self.tree[curr] = self.values[start]\n",
    "        else:\n",
    "            mid = (start + end) / 2\n",
    "            l, r = 2*curr, 2*curr+1\n",
    "            self.build_tree(start, mid, l)\n",
    "            self.build_tree(mid+1, end, r)\n",
    "            self.tree[curr] = self.tree[l] + self.tree[r]\n",
    "\n",
    "    def update_tree(self, idx, new_value, end, start=0, curr=1):\n",
    "        if start==end:\n",
    "            self.values[idx] = new_value\n",
    "            self.tree[curr] = new_value \n",
    "        else:\n",
    "            mid = (start + end) / 2\n",
    "            l, r = 2*curr, 2*curr+1\n",
    "            if idx <= mid:\n",
    "                self.update_tree(idx, new_value, mid, start, l)\n",
    "            else:\n",
    "                self.update_tree(idx, new_value, end, mid+1, r)\n",
    "            self.tree[curr] = self.tree[l] + self.tree[r]\n",
    "            \n",
    "    def query_tree(self, l, r, end, start=0, curr=1):\n",
    "        if l > r:\n",
    "            return 0\n",
    "        if start == l and end == r:\n",
    "            return self.tree[curr]\n",
    "        l1, r1 = 2*curr, 2*curr+1\n",
    "        mid = (start + end)/2\n",
    "        return self.query_tree(l, min(r, mid), mid, start, l1) + self.query_tree(max(mid+1, l), r, end, mid+1, r1)"
   ]
  },
  {
   "cell_type": "code",
   "execution_count": 109,
   "metadata": {},
   "outputs": [],
   "source": [
    "sTs = SegTreeSum([10, 2, 3, 5, 9, 1])"
   ]
  },
  {
   "cell_type": "code",
   "execution_count": 110,
   "metadata": {},
   "outputs": [
    {
     "data": {
      "text/plain": [
       "17"
      ]
     },
     "execution_count": 110,
     "metadata": {},
     "output_type": "execute_result"
    }
   ],
   "source": [
    "sTs.query_tree(2, 4, 5)"
   ]
  },
  {
   "cell_type": "code",
   "execution_count": 111,
   "metadata": {},
   "outputs": [],
   "source": [
    "sTs.update_tree(2, 11, 5)"
   ]
  },
  {
   "cell_type": "code",
   "execution_count": 112,
   "metadata": {},
   "outputs": [
    {
     "data": {
      "text/plain": [
       "25"
      ]
     },
     "execution_count": 112,
     "metadata": {},
     "output_type": "execute_result"
    }
   ],
   "source": [
    "sTs.query_tree(2, 4, 5)"
   ]
  },
  {
   "cell_type": "markdown",
   "metadata": {},
   "source": [
    "### Build Seg tree for nth free index"
   ]
  },
  {
   "cell_type": "code",
   "execution_count": 232,
   "metadata": {},
   "outputs": [],
   "source": [
    "class CountSegTree:\n",
    "    def __init__(self, n):\n",
    "        self.n = n\n",
    "        self.tree = [(None, None)]*4*n\n",
    "        self.build_tree(0, n-1, 1)\n",
    "    \n",
    "    def build_tree(self, start, end, curr):\n",
    "        if start==end:\n",
    "            self.tree[curr] = (1, end)\n",
    "        else:\n",
    "            l, r = 2*curr, 2*curr+1\n",
    "            mid  = (start + end)/2\n",
    "            self.build_tree(start, mid, l)\n",
    "            self.build_tree(mid+1, end, r)\n",
    "            self.tree[curr] = (self.tree[l][0] + self.tree[r][0], end)\n",
    "    \n",
    "    def update_tree(self, idx, end, start=0, curr=1):\n",
    "        if start==end:\n",
    "            self.tree[curr] = (0, end)\n",
    "        else:\n",
    "            mid = (start + end)/2\n",
    "            if idx <= mid:\n",
    "                self.update_tree(idx, mid, start, 2*curr)\n",
    "            else:\n",
    "                self.update_tree(idx, end, mid+1, 2*curr+1)\n",
    "            l_value, r_value = self.tree[2*curr], self.tree[2*curr+1]\n",
    "            self.tree[curr] = (l_value[0] + r_value[0], r_value[1] if r_value[0] else l_value[1])\n",
    "            \n",
    "    def query_tree(self, count, end, start=0, curr=1):\n",
    "        if self.tree[curr][0] == count:\n",
    "            return self.tree[curr][1]\n",
    "        mid = (start+end)/2\n",
    "        l_count = self.tree[2*curr][0]\n",
    "        if count <= l_count:\n",
    "            return self.query_tree(count, mid, start, 2*curr)\n",
    "        else:\n",
    "            return self.query_tree(count-l_count, end, mid+1, 2*curr+1)"
   ]
  },
  {
   "cell_type": "code",
   "execution_count": 246,
   "metadata": {},
   "outputs": [],
   "source": [
    "# sTs = CountSegTree(6)\n",
    "\n",
    "# print sTs.tree\n",
    "\n",
    "# sTs.query_tree(4, 5)\n",
    "\n",
    "# sTs.update_tree(3, 5); print sTs.tree\n",
    "\n",
    "# sTs.query_tree(3, 5)\n",
    "\n",
    "# sTs.update_tree(2, 5); print sTs.tree\n",
    "\n",
    "# sTs.query_tree(2, 5)\n",
    "\n",
    "# sTs.update_tree(1, 5); print sTs.tree\n",
    "\n",
    "# sTs.query_tree(3, 5)\n",
    "\n",
    "# sTs.update_tree(5, 5); print sTs.tree\n",
    "\n",
    "# sTs.query_tree(1, 5)\n",
    "\n",
    "# sTs.update_tree(0, 5); print sTs.tree\n",
    "\n",
    "# sTs.query_tree(1, 5)"
   ]
  },
  {
   "cell_type": "code",
   "execution_count": 1,
   "metadata": {},
   "outputs": [
    {
     "name": "stdout",
     "output_type": "stream",
     "text": [
      "Minimum in range 0 to 5 is 2\n",
      "Minimum in range 2 to 6 is 1\n"
     ]
    },
    {
     "data": {
      "text/plain": [
       "'\\nOutput: \\nMinimum in range 0 to 5 is 2\\nMinimum in range 2 to 6 is 1\\n \\n\\nTime Complexity :(n log n) \\nAuxiliary Space : (n)\\n'"
      ]
     },
     "execution_count": 1,
     "metadata": {},
     "output_type": "execute_result"
    }
   ],
   "source": [
    "'''\n",
    "We have discussed recursive segment tree implementation. In this post, iterative implementation is discussed.\n",
    "Let us consider the following problem understand Segment Trees.\n",
    "We have an array arr[0 . . . n-1]. We should be able to \n",
    "1 Find the minimum of elements from index l to r where 0 <= l <= r <= n-1 \n",
    "2 Change value of a specified element of the array to a new value x. We need to do arr[i] = x where 0 <= i <= n-1.\n",
    "Examples: \n",
    " \n",
    "\n",
    "Input : 2, 6, 7, 5, 18, 86, 54, 2\n",
    "        minimum(2, 7)  \n",
    "        update(3, 4)\n",
    "        minimum(2, 6) \n",
    "Output : Minimum in range 2 to 7 is 2.\n",
    "         Minimum in range 2 to 6 is 4.\n",
    " \n",
    "\n",
    "The iterative version of the segment tree basically uses the fact, that for an index i, \n",
    "left child = 2 * i and right child = 2 * i + 1 in the tree. The parent for an index i \n",
    "in the segment tree array can be found by parent = i / 2. Thus we can easily travel up \n",
    "and down through the levels of the tree one by one. At first we compute the minimum in \n",
    "the ranges while constructing the tree starting from the leaf nodes and climbing up \n",
    "through the levels one by one. We use the same concept while processing the queries \n",
    "for finding the minimum in a range. Since there are (log n) levels in the worst case, \n",
    "so querying takes log n time. For update of a particular index to a given value we \n",
    "start updating the segment tree starting from the leaf nodes and update all those \n",
    "nodes which are affected by the updation of the current node by gradually moving up \n",
    "through the levels at every iteration. Updation also takes log n time because there \n",
    "we have to update all the levels starting from the leaf node where we update the \n",
    "exact value at the exact index given by the user. \n",
    "\n",
    "\n",
    "\n",
    " \n",
    "'''\n",
    "\n",
    "# Python3 program to implement\n",
    "# iterative segment tree.\n",
    "def construct_segment_tree(segtree, a, n):\n",
    "     \n",
    "    # assign values to leaves of\n",
    "    # the segment tree\n",
    "    for i in range(n):\n",
    "        segtree[n + i] = a[i];\n",
    "     \n",
    "    # assign values to remaining nodes\n",
    "    # to compute minimum in a given range\n",
    "    for i in range(n - 1, 0, -1):\n",
    "        segtree[i] = min(segtree[2 * i],\n",
    "                         segtree[2 * i + 1])\n",
    "                         \n",
    "def range_query(segtree, left, right, n):\n",
    "    left += n\n",
    "    right += n\n",
    "     \n",
    "    \"\"\" Basically the left and right indices\n",
    "        will move towards right and left respectively\n",
    "        and with every each next higher level and\n",
    "        compute the minimum at each height change\n",
    "        the index to leaf node first \"\"\"\n",
    "    mi = 1e9 # initialize minimum to a very high value\n",
    "    while (left < right):\n",
    "        if (left & 1): # if left index in odd\n",
    "                mi = min(mi, segtree[left])\n",
    "                left = left + 1\n",
    "        if (right & 1): # if right index in odd\n",
    "                right -= 1\n",
    "                mi = min(mi, segtree[right])\n",
    "                 \n",
    "        # move to the next higher level\n",
    "        left = left // 2\n",
    "        right = right // 2\n",
    "    return mi\n",
    " \n",
    "def update(segtree, pos, value, n):\n",
    "     \n",
    "    # change the index to leaf node first\n",
    "    pos += n\n",
    "     \n",
    "    # update the value at the leaf node\n",
    "    # at the exact index\n",
    "    segtree[pos] = value\n",
    "    while (pos > 1):\n",
    "         \n",
    "        # move up one level at a time in the tree\n",
    "        pos >>= 1;\n",
    "         \n",
    "        # update the values in the nodes\n",
    "        # in the next higher level\n",
    "        segtree[pos] = min(segtree[2 * pos],\n",
    "                           segtree[2 * pos + 1])\n",
    " \n",
    "# Driver Code    \n",
    " \n",
    "# Elements in list\n",
    "a = [2, 6, 10, 4, 7, 28, 9, 11, 6, 33]\n",
    "n = len(a)\n",
    " \n",
    "# Construct the segment tree by assigning\n",
    "# the values to the internal nodes\n",
    "segtree = [0 for i in range(2 * n)]\n",
    "construct_segment_tree(segtree, a, n);\n",
    "left = 0\n",
    "right = 5 #compute minimum in the range left to right\n",
    "print (\"Minimum in range\", left, \"to\", right, \"is\",\n",
    "        range_query(segtree, left, right + 1, n))\n",
    " \n",
    "# update the value of index 3 to 1\n",
    "index = 3\n",
    "value = 1\n",
    " \n",
    "# a[3] = 1;\n",
    "# Contents of array : {2, 6, 10, 1, 7, 28, 9, 11, 6, 33}\n",
    "update(segtree, index, value, n); # point update\n",
    "left = 2\n",
    "right = 6 # compute minimum in the range left to right\n",
    "print(\"Minimum in range\", left, \"to\", right, \"is\",\n",
    "       range_query(segtree, left, right + 1, n))\n",
    "        \n",
    "'''\n",
    "Output: \n",
    "Minimum in range 0 to 5 is 2\n",
    "Minimum in range 2 to 6 is 1\n",
    " \n",
    "\n",
    "Time Complexity :(n log n) \n",
    "Auxiliary Space : (n)\n",
    "'''"
   ]
  },
  {
   "cell_type": "code",
   "execution_count": null,
   "metadata": {},
   "outputs": [],
   "source": []
  }
 ],
 "metadata": {
  "kernelspec": {
   "display_name": "Python 3.9.1 64-bit",
   "language": "python",
   "name": "python3"
  },
  "language_info": {
   "codemirror_mode": {
    "name": "ipython",
    "version": 3
   },
   "file_extension": ".py",
   "mimetype": "text/x-python",
   "name": "python",
   "nbconvert_exporter": "python",
   "pygments_lexer": "ipython3",
   "version": "3.9.1"
  },
  "vscode": {
   "interpreter": {
    "hash": "81794d4967e6c3204c66dcd87b604927b115b27c00565d3d43f05ba2f3a2cb0d"
   }
  }
 },
 "nbformat": 4,
 "nbformat_minor": 4
}
