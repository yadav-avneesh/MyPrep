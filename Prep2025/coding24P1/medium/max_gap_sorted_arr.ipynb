{
 "cells": [
  {
   "cell_type": "markdown",
   "metadata": {},
   "source": [
    "```\n",
    "Given an integer array nums, return the maximum difference between two successive elements in its sorted form. If the array contains less than two elements, return 0.\n",
    "\n",
    "You must write an algorithm that runs in linear time and uses linear extra space.\n",
    "\n",
    " \n",
    "\n",
    "Example 1:\n",
    "    Input: nums = [3,6,9,1]\n",
    "    Output: 3\n",
    "    Explanation: The sorted form of the array is [1,3,6,9], either (3,6) or (6,9) has the maximum difference 3.\n",
    "\n",
    "Example 2:\n",
    "    Input: nums = [10]\n",
    "    Output: 0\n",
    "    Explanation: The array contains less than 2 elements, therefore return 0.\n",
    " \n",
    "\n",
    "Constraints:\n",
    "    1 <= nums.length <= 105\n",
    "    0 <= nums[i] <= 109\n",
    "```"
   ]
  },
  {
   "cell_type": "code",
   "execution_count": 4,
   "metadata": {},
   "outputs": [],
   "source": [
    "class Solution:\n",
    "    def maximumGap(self, nums: List[int]) -> int:\n",
    "        if len(nums) < 2:\n",
    "            return 0\n",
    "        nmin, nmax = min(nums), max(nums)\n",
    "        bucket_size = max(1, (nmax-nmin) // (len(nums) - 1))\n",
    "        bucket_vals = (nmax - nmin) // bucket_size + 1\n",
    "        buckets = [[] for i in range(bucket_vals)]\n",
    "        for num in nums:\n",
    "            bucket_idx = (num - nmin) // bucket_size\n",
    "            buckets[bucket_idx].append(num)\n",
    "        print(buckets)\n",
    "        max_gap = 0\n",
    "        pre_max = nmin\n",
    "        for idx, bkt in enumerate(buckets):\n",
    "            if not len(bkt):\n",
    "                continue\n",
    "\n",
    "            max_gap = max(max_gap, min(bkt) - pre_max)\n",
    "            pre_max = max(bkt)\n",
    "\n",
    "        return max_gap\n"
   ]
  },
  {
   "cell_type": "code",
   "execution_count": 3,
   "metadata": {},
   "outputs": [
    {
     "data": {
      "text/plain": [
       "2"
      ]
     },
     "execution_count": 3,
     "metadata": {},
     "output_type": "execute_result"
    }
   ],
   "source": [
    "9 // 4"
   ]
  },
  {
   "cell_type": "code",
   "execution_count": null,
   "metadata": {},
   "outputs": [],
   "source": []
  }
 ],
 "metadata": {
  "kernelspec": {
   "display_name": "Python 3",
   "language": "python",
   "name": "python3"
  },
  "language_info": {
   "codemirror_mode": {
    "name": "ipython",
    "version": 3
   },
   "file_extension": ".py",
   "mimetype": "text/x-python",
   "name": "python",
   "nbconvert_exporter": "python",
   "pygments_lexer": "ipython3",
   "version": "3.10.8"
  }
 },
 "nbformat": 4,
 "nbformat_minor": 2
}
