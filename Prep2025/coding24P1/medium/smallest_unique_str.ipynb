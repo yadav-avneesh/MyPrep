{
 "cells": [
  {
   "cell_type": "markdown",
   "metadata": {},
   "source": [
    "```\n",
    "Given a string s, remove duplicate letters so that every letter appears once and only once. You must make sure your result is the smallest in lexicographical order among all possible results.\n",
    "\n",
    " \n",
    "\n",
    "Example 1:\n",
    "    Input: s = \"bcabc\"\n",
    "    Output: \"abc\"\n",
    "\n",
    "\n",
    "Example 2:\n",
    "    Input: s = \"cbacdcbc\"\n",
    "    Output: \"acdb\"\n",
    " \n",
    "\n",
    "Constraints:\n",
    "    1 <= s.length <= 104\n",
    "    s consists of lowercase English letters.\n",
    " \n",
    "\n",
    "Note: This question is the same as 1081: https://leetcode.com/problems/smallest-subsequence-of-distinct-characters/\n",
    "```"
   ]
  },
  {
   "cell_type": "code",
   "execution_count": null,
   "metadata": {},
   "outputs": [],
   "source": [
    "class SmallestUniqueStr:\n",
    "    def removeDuplicateLetters(self, s: str) -> str:\n",
    "        last_idx = {ch: idx for idx, ch in enumerate(s)}\n",
    "        result = []\n",
    "        seen = set()\n",
    "        for idx, ch in enumerate(s):\n",
    "            if ch not in seen:\n",
    "                while result and result[-1] > ch and idx < last_idx[result[-1]]:\n",
    "                    seen.remove(result.pop())\n",
    "                result.append(ch)\n",
    "                seen.add(ch)\n",
    "        return \"\".join(result)"
   ]
  },
  {
   "cell_type": "code",
   "execution_count": null,
   "metadata": {},
   "outputs": [],
   "source": [
    "class LargestUniqueStr:\n",
    "    def removeDuplicateLetters(self, s: str) -> str:\n",
    "        last_idx = {ch: idx for idx, ch in enumerate(s)}\n",
    "        result = []\n",
    "        seen = set()\n",
    "        for idx, ch in enumerate(s):\n",
    "            if ch not in seen:\n",
    "                while result and result[-1] < ch and idx < last_idx[result[-1]]:\n",
    "                    seen.remove(result.pop())\n",
    "                result.append(ch)\n",
    "                seen.add(ch)\n",
    "        return \"\".join(result)"
   ]
  }
 ],
 "metadata": {
  "kernelspec": {
   "display_name": "Python_preppyenv",
   "language": "python",
   "name": "myenv"
  },
  "language_info": {
   "codemirror_mode": {
    "name": "ipython",
    "version": 3
   },
   "file_extension": ".py",
   "mimetype": "text/x-python",
   "name": "python",
   "nbconvert_exporter": "python",
   "pygments_lexer": "ipython3",
   "version": "3.13.2"
  }
 },
 "nbformat": 4,
 "nbformat_minor": 2
}
