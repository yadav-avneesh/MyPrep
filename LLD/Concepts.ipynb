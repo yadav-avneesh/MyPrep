{
 "cells": [
  {
   "cell_type": "markdown",
   "metadata": {},
   "source": [
    "### Error & Exceptions\n",
    "\n",
    " - [Reference](https://www.geeksforgeeks.org/user-defined-exceptions-python-examples/)\n",
    "\n",
    "```python\n",
    "# Customized Exceptions and hierarchy ---- 1\n",
    "\n",
    "\n",
    "class TaskError(Exception):\n",
    "   \"\"\"Base class for task related exceptions\"\"\"\n",
    "   pass\n",
    "\n",
    "class AddTaskError(TaskError):\n",
    "   \"\"\"Error raised on adding task\"\"\"\n",
    "   pass\n",
    "\n",
    "class RemoveTaskError(TaskError):\n",
    "   \"\"\"Error raised on removing a task\"\"\"\n",
    "   pass\n",
    "   \n",
    "class ModifyTaskError(TaskError):\n",
    "   \"\"\"Error raised on modifying a task\"\"\"\n",
    "   pass\n",
    "   \n",
    "class TaskManagerError(TaskError):\n",
    "   \"\"\"Error raised by task manager\"\"\"\n",
    "   pass\n",
    "\n",
    "\n",
    "# Customized Exceptions and hierarchy ---- 2\n",
    "# https://stackoverflow.com/questions/1319615/proper-way-to-declare-custom-exceptions-in-modern-python\n",
    "# https://docs.python.org/3.3/tutorial/errors.html#tut-userexceptions\n",
    "class MyException(Exception):\n",
    "    pass\n",
    "\n",
    "raise MyException(\"My hovercraft is full of eels\")\n",
    "```\n",
    "\n"
   ]
  },
  {
   "cell_type": "markdown",
   "metadata": {},
   "source": [
    "### Random number generation"
   ]
  },
  {
   "cell_type": "markdown",
   "metadata": {},
   "source": [
    "### Decorators"
   ]
  },
  {
   "cell_type": "markdown",
   "metadata": {},
   "source": [
    "### Context manager"
   ]
  },
  {
   "cell_type": "markdown",
   "metadata": {},
   "source": [
    "### Data Classes"
   ]
  },
  {
   "cell_type": "markdown",
   "metadata": {},
   "source": [
    "### Named Tuple"
   ]
  },
  {
   "cell_type": "markdown",
   "metadata": {},
   "source": [
    "### Enums"
   ]
  },
  {
   "cell_type": "markdown",
   "metadata": {},
   "source": [
    "### Date time computation"
   ]
  },
  {
   "cell_type": "markdown",
   "metadata": {},
   "source": [
    "### Comparators"
   ]
  },
  {
   "cell_type": "markdown",
   "metadata": {},
   "source": [
    "### Magic functions"
   ]
  },
  {
   "cell_type": "markdown",
   "metadata": {},
   "source": [
    "### Singleton instance"
   ]
  },
  {
   "cell_type": "markdown",
   "metadata": {},
   "source": []
  }
 ],
 "metadata": {
  "kernelspec": {
   "display_name": "Python 3.9.1 64-bit",
   "language": "python",
   "name": "python3"
  },
  "language_info": {
   "codemirror_mode": {
    "name": "ipython",
    "version": 3
   },
   "file_extension": ".py",
   "mimetype": "text/x-python",
   "name": "python",
   "nbconvert_exporter": "python",
   "pygments_lexer": "ipython3",
   "version": "3.9.1"
  },
  "orig_nbformat": 4,
  "vscode": {
   "interpreter": {
    "hash": "81794d4967e6c3204c66dcd87b604927b115b27c00565d3d43f05ba2f3a2cb0d"
   }
  }
 },
 "nbformat": 4,
 "nbformat_minor": 2
}
