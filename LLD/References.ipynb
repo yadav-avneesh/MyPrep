{
 "cells": [
  {
   "cell_type": "markdown",
   "id": "seasonal-corrections",
   "metadata": {},
   "source": [
    "## References for patterns\n",
    "\n",
    "* Educative\n",
    "* https://refactoring.guru/design-patterns/\n",
    "* Head First design book : Read it later !\n",
    "* https://github.com/PacktPublishing/Mastering-Python-Design-Patterns-Second-Edition\n",
    "* https://github.com/faif/python-patterns/blob/master/patterns/creational\n",
    "* Creational : \n",
    "  * https://www.youtube.com/watch?v=v-GiuMmsXj4&ab_channel=ChristopherOkhravi (also has factory)\n",
    "  * Refer UML also\n",
    "* Structural : Structural patterns explain how to assemble objects and classes into larger structures while keeping these structures flexible and efficient."
   ]
  },
  {
   "cell_type": "code",
   "execution_count": null,
   "id": "elect-james",
   "metadata": {},
   "outputs": [],
   "source": []
  }
 ],
 "metadata": {
  "kernelspec": {
   "display_name": "Python 3",
   "language": "python",
   "name": "python3"
  },
  "language_info": {
   "codemirror_mode": {
    "name": "ipython",
    "version": 3
   },
   "file_extension": ".py",
   "mimetype": "text/x-python",
   "name": "python",
   "nbconvert_exporter": "python",
   "pygments_lexer": "ipython3",
   "version": "3.9.1"
  }
 },
 "nbformat": 4,
 "nbformat_minor": 5
}
