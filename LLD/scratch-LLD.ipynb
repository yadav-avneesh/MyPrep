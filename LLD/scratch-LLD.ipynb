{
 "cells": [
  {
   "cell_type": "markdown",
   "id": "economic-seattle",
   "metadata": {},
   "source": [
    "* Named tuple\n",
    "* Abstract classes\n",
    "* __new__\n",
    "* abstract, static, class methods\n",
    "* magic functions\n",
    "* default dict\n",
    "* __init__\n",
    "* Inheritance\n",
    "* Data classes -- same as namedtuple but are mutable and have defaults and type hints, not iterable by default"
   ]
  },
  {
   "cell_type": "markdown",
   "id": "focused-syndicate",
   "metadata": {},
   "source": [
    "### Named tuples"
   ]
  },
  {
   "cell_type": "code",
   "execution_count": 12,
   "id": "meaning-problem",
   "metadata": {},
   "outputs": [],
   "source": [
    "from collections import namedtuple\n",
    "from random import randint\n",
    "from abc import ABC\n",
    "from dataclasses import dataclass, astuple\n",
    "import unittest"
   ]
  },
  {
   "cell_type": "code",
   "execution_count": 7,
   "id": "fixed-insight",
   "metadata": {},
   "outputs": [],
   "source": [
    "Point = namedtuple(\"Point\", ['x', 'y', 'z'])"
   ]
  },
  {
   "cell_type": "code",
   "execution_count": 8,
   "id": "active-camel",
   "metadata": {},
   "outputs": [],
   "source": [
    "@dataclass\n",
    "class Point1:\n",
    "    x: int\n",
    "    y: int\n",
    "    z: int = 5\n",
    "    def __iter__(self):\n",
    "        return iter(astuple(self))"
   ]
  },
  {
   "cell_type": "code",
   "execution_count": 10,
   "id": "productive-granny",
   "metadata": {},
   "outputs": [],
   "source": [
    "x = Point1(2, 3)"
   ]
  },
  {
   "cell_type": "code",
   "execution_count": 11,
   "id": "offshore-argentina",
   "metadata": {},
   "outputs": [
    {
     "data": {
      "text/plain": [
       "2"
      ]
     },
     "execution_count": 11,
     "metadata": {},
     "output_type": "execute_result"
    }
   ],
   "source": [
    "x.x"
   ]
  },
  {
   "cell_type": "code",
   "execution_count": 13,
   "id": "classical-revision",
   "metadata": {},
   "outputs": [
    {
     "data": {
      "text/plain": [
       "\u001b[1;31mInit signature:\u001b[0m \u001b[0munittest\u001b[0m\u001b[1;33m.\u001b[0m\u001b[0mTestCase\u001b[0m\u001b[1;33m(\u001b[0m\u001b[0mmethodName\u001b[0m\u001b[1;33m=\u001b[0m\u001b[1;34m'runTest'\u001b[0m\u001b[1;33m)\u001b[0m\u001b[1;33m\u001b[0m\u001b[1;33m\u001b[0m\u001b[0m\n",
       "\u001b[1;31mDocstring:\u001b[0m     \n",
       "A class whose instances are single test cases.\n",
       "\n",
       "By default, the test code itself should be placed in a method named\n",
       "'runTest'.\n",
       "\n",
       "If the fixture may be used for many test cases, create as\n",
       "many test methods as are needed. When instantiating such a TestCase\n",
       "subclass, specify in the constructor arguments the name of the test method\n",
       "that the instance is to execute.\n",
       "\n",
       "Test authors should subclass TestCase for their own tests. Construction\n",
       "and deconstruction of the test's environment ('fixture') can be\n",
       "implemented by overriding the 'setUp' and 'tearDown' methods respectively.\n",
       "\n",
       "If it is necessary to override the __init__ method, the base class\n",
       "__init__ method must always be called. It is important that subclasses\n",
       "should not change the signature of their __init__ method, since instances\n",
       "of the classes are instantiated automatically by parts of the framework\n",
       "in order to be run.\n",
       "\n",
       "When subclassing TestCase, you can set these attributes:\n",
       "* failureException: determines which exception will be raised when\n",
       "    the instance's assertion methods fail; test methods raising this\n",
       "    exception will be deemed to have 'failed' rather than 'errored'.\n",
       "* longMessage: determines whether long messages (including repr of\n",
       "    objects used in assert methods) will be printed on failure in *addition*\n",
       "    to any explicit message passed.\n",
       "* maxDiff: sets the maximum length of a diff in failure messages\n",
       "    by assert methods using difflib. It is looked up as an instance\n",
       "    attribute so can be configured by individual tests if required.\n",
       "\u001b[1;31mInit docstring:\u001b[0m\n",
       "Create an instance of the class that will use the named test\n",
       "method when executed. Raises a ValueError if the instance does\n",
       "not have a method with the specified name.\n",
       "\u001b[1;31mFile:\u001b[0m           c:\\python39\\lib\\unittest\\case.py\n",
       "\u001b[1;31mType:\u001b[0m           type\n",
       "\u001b[1;31mSubclasses:\u001b[0m     FunctionTestCase, _SubTest, _FailedTest\n"
      ]
     },
     "metadata": {},
     "output_type": "display_data"
    }
   ],
   "source": []
  },
  {
   "cell_type": "code",
   "execution_count": null,
   "id": "nutritional-actor",
   "metadata": {},
   "outputs": [],
   "source": []
  }
 ],
 "metadata": {
  "kernelspec": {
   "display_name": "Python 3.9.1 64-bit",
   "language": "python",
   "name": "python3"
  },
  "language_info": {
   "codemirror_mode": {
    "name": "ipython",
    "version": 3
   },
   "file_extension": ".py",
   "mimetype": "text/x-python",
   "name": "python",
   "nbconvert_exporter": "python",
   "pygments_lexer": "ipython3",
   "version": "3.9.1"
  },
  "vscode": {
   "interpreter": {
    "hash": "81794d4967e6c3204c66dcd87b604927b115b27c00565d3d43f05ba2f3a2cb0d"
   }
  }
 },
 "nbformat": 4,
 "nbformat_minor": 5
}
