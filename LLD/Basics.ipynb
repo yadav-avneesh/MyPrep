{
 "cells": [
  {
   "cell_type": "code",
   "execution_count": 1,
   "id": "arranged-edwards",
   "metadata": {},
   "outputs": [
    {
     "name": "stdout",
     "output_type": "stream",
     "text": [
      "2179447643248, 2179447643248\n"
     ]
    }
   ],
   "source": [
    "class Singleton(type):\n",
    "    __ins = {}\n",
    "    def __init__(self, *args, **kwargs):\n",
    "        pass\n",
    "    def __call__(cls, *args, **kwargs):\n",
    "        if cls not in cls.__ins:\n",
    "            cls.__ins[cls] = super().__call__(*args, **kwargs)\n",
    "        else:\n",
    "            cls.__ins[cls].__init__(*args, **kwargs)\n",
    "        return cls.__ins[cls]\n",
    "\n",
    "class MyClass(metaclass=Singleton):\n",
    "    def __init__(self):\n",
    "        pass\n",
    "\n",
    "print(f\"{id(MyClass())}, {id(MyClass())}\")"
   ]
  },
  {
   "cell_type": "code",
   "execution_count": 2,
   "id": "expired-irrigation",
   "metadata": {},
   "outputs": [
    {
     "name": "stdout",
     "output_type": "stream",
     "text": [
      "2179447501248, 2179447501248\n"
     ]
    }
   ],
   "source": [
    "class Singleton(object):\n",
    "    __ins = None\n",
    "    def __new__(cls, *args, **kwargs):\n",
    "        if cls.__ins is None:\n",
    "            cls.__ins = super().__new__(cls, *args, **kwargs)\n",
    "        return cls.__ins\n",
    "\n",
    "class MyClass1(Singleton):\n",
    "    pass\n",
    "\n",
    "print(f\"{id(MyClass1())}, {id(MyClass1())}\")\n",
    "        "
   ]
  },
  {
   "cell_type": "code",
   "execution_count": 20,
   "id": "orange-august",
   "metadata": {},
   "outputs": [
    {
     "name": "stdout",
     "output_type": "stream",
     "text": [
      "10, 20, (2, 3), dict_items([])\n",
      "In f1, 2, 3, 10, 60\n",
      "10, 20, (2, 3, 5), dict_items([])\n",
      "In f1, 2, 3, 5, 30\n",
      "10, 20, (2, 3), dict_items([('z', 5)])\n",
      "In f1, 2, 3, 5, 30\n",
      "calling fn with args - (10, 20)\n"
     ]
    },
    {
     "data": {
      "text/plain": [
       "'In f2 with 10, 20'"
      ]
     },
     "execution_count": 20,
     "metadata": {},
     "output_type": "execute_result"
    }
   ],
   "source": [
    "from functools import wraps, update_wrapper\n",
    "\n",
    "def my_decorator(arg1, arg2): ### for decorator w/o Arguments else just outer one is fine to use.\n",
    "    def outer(fn):\n",
    "        @wraps(fn)\n",
    "        def inner(*args, **kwargs):\n",
    "            print(f\"{arg1}, {arg2}, {args}, {kwargs.items()}\")\n",
    "            return fn(*args, **kwargs)\n",
    "        return inner\n",
    "    return outer\n",
    "\n",
    "@my_decorator(10, 20)\n",
    "def f1(x, y, z=10):\n",
    "    return (f\"In f1, {x}, {y}, {z}, {x*y*z}\")\n",
    "\n",
    "print(f1(2, 3))\n",
    "print(f1(2, 3, 5))\n",
    "print(f1(2, 3, z=5))\n",
    "\n",
    "class MyDecoratorClass:\n",
    "    def __init__(self, fn):\n",
    "        update_wrapper(self, fn)\n",
    "        self.fn = fn\n",
    "        self.count = 0\n",
    "    def __call__(self, *args, **kwargs):\n",
    "        self.count += 1\n",
    "        print(f\"calling fn with args - {args}\")\n",
    "        return self.fn(*args, **kwargs)\n",
    "\n",
    "@MyDecoratorClass\n",
    "def f2(x, y):\n",
    "    return f\"In f2 with {x}, {y}\"\n",
    "\n",
    "f2(10, 20)"
   ]
  },
  {
   "cell_type": "code",
   "execution_count": 12,
   "id": "provincial-characteristic",
   "metadata": {},
   "outputs": [],
   "source": [
    "from collections import namedtuple\n",
    "from abc import ABC, abstractmethod\n",
    "from random import randint\n",
    "from dataclasses import dataclass"
   ]
  },
  {
   "cell_type": "code",
   "execution_count": 11,
   "id": "extreme-match",
   "metadata": {},
   "outputs": [],
   "source": [
    "class A(ABC):\n",
    "    def __init__(self):\n",
    "        pass\n",
    "    @abstractmethod\n",
    "    def f1(self):\n",
    "        pass\n",
    "    @property\n",
    "    def param1(self):\n",
    "        return self._param1\n",
    "    @param1.setter\n",
    "    def param1(self, param1):\n",
    "        self._param1 = param1\n",
    "    "
   ]
  },
  {
   "cell_type": "code",
   "execution_count": 26,
   "id": "fatty-melbourne",
   "metadata": {},
   "outputs": [
    {
     "name": "stdout",
     "output_type": "stream",
     "text": [
      "5\n"
     ]
    }
   ],
   "source": [
    "@dataclass(frozen=True)\n",
    "class MyDataClass:\n",
    "    x: int\n",
    "    y: str\n",
    "    z: tuple = (10, 20)\n",
    "mdc1 = MyDataClass(5, 10)\n",
    "print(mdc1.x)"
   ]
  },
  {
   "cell_type": "code",
   "execution_count": 21,
   "id": "pleasant-custom",
   "metadata": {},
   "outputs": [],
   "source": [
    "class TestIterator:\n",
    "    def __init__(self, ints):\n",
    "        self.args = ints\n",
    "        self.count = 0\n",
    "    def __iter__(self):\n",
    "        return self\n",
    "    def __next__(self):\n",
    "        if self.count < len(self.args):\n",
    "            curr = self.args[self.count]\n",
    "            self.count += 1\n",
    "            return curr\n",
    "        raise StopIteration"
   ]
  },
  {
   "cell_type": "code",
   "execution_count": 22,
   "id": "sticky-place",
   "metadata": {},
   "outputs": [
    {
     "name": "stdout",
     "output_type": "stream",
     "text": [
      "10\n",
      "50\n",
      "20\n"
     ]
    }
   ],
   "source": [
    "ti1 = TestIterator([10, 50, 20])\n",
    "for elm in ti1:\n",
    "    print(elm)"
   ]
  },
  {
   "cell_type": "code",
   "execution_count": 23,
   "id": "bulgarian-fancy",
   "metadata": {},
   "outputs": [],
   "source": [
    "from enum import Enum\n",
    "class SpotStatus(Enum):\n",
    "    Open = 1\n",
    "    Occupied = 2\n",
    "    Reserved = 3\n"
   ]
  },
  {
   "cell_type": "code",
   "execution_count": 25,
   "id": "loaded-letters",
   "metadata": {},
   "outputs": [
    {
     "data": {
      "text/plain": [
       "True"
      ]
     },
     "execution_count": 25,
     "metadata": {},
     "output_type": "execute_result"
    }
   ],
   "source": [
    "curr = SpotStatus.Open\n",
    "curr == SpotStatus.Open"
   ]
  },
  {
   "cell_type": "markdown",
   "id": "false-cherry",
   "metadata": {},
   "source": [
    "* Entities - Board, Player, Game, Snake, Dice, Ladder\n",
    "* "
   ]
  },
  {
   "cell_type": "code",
   "execution_count": 3,
   "id": "cab81681",
   "metadata": {},
   "outputs": [
    {
     "name": "stdout",
     "output_type": "stream",
     "text": [
      "True\n"
     ]
    }
   ],
   "source": [
    "from abc import ABC, abstractmethod\n",
    "from collections import namedtuple\n",
    "from enum import Enum\n",
    "\n",
    "class Test(ABC):\n",
    "    @abstractmethod\n",
    "    def fn1(self):\n",
    "        pass\n",
    "\n",
    "class Test1(Test):\n",
    "    def __new__(cls, *args, **kwargs):\n",
    "        return super().__new__(cls, *args, **kwargs)\n",
    "    def __init__(self, a, b):\n",
    "        self.a = a\n",
    "        self.b = b\n",
    "    def fn1(self):\n",
    "        print(\"test1\")\n",
    "\n",
    "class TestSomeEnum(Enum):\n",
    "    one = 1\n",
    "    two = 2\n",
    "    three = 3\n",
    "\n",
    "print(TestSomeEnum.three == TestSomeEnum.three)"
   ]
  },
  {
   "cell_type": "code",
   "execution_count": 4,
   "id": "5d01a749",
   "metadata": {},
   "outputs": [
    {
     "data": {
      "text/plain": [
       "3"
      ]
     },
     "execution_count": 4,
     "metadata": {},
     "output_type": "execute_result"
    }
   ],
   "source": [
    "TestSomeEnum.three.value"
   ]
  },
  {
   "cell_type": "code",
   "execution_count": null,
   "id": "dacbdcee",
   "metadata": {},
   "outputs": [],
   "source": []
  }
 ],
 "metadata": {
  "kernelspec": {
   "display_name": "Python 3.9.1 64-bit",
   "language": "python",
   "name": "python3"
  },
  "language_info": {
   "codemirror_mode": {
    "name": "ipython",
    "version": 3
   },
   "file_extension": ".py",
   "mimetype": "text/x-python",
   "name": "python",
   "nbconvert_exporter": "python",
   "pygments_lexer": "ipython3",
   "version": "3.9.1"
  },
  "vscode": {
   "interpreter": {
    "hash": "81794d4967e6c3204c66dcd87b604927b115b27c00565d3d43f05ba2f3a2cb0d"
   }
  }
 },
 "nbformat": 4,
 "nbformat_minor": 5
}
