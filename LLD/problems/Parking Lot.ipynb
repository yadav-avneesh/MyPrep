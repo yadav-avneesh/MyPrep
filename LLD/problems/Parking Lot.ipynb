{
 "cells": [
  {
   "cell_type": "markdown",
   "id": "defensive-cooper",
   "metadata": {},
   "source": [
    "### Let's work on this one from our side\n",
    "\n",
    "#### Requirements\n",
    "- MultiLevel, MultiLane, Multi Spot\n",
    "- Multiple vehicles\n",
    "- One or more entries\n",
    "- At any point in time : Available vehicles\n",
    "- Find cost\n",
    "- Reserve spot\n",
    "\n",
    "#### Use cases\n",
    "- Get a spot\n",
    "- Park vehicle\n",
    "- Retrieve vehicle\n",
    "- Pay cost\n",
    "- Find spot\n",
    "\n",
    "#### Classes\n",
    "- ParkingLot\n",
    "- ParkingSpot\n",
    "- Vehicle\n",
    "- User\n",
    "- Payment\n",
    "- \n",
    "\n",
    "#### Enums\n",
    "- Vehicle\n",
    "- Spots\n",
    "- Availability\n"
   ]
  },
  {
   "cell_type": "code",
   "execution_count": 6,
   "id": "painful-ottawa",
   "metadata": {},
   "outputs": [],
   "source": [
    "from abc import ABC\n",
    "from enum import Enum\n",
    "\n",
    "class SpotType(Enum):\n",
    "    SMALL, MEDIUM, LARGE, XLARGE = 1, 2, 3, 4\n",
    "\n",
    "class VehicleType(Enum):\n",
    "    BIKE, CAR, VAN, TRUCK = 1, 2, 3, 4\n",
    "    \n",
    "class Availability(Enum):\n",
    "    OPEN, CLOSE = 1, 2\n",
    "\n",
    "class Vehicle(ABC):\n",
    "    def __init__(self, id, user, vtype)\n",
    "    \n",
    "class ParkingLot(ABC):\n",
    "    def __init__(self, name, location):\n",
    "        self.name = name\n",
    "        self.location = location\n",
    "    def get_spot(self, vehicle):\n",
    "        "
   ]
  },
  {
   "cell_type": "code",
   "execution_count": null,
   "id": "constitutional-poultry",
   "metadata": {},
   "outputs": [],
   "source": []
  },
  {
   "cell_type": "code",
   "execution_count": null,
   "id": "right-picnic",
   "metadata": {},
   "outputs": [],
   "source": []
  }
 ],
 "metadata": {
  "kernelspec": {
   "display_name": "Python 3",
   "language": "python",
   "name": "python3"
  },
  "language_info": {
   "codemirror_mode": {
    "name": "ipython",
    "version": 3
   },
   "file_extension": ".py",
   "mimetype": "text/x-python",
   "name": "python",
   "nbconvert_exporter": "python",
   "pygments_lexer": "ipython3",
   "version": "3.9.1"
  }
 },
 "nbformat": 4,
 "nbformat_minor": 5
}
